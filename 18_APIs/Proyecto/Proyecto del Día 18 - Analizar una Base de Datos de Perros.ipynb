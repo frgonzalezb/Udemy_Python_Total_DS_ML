{
 "cells": [
  {
   "cell_type": "markdown",
   "id": "5e2326e5",
   "metadata": {},
   "source": [
    "# Proyecto del Día 18 - Analizar una Base de Datos de Perros\n",
    "\n",
    "Hoy vamos a realizar un proyecto muy entretenido, que consiste en conseguir un dataset sobre razas de perros, que se encuentra alojada en el sitio [The Dog Api](https://thedogapi.com/).\n",
    "\n",
    "Tu misión consiste en lograr obtener un dataset que contiene información sobre razas de perro (\"breeds\"), y crear visualizaciones que permitan responder algunas preguntas sobre la **expectativa de vida**, y el **temperamento** más frecuente entre todas las **razas**.\n",
    "\n",
    "\n",
    "### Preguntas a responder\n",
    "1. ¿Cuál es la esperanza de vida (en años) más frecuente entre todas las razas de perro?\n",
    "2. ¿Cuál es el temperamento más frecuente entre todas las razas de perros?\n",
    "\n",
    "\n",
    "### Pasos sugeridos para llegar hasta la respuesta\n",
    "1. Descarga las **librerías** necesarias.\n",
    "2. Explora el sitio [https://thedogapi.com/](https://thedogapi.com/) para identificar dónde y cómo se describe el funcionamiento de su API. Identifica la **API específica** con información sobre **razas** (\"breeds\"). Una vez que lo hagas, implementa la API y guarda esos datos en un **DataFrame** de Pandas.\n",
    "*Nota: como todo sitio nuevo al que enfrentes, deberás resolver desafíos particulares. En este caso presta atención a las instrucciones que mencionan algo sobre cómo usar los mismos protocolos que se utilizan en la API de gatos de la misma organización*.\n",
    "3. Realiza un **análisis exploratorio** para conocer la estrucutra y calidad de tus datos.\n",
    "4. Implementa la **limpieza de datos** que consideres necesaria.\n",
    "5. Crea los **gráficos** que creas necesarios para poder visualizar con claridad la respuesta a las preguntas.\n",
    "\n",
    "Te deseo mucho aprendizaje, pero sobre todo, mucha diversión.\n",
    "¡Adelante!"
   ]
  },
  {
   "cell_type": "markdown",
   "id": "4b889bf7",
   "metadata": {},
   "source": [
    "## Primeras acciones exploratorias"
   ]
  },
  {
   "cell_type": "code",
   "execution_count": 1,
   "id": "fe6517f6",
   "metadata": {},
   "outputs": [],
   "source": [
    "import os\n",
    "import requests\n",
    "from typing import Any\n",
    "\n",
    "import pandas as pd\n",
    "import matplotlib.pyplot as plt\n",
    "\n",
    "from dotenv import load_dotenv"
   ]
  },
  {
   "cell_type": "code",
   "execution_count": 2,
   "id": "4797ce82",
   "metadata": {},
   "outputs": [
    {
     "data": {
      "text/plain": [
       "True"
      ]
     },
     "execution_count": 2,
     "metadata": {},
     "output_type": "execute_result"
    }
   ],
   "source": [
    "load_dotenv('.env')"
   ]
  },
  {
   "cell_type": "code",
   "execution_count": 3,
   "id": "2698fa81",
   "metadata": {},
   "outputs": [],
   "source": [
    "API_KEY: str = os.environ['API_KEY']"
   ]
  },
  {
   "cell_type": "code",
   "execution_count": 4,
   "id": "95dca032",
   "metadata": {},
   "outputs": [],
   "source": [
    "api_reference: str = 'api.thedogapi.com'\n",
    "base_url: str = f'https://{api_reference}/v1/breeds'\n",
    "params: dict[str, str] = {'api_key': API_KEY}"
   ]
  },
  {
   "cell_type": "code",
   "execution_count": 5,
   "id": "a25be603",
   "metadata": {},
   "outputs": [
    {
     "data": {
      "text/html": [
       "<div>\n",
       "<style scoped>\n",
       "    .dataframe tbody tr th:only-of-type {\n",
       "        vertical-align: middle;\n",
       "    }\n",
       "\n",
       "    .dataframe tbody tr th {\n",
       "        vertical-align: top;\n",
       "    }\n",
       "\n",
       "    .dataframe thead th {\n",
       "        text-align: right;\n",
       "    }\n",
       "</style>\n",
       "<table border=\"1\" class=\"dataframe\">\n",
       "  <thead>\n",
       "    <tr style=\"text-align: right;\">\n",
       "      <th></th>\n",
       "      <th>weight</th>\n",
       "      <th>height</th>\n",
       "      <th>id</th>\n",
       "      <th>name</th>\n",
       "      <th>bred_for</th>\n",
       "      <th>breed_group</th>\n",
       "      <th>life_span</th>\n",
       "      <th>temperament</th>\n",
       "      <th>origin</th>\n",
       "      <th>reference_image_id</th>\n",
       "      <th>image</th>\n",
       "      <th>country_code</th>\n",
       "      <th>description</th>\n",
       "      <th>history</th>\n",
       "    </tr>\n",
       "  </thead>\n",
       "  <tbody>\n",
       "    <tr>\n",
       "      <th>0</th>\n",
       "      <td>{'imperial': '6 - 13', 'metric': '3 - 6'}</td>\n",
       "      <td>{'imperial': '9 - 11.5', 'metric': '23 - 29'}</td>\n",
       "      <td>1</td>\n",
       "      <td>Affenpinscher</td>\n",
       "      <td>Small rodent hunting, lapdog</td>\n",
       "      <td>Toy</td>\n",
       "      <td>10 - 12 years</td>\n",
       "      <td>Stubborn, Curious, Playful, Adventurous, Activ...</td>\n",
       "      <td>Germany, France</td>\n",
       "      <td>BJa4kxc4X</td>\n",
       "      <td>{'id': 'BJa4kxc4X', 'width': 1600, 'height': 1...</td>\n",
       "      <td>NaN</td>\n",
       "      <td>NaN</td>\n",
       "      <td>NaN</td>\n",
       "    </tr>\n",
       "    <tr>\n",
       "      <th>1</th>\n",
       "      <td>{'imperial': '50 - 60', 'metric': '23 - 27'}</td>\n",
       "      <td>{'imperial': '25 - 27', 'metric': '64 - 69'}</td>\n",
       "      <td>2</td>\n",
       "      <td>Afghan Hound</td>\n",
       "      <td>Coursing and hunting</td>\n",
       "      <td>Hound</td>\n",
       "      <td>10 - 13 years</td>\n",
       "      <td>Aloof, Clownish, Dignified, Independent, Happy</td>\n",
       "      <td>Afghanistan, Iran, Pakistan</td>\n",
       "      <td>hMyT4CDXR</td>\n",
       "      <td>{'id': 'hMyT4CDXR', 'width': 606, 'height': 38...</td>\n",
       "      <td>AG</td>\n",
       "      <td>NaN</td>\n",
       "      <td>NaN</td>\n",
       "    </tr>\n",
       "    <tr>\n",
       "      <th>2</th>\n",
       "      <td>{'imperial': '44 - 66', 'metric': '20 - 30'}</td>\n",
       "      <td>{'imperial': '30', 'metric': '76'}</td>\n",
       "      <td>3</td>\n",
       "      <td>African Hunting Dog</td>\n",
       "      <td>A wild pack animal</td>\n",
       "      <td>NaN</td>\n",
       "      <td>11 years</td>\n",
       "      <td>Wild, Hardworking, Dutiful</td>\n",
       "      <td></td>\n",
       "      <td>rkiByec47</td>\n",
       "      <td>{'id': 'rkiByec47', 'width': 500, 'height': 33...</td>\n",
       "      <td>NaN</td>\n",
       "      <td>NaN</td>\n",
       "      <td>NaN</td>\n",
       "    </tr>\n",
       "    <tr>\n",
       "      <th>3</th>\n",
       "      <td>{'imperial': '40 - 65', 'metric': '18 - 29'}</td>\n",
       "      <td>{'imperial': '21 - 23', 'metric': '53 - 58'}</td>\n",
       "      <td>4</td>\n",
       "      <td>Airedale Terrier</td>\n",
       "      <td>Badger, otter hunting</td>\n",
       "      <td>Terrier</td>\n",
       "      <td>10 - 13 years</td>\n",
       "      <td>Outgoing, Friendly, Alert, Confident, Intellig...</td>\n",
       "      <td>United Kingdom, England</td>\n",
       "      <td>1-7cgoZSh</td>\n",
       "      <td>{'id': '1-7cgoZSh', 'width': 645, 'height': 43...</td>\n",
       "      <td>NaN</td>\n",
       "      <td>NaN</td>\n",
       "      <td>NaN</td>\n",
       "    </tr>\n",
       "    <tr>\n",
       "      <th>4</th>\n",
       "      <td>{'imperial': '90 - 120', 'metric': '41 - 54'}</td>\n",
       "      <td>{'imperial': '28 - 34', 'metric': '71 - 86'}</td>\n",
       "      <td>5</td>\n",
       "      <td>Akbash Dog</td>\n",
       "      <td>Sheep guarding</td>\n",
       "      <td>Working</td>\n",
       "      <td>10 - 12 years</td>\n",
       "      <td>Loyal, Independent, Intelligent, Brave</td>\n",
       "      <td></td>\n",
       "      <td>26pHT3Qk7</td>\n",
       "      <td>{'id': '26pHT3Qk7', 'width': 600, 'height': 47...</td>\n",
       "      <td>NaN</td>\n",
       "      <td>NaN</td>\n",
       "      <td>NaN</td>\n",
       "    </tr>\n",
       "  </tbody>\n",
       "</table>\n",
       "</div>"
      ],
      "text/plain": [
       "                                          weight  \\\n",
       "0      {'imperial': '6 - 13', 'metric': '3 - 6'}   \n",
       "1   {'imperial': '50 - 60', 'metric': '23 - 27'}   \n",
       "2   {'imperial': '44 - 66', 'metric': '20 - 30'}   \n",
       "3   {'imperial': '40 - 65', 'metric': '18 - 29'}   \n",
       "4  {'imperial': '90 - 120', 'metric': '41 - 54'}   \n",
       "\n",
       "                                          height  id                 name  \\\n",
       "0  {'imperial': '9 - 11.5', 'metric': '23 - 29'}   1        Affenpinscher   \n",
       "1   {'imperial': '25 - 27', 'metric': '64 - 69'}   2         Afghan Hound   \n",
       "2             {'imperial': '30', 'metric': '76'}   3  African Hunting Dog   \n",
       "3   {'imperial': '21 - 23', 'metric': '53 - 58'}   4     Airedale Terrier   \n",
       "4   {'imperial': '28 - 34', 'metric': '71 - 86'}   5           Akbash Dog   \n",
       "\n",
       "                       bred_for breed_group      life_span  \\\n",
       "0  Small rodent hunting, lapdog         Toy  10 - 12 years   \n",
       "1          Coursing and hunting       Hound  10 - 13 years   \n",
       "2            A wild pack animal         NaN       11 years   \n",
       "3         Badger, otter hunting     Terrier  10 - 13 years   \n",
       "4                Sheep guarding     Working  10 - 12 years   \n",
       "\n",
       "                                         temperament  \\\n",
       "0  Stubborn, Curious, Playful, Adventurous, Activ...   \n",
       "1     Aloof, Clownish, Dignified, Independent, Happy   \n",
       "2                         Wild, Hardworking, Dutiful   \n",
       "3  Outgoing, Friendly, Alert, Confident, Intellig...   \n",
       "4             Loyal, Independent, Intelligent, Brave   \n",
       "\n",
       "                        origin reference_image_id  \\\n",
       "0              Germany, France          BJa4kxc4X   \n",
       "1  Afghanistan, Iran, Pakistan          hMyT4CDXR   \n",
       "2                                       rkiByec47   \n",
       "3      United Kingdom, England          1-7cgoZSh   \n",
       "4                                       26pHT3Qk7   \n",
       "\n",
       "                                               image country_code description  \\\n",
       "0  {'id': 'BJa4kxc4X', 'width': 1600, 'height': 1...          NaN         NaN   \n",
       "1  {'id': 'hMyT4CDXR', 'width': 606, 'height': 38...           AG         NaN   \n",
       "2  {'id': 'rkiByec47', 'width': 500, 'height': 33...          NaN         NaN   \n",
       "3  {'id': '1-7cgoZSh', 'width': 645, 'height': 43...          NaN         NaN   \n",
       "4  {'id': '26pHT3Qk7', 'width': 600, 'height': 47...          NaN         NaN   \n",
       "\n",
       "  history  \n",
       "0     NaN  \n",
       "1     NaN  \n",
       "2     NaN  \n",
       "3     NaN  \n",
       "4     NaN  "
      ]
     },
     "execution_count": 5,
     "metadata": {},
     "output_type": "execute_result"
    }
   ],
   "source": [
    "response: requests.Response = requests.get(base_url, params=params)\n",
    "data: list[dict[str, Any]] = response.json()\n",
    "df: pd.DataFrame = pd.DataFrame(data)\n",
    "df.head()"
   ]
  },
  {
   "cell_type": "code",
   "execution_count": 6,
   "id": "0b94c7e3",
   "metadata": {},
   "outputs": [
    {
     "name": "stdout",
     "output_type": "stream",
     "text": [
      "<class 'pandas.core.frame.DataFrame'>\n",
      "RangeIndex: 172 entries, 0 to 171\n",
      "Data columns (total 14 columns):\n",
      " #   Column              Non-Null Count  Dtype \n",
      "---  ------              --------------  ----- \n",
      " 0   weight              172 non-null    object\n",
      " 1   height              172 non-null    object\n",
      " 2   id                  172 non-null    int64 \n",
      " 3   name                172 non-null    object\n",
      " 4   bred_for            151 non-null    object\n",
      " 5   breed_group         156 non-null    object\n",
      " 6   life_span           172 non-null    object\n",
      " 7   temperament         168 non-null    object\n",
      " 8   origin              5 non-null      object\n",
      " 9   reference_image_id  172 non-null    object\n",
      " 10  image               172 non-null    object\n",
      " 11  country_code        12 non-null     object\n",
      " 12  description         1 non-null      object\n",
      " 13  history             2 non-null      object\n",
      "dtypes: int64(1), object(13)\n",
      "memory usage: 18.9+ KB\n"
     ]
    }
   ],
   "source": [
    "df.info()"
   ]
  },
  {
   "cell_type": "markdown",
   "id": "8a66071e",
   "metadata": {},
   "source": [
    "Evidentemente, **una limpieza de los datos es necesaria**. Sólo las columnas `weight`, `height`, `id`, `name`, `life_span`, `reference_image_id`, e `image` están completas. Las demás poseen una cantidad variable de nulos, siendo peor en `description`, `history`, y `origin`. En particular, la necesaria columna de `temperament` posee 4 nulos."
   ]
  }
 ],
 "metadata": {
  "kernelspec": {
   "display_name": "base",
   "language": "python",
   "name": "python3"
  },
  "language_info": {
   "codemirror_mode": {
    "name": "ipython",
    "version": 3
   },
   "file_extension": ".py",
   "mimetype": "text/x-python",
   "name": "python",
   "nbconvert_exporter": "python",
   "pygments_lexer": "ipython3",
   "version": "3.12.4"
  }
 },
 "nbformat": 4,
 "nbformat_minor": 5
}
