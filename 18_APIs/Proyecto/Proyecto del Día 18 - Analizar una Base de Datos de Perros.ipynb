{
 "cells": [
  {
   "cell_type": "markdown",
   "id": "5e2326e5",
   "metadata": {},
   "source": [
    "# Proyecto del Día 18 - Analizar una Base de Datos de Perros\n",
    "\n",
    "Hoy vamos a realizar un proyecto muy entretenido, que consiste en conseguir un dataset sobre razas de perros, que se encuentra alojada en el sitio [The Dog Api](https://thedogapi.com/).\n",
    "\n",
    "Tu misión consiste en lograr obtener un dataset que contiene información sobre razas de perro (\"breeds\"), y crear visualizaciones que permitan responder algunas preguntas sobre la **expectativa de vida**, y el **temperamento** más frecuente entre todas las **razas**.\n",
    "\n",
    "\n",
    "### Preguntas a responder\n",
    "1. ¿Cuál es la esperanza de vida (en años) más frecuente entre todas las razas de perro?\n",
    "2. ¿Cuál es el temperamento más frecuente entre todas las razas de perros?\n",
    "\n",
    "\n",
    "### Pasos sugeridos para llegar hasta la respuesta\n",
    "1. Descarga las **librerías** necesarias.\n",
    "2. Explora el sitio [https://thedogapi.com/](https://thedogapi.com/) para identificar dónde y cómo se describe el funcionamiento de su API. Identifica la **API específica** con información sobre **razas** (\"breeds\"). Una vez que lo hagas, implementa la API y guarda esos datos en un **DataFrame** de Pandas.\n",
    "*Nota: como todo sitio nuevo al que enfrentes, deberás resolver desafíos particulares. En este caso presta atención a las instrucciones que mencionan algo sobre cómo usar los mismos protocolos que se utilizan en la API de gatos de la misma organización*.\n",
    "3. Realiza un **análisis exploratorio** para conocer la estrucutra y calidad de tus datos.\n",
    "4. Implementa la **limpieza de datos** que consideres necesaria.\n",
    "5. Crea los **gráficos** que creas necesarios para poder visualizar con claridad la respuesta a las preguntas.\n",
    "\n",
    "Te deseo mucho aprendizaje, pero sobre todo, mucha diversión.\n",
    "¡Adelante!"
   ]
  },
  {
   "cell_type": "markdown",
   "id": "4b889bf7",
   "metadata": {},
   "source": [
    "## Primeras acciones exploratorias"
   ]
  },
  {
   "cell_type": "code",
   "execution_count": 63,
   "id": "fe6517f6",
   "metadata": {},
   "outputs": [],
   "source": [
    "import os\n",
    "import requests\n",
    "from typing import Any\n",
    "\n",
    "import pandas as pd\n",
    "\n",
    "import plotly.graph_objects as go\n",
    "import plotly.express as px\n",
    "\n",
    "from dotenv import load_dotenv"
   ]
  },
  {
   "cell_type": "code",
   "execution_count": 2,
   "id": "4797ce82",
   "metadata": {},
   "outputs": [
    {
     "data": {
      "text/plain": [
       "True"
      ]
     },
     "execution_count": 2,
     "metadata": {},
     "output_type": "execute_result"
    }
   ],
   "source": [
    "load_dotenv('.env')"
   ]
  },
  {
   "cell_type": "code",
   "execution_count": 3,
   "id": "2698fa81",
   "metadata": {},
   "outputs": [],
   "source": [
    "API_KEY: str = os.environ['API_KEY']"
   ]
  },
  {
   "cell_type": "code",
   "execution_count": 4,
   "id": "95dca032",
   "metadata": {},
   "outputs": [],
   "source": [
    "api_reference: str = 'api.thedogapi.com'\n",
    "base_url: str = f'https://{api_reference}/v1/breeds'\n",
    "params: dict[str, str] = {'api_key': API_KEY}"
   ]
  },
  {
   "cell_type": "code",
   "execution_count": 40,
   "id": "a25be603",
   "metadata": {},
   "outputs": [
    {
     "data": {
      "text/html": [
       "<div>\n",
       "<style scoped>\n",
       "    .dataframe tbody tr th:only-of-type {\n",
       "        vertical-align: middle;\n",
       "    }\n",
       "\n",
       "    .dataframe tbody tr th {\n",
       "        vertical-align: top;\n",
       "    }\n",
       "\n",
       "    .dataframe thead th {\n",
       "        text-align: right;\n",
       "    }\n",
       "</style>\n",
       "<table border=\"1\" class=\"dataframe\">\n",
       "  <thead>\n",
       "    <tr style=\"text-align: right;\">\n",
       "      <th></th>\n",
       "      <th>weight</th>\n",
       "      <th>height</th>\n",
       "      <th>id</th>\n",
       "      <th>name</th>\n",
       "      <th>bred_for</th>\n",
       "      <th>breed_group</th>\n",
       "      <th>life_span</th>\n",
       "      <th>temperament</th>\n",
       "      <th>origin</th>\n",
       "      <th>reference_image_id</th>\n",
       "      <th>image</th>\n",
       "      <th>country_code</th>\n",
       "      <th>description</th>\n",
       "      <th>history</th>\n",
       "    </tr>\n",
       "  </thead>\n",
       "  <tbody>\n",
       "    <tr>\n",
       "      <th>0</th>\n",
       "      <td>{'imperial': '6 - 13', 'metric': '3 - 6'}</td>\n",
       "      <td>{'imperial': '9 - 11.5', 'metric': '23 - 29'}</td>\n",
       "      <td>1</td>\n",
       "      <td>Affenpinscher</td>\n",
       "      <td>Small rodent hunting, lapdog</td>\n",
       "      <td>Toy</td>\n",
       "      <td>10 - 12 years</td>\n",
       "      <td>Stubborn, Curious, Playful, Adventurous, Activ...</td>\n",
       "      <td>Germany, France</td>\n",
       "      <td>BJa4kxc4X</td>\n",
       "      <td>{'id': 'BJa4kxc4X', 'width': 1600, 'height': 1...</td>\n",
       "      <td>NaN</td>\n",
       "      <td>NaN</td>\n",
       "      <td>NaN</td>\n",
       "    </tr>\n",
       "    <tr>\n",
       "      <th>1</th>\n",
       "      <td>{'imperial': '50 - 60', 'metric': '23 - 27'}</td>\n",
       "      <td>{'imperial': '25 - 27', 'metric': '64 - 69'}</td>\n",
       "      <td>2</td>\n",
       "      <td>Afghan Hound</td>\n",
       "      <td>Coursing and hunting</td>\n",
       "      <td>Hound</td>\n",
       "      <td>10 - 13 years</td>\n",
       "      <td>Aloof, Clownish, Dignified, Independent, Happy</td>\n",
       "      <td>Afghanistan, Iran, Pakistan</td>\n",
       "      <td>hMyT4CDXR</td>\n",
       "      <td>{'id': 'hMyT4CDXR', 'width': 606, 'height': 38...</td>\n",
       "      <td>AG</td>\n",
       "      <td>NaN</td>\n",
       "      <td>NaN</td>\n",
       "    </tr>\n",
       "    <tr>\n",
       "      <th>2</th>\n",
       "      <td>{'imperial': '44 - 66', 'metric': '20 - 30'}</td>\n",
       "      <td>{'imperial': '30', 'metric': '76'}</td>\n",
       "      <td>3</td>\n",
       "      <td>African Hunting Dog</td>\n",
       "      <td>A wild pack animal</td>\n",
       "      <td>NaN</td>\n",
       "      <td>11 years</td>\n",
       "      <td>Wild, Hardworking, Dutiful</td>\n",
       "      <td></td>\n",
       "      <td>rkiByec47</td>\n",
       "      <td>{'id': 'rkiByec47', 'width': 500, 'height': 33...</td>\n",
       "      <td>NaN</td>\n",
       "      <td>NaN</td>\n",
       "      <td>NaN</td>\n",
       "    </tr>\n",
       "    <tr>\n",
       "      <th>3</th>\n",
       "      <td>{'imperial': '40 - 65', 'metric': '18 - 29'}</td>\n",
       "      <td>{'imperial': '21 - 23', 'metric': '53 - 58'}</td>\n",
       "      <td>4</td>\n",
       "      <td>Airedale Terrier</td>\n",
       "      <td>Badger, otter hunting</td>\n",
       "      <td>Terrier</td>\n",
       "      <td>10 - 13 years</td>\n",
       "      <td>Outgoing, Friendly, Alert, Confident, Intellig...</td>\n",
       "      <td>United Kingdom, England</td>\n",
       "      <td>1-7cgoZSh</td>\n",
       "      <td>{'id': '1-7cgoZSh', 'width': 645, 'height': 43...</td>\n",
       "      <td>NaN</td>\n",
       "      <td>NaN</td>\n",
       "      <td>NaN</td>\n",
       "    </tr>\n",
       "    <tr>\n",
       "      <th>4</th>\n",
       "      <td>{'imperial': '90 - 120', 'metric': '41 - 54'}</td>\n",
       "      <td>{'imperial': '28 - 34', 'metric': '71 - 86'}</td>\n",
       "      <td>5</td>\n",
       "      <td>Akbash Dog</td>\n",
       "      <td>Sheep guarding</td>\n",
       "      <td>Working</td>\n",
       "      <td>10 - 12 years</td>\n",
       "      <td>Loyal, Independent, Intelligent, Brave</td>\n",
       "      <td></td>\n",
       "      <td>26pHT3Qk7</td>\n",
       "      <td>{'id': '26pHT3Qk7', 'width': 600, 'height': 47...</td>\n",
       "      <td>NaN</td>\n",
       "      <td>NaN</td>\n",
       "      <td>NaN</td>\n",
       "    </tr>\n",
       "  </tbody>\n",
       "</table>\n",
       "</div>"
      ],
      "text/plain": [
       "                                          weight  \\\n",
       "0      {'imperial': '6 - 13', 'metric': '3 - 6'}   \n",
       "1   {'imperial': '50 - 60', 'metric': '23 - 27'}   \n",
       "2   {'imperial': '44 - 66', 'metric': '20 - 30'}   \n",
       "3   {'imperial': '40 - 65', 'metric': '18 - 29'}   \n",
       "4  {'imperial': '90 - 120', 'metric': '41 - 54'}   \n",
       "\n",
       "                                          height  id                 name  \\\n",
       "0  {'imperial': '9 - 11.5', 'metric': '23 - 29'}   1        Affenpinscher   \n",
       "1   {'imperial': '25 - 27', 'metric': '64 - 69'}   2         Afghan Hound   \n",
       "2             {'imperial': '30', 'metric': '76'}   3  African Hunting Dog   \n",
       "3   {'imperial': '21 - 23', 'metric': '53 - 58'}   4     Airedale Terrier   \n",
       "4   {'imperial': '28 - 34', 'metric': '71 - 86'}   5           Akbash Dog   \n",
       "\n",
       "                       bred_for breed_group      life_span  \\\n",
       "0  Small rodent hunting, lapdog         Toy  10 - 12 years   \n",
       "1          Coursing and hunting       Hound  10 - 13 years   \n",
       "2            A wild pack animal         NaN       11 years   \n",
       "3         Badger, otter hunting     Terrier  10 - 13 years   \n",
       "4                Sheep guarding     Working  10 - 12 years   \n",
       "\n",
       "                                         temperament  \\\n",
       "0  Stubborn, Curious, Playful, Adventurous, Activ...   \n",
       "1     Aloof, Clownish, Dignified, Independent, Happy   \n",
       "2                         Wild, Hardworking, Dutiful   \n",
       "3  Outgoing, Friendly, Alert, Confident, Intellig...   \n",
       "4             Loyal, Independent, Intelligent, Brave   \n",
       "\n",
       "                        origin reference_image_id  \\\n",
       "0              Germany, France          BJa4kxc4X   \n",
       "1  Afghanistan, Iran, Pakistan          hMyT4CDXR   \n",
       "2                                       rkiByec47   \n",
       "3      United Kingdom, England          1-7cgoZSh   \n",
       "4                                       26pHT3Qk7   \n",
       "\n",
       "                                               image country_code description  \\\n",
       "0  {'id': 'BJa4kxc4X', 'width': 1600, 'height': 1...          NaN         NaN   \n",
       "1  {'id': 'hMyT4CDXR', 'width': 606, 'height': 38...           AG         NaN   \n",
       "2  {'id': 'rkiByec47', 'width': 500, 'height': 33...          NaN         NaN   \n",
       "3  {'id': '1-7cgoZSh', 'width': 645, 'height': 43...          NaN         NaN   \n",
       "4  {'id': '26pHT3Qk7', 'width': 600, 'height': 47...          NaN         NaN   \n",
       "\n",
       "  history  \n",
       "0     NaN  \n",
       "1     NaN  \n",
       "2     NaN  \n",
       "3     NaN  \n",
       "4     NaN  "
      ]
     },
     "execution_count": 40,
     "metadata": {},
     "output_type": "execute_result"
    }
   ],
   "source": [
    "response: requests.Response = requests.get(base_url, params=params)\n",
    "data: list[dict[str, Any]] = response.json()\n",
    "df: pd.DataFrame = pd.DataFrame(data)\n",
    "df.head()"
   ]
  },
  {
   "cell_type": "code",
   "execution_count": 41,
   "id": "0b94c7e3",
   "metadata": {},
   "outputs": [
    {
     "name": "stdout",
     "output_type": "stream",
     "text": [
      "<class 'pandas.core.frame.DataFrame'>\n",
      "RangeIndex: 172 entries, 0 to 171\n",
      "Data columns (total 14 columns):\n",
      " #   Column              Non-Null Count  Dtype \n",
      "---  ------              --------------  ----- \n",
      " 0   weight              172 non-null    object\n",
      " 1   height              172 non-null    object\n",
      " 2   id                  172 non-null    int64 \n",
      " 3   name                172 non-null    object\n",
      " 4   bred_for            151 non-null    object\n",
      " 5   breed_group         156 non-null    object\n",
      " 6   life_span           172 non-null    object\n",
      " 7   temperament         168 non-null    object\n",
      " 8   origin              5 non-null      object\n",
      " 9   reference_image_id  172 non-null    object\n",
      " 10  image               172 non-null    object\n",
      " 11  country_code        12 non-null     object\n",
      " 12  description         1 non-null      object\n",
      " 13  history             2 non-null      object\n",
      "dtypes: int64(1), object(13)\n",
      "memory usage: 18.9+ KB\n"
     ]
    }
   ],
   "source": [
    "df.info()"
   ]
  },
  {
   "cell_type": "markdown",
   "id": "52d12628",
   "metadata": {},
   "source": [
    "## Limpieza de datos"
   ]
  },
  {
   "cell_type": "markdown",
   "id": "8a66071e",
   "metadata": {},
   "source": [
    "Evidentemente, **una limpieza de los datos es necesaria**. Sólo las columnas `weight`, `height`, `id`, `name`, `life_span`, `reference_image_id`, e `image` están completas. Las demás poseen una cantidad variable de nulos, siendo peor en `description`, `history`, y `origin`. En particular, la necesaria columna `temperament` posee 4 nulos.\n",
    "\n",
    "Desgraciadamente, al contener estas columnas problemáticas valores de tipo `object`, que son _no numéricos_, no hay forma sencilla de otorgarles valores de reemplazo que sean razonables. Por esto, con el fin de responder a las dos preguntas que guían este proyecto, intentaremos lo siguiente:\n",
    "\n",
    "1. Crear un nuevo `DataFrame` que contenga sólo las columnas necesarias para responder a las preguntas de investigación.\n",
    "\n",
    "2. Obviar los 4 registros cuyos valores en la columna `temperament` son nulos.\n",
    "\n",
    "3. Eliminar posibles registros duplicados con `drop_duplicates()`."
   ]
  },
  {
   "cell_type": "code",
   "execution_count": 42,
   "id": "2b64d460",
   "metadata": {},
   "outputs": [
    {
     "data": {
      "text/html": [
       "<div>\n",
       "<style scoped>\n",
       "    .dataframe tbody tr th:only-of-type {\n",
       "        vertical-align: middle;\n",
       "    }\n",
       "\n",
       "    .dataframe tbody tr th {\n",
       "        vertical-align: top;\n",
       "    }\n",
       "\n",
       "    .dataframe thead th {\n",
       "        text-align: right;\n",
       "    }\n",
       "</style>\n",
       "<table border=\"1\" class=\"dataframe\">\n",
       "  <thead>\n",
       "    <tr style=\"text-align: right;\">\n",
       "      <th></th>\n",
       "      <th>id</th>\n",
       "      <th>name</th>\n",
       "      <th>life_span</th>\n",
       "      <th>temperament</th>\n",
       "    </tr>\n",
       "  </thead>\n",
       "  <tbody>\n",
       "    <tr>\n",
       "      <th>0</th>\n",
       "      <td>1</td>\n",
       "      <td>Affenpinscher</td>\n",
       "      <td>10 - 12 years</td>\n",
       "      <td>Stubborn, Curious, Playful, Adventurous, Activ...</td>\n",
       "    </tr>\n",
       "    <tr>\n",
       "      <th>1</th>\n",
       "      <td>2</td>\n",
       "      <td>Afghan Hound</td>\n",
       "      <td>10 - 13 years</td>\n",
       "      <td>Aloof, Clownish, Dignified, Independent, Happy</td>\n",
       "    </tr>\n",
       "    <tr>\n",
       "      <th>2</th>\n",
       "      <td>3</td>\n",
       "      <td>African Hunting Dog</td>\n",
       "      <td>11 years</td>\n",
       "      <td>Wild, Hardworking, Dutiful</td>\n",
       "    </tr>\n",
       "    <tr>\n",
       "      <th>3</th>\n",
       "      <td>4</td>\n",
       "      <td>Airedale Terrier</td>\n",
       "      <td>10 - 13 years</td>\n",
       "      <td>Outgoing, Friendly, Alert, Confident, Intellig...</td>\n",
       "    </tr>\n",
       "    <tr>\n",
       "      <th>4</th>\n",
       "      <td>5</td>\n",
       "      <td>Akbash Dog</td>\n",
       "      <td>10 - 12 years</td>\n",
       "      <td>Loyal, Independent, Intelligent, Brave</td>\n",
       "    </tr>\n",
       "  </tbody>\n",
       "</table>\n",
       "</div>"
      ],
      "text/plain": [
       "   id                 name      life_span  \\\n",
       "0   1        Affenpinscher  10 - 12 years   \n",
       "1   2         Afghan Hound  10 - 13 years   \n",
       "2   3  African Hunting Dog       11 years   \n",
       "3   4     Airedale Terrier  10 - 13 years   \n",
       "4   5           Akbash Dog  10 - 12 years   \n",
       "\n",
       "                                         temperament  \n",
       "0  Stubborn, Curious, Playful, Adventurous, Activ...  \n",
       "1     Aloof, Clownish, Dignified, Independent, Happy  \n",
       "2                         Wild, Hardworking, Dutiful  \n",
       "3  Outgoing, Friendly, Alert, Confident, Intellig...  \n",
       "4             Loyal, Independent, Intelligent, Brave  "
      ]
     },
     "execution_count": 42,
     "metadata": {},
     "output_type": "execute_result"
    }
   ],
   "source": [
    "# Paso 1\n",
    "pesky_columns: list[str] = [\n",
    "    'weight',\n",
    "    'height',\n",
    "    'bred_for',\n",
    "    'breed_group',\n",
    "    'origin',\n",
    "    'reference_image_id',\n",
    "    'image',\n",
    "    'country_code',\n",
    "    'description',\n",
    "    'history'\n",
    "]\n",
    "\n",
    "clean_df: pd.DataFrame = pd.DataFrame(\n",
    "    df.drop(pesky_columns, axis=1)\n",
    ")\n",
    "clean_df.head()"
   ]
  },
  {
   "cell_type": "code",
   "execution_count": 43,
   "id": "631fd178",
   "metadata": {},
   "outputs": [
    {
     "name": "stdout",
     "output_type": "stream",
     "text": [
      "<class 'pandas.core.frame.DataFrame'>\n",
      "RangeIndex: 172 entries, 0 to 171\n",
      "Data columns (total 4 columns):\n",
      " #   Column       Non-Null Count  Dtype \n",
      "---  ------       --------------  ----- \n",
      " 0   id           172 non-null    int64 \n",
      " 1   name         172 non-null    object\n",
      " 2   life_span    172 non-null    object\n",
      " 3   temperament  168 non-null    object\n",
      "dtypes: int64(1), object(3)\n",
      "memory usage: 5.5+ KB\n"
     ]
    }
   ],
   "source": [
    "clean_df.info()"
   ]
  },
  {
   "cell_type": "code",
   "execution_count": 44,
   "id": "ed20d54f",
   "metadata": {},
   "outputs": [
    {
     "name": "stdout",
     "output_type": "stream",
     "text": [
      "<class 'pandas.core.frame.DataFrame'>\n",
      "Index: 168 entries, 0 to 171\n",
      "Data columns (total 4 columns):\n",
      " #   Column       Non-Null Count  Dtype \n",
      "---  ------       --------------  ----- \n",
      " 0   id           168 non-null    int64 \n",
      " 1   name         168 non-null    object\n",
      " 2   life_span    168 non-null    object\n",
      " 3   temperament  168 non-null    object\n",
      "dtypes: int64(1), object(3)\n",
      "memory usage: 6.6+ KB\n"
     ]
    }
   ],
   "source": [
    "# Paso 2\n",
    "clean_df = clean_df.dropna()\n",
    "clean_df.info()"
   ]
  },
  {
   "cell_type": "markdown",
   "id": "c6ff8237",
   "metadata": {},
   "source": [
    "Posterior a esta sanitización urgente, debemos resolver el problema de tipado y contenido de la columna `life_span`, la cual es de tipo texto y parece mostrar la esperanza de vida mayormente en rangos, no en números exactos. Hay dos opciones:\n",
    "\n",
    "1. Hemos de transformarla al tipo correcto (numérico) y transformar los rangos en promedios, para que sean posibles de computar en la generación de gráficos.\n",
    "\n",
    "2. Generar una columna aparte _ad hoc_ con los promedios de esperanza de vida, conservando `life_span` como fuente de etiquetas para los gráficos."
   ]
  },
  {
   "cell_type": "code",
   "execution_count": 45,
   "id": "71e3e507",
   "metadata": {},
   "outputs": [
    {
     "data": {
      "text/plain": [
       "life_span\n",
       "10 - 12 years          28\n",
       "12 - 15 years          28\n",
       "12 - 14 years          26\n",
       "10 - 13 years          12\n",
       "10 - 14 years           7\n",
       "8 - 10 years            6\n",
       "12 - 16 years           5\n",
       "15 years                5\n",
       "7 - 10 years            3\n",
       "11 - 13 years           3\n",
       "13 - 15 years           3\n",
       "6 - 8 years             2\n",
       "12 years                2\n",
       "10 years                2\n",
       "10 - 11 years           2\n",
       "14 - 15 years           2\n",
       "13 - 16 years           2\n",
       "14 - 16 years           2\n",
       "12 – 14 years           2\n",
       "10 - 15 years           2\n",
       "13 – 15 years           2\n",
       "12 - 13 years           2\n",
       "9 – 14 years            2\n",
       "15 - 18 years           1\n",
       "12 - 18 years           1\n",
       "10 - 18 years           1\n",
       "12 - 16 Years years     1\n",
       "14 - 18 years           1\n",
       "13 - 17 years           1\n",
       "15 - 20 years           1\n",
       "8 - 12 years            1\n",
       "12 – 15 years           1\n",
       "10 – 16 years           1\n",
       "10 – 15 years           1\n",
       "9 - 11 years            1\n",
       "11 - 15 years           1\n",
       "11 – 14 years           1\n",
       "8 - 15 years            1\n",
       "8 – 15 years            1\n",
       "11 years                1\n",
       "13 – 14 years           1\n",
       "Name: count, dtype: int64"
      ]
     },
     "execution_count": 45,
     "metadata": {},
     "output_type": "execute_result"
    }
   ],
   "source": [
    "clean_df['life_span'].value_counts()"
   ]
  },
  {
   "cell_type": "markdown",
   "id": "6693a5c7",
   "metadata": {},
   "source": [
    "Tras pensarlo, optaré por la segunda opción, conservando la columna original `life_span`:"
   ]
  },
  {
   "cell_type": "code",
   "execution_count": 46,
   "id": "a6407743",
   "metadata": {},
   "outputs": [
    {
     "data": {
      "text/plain": [
       "life_span\n",
       "10 - 12    29\n",
       "12 - 15    28\n",
       "12 - 14    27\n",
       "10 - 13    12\n",
       "10 - 14     7\n",
       "12 - 16     6\n",
       "8 - 10      6\n",
       "15          5\n",
       "7 - 10      3\n",
       "11 - 13     3\n",
       "13 - 15     3\n",
       "10          2\n",
       "14 - 15     2\n",
       "12          2\n",
       "6 - 8       2\n",
       "9 – 14      2\n",
       "10 - 11     2\n",
       "13 - 16     2\n",
       "14 - 16     2\n",
       "12 – 14     2\n",
       "10 - 15     2\n",
       "13 – 15     2\n",
       "12 - 13     2\n",
       "12 – 15     2\n",
       "15 - 18     1\n",
       "12 - 18     1\n",
       "10 - 18     1\n",
       "18          1\n",
       "14 - 18     1\n",
       "13 - 17     1\n",
       "15 - 20     1\n",
       "8 - 12      1\n",
       "10 – 16     1\n",
       "10 – 15     1\n",
       "9 - 11      1\n",
       "11 - 15     1\n",
       "11 – 14     1\n",
       "8 - 15      1\n",
       "8 – 15      1\n",
       "11          1\n",
       "13 – 14     1\n",
       "Name: count, dtype: int64"
      ]
     },
     "execution_count": 46,
     "metadata": {},
     "output_type": "execute_result"
    }
   ],
   "source": [
    "life_span_mean: pd.Series = (\n",
    "    df['life_span'].str.replace('years', '').str.strip()\n",
    ")\n",
    "life_span_mean = life_span_mean.str.replace('Years', '').str.strip()\n",
    "pre_sanitized_counts: pd.Series = life_span_mean.value_counts()  # important!\n",
    "pre_sanitized_counts"
   ]
  },
  {
   "cell_type": "markdown",
   "id": "2019acf8",
   "metadata": {},
   "source": [
    "Hay una mezcla de rangos y de números solitarios, por lo que no podremos pasarlos directamente a formato numérico. Hagamos una función para tratar los rangos y transformarlos a su promedio."
   ]
  },
  {
   "cell_type": "code",
   "execution_count": 47,
   "id": "c57b265b",
   "metadata": {},
   "outputs": [],
   "source": [
    "def process_life_span_data(value: str) -> float:\n",
    "    signs: list[str] = ['-', '–']\n",
    "    for sign in signs:\n",
    "        if sign in value:\n",
    "            low, high = map(float, value.split(sign))\n",
    "            return (low + high) / 2\n",
    "    else:\n",
    "        return float(value)"
   ]
  },
  {
   "cell_type": "code",
   "execution_count": 48,
   "id": "574eb159",
   "metadata": {},
   "outputs": [
    {
     "data": {
      "text/plain": [
       "life_span\n",
       "13.5    31\n",
       "13.0    31\n",
       "11.0    30\n",
       "11.5    16\n",
       "12.0    12\n",
       "14.0    12\n",
       "15.0     9\n",
       "12.5     6\n",
       "9.0      6\n",
       "10.0     4\n",
       "14.5     4\n",
       "8.5      3\n",
       "10.5     2\n",
       "7.0      2\n",
       "16.5     1\n",
       "16.0     1\n",
       "18.0     1\n",
       "17.5     1\n",
       "Name: count, dtype: int64"
      ]
     },
     "execution_count": 48,
     "metadata": {},
     "output_type": "execute_result"
    }
   ],
   "source": [
    "life_span_mean = life_span_mean.apply(process_life_span_data)\n",
    "sanitized_counts: pd.Series = life_span_mean.value_counts()\n",
    "sanitized_counts"
   ]
  },
  {
   "cell_type": "code",
   "execution_count": 49,
   "id": "b22f922e",
   "metadata": {},
   "outputs": [
    {
     "data": {
      "text/html": [
       "<div>\n",
       "<style scoped>\n",
       "    .dataframe tbody tr th:only-of-type {\n",
       "        vertical-align: middle;\n",
       "    }\n",
       "\n",
       "    .dataframe tbody tr th {\n",
       "        vertical-align: top;\n",
       "    }\n",
       "\n",
       "    .dataframe thead th {\n",
       "        text-align: right;\n",
       "    }\n",
       "</style>\n",
       "<table border=\"1\" class=\"dataframe\">\n",
       "  <thead>\n",
       "    <tr style=\"text-align: right;\">\n",
       "      <th></th>\n",
       "      <th>id</th>\n",
       "      <th>name</th>\n",
       "      <th>life_span</th>\n",
       "      <th>temperament</th>\n",
       "      <th>life_span_mean</th>\n",
       "    </tr>\n",
       "  </thead>\n",
       "  <tbody>\n",
       "    <tr>\n",
       "      <th>0</th>\n",
       "      <td>1</td>\n",
       "      <td>Affenpinscher</td>\n",
       "      <td>10 - 12 years</td>\n",
       "      <td>Stubborn, Curious, Playful, Adventurous, Activ...</td>\n",
       "      <td>11.0</td>\n",
       "    </tr>\n",
       "    <tr>\n",
       "      <th>1</th>\n",
       "      <td>2</td>\n",
       "      <td>Afghan Hound</td>\n",
       "      <td>10 - 13 years</td>\n",
       "      <td>Aloof, Clownish, Dignified, Independent, Happy</td>\n",
       "      <td>11.5</td>\n",
       "    </tr>\n",
       "    <tr>\n",
       "      <th>2</th>\n",
       "      <td>3</td>\n",
       "      <td>African Hunting Dog</td>\n",
       "      <td>11 years</td>\n",
       "      <td>Wild, Hardworking, Dutiful</td>\n",
       "      <td>11.0</td>\n",
       "    </tr>\n",
       "    <tr>\n",
       "      <th>3</th>\n",
       "      <td>4</td>\n",
       "      <td>Airedale Terrier</td>\n",
       "      <td>10 - 13 years</td>\n",
       "      <td>Outgoing, Friendly, Alert, Confident, Intellig...</td>\n",
       "      <td>11.5</td>\n",
       "    </tr>\n",
       "    <tr>\n",
       "      <th>4</th>\n",
       "      <td>5</td>\n",
       "      <td>Akbash Dog</td>\n",
       "      <td>10 - 12 years</td>\n",
       "      <td>Loyal, Independent, Intelligent, Brave</td>\n",
       "      <td>11.0</td>\n",
       "    </tr>\n",
       "  </tbody>\n",
       "</table>\n",
       "</div>"
      ],
      "text/plain": [
       "   id                 name      life_span  \\\n",
       "0   1        Affenpinscher  10 - 12 years   \n",
       "1   2         Afghan Hound  10 - 13 years   \n",
       "2   3  African Hunting Dog       11 years   \n",
       "3   4     Airedale Terrier  10 - 13 years   \n",
       "4   5           Akbash Dog  10 - 12 years   \n",
       "\n",
       "                                         temperament  life_span_mean  \n",
       "0  Stubborn, Curious, Playful, Adventurous, Activ...            11.0  \n",
       "1     Aloof, Clownish, Dignified, Independent, Happy            11.5  \n",
       "2                         Wild, Hardworking, Dutiful            11.0  \n",
       "3  Outgoing, Friendly, Alert, Confident, Intellig...            11.5  \n",
       "4             Loyal, Independent, Intelligent, Brave            11.0  "
      ]
     },
     "execution_count": 49,
     "metadata": {},
     "output_type": "execute_result"
    }
   ],
   "source": [
    "clean_df['life_span_mean'] = life_span_mean.astype('float64')\n",
    "clean_df.head()"
   ]
  },
  {
   "cell_type": "code",
   "execution_count": 50,
   "id": "4fdcb958",
   "metadata": {},
   "outputs": [
    {
     "name": "stdout",
     "output_type": "stream",
     "text": [
      "<class 'pandas.core.frame.DataFrame'>\n",
      "Index: 168 entries, 0 to 171\n",
      "Data columns (total 5 columns):\n",
      " #   Column          Non-Null Count  Dtype  \n",
      "---  ------          --------------  -----  \n",
      " 0   id              168 non-null    int64  \n",
      " 1   name            168 non-null    object \n",
      " 2   life_span       168 non-null    object \n",
      " 3   temperament     168 non-null    object \n",
      " 4   life_span_mean  168 non-null    float64\n",
      "dtypes: float64(1), int64(1), object(3)\n",
      "memory usage: 7.9+ KB\n"
     ]
    }
   ],
   "source": [
    "clean_df.info()"
   ]
  },
  {
   "cell_type": "code",
   "execution_count": 51,
   "id": "c31c3e78",
   "metadata": {},
   "outputs": [
    {
     "name": "stdout",
     "output_type": "stream",
     "text": [
      "<class 'pandas.core.frame.DataFrame'>\n",
      "RangeIndex: 168 entries, 0 to 167\n",
      "Data columns (total 5 columns):\n",
      " #   Column          Non-Null Count  Dtype  \n",
      "---  ------          --------------  -----  \n",
      " 0   id              168 non-null    int64  \n",
      " 1   name            168 non-null    object \n",
      " 2   life_span       168 non-null    object \n",
      " 3   temperament     168 non-null    object \n",
      " 4   life_span_mean  168 non-null    float64\n",
      "dtypes: float64(1), int64(1), object(3)\n",
      "memory usage: 6.7+ KB\n"
     ]
    }
   ],
   "source": [
    "clean_df.reset_index(drop=True, inplace=True)\n",
    "clean_df.info()"
   ]
  },
  {
   "cell_type": "markdown",
   "id": "64e01efc",
   "metadata": {},
   "source": [
    "## 1. ¿Cuál es la esperanza de vida (en años) más frecuente entre todas las razas de perro?"
   ]
  },
  {
   "cell_type": "markdown",
   "id": "3c057390",
   "metadata": {},
   "source": [
    "En cierta forma, se ha logrado responder dicha pregunta durante el proceso de limpieza de datos, donde, a primera vista, la esperanza de vida más frecuente (según los datos categoriales de la columna `life_span`) pareciera estar en el rango de `10 - 12` años, con 29 casos."
   ]
  },
  {
   "cell_type": "code",
   "execution_count": 80,
   "id": "0740be6f",
   "metadata": {},
   "outputs": [
    {
     "data": {
      "application/vnd.plotly.v1+json": {
       "config": {
        "plotlyServerURL": "https://plot.ly"
       },
       "data": [
        {
         "hovertemplate": "<b>%{x} años:</b> %{y} casos <extra></extra>",
         "marker": {
          "color": [
           29,
           28,
           27,
           12,
           7,
           6,
           6,
           5,
           3,
           3,
           3,
           2,
           2,
           2,
           2,
           2,
           2,
           2,
           2,
           2,
           2,
           2,
           2,
           2,
           1,
           1,
           1,
           1,
           1,
           1,
           1,
           1,
           1,
           1,
           1,
           1,
           1,
           1,
           1,
           1,
           1
          ],
          "colorbar": {
           "title": {
            "text": "Frecuencia"
           }
          },
          "colorscale": [
           [
            0,
            "#440154"
           ],
           [
            0.1111111111111111,
            "#482878"
           ],
           [
            0.2222222222222222,
            "#3e4989"
           ],
           [
            0.3333333333333333,
            "#31688e"
           ],
           [
            0.4444444444444444,
            "#26828e"
           ],
           [
            0.5555555555555556,
            "#1f9e89"
           ],
           [
            0.6666666666666666,
            "#35b779"
           ],
           [
            0.7777777777777778,
            "#6ece58"
           ],
           [
            0.8888888888888888,
            "#b5de2b"
           ],
           [
            1,
            "#fde725"
           ]
          ],
          "showscale": true
         },
         "text": [
          29,
          28,
          27,
          12,
          7,
          6,
          6,
          5,
          3,
          3,
          3,
          2,
          2,
          2,
          2,
          2,
          2,
          2,
          2,
          2,
          2,
          2,
          2,
          2,
          1,
          1,
          1,
          1,
          1,
          1,
          1,
          1,
          1,
          1,
          1,
          1,
          1,
          1,
          1,
          1,
          1
         ],
         "textposition": "outside",
         "type": "bar",
         "x": [
          "10 - 12",
          "12 - 15",
          "12 - 14",
          "10 - 13",
          "10 - 14",
          "12 - 16",
          "8 - 10",
          "15",
          "7 - 10",
          "11 - 13",
          "13 - 15",
          "10",
          "14 - 15",
          "12",
          "6 - 8",
          "9 – 14",
          "10 - 11",
          "13 - 16",
          "14 - 16",
          "12 – 14",
          "10 - 15",
          "13 – 15",
          "12 - 13",
          "12 – 15",
          "15 - 18",
          "12 - 18",
          "10 - 18",
          "18",
          "14 - 18",
          "13 - 17",
          "15 - 20",
          "8 - 12",
          "10 – 16",
          "10 – 15",
          "9 - 11",
          "11 - 15",
          "11 – 14",
          "8 - 15",
          "8 – 15",
          "11",
          "13 – 14"
         ],
         "y": [
          29,
          28,
          27,
          12,
          7,
          6,
          6,
          5,
          3,
          3,
          3,
          2,
          2,
          2,
          2,
          2,
          2,
          2,
          2,
          2,
          2,
          2,
          2,
          2,
          1,
          1,
          1,
          1,
          1,
          1,
          1,
          1,
          1,
          1,
          1,
          1,
          1,
          1,
          1,
          1,
          1
         ]
        }
       ],
       "layout": {
        "template": {
         "data": {
          "bar": [
           {
            "error_x": {
             "color": "#2a3f5f"
            },
            "error_y": {
             "color": "#2a3f5f"
            },
            "marker": {
             "line": {
              "color": "#E5ECF6",
              "width": 0.5
             },
             "pattern": {
              "fillmode": "overlay",
              "size": 10,
              "solidity": 0.2
             }
            },
            "type": "bar"
           }
          ],
          "barpolar": [
           {
            "marker": {
             "line": {
              "color": "#E5ECF6",
              "width": 0.5
             },
             "pattern": {
              "fillmode": "overlay",
              "size": 10,
              "solidity": 0.2
             }
            },
            "type": "barpolar"
           }
          ],
          "carpet": [
           {
            "aaxis": {
             "endlinecolor": "#2a3f5f",
             "gridcolor": "white",
             "linecolor": "white",
             "minorgridcolor": "white",
             "startlinecolor": "#2a3f5f"
            },
            "baxis": {
             "endlinecolor": "#2a3f5f",
             "gridcolor": "white",
             "linecolor": "white",
             "minorgridcolor": "white",
             "startlinecolor": "#2a3f5f"
            },
            "type": "carpet"
           }
          ],
          "choropleth": [
           {
            "colorbar": {
             "outlinewidth": 0,
             "ticks": ""
            },
            "type": "choropleth"
           }
          ],
          "contour": [
           {
            "colorbar": {
             "outlinewidth": 0,
             "ticks": ""
            },
            "colorscale": [
             [
              0,
              "#0d0887"
             ],
             [
              0.1111111111111111,
              "#46039f"
             ],
             [
              0.2222222222222222,
              "#7201a8"
             ],
             [
              0.3333333333333333,
              "#9c179e"
             ],
             [
              0.4444444444444444,
              "#bd3786"
             ],
             [
              0.5555555555555556,
              "#d8576b"
             ],
             [
              0.6666666666666666,
              "#ed7953"
             ],
             [
              0.7777777777777778,
              "#fb9f3a"
             ],
             [
              0.8888888888888888,
              "#fdca26"
             ],
             [
              1,
              "#f0f921"
             ]
            ],
            "type": "contour"
           }
          ],
          "contourcarpet": [
           {
            "colorbar": {
             "outlinewidth": 0,
             "ticks": ""
            },
            "type": "contourcarpet"
           }
          ],
          "heatmap": [
           {
            "colorbar": {
             "outlinewidth": 0,
             "ticks": ""
            },
            "colorscale": [
             [
              0,
              "#0d0887"
             ],
             [
              0.1111111111111111,
              "#46039f"
             ],
             [
              0.2222222222222222,
              "#7201a8"
             ],
             [
              0.3333333333333333,
              "#9c179e"
             ],
             [
              0.4444444444444444,
              "#bd3786"
             ],
             [
              0.5555555555555556,
              "#d8576b"
             ],
             [
              0.6666666666666666,
              "#ed7953"
             ],
             [
              0.7777777777777778,
              "#fb9f3a"
             ],
             [
              0.8888888888888888,
              "#fdca26"
             ],
             [
              1,
              "#f0f921"
             ]
            ],
            "type": "heatmap"
           }
          ],
          "heatmapgl": [
           {
            "colorbar": {
             "outlinewidth": 0,
             "ticks": ""
            },
            "colorscale": [
             [
              0,
              "#0d0887"
             ],
             [
              0.1111111111111111,
              "#46039f"
             ],
             [
              0.2222222222222222,
              "#7201a8"
             ],
             [
              0.3333333333333333,
              "#9c179e"
             ],
             [
              0.4444444444444444,
              "#bd3786"
             ],
             [
              0.5555555555555556,
              "#d8576b"
             ],
             [
              0.6666666666666666,
              "#ed7953"
             ],
             [
              0.7777777777777778,
              "#fb9f3a"
             ],
             [
              0.8888888888888888,
              "#fdca26"
             ],
             [
              1,
              "#f0f921"
             ]
            ],
            "type": "heatmapgl"
           }
          ],
          "histogram": [
           {
            "marker": {
             "pattern": {
              "fillmode": "overlay",
              "size": 10,
              "solidity": 0.2
             }
            },
            "type": "histogram"
           }
          ],
          "histogram2d": [
           {
            "colorbar": {
             "outlinewidth": 0,
             "ticks": ""
            },
            "colorscale": [
             [
              0,
              "#0d0887"
             ],
             [
              0.1111111111111111,
              "#46039f"
             ],
             [
              0.2222222222222222,
              "#7201a8"
             ],
             [
              0.3333333333333333,
              "#9c179e"
             ],
             [
              0.4444444444444444,
              "#bd3786"
             ],
             [
              0.5555555555555556,
              "#d8576b"
             ],
             [
              0.6666666666666666,
              "#ed7953"
             ],
             [
              0.7777777777777778,
              "#fb9f3a"
             ],
             [
              0.8888888888888888,
              "#fdca26"
             ],
             [
              1,
              "#f0f921"
             ]
            ],
            "type": "histogram2d"
           }
          ],
          "histogram2dcontour": [
           {
            "colorbar": {
             "outlinewidth": 0,
             "ticks": ""
            },
            "colorscale": [
             [
              0,
              "#0d0887"
             ],
             [
              0.1111111111111111,
              "#46039f"
             ],
             [
              0.2222222222222222,
              "#7201a8"
             ],
             [
              0.3333333333333333,
              "#9c179e"
             ],
             [
              0.4444444444444444,
              "#bd3786"
             ],
             [
              0.5555555555555556,
              "#d8576b"
             ],
             [
              0.6666666666666666,
              "#ed7953"
             ],
             [
              0.7777777777777778,
              "#fb9f3a"
             ],
             [
              0.8888888888888888,
              "#fdca26"
             ],
             [
              1,
              "#f0f921"
             ]
            ],
            "type": "histogram2dcontour"
           }
          ],
          "mesh3d": [
           {
            "colorbar": {
             "outlinewidth": 0,
             "ticks": ""
            },
            "type": "mesh3d"
           }
          ],
          "parcoords": [
           {
            "line": {
             "colorbar": {
              "outlinewidth": 0,
              "ticks": ""
             }
            },
            "type": "parcoords"
           }
          ],
          "pie": [
           {
            "automargin": true,
            "type": "pie"
           }
          ],
          "scatter": [
           {
            "fillpattern": {
             "fillmode": "overlay",
             "size": 10,
             "solidity": 0.2
            },
            "type": "scatter"
           }
          ],
          "scatter3d": [
           {
            "line": {
             "colorbar": {
              "outlinewidth": 0,
              "ticks": ""
             }
            },
            "marker": {
             "colorbar": {
              "outlinewidth": 0,
              "ticks": ""
             }
            },
            "type": "scatter3d"
           }
          ],
          "scattercarpet": [
           {
            "marker": {
             "colorbar": {
              "outlinewidth": 0,
              "ticks": ""
             }
            },
            "type": "scattercarpet"
           }
          ],
          "scattergeo": [
           {
            "marker": {
             "colorbar": {
              "outlinewidth": 0,
              "ticks": ""
             }
            },
            "type": "scattergeo"
           }
          ],
          "scattergl": [
           {
            "marker": {
             "colorbar": {
              "outlinewidth": 0,
              "ticks": ""
             }
            },
            "type": "scattergl"
           }
          ],
          "scattermapbox": [
           {
            "marker": {
             "colorbar": {
              "outlinewidth": 0,
              "ticks": ""
             }
            },
            "type": "scattermapbox"
           }
          ],
          "scatterpolar": [
           {
            "marker": {
             "colorbar": {
              "outlinewidth": 0,
              "ticks": ""
             }
            },
            "type": "scatterpolar"
           }
          ],
          "scatterpolargl": [
           {
            "marker": {
             "colorbar": {
              "outlinewidth": 0,
              "ticks": ""
             }
            },
            "type": "scatterpolargl"
           }
          ],
          "scatterternary": [
           {
            "marker": {
             "colorbar": {
              "outlinewidth": 0,
              "ticks": ""
             }
            },
            "type": "scatterternary"
           }
          ],
          "surface": [
           {
            "colorbar": {
             "outlinewidth": 0,
             "ticks": ""
            },
            "colorscale": [
             [
              0,
              "#0d0887"
             ],
             [
              0.1111111111111111,
              "#46039f"
             ],
             [
              0.2222222222222222,
              "#7201a8"
             ],
             [
              0.3333333333333333,
              "#9c179e"
             ],
             [
              0.4444444444444444,
              "#bd3786"
             ],
             [
              0.5555555555555556,
              "#d8576b"
             ],
             [
              0.6666666666666666,
              "#ed7953"
             ],
             [
              0.7777777777777778,
              "#fb9f3a"
             ],
             [
              0.8888888888888888,
              "#fdca26"
             ],
             [
              1,
              "#f0f921"
             ]
            ],
            "type": "surface"
           }
          ],
          "table": [
           {
            "cells": {
             "fill": {
              "color": "#EBF0F8"
             },
             "line": {
              "color": "white"
             }
            },
            "header": {
             "fill": {
              "color": "#C8D4E3"
             },
             "line": {
              "color": "white"
             }
            },
            "type": "table"
           }
          ]
         },
         "layout": {
          "annotationdefaults": {
           "arrowcolor": "#2a3f5f",
           "arrowhead": 0,
           "arrowwidth": 1
          },
          "autotypenumbers": "strict",
          "coloraxis": {
           "colorbar": {
            "outlinewidth": 0,
            "ticks": ""
           }
          },
          "colorscale": {
           "diverging": [
            [
             0,
             "#8e0152"
            ],
            [
             0.1,
             "#c51b7d"
            ],
            [
             0.2,
             "#de77ae"
            ],
            [
             0.3,
             "#f1b6da"
            ],
            [
             0.4,
             "#fde0ef"
            ],
            [
             0.5,
             "#f7f7f7"
            ],
            [
             0.6,
             "#e6f5d0"
            ],
            [
             0.7,
             "#b8e186"
            ],
            [
             0.8,
             "#7fbc41"
            ],
            [
             0.9,
             "#4d9221"
            ],
            [
             1,
             "#276419"
            ]
           ],
           "sequential": [
            [
             0,
             "#0d0887"
            ],
            [
             0.1111111111111111,
             "#46039f"
            ],
            [
             0.2222222222222222,
             "#7201a8"
            ],
            [
             0.3333333333333333,
             "#9c179e"
            ],
            [
             0.4444444444444444,
             "#bd3786"
            ],
            [
             0.5555555555555556,
             "#d8576b"
            ],
            [
             0.6666666666666666,
             "#ed7953"
            ],
            [
             0.7777777777777778,
             "#fb9f3a"
            ],
            [
             0.8888888888888888,
             "#fdca26"
            ],
            [
             1,
             "#f0f921"
            ]
           ],
           "sequentialminus": [
            [
             0,
             "#0d0887"
            ],
            [
             0.1111111111111111,
             "#46039f"
            ],
            [
             0.2222222222222222,
             "#7201a8"
            ],
            [
             0.3333333333333333,
             "#9c179e"
            ],
            [
             0.4444444444444444,
             "#bd3786"
            ],
            [
             0.5555555555555556,
             "#d8576b"
            ],
            [
             0.6666666666666666,
             "#ed7953"
            ],
            [
             0.7777777777777778,
             "#fb9f3a"
            ],
            [
             0.8888888888888888,
             "#fdca26"
            ],
            [
             1,
             "#f0f921"
            ]
           ]
          },
          "colorway": [
           "#636efa",
           "#EF553B",
           "#00cc96",
           "#ab63fa",
           "#FFA15A",
           "#19d3f3",
           "#FF6692",
           "#B6E880",
           "#FF97FF",
           "#FECB52"
          ],
          "font": {
           "color": "#2a3f5f"
          },
          "geo": {
           "bgcolor": "white",
           "lakecolor": "white",
           "landcolor": "#E5ECF6",
           "showlakes": true,
           "showland": true,
           "subunitcolor": "white"
          },
          "hoverlabel": {
           "align": "left"
          },
          "hovermode": "closest",
          "mapbox": {
           "style": "light"
          },
          "paper_bgcolor": "white",
          "plot_bgcolor": "#E5ECF6",
          "polar": {
           "angularaxis": {
            "gridcolor": "white",
            "linecolor": "white",
            "ticks": ""
           },
           "bgcolor": "#E5ECF6",
           "radialaxis": {
            "gridcolor": "white",
            "linecolor": "white",
            "ticks": ""
           }
          },
          "scene": {
           "xaxis": {
            "backgroundcolor": "#E5ECF6",
            "gridcolor": "white",
            "gridwidth": 2,
            "linecolor": "white",
            "showbackground": true,
            "ticks": "",
            "zerolinecolor": "white"
           },
           "yaxis": {
            "backgroundcolor": "#E5ECF6",
            "gridcolor": "white",
            "gridwidth": 2,
            "linecolor": "white",
            "showbackground": true,
            "ticks": "",
            "zerolinecolor": "white"
           },
           "zaxis": {
            "backgroundcolor": "#E5ECF6",
            "gridcolor": "white",
            "gridwidth": 2,
            "linecolor": "white",
            "showbackground": true,
            "ticks": "",
            "zerolinecolor": "white"
           }
          },
          "shapedefaults": {
           "line": {
            "color": "#2a3f5f"
           }
          },
          "ternary": {
           "aaxis": {
            "gridcolor": "white",
            "linecolor": "white",
            "ticks": ""
           },
           "baxis": {
            "gridcolor": "white",
            "linecolor": "white",
            "ticks": ""
           },
           "bgcolor": "#E5ECF6",
           "caxis": {
            "gridcolor": "white",
            "linecolor": "white",
            "ticks": ""
           }
          },
          "title": {
           "x": 0.05
          },
          "xaxis": {
           "automargin": true,
           "gridcolor": "white",
           "linecolor": "white",
           "ticks": "",
           "title": {
            "standoff": 15
           },
           "zerolinecolor": "white",
           "zerolinewidth": 2
          },
          "yaxis": {
           "automargin": true,
           "gridcolor": "white",
           "linecolor": "white",
           "ticks": "",
           "title": {
            "standoff": 15
           },
           "zerolinecolor": "white",
           "zerolinewidth": 2
          }
         }
        },
        "title": {
         "text": "Distribución de la esperanza de vida*<br><sup>(ordenados desde el más frecuente)</sup>"
        },
        "xaxis": {
         "dtick": 0.75,
         "tick0": 0.5,
         "tickmode": "linear",
         "title": {
          "text": "Esperanza de vida (años)"
         }
        },
        "yaxis": {
         "title": {
          "text": "Conteo de casos"
         }
        }
       }
      }
     },
     "metadata": {},
     "output_type": "display_data"
    }
   ],
   "source": [
    "pre_sanitized_distribution: go.Figure = go.Figure(go.Bar(\n",
    "    x=pre_sanitized_counts.index,\n",
    "    y=pre_sanitized_counts.values,\n",
    "    marker=dict(\n",
    "        color=pre_sanitized_counts.values,\n",
    "        colorscale='Viridis',\n",
    "        showscale=True,\n",
    "        colorbar=dict(title='Frecuencia')\n",
    "    ),\n",
    "    text=pre_sanitized_counts.values,\n",
    "    textposition='outside',\n",
    "    hovertemplate='<b>%{x} años:</b> %{y} casos <extra></extra>',\n",
    "))\n",
    "\n",
    "title: str = 'Distribución de la esperanza de vida*'\n",
    "subtitle: str = '<br><sup>(ordenados desde el más frecuente)</sup>'\n",
    "\n",
    "pre_sanitized_distribution.update_layout(\n",
    "    title=(title + subtitle),\n",
    "    xaxis_title='Esperanza de vida (años)',\n",
    "    yaxis_title='Conteo de casos',\n",
    "    xaxis = dict(\n",
    "        tickmode='linear',\n",
    "        tick0=0.5,\n",
    "        dtick=0.75\n",
    "    )\n",
    ")"
   ]
  },
  {
   "cell_type": "markdown",
   "id": "a9efa935",
   "metadata": {},
   "source": [
    "*Sin embargo, este gráfico es engañoso, y particularmente su dato más alto, ya que, por ejemplo, obvia las categorías de valor único que podrían estar dentro o fuera de ese rango.\n",
    "\n",
    "Por ende, bajo un análisis más profundo, representado en la columna `life_span_mean` (donde los rangos han sido transformados a sus correspondientes medias aritméticas), se da un empate de frecuencias entre una esperanza de vida de `13.5` años y otra de `13` años, con 31 registros encontrados para cada caso."
   ]
  },
  {
   "cell_type": "code",
   "execution_count": 90,
   "id": "fe526549",
   "metadata": {},
   "outputs": [
    {
     "data": {
      "application/vnd.plotly.v1+json": {
       "config": {
        "plotlyServerURL": "https://plot.ly"
       },
       "data": [
        {
         "hovertemplate": "<b>%{x} años:</b> %{y} casos <extra></extra>",
         "marker": {
          "color": [
           31,
           31,
           30,
           16,
           12,
           12,
           9,
           6,
           6,
           4,
           4,
           3,
           2,
           2,
           1,
           1,
           1,
           1
          ],
          "colorbar": {
           "title": {
            "text": "Frecuencia"
           }
          },
          "colorscale": [
           [
            0,
            "#440154"
           ],
           [
            0.1111111111111111,
            "#482878"
           ],
           [
            0.2222222222222222,
            "#3e4989"
           ],
           [
            0.3333333333333333,
            "#31688e"
           ],
           [
            0.4444444444444444,
            "#26828e"
           ],
           [
            0.5555555555555556,
            "#1f9e89"
           ],
           [
            0.6666666666666666,
            "#35b779"
           ],
           [
            0.7777777777777778,
            "#6ece58"
           ],
           [
            0.8888888888888888,
            "#b5de2b"
           ],
           [
            1,
            "#fde725"
           ]
          ],
          "showscale": true
         },
         "text": [
          31,
          31,
          30,
          16,
          12,
          12,
          9,
          6,
          6,
          4,
          4,
          3,
          2,
          2,
          1,
          1,
          1,
          1
         ],
         "textposition": "outside",
         "type": "bar",
         "x": [
          13.5,
          13,
          11,
          11.5,
          12,
          14,
          15,
          12.5,
          9,
          10,
          14.5,
          8.5,
          10.5,
          7,
          16.5,
          16,
          18,
          17.5
         ],
         "y": [
          31,
          31,
          30,
          16,
          12,
          12,
          9,
          6,
          6,
          4,
          4,
          3,
          2,
          2,
          1,
          1,
          1,
          1
         ]
        }
       ],
       "layout": {
        "template": {
         "data": {
          "bar": [
           {
            "error_x": {
             "color": "#2a3f5f"
            },
            "error_y": {
             "color": "#2a3f5f"
            },
            "marker": {
             "line": {
              "color": "#E5ECF6",
              "width": 0.5
             },
             "pattern": {
              "fillmode": "overlay",
              "size": 10,
              "solidity": 0.2
             }
            },
            "type": "bar"
           }
          ],
          "barpolar": [
           {
            "marker": {
             "line": {
              "color": "#E5ECF6",
              "width": 0.5
             },
             "pattern": {
              "fillmode": "overlay",
              "size": 10,
              "solidity": 0.2
             }
            },
            "type": "barpolar"
           }
          ],
          "carpet": [
           {
            "aaxis": {
             "endlinecolor": "#2a3f5f",
             "gridcolor": "white",
             "linecolor": "white",
             "minorgridcolor": "white",
             "startlinecolor": "#2a3f5f"
            },
            "baxis": {
             "endlinecolor": "#2a3f5f",
             "gridcolor": "white",
             "linecolor": "white",
             "minorgridcolor": "white",
             "startlinecolor": "#2a3f5f"
            },
            "type": "carpet"
           }
          ],
          "choropleth": [
           {
            "colorbar": {
             "outlinewidth": 0,
             "ticks": ""
            },
            "type": "choropleth"
           }
          ],
          "contour": [
           {
            "colorbar": {
             "outlinewidth": 0,
             "ticks": ""
            },
            "colorscale": [
             [
              0,
              "#0d0887"
             ],
             [
              0.1111111111111111,
              "#46039f"
             ],
             [
              0.2222222222222222,
              "#7201a8"
             ],
             [
              0.3333333333333333,
              "#9c179e"
             ],
             [
              0.4444444444444444,
              "#bd3786"
             ],
             [
              0.5555555555555556,
              "#d8576b"
             ],
             [
              0.6666666666666666,
              "#ed7953"
             ],
             [
              0.7777777777777778,
              "#fb9f3a"
             ],
             [
              0.8888888888888888,
              "#fdca26"
             ],
             [
              1,
              "#f0f921"
             ]
            ],
            "type": "contour"
           }
          ],
          "contourcarpet": [
           {
            "colorbar": {
             "outlinewidth": 0,
             "ticks": ""
            },
            "type": "contourcarpet"
           }
          ],
          "heatmap": [
           {
            "colorbar": {
             "outlinewidth": 0,
             "ticks": ""
            },
            "colorscale": [
             [
              0,
              "#0d0887"
             ],
             [
              0.1111111111111111,
              "#46039f"
             ],
             [
              0.2222222222222222,
              "#7201a8"
             ],
             [
              0.3333333333333333,
              "#9c179e"
             ],
             [
              0.4444444444444444,
              "#bd3786"
             ],
             [
              0.5555555555555556,
              "#d8576b"
             ],
             [
              0.6666666666666666,
              "#ed7953"
             ],
             [
              0.7777777777777778,
              "#fb9f3a"
             ],
             [
              0.8888888888888888,
              "#fdca26"
             ],
             [
              1,
              "#f0f921"
             ]
            ],
            "type": "heatmap"
           }
          ],
          "heatmapgl": [
           {
            "colorbar": {
             "outlinewidth": 0,
             "ticks": ""
            },
            "colorscale": [
             [
              0,
              "#0d0887"
             ],
             [
              0.1111111111111111,
              "#46039f"
             ],
             [
              0.2222222222222222,
              "#7201a8"
             ],
             [
              0.3333333333333333,
              "#9c179e"
             ],
             [
              0.4444444444444444,
              "#bd3786"
             ],
             [
              0.5555555555555556,
              "#d8576b"
             ],
             [
              0.6666666666666666,
              "#ed7953"
             ],
             [
              0.7777777777777778,
              "#fb9f3a"
             ],
             [
              0.8888888888888888,
              "#fdca26"
             ],
             [
              1,
              "#f0f921"
             ]
            ],
            "type": "heatmapgl"
           }
          ],
          "histogram": [
           {
            "marker": {
             "pattern": {
              "fillmode": "overlay",
              "size": 10,
              "solidity": 0.2
             }
            },
            "type": "histogram"
           }
          ],
          "histogram2d": [
           {
            "colorbar": {
             "outlinewidth": 0,
             "ticks": ""
            },
            "colorscale": [
             [
              0,
              "#0d0887"
             ],
             [
              0.1111111111111111,
              "#46039f"
             ],
             [
              0.2222222222222222,
              "#7201a8"
             ],
             [
              0.3333333333333333,
              "#9c179e"
             ],
             [
              0.4444444444444444,
              "#bd3786"
             ],
             [
              0.5555555555555556,
              "#d8576b"
             ],
             [
              0.6666666666666666,
              "#ed7953"
             ],
             [
              0.7777777777777778,
              "#fb9f3a"
             ],
             [
              0.8888888888888888,
              "#fdca26"
             ],
             [
              1,
              "#f0f921"
             ]
            ],
            "type": "histogram2d"
           }
          ],
          "histogram2dcontour": [
           {
            "colorbar": {
             "outlinewidth": 0,
             "ticks": ""
            },
            "colorscale": [
             [
              0,
              "#0d0887"
             ],
             [
              0.1111111111111111,
              "#46039f"
             ],
             [
              0.2222222222222222,
              "#7201a8"
             ],
             [
              0.3333333333333333,
              "#9c179e"
             ],
             [
              0.4444444444444444,
              "#bd3786"
             ],
             [
              0.5555555555555556,
              "#d8576b"
             ],
             [
              0.6666666666666666,
              "#ed7953"
             ],
             [
              0.7777777777777778,
              "#fb9f3a"
             ],
             [
              0.8888888888888888,
              "#fdca26"
             ],
             [
              1,
              "#f0f921"
             ]
            ],
            "type": "histogram2dcontour"
           }
          ],
          "mesh3d": [
           {
            "colorbar": {
             "outlinewidth": 0,
             "ticks": ""
            },
            "type": "mesh3d"
           }
          ],
          "parcoords": [
           {
            "line": {
             "colorbar": {
              "outlinewidth": 0,
              "ticks": ""
             }
            },
            "type": "parcoords"
           }
          ],
          "pie": [
           {
            "automargin": true,
            "type": "pie"
           }
          ],
          "scatter": [
           {
            "fillpattern": {
             "fillmode": "overlay",
             "size": 10,
             "solidity": 0.2
            },
            "type": "scatter"
           }
          ],
          "scatter3d": [
           {
            "line": {
             "colorbar": {
              "outlinewidth": 0,
              "ticks": ""
             }
            },
            "marker": {
             "colorbar": {
              "outlinewidth": 0,
              "ticks": ""
             }
            },
            "type": "scatter3d"
           }
          ],
          "scattercarpet": [
           {
            "marker": {
             "colorbar": {
              "outlinewidth": 0,
              "ticks": ""
             }
            },
            "type": "scattercarpet"
           }
          ],
          "scattergeo": [
           {
            "marker": {
             "colorbar": {
              "outlinewidth": 0,
              "ticks": ""
             }
            },
            "type": "scattergeo"
           }
          ],
          "scattergl": [
           {
            "marker": {
             "colorbar": {
              "outlinewidth": 0,
              "ticks": ""
             }
            },
            "type": "scattergl"
           }
          ],
          "scattermapbox": [
           {
            "marker": {
             "colorbar": {
              "outlinewidth": 0,
              "ticks": ""
             }
            },
            "type": "scattermapbox"
           }
          ],
          "scatterpolar": [
           {
            "marker": {
             "colorbar": {
              "outlinewidth": 0,
              "ticks": ""
             }
            },
            "type": "scatterpolar"
           }
          ],
          "scatterpolargl": [
           {
            "marker": {
             "colorbar": {
              "outlinewidth": 0,
              "ticks": ""
             }
            },
            "type": "scatterpolargl"
           }
          ],
          "scatterternary": [
           {
            "marker": {
             "colorbar": {
              "outlinewidth": 0,
              "ticks": ""
             }
            },
            "type": "scatterternary"
           }
          ],
          "surface": [
           {
            "colorbar": {
             "outlinewidth": 0,
             "ticks": ""
            },
            "colorscale": [
             [
              0,
              "#0d0887"
             ],
             [
              0.1111111111111111,
              "#46039f"
             ],
             [
              0.2222222222222222,
              "#7201a8"
             ],
             [
              0.3333333333333333,
              "#9c179e"
             ],
             [
              0.4444444444444444,
              "#bd3786"
             ],
             [
              0.5555555555555556,
              "#d8576b"
             ],
             [
              0.6666666666666666,
              "#ed7953"
             ],
             [
              0.7777777777777778,
              "#fb9f3a"
             ],
             [
              0.8888888888888888,
              "#fdca26"
             ],
             [
              1,
              "#f0f921"
             ]
            ],
            "type": "surface"
           }
          ],
          "table": [
           {
            "cells": {
             "fill": {
              "color": "#EBF0F8"
             },
             "line": {
              "color": "white"
             }
            },
            "header": {
             "fill": {
              "color": "#C8D4E3"
             },
             "line": {
              "color": "white"
             }
            },
            "type": "table"
           }
          ]
         },
         "layout": {
          "annotationdefaults": {
           "arrowcolor": "#2a3f5f",
           "arrowhead": 0,
           "arrowwidth": 1
          },
          "autotypenumbers": "strict",
          "coloraxis": {
           "colorbar": {
            "outlinewidth": 0,
            "ticks": ""
           }
          },
          "colorscale": {
           "diverging": [
            [
             0,
             "#8e0152"
            ],
            [
             0.1,
             "#c51b7d"
            ],
            [
             0.2,
             "#de77ae"
            ],
            [
             0.3,
             "#f1b6da"
            ],
            [
             0.4,
             "#fde0ef"
            ],
            [
             0.5,
             "#f7f7f7"
            ],
            [
             0.6,
             "#e6f5d0"
            ],
            [
             0.7,
             "#b8e186"
            ],
            [
             0.8,
             "#7fbc41"
            ],
            [
             0.9,
             "#4d9221"
            ],
            [
             1,
             "#276419"
            ]
           ],
           "sequential": [
            [
             0,
             "#0d0887"
            ],
            [
             0.1111111111111111,
             "#46039f"
            ],
            [
             0.2222222222222222,
             "#7201a8"
            ],
            [
             0.3333333333333333,
             "#9c179e"
            ],
            [
             0.4444444444444444,
             "#bd3786"
            ],
            [
             0.5555555555555556,
             "#d8576b"
            ],
            [
             0.6666666666666666,
             "#ed7953"
            ],
            [
             0.7777777777777778,
             "#fb9f3a"
            ],
            [
             0.8888888888888888,
             "#fdca26"
            ],
            [
             1,
             "#f0f921"
            ]
           ],
           "sequentialminus": [
            [
             0,
             "#0d0887"
            ],
            [
             0.1111111111111111,
             "#46039f"
            ],
            [
             0.2222222222222222,
             "#7201a8"
            ],
            [
             0.3333333333333333,
             "#9c179e"
            ],
            [
             0.4444444444444444,
             "#bd3786"
            ],
            [
             0.5555555555555556,
             "#d8576b"
            ],
            [
             0.6666666666666666,
             "#ed7953"
            ],
            [
             0.7777777777777778,
             "#fb9f3a"
            ],
            [
             0.8888888888888888,
             "#fdca26"
            ],
            [
             1,
             "#f0f921"
            ]
           ]
          },
          "colorway": [
           "#636efa",
           "#EF553B",
           "#00cc96",
           "#ab63fa",
           "#FFA15A",
           "#19d3f3",
           "#FF6692",
           "#B6E880",
           "#FF97FF",
           "#FECB52"
          ],
          "font": {
           "color": "#2a3f5f"
          },
          "geo": {
           "bgcolor": "white",
           "lakecolor": "white",
           "landcolor": "#E5ECF6",
           "showlakes": true,
           "showland": true,
           "subunitcolor": "white"
          },
          "hoverlabel": {
           "align": "left"
          },
          "hovermode": "closest",
          "mapbox": {
           "style": "light"
          },
          "paper_bgcolor": "white",
          "plot_bgcolor": "#E5ECF6",
          "polar": {
           "angularaxis": {
            "gridcolor": "white",
            "linecolor": "white",
            "ticks": ""
           },
           "bgcolor": "#E5ECF6",
           "radialaxis": {
            "gridcolor": "white",
            "linecolor": "white",
            "ticks": ""
           }
          },
          "scene": {
           "xaxis": {
            "backgroundcolor": "#E5ECF6",
            "gridcolor": "white",
            "gridwidth": 2,
            "linecolor": "white",
            "showbackground": true,
            "ticks": "",
            "zerolinecolor": "white"
           },
           "yaxis": {
            "backgroundcolor": "#E5ECF6",
            "gridcolor": "white",
            "gridwidth": 2,
            "linecolor": "white",
            "showbackground": true,
            "ticks": "",
            "zerolinecolor": "white"
           },
           "zaxis": {
            "backgroundcolor": "#E5ECF6",
            "gridcolor": "white",
            "gridwidth": 2,
            "linecolor": "white",
            "showbackground": true,
            "ticks": "",
            "zerolinecolor": "white"
           }
          },
          "shapedefaults": {
           "line": {
            "color": "#2a3f5f"
           }
          },
          "ternary": {
           "aaxis": {
            "gridcolor": "white",
            "linecolor": "white",
            "ticks": ""
           },
           "baxis": {
            "gridcolor": "white",
            "linecolor": "white",
            "ticks": ""
           },
           "bgcolor": "#E5ECF6",
           "caxis": {
            "gridcolor": "white",
            "linecolor": "white",
            "ticks": ""
           }
          },
          "title": {
           "x": 0.05
          },
          "xaxis": {
           "automargin": true,
           "gridcolor": "white",
           "linecolor": "white",
           "ticks": "",
           "title": {
            "standoff": 15
           },
           "zerolinecolor": "white",
           "zerolinewidth": 2
          },
          "yaxis": {
           "automargin": true,
           "gridcolor": "white",
           "linecolor": "white",
           "ticks": "",
           "title": {
            "standoff": 15
           },
           "zerolinecolor": "white",
           "zerolinewidth": 2
          }
         }
        },
        "title": {
         "text": "Distribución de la esperanza de vida"
        },
        "xaxis": {
         "dtick": 0.5,
         "tickmode": "linear",
         "title": {
          "text": "Esperanza de vida (años)"
         }
        },
        "yaxis": {
         "title": {
          "text": "Conteo de casos"
         }
        }
       }
      }
     },
     "metadata": {},
     "output_type": "display_data"
    }
   ],
   "source": [
    "sanitized_distribution: go.Figure = go.Figure(go.Bar(\n",
    "    x=sanitized_counts.index,\n",
    "    y=sanitized_counts.values,\n",
    "    marker=dict(\n",
    "        color=sanitized_counts.values,\n",
    "        colorscale='Viridis',\n",
    "        showscale=True,\n",
    "        colorbar=dict(title='Frecuencia')\n",
    "    ),\n",
    "    text=sanitized_counts.values,\n",
    "    textposition='outside',\n",
    "    hovertemplate='<b>%{x} años:</b> %{y} casos <extra></extra>',\n",
    "))\n",
    "\n",
    "sanitized_distribution.update_layout(\n",
    "    title='Distribución de la esperanza de vida',\n",
    "    xaxis_title='Esperanza de vida (años)',\n",
    "    yaxis_title='Conteo de casos',\n",
    "    xaxis=dict(\n",
    "        tickmode='linear',\n",
    "        dtick=0.5\n",
    "    )\n",
    ")"
   ]
  },
  {
   "cell_type": "markdown",
   "id": "47d5a206",
   "metadata": {},
   "source": [
    "De esta manera, y simplificando aún más (promediando los valores del empate), se podría declarar que la esperanza de vida (en años) más frecuente entre todas las razas de perro, según los datos, se encuentra alrededor de los **13,25 años** (o lo que es lo mismo: 13 años y 3 meses)."
   ]
  }
 ],
 "metadata": {
  "kernelspec": {
   "display_name": "base",
   "language": "python",
   "name": "python3"
  },
  "language_info": {
   "codemirror_mode": {
    "name": "ipython",
    "version": 3
   },
   "file_extension": ".py",
   "mimetype": "text/x-python",
   "name": "python",
   "nbconvert_exporter": "python",
   "pygments_lexer": "ipython3",
   "version": "3.12.4"
  }
 },
 "nbformat": 4,
 "nbformat_minor": 5
}
