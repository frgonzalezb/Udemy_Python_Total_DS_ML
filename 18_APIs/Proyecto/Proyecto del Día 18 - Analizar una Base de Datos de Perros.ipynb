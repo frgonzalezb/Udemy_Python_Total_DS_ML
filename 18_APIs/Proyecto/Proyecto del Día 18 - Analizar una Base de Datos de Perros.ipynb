{
 "cells": [
  {
   "cell_type": "markdown",
   "id": "5e2326e5",
   "metadata": {},
   "source": [
    "# Proyecto del Día 18 - Analizar una Base de Datos de Perros\n",
    "\n",
    "Hoy vamos a realizar un proyecto muy entretenido, que consiste en conseguir un dataset sobre razas de perros, que se encuentra alojada en el sitio [The Dog Api](https://thedogapi.com/).\n",
    "\n",
    "Tu misión consiste en lograr obtener un dataset que contiene información sobre razas de perro (\"breeds\"), y crear visualizaciones que permitan responder algunas preguntas sobre la **expectativa de vida**, y el **temperamento** más frecuente entre todas las **razas**.\n",
    "\n",
    "\n",
    "### Preguntas a responder\n",
    "1. ¿Cuál es la esperanza de vida (en años) más frecuente entre todas las razas de perro?\n",
    "2. ¿Cuál es el temperamento más frecuente entre todas las razas de perros?\n",
    "\n",
    "\n",
    "### Pasos sugeridos para llegar hasta la respuesta\n",
    "1. Descarga las **librerías** necesarias.\n",
    "2. Explora el sitio [https://thedogapi.com/](https://thedogapi.com/) para identificar dónde y cómo se describe el funcionamiento de su API. Identifica la **API específica** con información sobre **razas** (\"breeds\"). Una vez que lo hagas, implementa la API y guarda esos datos en un **DataFrame** de Pandas.\n",
    "*Nota: como todo sitio nuevo al que enfrentes, deberás resolver desafíos particulares. En este caso presta atención a las instrucciones que mencionan algo sobre cómo usar los mismos protocolos que se utilizan en la API de gatos de la misma organización*.\n",
    "3. Realiza un **análisis exploratorio** para conocer la estrucutra y calidad de tus datos.\n",
    "4. Implementa la **limpieza de datos** que consideres necesaria.\n",
    "5. Crea los **gráficos** que creas necesarios para poder visualizar con claridad la respuesta a las preguntas.\n",
    "\n",
    "Te deseo mucho aprendizaje, pero sobre todo, mucha diversión.\n",
    "¡Adelante!"
   ]
  },
  {
   "cell_type": "markdown",
   "id": "4b889bf7",
   "metadata": {},
   "source": [
    "## Primeras acciones exploratorias"
   ]
  },
  {
   "cell_type": "code",
   "execution_count": 1,
   "id": "fe6517f6",
   "metadata": {},
   "outputs": [],
   "source": [
    "import os\n",
    "import requests\n",
    "from typing import Any\n",
    "\n",
    "import pandas as pd\n",
    "import matplotlib.pyplot as plt\n",
    "\n",
    "from dotenv import load_dotenv"
   ]
  },
  {
   "cell_type": "code",
   "execution_count": 2,
   "id": "4797ce82",
   "metadata": {},
   "outputs": [
    {
     "data": {
      "text/plain": [
       "True"
      ]
     },
     "execution_count": 2,
     "metadata": {},
     "output_type": "execute_result"
    }
   ],
   "source": [
    "load_dotenv('.env')"
   ]
  },
  {
   "cell_type": "code",
   "execution_count": 3,
   "id": "2698fa81",
   "metadata": {},
   "outputs": [],
   "source": [
    "API_KEY: str = os.environ['API_KEY']"
   ]
  },
  {
   "cell_type": "code",
   "execution_count": 4,
   "id": "95dca032",
   "metadata": {},
   "outputs": [],
   "source": [
    "api_reference: str = 'api.thedogapi.com'\n",
    "base_url: str = f'https://{api_reference}/v1/breeds'\n",
    "params: dict[str, str] = {'api_key': API_KEY}"
   ]
  },
  {
   "cell_type": "code",
   "execution_count": 11,
   "id": "a25be603",
   "metadata": {},
   "outputs": [
    {
     "data": {
      "text/html": [
       "<div>\n",
       "<style scoped>\n",
       "    .dataframe tbody tr th:only-of-type {\n",
       "        vertical-align: middle;\n",
       "    }\n",
       "\n",
       "    .dataframe tbody tr th {\n",
       "        vertical-align: top;\n",
       "    }\n",
       "\n",
       "    .dataframe thead th {\n",
       "        text-align: right;\n",
       "    }\n",
       "</style>\n",
       "<table border=\"1\" class=\"dataframe\">\n",
       "  <thead>\n",
       "    <tr style=\"text-align: right;\">\n",
       "      <th></th>\n",
       "      <th>weight</th>\n",
       "      <th>height</th>\n",
       "      <th>id</th>\n",
       "      <th>name</th>\n",
       "      <th>bred_for</th>\n",
       "      <th>breed_group</th>\n",
       "      <th>life_span</th>\n",
       "      <th>temperament</th>\n",
       "      <th>origin</th>\n",
       "      <th>reference_image_id</th>\n",
       "      <th>image</th>\n",
       "      <th>country_code</th>\n",
       "      <th>description</th>\n",
       "      <th>history</th>\n",
       "    </tr>\n",
       "  </thead>\n",
       "  <tbody>\n",
       "    <tr>\n",
       "      <th>0</th>\n",
       "      <td>{'imperial': '6 - 13', 'metric': '3 - 6'}</td>\n",
       "      <td>{'imperial': '9 - 11.5', 'metric': '23 - 29'}</td>\n",
       "      <td>1</td>\n",
       "      <td>Affenpinscher</td>\n",
       "      <td>Small rodent hunting, lapdog</td>\n",
       "      <td>Toy</td>\n",
       "      <td>10 - 12 years</td>\n",
       "      <td>Stubborn, Curious, Playful, Adventurous, Activ...</td>\n",
       "      <td>Germany, France</td>\n",
       "      <td>BJa4kxc4X</td>\n",
       "      <td>{'id': 'BJa4kxc4X', 'width': 1600, 'height': 1...</td>\n",
       "      <td>NaN</td>\n",
       "      <td>NaN</td>\n",
       "      <td>NaN</td>\n",
       "    </tr>\n",
       "    <tr>\n",
       "      <th>1</th>\n",
       "      <td>{'imperial': '50 - 60', 'metric': '23 - 27'}</td>\n",
       "      <td>{'imperial': '25 - 27', 'metric': '64 - 69'}</td>\n",
       "      <td>2</td>\n",
       "      <td>Afghan Hound</td>\n",
       "      <td>Coursing and hunting</td>\n",
       "      <td>Hound</td>\n",
       "      <td>10 - 13 years</td>\n",
       "      <td>Aloof, Clownish, Dignified, Independent, Happy</td>\n",
       "      <td>Afghanistan, Iran, Pakistan</td>\n",
       "      <td>hMyT4CDXR</td>\n",
       "      <td>{'id': 'hMyT4CDXR', 'width': 606, 'height': 38...</td>\n",
       "      <td>AG</td>\n",
       "      <td>NaN</td>\n",
       "      <td>NaN</td>\n",
       "    </tr>\n",
       "    <tr>\n",
       "      <th>2</th>\n",
       "      <td>{'imperial': '44 - 66', 'metric': '20 - 30'}</td>\n",
       "      <td>{'imperial': '30', 'metric': '76'}</td>\n",
       "      <td>3</td>\n",
       "      <td>African Hunting Dog</td>\n",
       "      <td>A wild pack animal</td>\n",
       "      <td>NaN</td>\n",
       "      <td>11 years</td>\n",
       "      <td>Wild, Hardworking, Dutiful</td>\n",
       "      <td></td>\n",
       "      <td>rkiByec47</td>\n",
       "      <td>{'id': 'rkiByec47', 'width': 500, 'height': 33...</td>\n",
       "      <td>NaN</td>\n",
       "      <td>NaN</td>\n",
       "      <td>NaN</td>\n",
       "    </tr>\n",
       "    <tr>\n",
       "      <th>3</th>\n",
       "      <td>{'imperial': '40 - 65', 'metric': '18 - 29'}</td>\n",
       "      <td>{'imperial': '21 - 23', 'metric': '53 - 58'}</td>\n",
       "      <td>4</td>\n",
       "      <td>Airedale Terrier</td>\n",
       "      <td>Badger, otter hunting</td>\n",
       "      <td>Terrier</td>\n",
       "      <td>10 - 13 years</td>\n",
       "      <td>Outgoing, Friendly, Alert, Confident, Intellig...</td>\n",
       "      <td>United Kingdom, England</td>\n",
       "      <td>1-7cgoZSh</td>\n",
       "      <td>{'id': '1-7cgoZSh', 'width': 645, 'height': 43...</td>\n",
       "      <td>NaN</td>\n",
       "      <td>NaN</td>\n",
       "      <td>NaN</td>\n",
       "    </tr>\n",
       "    <tr>\n",
       "      <th>4</th>\n",
       "      <td>{'imperial': '90 - 120', 'metric': '41 - 54'}</td>\n",
       "      <td>{'imperial': '28 - 34', 'metric': '71 - 86'}</td>\n",
       "      <td>5</td>\n",
       "      <td>Akbash Dog</td>\n",
       "      <td>Sheep guarding</td>\n",
       "      <td>Working</td>\n",
       "      <td>10 - 12 years</td>\n",
       "      <td>Loyal, Independent, Intelligent, Brave</td>\n",
       "      <td></td>\n",
       "      <td>26pHT3Qk7</td>\n",
       "      <td>{'id': '26pHT3Qk7', 'width': 600, 'height': 47...</td>\n",
       "      <td>NaN</td>\n",
       "      <td>NaN</td>\n",
       "      <td>NaN</td>\n",
       "    </tr>\n",
       "  </tbody>\n",
       "</table>\n",
       "</div>"
      ],
      "text/plain": [
       "                                          weight  \\\n",
       "0      {'imperial': '6 - 13', 'metric': '3 - 6'}   \n",
       "1   {'imperial': '50 - 60', 'metric': '23 - 27'}   \n",
       "2   {'imperial': '44 - 66', 'metric': '20 - 30'}   \n",
       "3   {'imperial': '40 - 65', 'metric': '18 - 29'}   \n",
       "4  {'imperial': '90 - 120', 'metric': '41 - 54'}   \n",
       "\n",
       "                                          height  id                 name  \\\n",
       "0  {'imperial': '9 - 11.5', 'metric': '23 - 29'}   1        Affenpinscher   \n",
       "1   {'imperial': '25 - 27', 'metric': '64 - 69'}   2         Afghan Hound   \n",
       "2             {'imperial': '30', 'metric': '76'}   3  African Hunting Dog   \n",
       "3   {'imperial': '21 - 23', 'metric': '53 - 58'}   4     Airedale Terrier   \n",
       "4   {'imperial': '28 - 34', 'metric': '71 - 86'}   5           Akbash Dog   \n",
       "\n",
       "                       bred_for breed_group      life_span  \\\n",
       "0  Small rodent hunting, lapdog         Toy  10 - 12 years   \n",
       "1          Coursing and hunting       Hound  10 - 13 years   \n",
       "2            A wild pack animal         NaN       11 years   \n",
       "3         Badger, otter hunting     Terrier  10 - 13 years   \n",
       "4                Sheep guarding     Working  10 - 12 years   \n",
       "\n",
       "                                         temperament  \\\n",
       "0  Stubborn, Curious, Playful, Adventurous, Activ...   \n",
       "1     Aloof, Clownish, Dignified, Independent, Happy   \n",
       "2                         Wild, Hardworking, Dutiful   \n",
       "3  Outgoing, Friendly, Alert, Confident, Intellig...   \n",
       "4             Loyal, Independent, Intelligent, Brave   \n",
       "\n",
       "                        origin reference_image_id  \\\n",
       "0              Germany, France          BJa4kxc4X   \n",
       "1  Afghanistan, Iran, Pakistan          hMyT4CDXR   \n",
       "2                                       rkiByec47   \n",
       "3      United Kingdom, England          1-7cgoZSh   \n",
       "4                                       26pHT3Qk7   \n",
       "\n",
       "                                               image country_code description  \\\n",
       "0  {'id': 'BJa4kxc4X', 'width': 1600, 'height': 1...          NaN         NaN   \n",
       "1  {'id': 'hMyT4CDXR', 'width': 606, 'height': 38...           AG         NaN   \n",
       "2  {'id': 'rkiByec47', 'width': 500, 'height': 33...          NaN         NaN   \n",
       "3  {'id': '1-7cgoZSh', 'width': 645, 'height': 43...          NaN         NaN   \n",
       "4  {'id': '26pHT3Qk7', 'width': 600, 'height': 47...          NaN         NaN   \n",
       "\n",
       "  history  \n",
       "0     NaN  \n",
       "1     NaN  \n",
       "2     NaN  \n",
       "3     NaN  \n",
       "4     NaN  "
      ]
     },
     "execution_count": 11,
     "metadata": {},
     "output_type": "execute_result"
    }
   ],
   "source": [
    "response: requests.Response = requests.get(base_url, params=params)\n",
    "data: list[dict[str, Any]] = response.json()\n",
    "df: pd.DataFrame = pd.DataFrame(data)\n",
    "df.head()"
   ]
  },
  {
   "cell_type": "code",
   "execution_count": 12,
   "id": "0b94c7e3",
   "metadata": {},
   "outputs": [
    {
     "name": "stdout",
     "output_type": "stream",
     "text": [
      "<class 'pandas.core.frame.DataFrame'>\n",
      "RangeIndex: 172 entries, 0 to 171\n",
      "Data columns (total 14 columns):\n",
      " #   Column              Non-Null Count  Dtype \n",
      "---  ------              --------------  ----- \n",
      " 0   weight              172 non-null    object\n",
      " 1   height              172 non-null    object\n",
      " 2   id                  172 non-null    int64 \n",
      " 3   name                172 non-null    object\n",
      " 4   bred_for            151 non-null    object\n",
      " 5   breed_group         156 non-null    object\n",
      " 6   life_span           172 non-null    object\n",
      " 7   temperament         168 non-null    object\n",
      " 8   origin              5 non-null      object\n",
      " 9   reference_image_id  172 non-null    object\n",
      " 10  image               172 non-null    object\n",
      " 11  country_code        12 non-null     object\n",
      " 12  description         1 non-null      object\n",
      " 13  history             2 non-null      object\n",
      "dtypes: int64(1), object(13)\n",
      "memory usage: 18.9+ KB\n"
     ]
    }
   ],
   "source": [
    "df.info()"
   ]
  },
  {
   "cell_type": "markdown",
   "id": "52d12628",
   "metadata": {},
   "source": [
    "## Limpieza de datos"
   ]
  },
  {
   "cell_type": "markdown",
   "id": "8a66071e",
   "metadata": {},
   "source": [
    "Evidentemente, **una limpieza de los datos es necesaria**. Sólo las columnas `weight`, `height`, `id`, `name`, `life_span`, `reference_image_id`, e `image` están completas. Las demás poseen una cantidad variable de nulos, siendo peor en `description`, `history`, y `origin`. En particular, la necesaria columna `temperament` posee 4 nulos.\n",
    "\n",
    "Desgraciadamente, al contener estas columnas problemáticas valores de tipo `object`, que son _no numéricos_, no hay forma sencilla de otorgarles valores de reemplazo que sean razonables. Por esto, con el fin de responder a las dos preguntas que guían este proyecto, intentaremos lo siguiente:\n",
    "\n",
    "1. Crear un nuevo `DataFrame` que contenga sólo las columnas necesarias para responder a las preguntas de investigación.\n",
    "\n",
    "2. Obviar los 4 registros cuyos valores en la columna `temperament` son nulos.\n",
    "\n",
    "3. Eliminar posibles registros duplicados con `drop_duplicates()`."
   ]
  },
  {
   "cell_type": "code",
   "execution_count": null,
   "id": "2b64d460",
   "metadata": {},
   "outputs": [
    {
     "data": {
      "text/html": [
       "<div>\n",
       "<style scoped>\n",
       "    .dataframe tbody tr th:only-of-type {\n",
       "        vertical-align: middle;\n",
       "    }\n",
       "\n",
       "    .dataframe tbody tr th {\n",
       "        vertical-align: top;\n",
       "    }\n",
       "\n",
       "    .dataframe thead th {\n",
       "        text-align: right;\n",
       "    }\n",
       "</style>\n",
       "<table border=\"1\" class=\"dataframe\">\n",
       "  <thead>\n",
       "    <tr style=\"text-align: right;\">\n",
       "      <th></th>\n",
       "      <th>id</th>\n",
       "      <th>name</th>\n",
       "      <th>life_span</th>\n",
       "      <th>temperament</th>\n",
       "    </tr>\n",
       "  </thead>\n",
       "  <tbody>\n",
       "    <tr>\n",
       "      <th>0</th>\n",
       "      <td>1</td>\n",
       "      <td>Affenpinscher</td>\n",
       "      <td>10 - 12 years</td>\n",
       "      <td>Stubborn, Curious, Playful, Adventurous, Activ...</td>\n",
       "    </tr>\n",
       "    <tr>\n",
       "      <th>1</th>\n",
       "      <td>2</td>\n",
       "      <td>Afghan Hound</td>\n",
       "      <td>10 - 13 years</td>\n",
       "      <td>Aloof, Clownish, Dignified, Independent, Happy</td>\n",
       "    </tr>\n",
       "    <tr>\n",
       "      <th>2</th>\n",
       "      <td>3</td>\n",
       "      <td>African Hunting Dog</td>\n",
       "      <td>11 years</td>\n",
       "      <td>Wild, Hardworking, Dutiful</td>\n",
       "    </tr>\n",
       "    <tr>\n",
       "      <th>3</th>\n",
       "      <td>4</td>\n",
       "      <td>Airedale Terrier</td>\n",
       "      <td>10 - 13 years</td>\n",
       "      <td>Outgoing, Friendly, Alert, Confident, Intellig...</td>\n",
       "    </tr>\n",
       "    <tr>\n",
       "      <th>4</th>\n",
       "      <td>5</td>\n",
       "      <td>Akbash Dog</td>\n",
       "      <td>10 - 12 years</td>\n",
       "      <td>Loyal, Independent, Intelligent, Brave</td>\n",
       "    </tr>\n",
       "  </tbody>\n",
       "</table>\n",
       "</div>"
      ],
      "text/plain": [
       "   id                 name      life_span  \\\n",
       "0   1        Affenpinscher  10 - 12 years   \n",
       "1   2         Afghan Hound  10 - 13 years   \n",
       "2   3  African Hunting Dog       11 years   \n",
       "3   4     Airedale Terrier  10 - 13 years   \n",
       "4   5           Akbash Dog  10 - 12 years   \n",
       "\n",
       "                                         temperament  \n",
       "0  Stubborn, Curious, Playful, Adventurous, Activ...  \n",
       "1     Aloof, Clownish, Dignified, Independent, Happy  \n",
       "2                         Wild, Hardworking, Dutiful  \n",
       "3  Outgoing, Friendly, Alert, Confident, Intellig...  \n",
       "4             Loyal, Independent, Intelligent, Brave  "
      ]
     },
     "execution_count": 13,
     "metadata": {},
     "output_type": "execute_result"
    }
   ],
   "source": [
    "# Paso 1\n",
    "pesky_columns: list[str] = [\n",
    "    'weight',\n",
    "    'height',\n",
    "    'bred_for',\n",
    "    'breed_group',\n",
    "    'origin',\n",
    "    'reference_image_id',\n",
    "    'image',\n",
    "    'country_code',\n",
    "    'description',\n",
    "    'history'\n",
    "]\n",
    "\n",
    "clean_df: pd.DataFrame = pd.DataFrame(\n",
    "    df.drop(pesky_columns, axis=1)\n",
    ")\n",
    "clean_df.head()"
   ]
  },
  {
   "cell_type": "code",
   "execution_count": 14,
   "id": "631fd178",
   "metadata": {},
   "outputs": [
    {
     "name": "stdout",
     "output_type": "stream",
     "text": [
      "<class 'pandas.core.frame.DataFrame'>\n",
      "RangeIndex: 172 entries, 0 to 171\n",
      "Data columns (total 4 columns):\n",
      " #   Column       Non-Null Count  Dtype \n",
      "---  ------       --------------  ----- \n",
      " 0   id           172 non-null    int64 \n",
      " 1   name         172 non-null    object\n",
      " 2   life_span    172 non-null    object\n",
      " 3   temperament  168 non-null    object\n",
      "dtypes: int64(1), object(3)\n",
      "memory usage: 5.5+ KB\n"
     ]
    }
   ],
   "source": [
    "clean_df.info()"
   ]
  },
  {
   "cell_type": "code",
   "execution_count": 15,
   "id": "ed20d54f",
   "metadata": {},
   "outputs": [
    {
     "name": "stdout",
     "output_type": "stream",
     "text": [
      "<class 'pandas.core.frame.DataFrame'>\n",
      "Index: 168 entries, 0 to 171\n",
      "Data columns (total 4 columns):\n",
      " #   Column       Non-Null Count  Dtype \n",
      "---  ------       --------------  ----- \n",
      " 0   id           168 non-null    int64 \n",
      " 1   name         168 non-null    object\n",
      " 2   life_span    168 non-null    object\n",
      " 3   temperament  168 non-null    object\n",
      "dtypes: int64(1), object(3)\n",
      "memory usage: 6.6+ KB\n"
     ]
    }
   ],
   "source": [
    "# Paso 2\n",
    "clean_df = clean_df.dropna()\n",
    "clean_df.info()"
   ]
  },
  {
   "cell_type": "markdown",
   "id": "c6ff8237",
   "metadata": {},
   "source": [
    "Posterior a esta sanitización urgente, debemos resolver el problema de tipado y contenido de la columna `life_span`, la cual es de tipo texto y parece mostrar la esperanza de vida mayormente en rangos, no en números exactos. Hay dos opciones:\n",
    "\n",
    "1. Hemos de transformarla al tipo correcto (numérico) y transformar los rangos en promedios, para que sean posibles de computar en la generación de gráficos.\n",
    "\n",
    "2. Generar una columna aparte _ad hoc_ con los promedios de esperanza de vida, conservando `life_span` como fuente de etiquetas para los gráficos."
   ]
  },
  {
   "cell_type": "code",
   "execution_count": 17,
   "id": "71e3e507",
   "metadata": {},
   "outputs": [
    {
     "data": {
      "text/plain": [
       "life_span\n",
       "10 - 12 years          28\n",
       "12 - 15 years          28\n",
       "12 - 14 years          26\n",
       "10 - 13 years          12\n",
       "10 - 14 years           7\n",
       "8 - 10 years            6\n",
       "12 - 16 years           5\n",
       "15 years                5\n",
       "7 - 10 years            3\n",
       "11 - 13 years           3\n",
       "13 - 15 years           3\n",
       "6 - 8 years             2\n",
       "12 years                2\n",
       "10 years                2\n",
       "10 - 11 years           2\n",
       "14 - 15 years           2\n",
       "13 - 16 years           2\n",
       "14 - 16 years           2\n",
       "12 – 14 years           2\n",
       "10 - 15 years           2\n",
       "13 – 15 years           2\n",
       "12 - 13 years           2\n",
       "9 – 14 years            2\n",
       "15 - 18 years           1\n",
       "12 - 18 years           1\n",
       "10 - 18 years           1\n",
       "12 - 16 Years years     1\n",
       "14 - 18 years           1\n",
       "13 - 17 years           1\n",
       "15 - 20 years           1\n",
       "8 - 12 years            1\n",
       "12 – 15 years           1\n",
       "10 – 16 years           1\n",
       "10 – 15 years           1\n",
       "9 - 11 years            1\n",
       "11 - 15 years           1\n",
       "11 – 14 years           1\n",
       "8 - 15 years            1\n",
       "8 – 15 years            1\n",
       "11 years                1\n",
       "13 – 14 years           1\n",
       "Name: count, dtype: int64"
      ]
     },
     "execution_count": 17,
     "metadata": {},
     "output_type": "execute_result"
    }
   ],
   "source": [
    "clean_df['life_span'].value_counts()"
   ]
  },
  {
   "cell_type": "markdown",
   "id": "6693a5c7",
   "metadata": {},
   "source": [
    "Tras pensarlo, optaré por la segunda opción, conservando la columna original `life_span`:"
   ]
  },
  {
   "cell_type": "code",
   "execution_count": 34,
   "id": "a6407743",
   "metadata": {},
   "outputs": [
    {
     "data": {
      "text/plain": [
       "life_span\n",
       "10 - 12    29\n",
       "12 - 15    28\n",
       "12 - 14    27\n",
       "10 - 13    12\n",
       "10 - 14     7\n",
       "12 - 16     6\n",
       "8 - 10      6\n",
       "15          5\n",
       "7 - 10      3\n",
       "11 - 13     3\n",
       "13 - 15     3\n",
       "10          2\n",
       "14 - 15     2\n",
       "12          2\n",
       "6 - 8       2\n",
       "9 – 14      2\n",
       "10 - 11     2\n",
       "13 - 16     2\n",
       "14 - 16     2\n",
       "12 – 14     2\n",
       "10 - 15     2\n",
       "13 – 15     2\n",
       "12 - 13     2\n",
       "12 – 15     2\n",
       "15 - 18     1\n",
       "12 - 18     1\n",
       "10 - 18     1\n",
       "18          1\n",
       "14 - 18     1\n",
       "13 - 17     1\n",
       "15 - 20     1\n",
       "8 - 12      1\n",
       "10 – 16     1\n",
       "10 – 15     1\n",
       "9 - 11      1\n",
       "11 - 15     1\n",
       "11 – 14     1\n",
       "8 - 15      1\n",
       "8 – 15      1\n",
       "11          1\n",
       "13 – 14     1\n",
       "Name: count, dtype: int64"
      ]
     },
     "execution_count": 34,
     "metadata": {},
     "output_type": "execute_result"
    }
   ],
   "source": [
    "life_span_mean: pd.Series = df['life_span'].str.replace('years', '').str.strip()\n",
    "life_span_mean = life_span_mean.str.replace('Years', '').str.strip()\n",
    "life_span_mean.value_counts()"
   ]
  },
  {
   "cell_type": "markdown",
   "id": "2019acf8",
   "metadata": {},
   "source": [
    "Hay una mezcla de rangos y de números solitarios, por lo que no podremos pasarlos directamente a formato numérico. Hagamos una función para tratar los rangos y transformarlos a su promedio."
   ]
  },
  {
   "cell_type": "code",
   "execution_count": 35,
   "id": "c57b265b",
   "metadata": {},
   "outputs": [],
   "source": [
    "def process_life_span_data(value: str) -> float:\n",
    "    signs: list[str] = ['-', '–']\n",
    "    for sign in signs:\n",
    "        if sign in value:\n",
    "            low, high = map(float, value.split(sign))\n",
    "            return (low + high) / 2\n",
    "    else:\n",
    "        return float(value)"
   ]
  },
  {
   "cell_type": "code",
   "execution_count": 36,
   "id": "574eb159",
   "metadata": {},
   "outputs": [
    {
     "data": {
      "text/plain": [
       "life_span\n",
       "13.5    31\n",
       "13.0    31\n",
       "11.0    30\n",
       "11.5    16\n",
       "12.0    12\n",
       "14.0    12\n",
       "15.0     9\n",
       "12.5     6\n",
       "9.0      6\n",
       "10.0     4\n",
       "14.5     4\n",
       "8.5      3\n",
       "10.5     2\n",
       "7.0      2\n",
       "16.5     1\n",
       "16.0     1\n",
       "18.0     1\n",
       "17.5     1\n",
       "Name: count, dtype: int64"
      ]
     },
     "execution_count": 36,
     "metadata": {},
     "output_type": "execute_result"
    }
   ],
   "source": [
    "life_span_mean = life_span_mean.apply(process_life_span_data)\n",
    "life_span_mean.value_counts()"
   ]
  },
  {
   "cell_type": "code",
   "execution_count": 37,
   "id": "b22f922e",
   "metadata": {},
   "outputs": [
    {
     "data": {
      "text/html": [
       "<div>\n",
       "<style scoped>\n",
       "    .dataframe tbody tr th:only-of-type {\n",
       "        vertical-align: middle;\n",
       "    }\n",
       "\n",
       "    .dataframe tbody tr th {\n",
       "        vertical-align: top;\n",
       "    }\n",
       "\n",
       "    .dataframe thead th {\n",
       "        text-align: right;\n",
       "    }\n",
       "</style>\n",
       "<table border=\"1\" class=\"dataframe\">\n",
       "  <thead>\n",
       "    <tr style=\"text-align: right;\">\n",
       "      <th></th>\n",
       "      <th>id</th>\n",
       "      <th>name</th>\n",
       "      <th>life_span</th>\n",
       "      <th>temperament</th>\n",
       "      <th>life_span_mean</th>\n",
       "    </tr>\n",
       "  </thead>\n",
       "  <tbody>\n",
       "    <tr>\n",
       "      <th>0</th>\n",
       "      <td>1</td>\n",
       "      <td>Affenpinscher</td>\n",
       "      <td>10 - 12 years</td>\n",
       "      <td>Stubborn, Curious, Playful, Adventurous, Activ...</td>\n",
       "      <td>11.0</td>\n",
       "    </tr>\n",
       "    <tr>\n",
       "      <th>1</th>\n",
       "      <td>2</td>\n",
       "      <td>Afghan Hound</td>\n",
       "      <td>10 - 13 years</td>\n",
       "      <td>Aloof, Clownish, Dignified, Independent, Happy</td>\n",
       "      <td>11.5</td>\n",
       "    </tr>\n",
       "    <tr>\n",
       "      <th>2</th>\n",
       "      <td>3</td>\n",
       "      <td>African Hunting Dog</td>\n",
       "      <td>11 years</td>\n",
       "      <td>Wild, Hardworking, Dutiful</td>\n",
       "      <td>11.0</td>\n",
       "    </tr>\n",
       "    <tr>\n",
       "      <th>3</th>\n",
       "      <td>4</td>\n",
       "      <td>Airedale Terrier</td>\n",
       "      <td>10 - 13 years</td>\n",
       "      <td>Outgoing, Friendly, Alert, Confident, Intellig...</td>\n",
       "      <td>11.5</td>\n",
       "    </tr>\n",
       "    <tr>\n",
       "      <th>4</th>\n",
       "      <td>5</td>\n",
       "      <td>Akbash Dog</td>\n",
       "      <td>10 - 12 years</td>\n",
       "      <td>Loyal, Independent, Intelligent, Brave</td>\n",
       "      <td>11.0</td>\n",
       "    </tr>\n",
       "  </tbody>\n",
       "</table>\n",
       "</div>"
      ],
      "text/plain": [
       "   id                 name      life_span  \\\n",
       "0   1        Affenpinscher  10 - 12 years   \n",
       "1   2         Afghan Hound  10 - 13 years   \n",
       "2   3  African Hunting Dog       11 years   \n",
       "3   4     Airedale Terrier  10 - 13 years   \n",
       "4   5           Akbash Dog  10 - 12 years   \n",
       "\n",
       "                                         temperament  life_span_mean  \n",
       "0  Stubborn, Curious, Playful, Adventurous, Activ...            11.0  \n",
       "1     Aloof, Clownish, Dignified, Independent, Happy            11.5  \n",
       "2                         Wild, Hardworking, Dutiful            11.0  \n",
       "3  Outgoing, Friendly, Alert, Confident, Intellig...            11.5  \n",
       "4             Loyal, Independent, Intelligent, Brave            11.0  "
      ]
     },
     "execution_count": 37,
     "metadata": {},
     "output_type": "execute_result"
    }
   ],
   "source": [
    "clean_df['life_span_mean'] = life_span_mean.astype('float64')\n",
    "clean_df.head()"
   ]
  },
  {
   "cell_type": "code",
   "execution_count": 38,
   "id": "4fdcb958",
   "metadata": {},
   "outputs": [
    {
     "name": "stdout",
     "output_type": "stream",
     "text": [
      "<class 'pandas.core.frame.DataFrame'>\n",
      "Index: 168 entries, 0 to 171\n",
      "Data columns (total 5 columns):\n",
      " #   Column          Non-Null Count  Dtype  \n",
      "---  ------          --------------  -----  \n",
      " 0   id              168 non-null    int64  \n",
      " 1   name            168 non-null    object \n",
      " 2   life_span       168 non-null    object \n",
      " 3   temperament     168 non-null    object \n",
      " 4   life_span_mean  168 non-null    float64\n",
      "dtypes: float64(1), int64(1), object(3)\n",
      "memory usage: 7.9+ KB\n"
     ]
    }
   ],
   "source": [
    "clean_df.info()"
   ]
  },
  {
   "cell_type": "code",
   "execution_count": 39,
   "id": "c31c3e78",
   "metadata": {},
   "outputs": [
    {
     "name": "stdout",
     "output_type": "stream",
     "text": [
      "<class 'pandas.core.frame.DataFrame'>\n",
      "RangeIndex: 168 entries, 0 to 167\n",
      "Data columns (total 5 columns):\n",
      " #   Column          Non-Null Count  Dtype  \n",
      "---  ------          --------------  -----  \n",
      " 0   id              168 non-null    int64  \n",
      " 1   name            168 non-null    object \n",
      " 2   life_span       168 non-null    object \n",
      " 3   temperament     168 non-null    object \n",
      " 4   life_span_mean  168 non-null    float64\n",
      "dtypes: float64(1), int64(1), object(3)\n",
      "memory usage: 6.7+ KB\n"
     ]
    }
   ],
   "source": [
    "clean_df.reset_index(drop=True, inplace=True)\n",
    "clean_df.info()"
   ]
  }
 ],
 "metadata": {
  "kernelspec": {
   "display_name": "base",
   "language": "python",
   "name": "python3"
  },
  "language_info": {
   "codemirror_mode": {
    "name": "ipython",
    "version": 3
   },
   "file_extension": ".py",
   "mimetype": "text/x-python",
   "name": "python",
   "nbconvert_exporter": "python",
   "pygments_lexer": "ipython3",
   "version": "3.12.4"
  }
 },
 "nbformat": 4,
 "nbformat_minor": 5
}
