{
 "cells": [
  {
   "cell_type": "markdown",
   "metadata": {},
   "source": [
    "# Ejemplo de Uso de una API con Requests"
   ]
  },
  {
   "cell_type": "markdown",
   "metadata": {},
   "source": [
    "Usando el sitio [OpenWeatherMap](https://openweathermap.org/)"
   ]
  },
  {
   "cell_type": "code",
   "execution_count": 7,
   "metadata": {},
   "outputs": [],
   "source": [
    "import os\n",
    "import requests\n",
    "\n",
    "from dotenv import load_dotenv"
   ]
  },
  {
   "cell_type": "code",
   "execution_count": 4,
   "metadata": {},
   "outputs": [
    {
     "data": {
      "text/plain": [
       "True"
      ]
     },
     "execution_count": 4,
     "metadata": {},
     "output_type": "execute_result"
    }
   ],
   "source": [
    "load_dotenv('.env')"
   ]
  },
  {
   "cell_type": "code",
   "execution_count": 5,
   "metadata": {},
   "outputs": [],
   "source": [
    "API_KEY: str = os.environ['API_KEY']"
   ]
  },
  {
   "cell_type": "code",
   "execution_count": 11,
   "metadata": {},
   "outputs": [],
   "source": [
    "latitude: float = float(input('Ingrese la latitud: '))\n",
    "longitude: float = float(input('Ingrese la longitud: '))"
   ]
  },
  {
   "cell_type": "code",
   "execution_count": 9,
   "metadata": {},
   "outputs": [],
   "source": [
    "def call_current_weather_data(api_key: str, lat: float, lon: float) -> dict:\n",
    "    base_url: str = 'http://api.openweathermap.org/data/2.5/weather'\n",
    "    params: str = f'?lat={lat}&lon={lon}&appid={api_key}'\n",
    "    response: requests.Response = requests.get(base_url + params)\n",
    "    return response.json()"
   ]
  },
  {
   "cell_type": "markdown",
   "metadata": {},
   "source": [
    "**NOTA:** El método usado por Federico (a través del nombre de ciudad) ya está deprecado, como se lee [en esta nota](https://openweathermap.org/current#builtin). Ahora deben usarse latitudes y logitudes explícitas, en formato numérico flotante."
   ]
  },
  {
   "cell_type": "code",
   "execution_count": 12,
   "metadata": {},
   "outputs": [
    {
     "data": {
      "text/plain": [
       "{'coord': {'lon': -71.0375, 'lat': -34.7813},\n",
       " 'weather': [{'id': 800,\n",
       "   'main': 'Clear',\n",
       "   'description': 'clear sky',\n",
       "   'icon': '01d'}],\n",
       " 'base': 'stations',\n",
       " 'main': {'temp': 296.79,\n",
       "  'feels_like': 295.6,\n",
       "  'temp_min': 296.79,\n",
       "  'temp_max': 296.79,\n",
       "  'pressure': 1012,\n",
       "  'humidity': 15,\n",
       "  'sea_level': 1012,\n",
       "  'grnd_level': 967},\n",
       " 'visibility': 10000,\n",
       " 'wind': {'speed': 2.66, 'deg': 246, 'gust': 2.92},\n",
       " 'clouds': {'all': 0},\n",
       " 'dt': 1733244495,\n",
       " 'sys': {'type': 1,\n",
       "  'id': 8497,\n",
       "  'country': 'CL',\n",
       "  'sunrise': 1733217838,\n",
       "  'sunset': 1733269484},\n",
       " 'timezone': -10800,\n",
       " 'id': 3895061,\n",
       " 'name': 'Chimbarongo',\n",
       " 'cod': 200}"
      ]
     },
     "execution_count": 12,
     "metadata": {},
     "output_type": "execute_result"
    }
   ],
   "source": [
    "data: dict = call_current_weather_data(API_KEY, latitude, longitude)\n",
    "data"
   ]
  }
 ],
 "metadata": {
  "kernelspec": {
   "display_name": "base",
   "language": "python",
   "name": "python3"
  },
  "language_info": {
   "codemirror_mode": {
    "name": "ipython",
    "version": 3
   },
   "file_extension": ".py",
   "mimetype": "text/x-python",
   "name": "python",
   "nbconvert_exporter": "python",
   "pygments_lexer": "ipython3",
   "version": "3.12.4"
  }
 },
 "nbformat": 4,
 "nbformat_minor": 2
}
