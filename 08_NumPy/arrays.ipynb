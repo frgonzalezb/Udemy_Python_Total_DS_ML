{
 "cells": [
  {
   "cell_type": "markdown",
   "metadata": {},
   "source": [
    "# Arrays de NumPy"
   ]
  },
  {
   "cell_type": "code",
   "execution_count": 5,
   "metadata": {},
   "outputs": [],
   "source": [
    "import time\n",
    "import numpy as np"
   ]
  },
  {
   "cell_type": "code",
   "execution_count": 2,
   "metadata": {},
   "outputs": [
    {
     "name": "stdout",
     "output_type": "stream",
     "text": [
      "[1 2 3 4 5]\n",
      "<class 'numpy.ndarray'>\n"
     ]
    }
   ],
   "source": [
    "# Crear un array simple de NumPy\n",
    "numbers: list[int] = [1, 2, 3, 4, 5]\n",
    "arr = np.array(numbers)\n",
    "print(arr)\n",
    "print(type(arr))"
   ]
  },
  {
   "cell_type": "markdown",
   "metadata": {},
   "source": [
    "### Comprobar eficiencia de arrays vs. listas"
   ]
  },
  {
   "cell_type": "code",
   "execution_count": 3,
   "metadata": {},
   "outputs": [],
   "source": [
    "# Primero, definir las variables\n",
    "big_fucking_list: list[int] = list(range(1000000))\n",
    "big_fucking_array: np.ndarray = np.array(big_fucking_list)"
   ]
  },
  {
   "cell_type": "code",
   "execution_count": 7,
   "metadata": {},
   "outputs": [
    {
     "name": "stdout",
     "output_type": "stream",
     "text": [
      "Lista de Python:\n",
      "Tiempo de ejecución: 0.2276451587677002 segundos\n"
     ]
    }
   ],
   "source": [
    "# Tomar el tiempo a big_fucking_list\n",
    "start: float = time.time()\n",
    "for i in big_fucking_list:\n",
    "    i ** 2 # type: ignore\n",
    "end: float = time.time()\n",
    "print('Lista de Python:\\nTiempo de ejecución:', end - start, 'segundos')"
   ]
  },
  {
   "cell_type": "code",
   "execution_count": 8,
   "metadata": {},
   "outputs": [
    {
     "name": "stdout",
     "output_type": "stream",
     "text": [
      "Array de NumPy:\n",
      "Tiempo de ejecución: 0.0029909610748291016 segundos\n"
     ]
    }
   ],
   "source": [
    "# Tomar el tiempo a big_fucking_array\n",
    "start: float = time.time()\n",
    "big_fucking_array ** 2 # type: ignore\n",
    "end: float = time.time()\n",
    "print('Array de NumPy:\\nTiempo de ejecución:', end - start, 'segundos')"
   ]
  }
 ],
 "metadata": {
  "kernelspec": {
   "display_name": "base",
   "language": "python",
   "name": "python3"
  },
  "language_info": {
   "codemirror_mode": {
    "name": "ipython",
    "version": 3
   },
   "file_extension": ".py",
   "mimetype": "text/x-python",
   "name": "python",
   "nbconvert_exporter": "python",
   "pygments_lexer": "ipython3",
   "version": "3.12.4"
  }
 },
 "nbformat": 4,
 "nbformat_minor": 2
}
