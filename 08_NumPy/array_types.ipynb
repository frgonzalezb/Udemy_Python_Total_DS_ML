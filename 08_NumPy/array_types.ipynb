{
 "cells": [
  {
   "cell_type": "markdown",
   "metadata": {},
   "source": [
    "# Tipos de Arrays en NumPy"
   ]
  },
  {
   "cell_type": "code",
   "execution_count": 1,
   "metadata": {},
   "outputs": [],
   "source": [
    "import numpy as np"
   ]
  },
  {
   "cell_type": "code",
   "execution_count": 8,
   "metadata": {},
   "outputs": [
    {
     "name": "stdout",
     "output_type": "stream",
     "text": [
      "-- Ejemplo de array unidimensional --\n",
      "Cantidad de elementos: 5\n",
      "Forma del array: (5,)\n"
     ]
    }
   ],
   "source": [
    "# Arrays unidimensionales (1D)\n",
    "unidimensional_array: np.ndarray = np.array([1, 2, 3, 4, 5])\n",
    "print('-- Ejemplo de array unidimensional --')\n",
    "print('Cantidad de elementos:', len(unidimensional_array))\n",
    "print('Forma del array:',unidimensional_array.shape)"
   ]
  },
  {
   "cell_type": "code",
   "execution_count": 9,
   "metadata": {},
   "outputs": [
    {
     "name": "stdout",
     "output_type": "stream",
     "text": [
      "-- Ejemplo de array bidimensional --\n",
      "Cantidad de elementos: 2\n",
      "Forma del array: (2, 3)\n"
     ]
    }
   ],
   "source": [
    "# Arrays bidimensionales (2D)\n",
    "bidimensional_array: np.ndarray = np.array([[1, 2, 3], [4, 5, 6]])\n",
    "print('-- Ejemplo de array bidimensional --')\n",
    "print('Cantidad de elementos:', len(bidimensional_array))\n",
    "print('Forma del array:',bidimensional_array.shape)"
   ]
  },
  {
   "cell_type": "markdown",
   "metadata": {},
   "source": [
    "**ANOTACIONES PERSONALES SOBRE LOS ARRAYS 2D:**\n",
    "\n",
    "1. La cantidad de elementos (len) pasa a ser la cantidad de conjuntos (listas) que hay dentro del array.\n",
    "\n",
    "2. La forma (shape) es una tupla que indica la cantidad de conjuntos y la cantidad de elementos que hay dentro de los conjuntos. En el ejemplo: El array contiene 2 listas, cada una de las cuales contiene 3 elementos.\n",
    "\n",
    "Además, como los arrays 2D suelen verse como tablas o matrices (una lista encima de la otra), se puede leer la forma del ejemplo como: \"El array posee 2 filas y 3 columnas\"."
   ]
  }
 ],
 "metadata": {
  "kernelspec": {
   "display_name": "base",
   "language": "python",
   "name": "python3"
  },
  "language_info": {
   "codemirror_mode": {
    "name": "ipython",
    "version": 3
   },
   "file_extension": ".py",
   "mimetype": "text/x-python",
   "name": "python",
   "nbconvert_exporter": "python",
   "pygments_lexer": "ipython3",
   "version": "3.12.4"
  }
 },
 "nbformat": 4,
 "nbformat_minor": 2
}
