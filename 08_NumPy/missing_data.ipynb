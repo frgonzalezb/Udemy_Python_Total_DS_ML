{
 "cells": [
  {
   "cell_type": "markdown",
   "metadata": {},
   "source": [
    "# Tratamiento de Datos Faltantes con NumPy"
   ]
  },
  {
   "cell_type": "code",
   "execution_count": 1,
   "metadata": {},
   "outputs": [],
   "source": [
    "import numpy as np"
   ]
  },
  {
   "cell_type": "code",
   "execution_count": 9,
   "metadata": {},
   "outputs": [
    {
     "name": "stdout",
     "output_type": "stream",
     "text": [
      "[ 1.  2. nan  4.  5.]\n"
     ]
    }
   ],
   "source": [
    "# Crear un array con un valor faltante (NaN) en el medio\n",
    "array: np.ndarray = np.array([1, 2, np.nan, 4, 5])\n",
    "print(array)"
   ]
  },
  {
   "cell_type": "code",
   "execution_count": 10,
   "metadata": {},
   "outputs": [
    {
     "name": "stdout",
     "output_type": "stream",
     "text": [
      "[False False  True False False]\n"
     ]
    }
   ],
   "source": [
    "# Comprobar si hay valores faltantes\n",
    "print(np.isnan(array))"
   ]
  },
  {
   "cell_type": "code",
   "execution_count": 11,
   "metadata": {},
   "outputs": [
    {
     "name": "stdout",
     "output_type": "stream",
     "text": [
      "nan\n"
     ]
    }
   ],
   "source": [
    "# Si se intenta operar sobre un array con NaN, se obtiene NaN\n",
    "print(np.mean(array))"
   ]
  },
  {
   "cell_type": "code",
   "execution_count": 12,
   "metadata": {},
   "outputs": [
    {
     "name": "stdout",
     "output_type": "stream",
     "text": [
      "3.0\n"
     ]
    }
   ],
   "source": [
    "# Obtener un promedio obviando los valores NaN\n",
    "print(np.nanmean(array))"
   ]
  },
  {
   "cell_type": "code",
   "execution_count": 16,
   "metadata": {},
   "outputs": [
    {
     "name": "stdout",
     "output_type": "stream",
     "text": [
      "array_with_zeros1=array([1., 2., 0., 4., 5.])\n",
      "array_with_zeros2=array([1., 2., 0., 4., 5.])\n"
     ]
    }
   ],
   "source": [
    "# Sustituir valores NaN por un valor fijo (por ejemplo, ceros)\n",
    "# array[np.isnan(array)] = 0                             # forma 1\n",
    "array_with_zeros1 = np.nan_to_num(array)                 # forma 2\n",
    "array_with_zeros2 = np.where(np.isnan(array), 0, array)  # forma 3\n",
    "print(f'{array_with_zeros1=}')\n",
    "print(f'{array_with_zeros2=}')"
   ]
  },
  {
   "cell_type": "code",
   "execution_count": 18,
   "metadata": {},
   "outputs": [
    {
     "name": "stdout",
     "output_type": "stream",
     "text": [
      "mean=3.0\n",
      "array_with_mean=array([1., 2., 3., 4., 5.])\n"
     ]
    }
   ],
   "source": [
    "# Sustituir valores NaN por un valor fijo (por ejemplo, la media)\n",
    "mean = np.nanmean(array)\n",
    "print(f'{mean=}')\n",
    "array_with_mean = np.where(np.isnan(array), mean, array)\n",
    "print(f'{array_with_mean=}')"
   ]
  },
  {
   "cell_type": "code",
   "execution_count": 19,
   "metadata": {},
   "outputs": [
    {
     "name": "stdout",
     "output_type": "stream",
     "text": [
      "array_without_nan=array([1., 2., 4., 5.])\n"
     ]
    }
   ],
   "source": [
    "# Eliminar valores NaN (usando ~ para negar el array)\n",
    "array_without_nan = array[~np.isnan(array)]\n",
    "print(f'{array_without_nan=}')"
   ]
  }
 ],
 "metadata": {
  "kernelspec": {
   "display_name": "base",
   "language": "python",
   "name": "python3"
  },
  "language_info": {
   "codemirror_mode": {
    "name": "ipython",
    "version": 3
   },
   "file_extension": ".py",
   "mimetype": "text/x-python",
   "name": "python",
   "nbconvert_exporter": "python",
   "pygments_lexer": "ipython3",
   "version": "3.12.4"
  }
 },
 "nbformat": 4,
 "nbformat_minor": 2
}
