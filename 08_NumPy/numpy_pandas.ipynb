{
 "cells": [
  {
   "cell_type": "markdown",
   "metadata": {},
   "source": [
    "# Integración de NumPy con Pandas"
   ]
  },
  {
   "cell_type": "code",
   "execution_count": 1,
   "metadata": {},
   "outputs": [],
   "source": [
    "import numpy as np\n",
    "import pandas as pd"
   ]
  },
  {
   "cell_type": "code",
   "execution_count": 2,
   "metadata": {},
   "outputs": [
    {
     "name": "stdout",
     "output_type": "stream",
     "text": [
      "   odd  even\n",
      "0    1     2\n",
      "1    3     4\n",
      "2    5     6\n",
      "3    7     8\n"
     ]
    }
   ],
   "source": [
    "df: pd.DataFrame = pd.DataFrame({\n",
    "    'odd': [1, 3, 5, 7],\n",
    "    'even': [2, 4, 6, 8]\n",
    "})\n",
    "\n",
    "print(df)"
   ]
  },
  {
   "cell_type": "code",
   "execution_count": 3,
   "metadata": {},
   "outputs": [
    {
     "name": "stdout",
     "output_type": "stream",
     "text": [
      "[[1 2]\n",
      " [3 4]\n",
      " [5 6]\n",
      " [7 8]]\n"
     ]
    }
   ],
   "source": [
    "# Convertir dataframe de pandas en array de numpy (forma 1)\n",
    "arr: np.ndarray = df.to_numpy()\n",
    "\n",
    "print(arr)"
   ]
  },
  {
   "cell_type": "code",
   "execution_count": 4,
   "metadata": {},
   "outputs": [
    {
     "name": "stdout",
     "output_type": "stream",
     "text": [
      "[[1 2]\n",
      " [3 4]\n",
      " [5 6]\n",
      " [7 8]]\n"
     ]
    }
   ],
   "source": [
    "# Convertir dataframe de pandas en array de numpy (forma 2)\n",
    "arr: np.ndarray = df.values\n",
    "\n",
    "print(arr)"
   ]
  },
  {
   "cell_type": "code",
   "execution_count": 5,
   "metadata": {},
   "outputs": [
    {
     "name": "stdout",
     "output_type": "stream",
     "text": [
      "[[1 2]\n",
      " [3 4]\n",
      " [5 6]\n",
      " [7 8]]\n"
     ]
    }
   ],
   "source": [
    "# Convertir dataframe de pandas en array de numpy (forma 3)\n",
    "arr: np.ndarray = np.array(df)\n",
    "\n",
    "print(arr)"
   ]
  },
  {
   "cell_type": "code",
   "execution_count": 6,
   "metadata": {},
   "outputs": [
    {
     "name": "stdout",
     "output_type": "stream",
     "text": [
      "        odd      even\n",
      "0  1.000000  1.414214\n",
      "1  1.732051  2.000000\n",
      "2  2.236068  2.449490\n",
      "3  2.645751  2.828427\n"
     ]
    }
   ],
   "source": [
    "# Aplicar aritmética de numpy a pandas (ej: raíz cuadrada)\n",
    "print(np.sqrt(df))"
   ]
  },
  {
   "cell_type": "code",
   "execution_count": 7,
   "metadata": {},
   "outputs": [
    {
     "name": "stdout",
     "output_type": "stream",
     "text": [
      "odd     7\n",
      "even    8\n",
      "dtype: int64\n"
     ]
    }
   ],
   "source": [
    "# Devolver el valor maximo de cada una de las columnas\n",
    "print(df.max())"
   ]
  },
  {
   "cell_type": "code",
   "execution_count": 8,
   "metadata": {},
   "outputs": [
    {
     "name": "stdout",
     "output_type": "stream",
     "text": [
      "8\n"
     ]
    }
   ],
   "source": [
    "# Devolver el valor maximo del dataframe con numpy\n",
    "print(np.max(df))"
   ]
  },
  {
   "cell_type": "code",
   "execution_count": 9,
   "metadata": {},
   "outputs": [
    {
     "name": "stdout",
     "output_type": "stream",
     "text": [
      "   0  1\n",
      "0  1  2\n",
      "1  3  4\n",
      "2  5  6\n",
      "3  7  8\n"
     ]
    }
   ],
   "source": [
    "# Crear un dataframe desde un array de numpy\n",
    "df: pd.DataFrame = pd.DataFrame(arr)\n",
    "\n",
    "print(df)"
   ]
  },
  {
   "cell_type": "code",
   "execution_count": 10,
   "metadata": {},
   "outputs": [
    {
     "name": "stdout",
     "output_type": "stream",
     "text": [
      "   odd  even\n",
      "0    1     2\n",
      "1    3     4\n",
      "2    5     6\n",
      "3    7     8\n"
     ]
    }
   ],
   "source": [
    "# Crear un dataframe desde un array de numpy y asignando nombres a las columnas\n",
    "df: pd.DataFrame = pd.DataFrame(arr, columns=['odd', 'even'])\n",
    "\n",
    "print(df)"
   ]
  }
 ],
 "metadata": {
  "kernelspec": {
   "display_name": "base",
   "language": "python",
   "name": "python3"
  },
  "language_info": {
   "codemirror_mode": {
    "name": "ipython",
    "version": 3
   },
   "file_extension": ".py",
   "mimetype": "text/x-python",
   "name": "python",
   "nbconvert_exporter": "python",
   "pygments_lexer": "ipython3",
   "version": "3.12.4"
  }
 },
 "nbformat": 4,
 "nbformat_minor": 2
}
