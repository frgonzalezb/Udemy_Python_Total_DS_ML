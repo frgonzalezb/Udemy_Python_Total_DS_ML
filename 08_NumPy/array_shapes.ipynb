{
 "cells": [
  {
   "cell_type": "markdown",
   "metadata": {},
   "source": [
    "# Forma y Estructura de los Arrays de NumPy"
   ]
  },
  {
   "cell_type": "code",
   "execution_count": 1,
   "metadata": {},
   "outputs": [],
   "source": [
    "import numpy as np"
   ]
  },
  {
   "cell_type": "code",
   "execution_count": 3,
   "metadata": {},
   "outputs": [
    {
     "name": "stdout",
     "output_type": "stream",
     "text": [
      "Array: [1 2 3 4 5 6 7 8 9]\n",
      "Array shape: (9,)\n"
     ]
    }
   ],
   "source": [
    "array: np.ndarray = np.array(range(1, 10))\n",
    "print('Array:', array)\n",
    "print('Array shape:', array.shape)"
   ]
  },
  {
   "cell_type": "code",
   "execution_count": 5,
   "metadata": {},
   "outputs": [
    {
     "name": "stdout",
     "output_type": "stream",
     "text": [
      "Reshaped array:\n",
      " [[1 2 3]\n",
      " [4 5 6]\n",
      " [7 8 9]]\n"
     ]
    }
   ],
   "source": [
    "# Modificar array con reshape\n",
    "array_reshaped: np.ndarray = array.reshape(3, 3)\n",
    "print('Reshaped array:\\n', array_reshaped)"
   ]
  },
  {
   "cell_type": "code",
   "execution_count": 6,
   "metadata": {},
   "outputs": [
    {
     "name": "stdout",
     "output_type": "stream",
     "text": [
      "Transposed array:\n",
      " [[1 4 7]\n",
      " [2 5 8]\n",
      " [3 6 9]]\n"
     ]
    }
   ],
   "source": [
    "# Transponer array\n",
    "array_transposed: np.ndarray = array_reshaped.transpose()\n",
    "print('Transposed array:\\n', array_transposed)"
   ]
  },
  {
   "cell_type": "code",
   "execution_count": 7,
   "metadata": {},
   "outputs": [
    {
     "name": "stdout",
     "output_type": "stream",
     "text": [
      "Flattened array: [1 2 3 4 5 6 7 8 9]\n"
     ]
    }
   ],
   "source": [
    "# Achatar array (2D a 1D)\n",
    "array_flattened: np.ndarray = array_reshaped.flatten()\n",
    "print('Flattened array:', array_flattened)"
   ]
  },
  {
   "cell_type": "code",
   "execution_count": null,
   "metadata": {},
   "outputs": [],
   "source": [
    "# Crear vista achatada (1D a 2D) - no ocupa memoria como flatten\n",
    "array_ravel: np.ndarray = array_reshaped.ravel()\n",
    "print('Array ravel:\\n', array_ravel)\n",
    "print('Array ravel shape:', array_ravel.shape)"
   ]
  }
 ],
 "metadata": {
  "kernelspec": {
   "display_name": "base",
   "language": "python",
   "name": "python3"
  },
  "language_info": {
   "codemirror_mode": {
    "name": "ipython",
    "version": 3
   },
   "file_extension": ".py",
   "mimetype": "text/x-python",
   "name": "python",
   "nbconvert_exporter": "python",
   "pygments_lexer": "ipython3",
   "version": "3.12.4"
  }
 },
 "nbformat": 4,
 "nbformat_minor": 2
}
