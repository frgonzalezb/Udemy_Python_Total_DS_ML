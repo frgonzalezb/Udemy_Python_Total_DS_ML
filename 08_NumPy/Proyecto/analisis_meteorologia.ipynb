{
 "cells": [
  {
   "cell_type": "markdown",
   "metadata": {},
   "source": [
    "# Proyecto del Día - Análisis de Datos Meteorológicos\n",
    "\n",
    "Este proyecto consiste en analizar un conjunto de datos meteorológicos utilizando Python y NumPy. El objetivo es aplicar las técnicas de manipulación de arrays, tratamiento de datos faltantes, y análisis estadístico básico en un conjunto de datos del mundo real.\n",
    "\n",
    "### Tareas a Realizar:\n",
    "\n",
    "1. Crear un DataFrame a partir de los datos del archivo `datos_meteorologicos.csv` provisto en esta lección.\n",
    "\n",
    "2. Realizar observaciones iniciales de los datos con Pandas.\n",
    "\n",
    "3. Convertir las columnas del DataFrame en arrays de NumPy.\n",
    "\n",
    "4. Identificar los datos faltantes en los arrays, y reemplazarlos por el promedio de los valores del respectivo array.\n",
    "\n",
    "5. Realizar análisis estadísticos básicos. Mínimamente se espera que puedas extraer la siguiente información de tus arrays:\n",
    "    - La temperatura promedio\n",
    "    - El total de precipitaciones\n",
    "    - La máxima humedad registrada\n",
    "    - La fecha más calurosa\n",
    "    - La fecha más fría\n",
    "\n",
    "6. Exportar los resultados a un nuevo archivo CSV."
   ]
  },
  {
   "cell_type": "markdown",
   "metadata": {},
   "source": [
    "##### 0. Importar librerías"
   ]
  },
  {
   "cell_type": "code",
   "execution_count": 1,
   "metadata": {},
   "outputs": [],
   "source": [
    "import os\n",
    "\n",
    "import numpy as np\n",
    "import pandas as pd"
   ]
  }
 ],
 "metadata": {
  "kernelspec": {
   "display_name": "base",
   "language": "python",
   "name": "python3"
  },
  "language_info": {
   "codemirror_mode": {
    "name": "ipython",
    "version": 3
   },
   "file_extension": ".py",
   "mimetype": "text/x-python",
   "name": "python",
   "nbconvert_exporter": "python",
   "pygments_lexer": "ipython3",
   "version": "3.12.4"
  }
 },
 "nbformat": 4,
 "nbformat_minor": 2
}
