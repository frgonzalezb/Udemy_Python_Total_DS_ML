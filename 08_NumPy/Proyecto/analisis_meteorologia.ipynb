{
 "cells": [
  {
   "cell_type": "markdown",
   "metadata": {},
   "source": [
    "# Proyecto del Día - Análisis de Datos Meteorológicos\n",
    "\n",
    "Este proyecto consiste en analizar un conjunto de datos meteorológicos utilizando Python y NumPy. El objetivo es aplicar las técnicas de manipulación de arrays, tratamiento de datos faltantes, y análisis estadístico básico en un conjunto de datos del mundo real.\n",
    "\n",
    "### Tareas a Realizar:\n",
    "\n",
    "1. Crear un DataFrame a partir de los datos del archivo `datos_meteorologicos.csv` provisto en esta lección.\n",
    "\n",
    "2. Realizar observaciones iniciales de los datos con Pandas.\n",
    "\n",
    "3. Convertir las columnas del DataFrame en arrays de NumPy.\n",
    "\n",
    "4. Identificar los datos faltantes en los arrays, y reemplazarlos por el promedio de los valores del respectivo array.\n",
    "\n",
    "5. Realizar análisis estadísticos básicos. Mínimamente se espera que puedas extraer la siguiente información de tus arrays:\n",
    "    - La temperatura promedio\n",
    "    - El total de precipitaciones\n",
    "    - La máxima humedad registrada\n",
    "    - La fecha más calurosa\n",
    "    - La fecha más fría\n",
    "\n",
    "6. Exportar los resultados a un nuevo archivo CSV."
   ]
  },
  {
   "cell_type": "markdown",
   "metadata": {},
   "source": [
    "##### 0. Importar librerías"
   ]
  },
  {
   "cell_type": "code",
   "execution_count": 1,
   "metadata": {},
   "outputs": [],
   "source": [
    "import os\n",
    "\n",
    "import numpy as np\n",
    "import pandas as pd"
   ]
  },
  {
   "cell_type": "markdown",
   "metadata": {},
   "source": [
    "##### 1. Crear un DataFrame a partir de los datos del archivo `datos_meteorologicos.csv` provisto en esta lección."
   ]
  },
  {
   "cell_type": "code",
   "execution_count": 2,
   "metadata": {},
   "outputs": [
    {
     "name": "stdout",
     "output_type": "stream",
     "text": [
      "           Fecha  Temperatura  Precipitación    Humedad\n",
      "0     01/01/2010    17.440675      10.957482  52.384637\n",
      "1     02/01/2010    25.759468       5.315628  30.633530\n",
      "2     03/01/2010    20.138169      15.317706  41.496715\n",
      "3     04/01/2010    17.244159      13.151008  90.684704\n",
      "4     05/01/2010    11.182740      16.413667  22.116422\n",
      "...          ...          ...            ...        ...\n",
      "5105  24/12/2023    -9.554692      12.700998  50.094533\n",
      "5106  25/12/2023     2.837831       5.475686  92.456057\n",
      "5107  26/12/2023    29.873597       4.615012  18.362847\n",
      "5108  27/12/2023          NaN            NaN        NaN\n",
      "5109  28/12/2023    37.308043       7.330510  50.646211\n",
      "\n",
      "[5110 rows x 4 columns]\n"
     ]
    }
   ],
   "source": [
    "df: pd.DataFrame = pd.read_csv('./data/datos_meteorologicos.csv')\n",
    "\n",
    "print(df)"
   ]
  }
 ],
 "metadata": {
  "kernelspec": {
   "display_name": "base",
   "language": "python",
   "name": "python3"
  },
  "language_info": {
   "codemirror_mode": {
    "name": "ipython",
    "version": 3
   },
   "file_extension": ".py",
   "mimetype": "text/x-python",
   "name": "python",
   "nbconvert_exporter": "python",
   "pygments_lexer": "ipython3",
   "version": "3.12.4"
  }
 },
 "nbformat": 4,
 "nbformat_minor": 2
}
