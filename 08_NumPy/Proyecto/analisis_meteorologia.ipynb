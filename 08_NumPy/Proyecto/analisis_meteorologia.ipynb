{
 "cells": [
  {
   "cell_type": "markdown",
   "metadata": {},
   "source": [
    "# Proyecto del Día - Análisis de Datos Meteorológicos\n",
    "\n",
    "Este proyecto consiste en analizar un conjunto de datos meteorológicos utilizando Python y NumPy. El objetivo es aplicar las técnicas de manipulación de arrays, tratamiento de datos faltantes, y análisis estadístico básico en un conjunto de datos del mundo real.\n",
    "\n",
    "### Tareas a Realizar:\n",
    "\n",
    "1. Crear un DataFrame a partir de los datos del archivo `datos_meteorologicos.csv` provisto en esta lección.\n",
    "\n",
    "2. Realizar observaciones iniciales de los datos con Pandas.\n",
    "\n",
    "3. Convertir las columnas del DataFrame en arrays de NumPy.\n",
    "\n",
    "4. Identificar los datos faltantes en los arrays, y reemplazarlos por el promedio de los valores del respectivo array.\n",
    "\n",
    "5. Realizar análisis estadísticos básicos. Mínimamente se espera que puedas extraer la siguiente información de tus arrays:\n",
    "    - La temperatura promedio\n",
    "    - El total de precipitaciones\n",
    "    - La máxima humedad registrada\n",
    "    - La fecha más calurosa\n",
    "    - La fecha más fría\n",
    "\n",
    "6. Exportar los resultados a un nuevo archivo CSV."
   ]
  },
  {
   "cell_type": "markdown",
   "metadata": {},
   "source": [
    "##### 0. Importar librerías."
   ]
  },
  {
   "cell_type": "code",
   "execution_count": 1,
   "metadata": {},
   "outputs": [],
   "source": [
    "import os\n",
    "\n",
    "import numpy as np\n",
    "import pandas as pd"
   ]
  },
  {
   "cell_type": "markdown",
   "metadata": {},
   "source": [
    "##### 1. Crear un DataFrame a partir de los datos del archivo `datos_meteorologicos.csv` provisto en esta lección."
   ]
  },
  {
   "cell_type": "code",
   "execution_count": 2,
   "metadata": {},
   "outputs": [
    {
     "name": "stdout",
     "output_type": "stream",
     "text": [
      "           Fecha  Temperatura  Precipitación    Humedad\n",
      "0     01/01/2010    17.440675      10.957482  52.384637\n",
      "1     02/01/2010    25.759468       5.315628  30.633530\n",
      "2     03/01/2010    20.138169      15.317706  41.496715\n",
      "3     04/01/2010    17.244159      13.151008  90.684704\n",
      "4     05/01/2010    11.182740      16.413667  22.116422\n",
      "...          ...          ...            ...        ...\n",
      "5105  24/12/2023    -9.554692      12.700998  50.094533\n",
      "5106  25/12/2023     2.837831       5.475686  92.456057\n",
      "5107  26/12/2023    29.873597       4.615012  18.362847\n",
      "5108  27/12/2023          NaN            NaN        NaN\n",
      "5109  28/12/2023    37.308043       7.330510  50.646211\n",
      "\n",
      "[5110 rows x 4 columns]\n"
     ]
    }
   ],
   "source": [
    "df: pd.DataFrame = pd.read_csv('./data/datos_meteorologicos.csv')\n",
    "\n",
    "print(df)"
   ]
  },
  {
   "cell_type": "markdown",
   "metadata": {},
   "source": [
    "##### 2. Realizar observaciones iniciales de los datos con Pandas."
   ]
  },
  {
   "cell_type": "code",
   "execution_count": 3,
   "metadata": {},
   "outputs": [
    {
     "name": "stdout",
     "output_type": "stream",
     "text": [
      "<class 'pandas.core.frame.DataFrame'>\n",
      "RangeIndex: 5110 entries, 0 to 5109\n",
      "Data columns (total 4 columns):\n",
      " #   Column         Non-Null Count  Dtype  \n",
      "---  ------         --------------  -----  \n",
      " 0   Fecha          5110 non-null   object \n",
      " 1   Temperatura    4855 non-null   float64\n",
      " 2   Precipitación  4855 non-null   float64\n",
      " 3   Humedad        4855 non-null   float64\n",
      "dtypes: float64(3), object(1)\n",
      "memory usage: 159.8+ KB\n",
      "None\n"
     ]
    }
   ],
   "source": [
    "# Obtener información general sobre el DataFrame\n",
    "print(df.info())"
   ]
  },
  {
   "cell_type": "code",
   "execution_count": 7,
   "metadata": {},
   "outputs": [
    {
     "name": "stdout",
     "output_type": "stream",
     "text": [
      "       Temperatura  Precipitación      Humedad\n",
      "count  4855.000000    4855.000000  4855.000000\n",
      "mean     14.889296       9.901604    54.359061\n",
      "std      14.440466       5.801842    26.096345\n",
      "min      -9.996378       0.003008    10.014980\n",
      "25%       2.651777       4.756907    31.866578\n",
      "50%      14.693274       9.853698    54.254478\n",
      "75%      27.381451      14.966997    77.029500\n",
      "max      39.998201      19.999559    99.996582\n"
     ]
    }
   ],
   "source": [
    "# Obtener una descripción estadística del DataFrame (con los datos que hay)\n",
    "print(df.describe())"
   ]
  },
  {
   "cell_type": "code",
   "execution_count": 8,
   "metadata": {},
   "outputs": [
    {
     "name": "stdout",
     "output_type": "stream",
     "text": [
      "Fecha              0\n",
      "Temperatura      255\n",
      "Precipitación    255\n",
      "Humedad          255\n",
      "dtype: int64\n"
     ]
    }
   ],
   "source": [
    "# Obtener la cantidad de celdas nulas en el DataFrame\n",
    "print(df.isna().sum())"
   ]
  },
  {
   "cell_type": "code",
   "execution_count": 9,
   "metadata": {},
   "outputs": [
    {
     "name": "stdout",
     "output_type": "stream",
     "text": [
      "           Fecha  Temperatura  Precipitación  Humedad\n",
      "7     08/01/2010          NaN            NaN      NaN\n",
      "20    21/01/2010          NaN            NaN      NaN\n",
      "39    09/02/2010          NaN            NaN      NaN\n",
      "41    11/02/2010          NaN            NaN      NaN\n",
      "84    26/03/2010          NaN            NaN      NaN\n",
      "...          ...          ...            ...      ...\n",
      "5011  21/09/2023          NaN            NaN      NaN\n",
      "5034  14/10/2023          NaN            NaN      NaN\n",
      "5063  12/11/2023          NaN            NaN      NaN\n",
      "5088  07/12/2023          NaN            NaN      NaN\n",
      "5108  27/12/2023          NaN            NaN      NaN\n",
      "\n",
      "[255 rows x 4 columns]\n"
     ]
    }
   ],
   "source": [
    "# Obtener las filas donde hay nulos\n",
    "null_rows: pd.DataFrame = df[df.isna().any(axis=1)]\n",
    "\n",
    "print(null_rows)"
   ]
  },
  {
   "cell_type": "code",
   "execution_count": 11,
   "metadata": {},
   "outputs": [
    {
     "name": "stdout",
     "output_type": "stream",
     "text": [
      "[7, 20, 39, 41, 84, 85, 146, 151, 154, 188, 195, 260, 269, 290, 366, 394, 397, 412, 418, 439, 449, 487, 497, 518, 541, 543, 574, 593, 644, 689, 698, 741, 745, 752, 759, 815, 859, 870, 873, 876, 888, 921, 955, 992, 1007, 1037, 1046, 1056, 1087, 1106, 1113, 1144, 1147, 1187, 1193, 1201, 1213, 1225, 1246, 1289, 1309, 1310, 1312, 1316, 1355, 1388, 1402, 1420, 1444, 1483, 1534, 1538, 1615, 1617, 1630, 1697, 1700, 1704, 1710, 1783, 1790, 1818, 1820, 1825, 1835, 1842, 1848, 1919, 1921, 1941, 1971, 1995, 2032, 2056, 2084, 2093, 2121, 2159, 2174, 2182, 2192, 2210, 2220, 2224, 2233, 2272, 2283, 2316, 2325, 2329, 2352, 2375, 2376, 2393, 2407, 2457, 2482, 2491, 2513, 2515, 2532, 2535, 2541, 2557, 2589, 2594, 2634, 2653, 2674, 2675, 2690, 2720, 2731, 2770, 2781, 2816, 2820, 2822, 2834, 2842, 2862, 2902, 2906, 2912, 2966, 2979, 3003, 3032, 3037, 3041, 3048, 3068, 3070, 3075, 3100, 3123, 3139, 3147, 3156, 3166, 3192, 3211, 3243, 3256, 3261, 3272, 3282, 3312, 3365, 3377, 3426, 3451, 3498, 3521, 3524, 3532, 3539, 3608, 3616, 3618, 3689, 3716, 3717, 3728, 3755, 3776, 3788, 3823, 3826, 3831, 3835, 3841, 3862, 3896, 3898, 3903, 3921, 3948, 3994, 3995, 4006, 4024, 4030, 4037, 4045, 4089, 4094, 4096, 4108, 4162, 4170, 4180, 4219, 4245, 4252, 4313, 4323, 4325, 4326, 4342, 4347, 4363, 4364, 4386, 4400, 4425, 4435, 4455, 4570, 4587, 4602, 4678, 4679, 4705, 4720, 4742, 4750, 4781, 4782, 4796, 4800, 4805, 4809, 4850, 4856, 4861, 4864, 4930, 4934, 4949, 5011, 5034, 5063, 5088, 5108]\n"
     ]
    }
   ],
   "source": [
    "# Obtener los índices de las filas donde hay nulos\n",
    "null_indexes: pd.Index = df[df.isna().any(axis=1)].index\n",
    "\n",
    "print(null_indexes.to_list())"
   ]
  }
 ],
 "metadata": {
  "kernelspec": {
   "display_name": "base",
   "language": "python",
   "name": "python3"
  },
  "language_info": {
   "codemirror_mode": {
    "name": "ipython",
    "version": 3
   },
   "file_extension": ".py",
   "mimetype": "text/x-python",
   "name": "python",
   "nbconvert_exporter": "python",
   "pygments_lexer": "ipython3",
   "version": "3.12.4"
  }
 },
 "nbformat": 4,
 "nbformat_minor": 2
}
