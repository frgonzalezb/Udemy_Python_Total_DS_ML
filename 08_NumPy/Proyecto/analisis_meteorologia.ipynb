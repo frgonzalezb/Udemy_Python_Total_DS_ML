{
 "cells": [
  {
   "cell_type": "markdown",
   "metadata": {},
   "source": [
    "# Proyecto del Día - Análisis de Datos Meteorológicos\n",
    "\n",
    "Este proyecto consiste en analizar un conjunto de datos meteorológicos utilizando Python y NumPy. El objetivo es aplicar las técnicas de manipulación de arrays, tratamiento de datos faltantes, y análisis estadístico básico en un conjunto de datos del mundo real.\n",
    "\n",
    "### Tareas a Realizar:\n",
    "\n",
    "1. Crear un DataFrame a partir de los datos del archivo `datos_meteorologicos.csv` provisto en esta lección.\n",
    "\n",
    "2. Realizar observaciones iniciales de los datos con Pandas.\n",
    "\n",
    "3. Convertir las columnas del DataFrame en arrays de NumPy.\n",
    "\n",
    "4. Identificar los datos faltantes en los arrays, y reemplazarlos por el promedio de los valores del respectivo array.\n",
    "\n",
    "5. Realizar análisis estadísticos básicos. Mínimamente se espera que puedas extraer la siguiente información de tus arrays:\n",
    "    - La temperatura promedio\n",
    "    - El total de precipitaciones\n",
    "    - La máxima humedad registrada\n",
    "    - La fecha más calurosa\n",
    "    - La fecha más fría\n",
    "\n",
    "6. Exportar los resultados a un nuevo archivo CSV."
   ]
  },
  {
   "cell_type": "markdown",
   "metadata": {},
   "source": [
    "##### 0. Importar librerías."
   ]
  },
  {
   "cell_type": "code",
   "execution_count": 1,
   "metadata": {},
   "outputs": [],
   "source": [
    "import numpy as np\n",
    "import pandas as pd"
   ]
  },
  {
   "cell_type": "markdown",
   "metadata": {},
   "source": [
    "##### 1. Crear un DataFrame a partir de los datos del archivo `datos_meteorologicos.csv` provisto en esta lección."
   ]
  },
  {
   "cell_type": "code",
   "execution_count": 2,
   "metadata": {},
   "outputs": [
    {
     "name": "stdout",
     "output_type": "stream",
     "text": [
      "           Fecha  Temperatura  Precipitación    Humedad\n",
      "0     01/01/2010    17.440675      10.957482  52.384637\n",
      "1     02/01/2010    25.759468       5.315628  30.633530\n",
      "2     03/01/2010    20.138169      15.317706  41.496715\n",
      "3     04/01/2010    17.244159      13.151008  90.684704\n",
      "4     05/01/2010    11.182740      16.413667  22.116422\n",
      "...          ...          ...            ...        ...\n",
      "5105  24/12/2023    -9.554692      12.700998  50.094533\n",
      "5106  25/12/2023     2.837831       5.475686  92.456057\n",
      "5107  26/12/2023    29.873597       4.615012  18.362847\n",
      "5108  27/12/2023          NaN            NaN        NaN\n",
      "5109  28/12/2023    37.308043       7.330510  50.646211\n",
      "\n",
      "[5110 rows x 4 columns]\n"
     ]
    }
   ],
   "source": [
    "df: pd.DataFrame = pd.read_csv('./data/datos_meteorologicos.csv')\n",
    "\n",
    "print(df)"
   ]
  },
  {
   "cell_type": "markdown",
   "metadata": {},
   "source": [
    "##### 2. Realizar observaciones iniciales de los datos con Pandas."
   ]
  },
  {
   "cell_type": "code",
   "execution_count": 3,
   "metadata": {},
   "outputs": [
    {
     "name": "stdout",
     "output_type": "stream",
     "text": [
      "<class 'pandas.core.frame.DataFrame'>\n",
      "RangeIndex: 5110 entries, 0 to 5109\n",
      "Data columns (total 4 columns):\n",
      " #   Column         Non-Null Count  Dtype  \n",
      "---  ------         --------------  -----  \n",
      " 0   Fecha          5110 non-null   object \n",
      " 1   Temperatura    4855 non-null   float64\n",
      " 2   Precipitación  4855 non-null   float64\n",
      " 3   Humedad        4855 non-null   float64\n",
      "dtypes: float64(3), object(1)\n",
      "memory usage: 159.8+ KB\n",
      "None\n"
     ]
    }
   ],
   "source": [
    "# Obtener información general sobre el DataFrame\n",
    "print(df.info())"
   ]
  },
  {
   "cell_type": "code",
   "execution_count": 4,
   "metadata": {},
   "outputs": [
    {
     "name": "stdout",
     "output_type": "stream",
     "text": [
      "       Temperatura  Precipitación      Humedad\n",
      "count  4855.000000    4855.000000  4855.000000\n",
      "mean     14.889296       9.901604    54.359061\n",
      "std      14.440466       5.801842    26.096345\n",
      "min      -9.996378       0.003008    10.014980\n",
      "25%       2.651777       4.756907    31.866578\n",
      "50%      14.693274       9.853698    54.254478\n",
      "75%      27.381451      14.966997    77.029500\n",
      "max      39.998201      19.999559    99.996582\n"
     ]
    }
   ],
   "source": [
    "# Obtener una descripción estadística del DataFrame (con los datos que hay)\n",
    "print(df.describe())"
   ]
  },
  {
   "cell_type": "code",
   "execution_count": 5,
   "metadata": {},
   "outputs": [
    {
     "name": "stdout",
     "output_type": "stream",
     "text": [
      "Fecha              0\n",
      "Temperatura      255\n",
      "Precipitación    255\n",
      "Humedad          255\n",
      "dtype: int64\n"
     ]
    }
   ],
   "source": [
    "# Obtener la cantidad de celdas nulas en el DataFrame\n",
    "print(df.isna().sum())"
   ]
  },
  {
   "cell_type": "code",
   "execution_count": 6,
   "metadata": {},
   "outputs": [
    {
     "name": "stdout",
     "output_type": "stream",
     "text": [
      "           Fecha  Temperatura  Precipitación  Humedad\n",
      "7     08/01/2010          NaN            NaN      NaN\n",
      "20    21/01/2010          NaN            NaN      NaN\n",
      "39    09/02/2010          NaN            NaN      NaN\n",
      "41    11/02/2010          NaN            NaN      NaN\n",
      "84    26/03/2010          NaN            NaN      NaN\n",
      "...          ...          ...            ...      ...\n",
      "5011  21/09/2023          NaN            NaN      NaN\n",
      "5034  14/10/2023          NaN            NaN      NaN\n",
      "5063  12/11/2023          NaN            NaN      NaN\n",
      "5088  07/12/2023          NaN            NaN      NaN\n",
      "5108  27/12/2023          NaN            NaN      NaN\n",
      "\n",
      "[255 rows x 4 columns]\n"
     ]
    }
   ],
   "source": [
    "# Obtener las filas donde hay nulos\n",
    "null_rows: pd.DataFrame = df[df.isna().any(axis=1)]\n",
    "\n",
    "print(null_rows)"
   ]
  },
  {
   "cell_type": "code",
   "execution_count": 7,
   "metadata": {},
   "outputs": [
    {
     "name": "stdout",
     "output_type": "stream",
     "text": [
      "[7, 20, 39, 41, 84, 85, 146, 151, 154, 188, 195, 260, 269, 290, 366, 394, 397, 412, 418, 439, 449, 487, 497, 518, 541, 543, 574, 593, 644, 689, 698, 741, 745, 752, 759, 815, 859, 870, 873, 876, 888, 921, 955, 992, 1007, 1037, 1046, 1056, 1087, 1106, 1113, 1144, 1147, 1187, 1193, 1201, 1213, 1225, 1246, 1289, 1309, 1310, 1312, 1316, 1355, 1388, 1402, 1420, 1444, 1483, 1534, 1538, 1615, 1617, 1630, 1697, 1700, 1704, 1710, 1783, 1790, 1818, 1820, 1825, 1835, 1842, 1848, 1919, 1921, 1941, 1971, 1995, 2032, 2056, 2084, 2093, 2121, 2159, 2174, 2182, 2192, 2210, 2220, 2224, 2233, 2272, 2283, 2316, 2325, 2329, 2352, 2375, 2376, 2393, 2407, 2457, 2482, 2491, 2513, 2515, 2532, 2535, 2541, 2557, 2589, 2594, 2634, 2653, 2674, 2675, 2690, 2720, 2731, 2770, 2781, 2816, 2820, 2822, 2834, 2842, 2862, 2902, 2906, 2912, 2966, 2979, 3003, 3032, 3037, 3041, 3048, 3068, 3070, 3075, 3100, 3123, 3139, 3147, 3156, 3166, 3192, 3211, 3243, 3256, 3261, 3272, 3282, 3312, 3365, 3377, 3426, 3451, 3498, 3521, 3524, 3532, 3539, 3608, 3616, 3618, 3689, 3716, 3717, 3728, 3755, 3776, 3788, 3823, 3826, 3831, 3835, 3841, 3862, 3896, 3898, 3903, 3921, 3948, 3994, 3995, 4006, 4024, 4030, 4037, 4045, 4089, 4094, 4096, 4108, 4162, 4170, 4180, 4219, 4245, 4252, 4313, 4323, 4325, 4326, 4342, 4347, 4363, 4364, 4386, 4400, 4425, 4435, 4455, 4570, 4587, 4602, 4678, 4679, 4705, 4720, 4742, 4750, 4781, 4782, 4796, 4800, 4805, 4809, 4850, 4856, 4861, 4864, 4930, 4934, 4949, 5011, 5034, 5063, 5088, 5108]\n"
     ]
    }
   ],
   "source": [
    "# Obtener los índices de las filas donde hay nulos\n",
    "null_indexes: pd.Index = df[df.isna().any(axis=1)].index\n",
    "\n",
    "print(null_indexes.to_list())"
   ]
  },
  {
   "cell_type": "code",
   "execution_count": 8,
   "metadata": {},
   "outputs": [
    {
     "name": "stdout",
     "output_type": "stream",
     "text": [
      "01/01/2010\n",
      "<class 'str'>\n"
     ]
    }
   ],
   "source": [
    "# Ver un elemento de la columna 'Fecha' y su tipo de dato\n",
    "print(df['Fecha'][0])\n",
    "print(type(df['Fecha'][0]))"
   ]
  },
  {
   "cell_type": "markdown",
   "metadata": {},
   "source": [
    "##### 3. Convertir las columnas del DataFrame en arrays de NumPy."
   ]
  },
  {
   "cell_type": "code",
   "execution_count": 9,
   "metadata": {},
   "outputs": [
    {
     "name": "stdout",
     "output_type": "stream",
     "text": [
      "2010-01-01 00:00:00\n",
      "<class 'pandas._libs.tslibs.timestamps.Timestamp'>\n"
     ]
    }
   ],
   "source": [
    "# Primero, cambiar el tipo de dato de la columna 'Fecha' al correcto\n",
    "df_fecha: pd.Series = df['Fecha']\n",
    "df_fecha = pd.to_datetime(df['Fecha'], format='%d/%m/%Y')\n",
    "print(df_fecha[0])\n",
    "print(type(df_fecha[0]))"
   ]
  },
  {
   "cell_type": "code",
   "execution_count": 10,
   "metadata": {},
   "outputs": [
    {
     "name": "stdout",
     "output_type": "stream",
     "text": [
      "['2010-01-01T00:00:00.000000000' '2010-01-02T00:00:00.000000000'\n",
      " '2010-01-03T00:00:00.000000000' ... '2023-12-26T00:00:00.000000000'\n",
      " '2023-12-27T00:00:00.000000000' '2023-12-28T00:00:00.000000000']\n"
     ]
    }
   ],
   "source": [
    "# Fecha\n",
    "fecha: np.ndarray = df_fecha.to_numpy()\n",
    "\n",
    "print(fecha)"
   ]
  },
  {
   "cell_type": "code",
   "execution_count": 11,
   "metadata": {},
   "outputs": [
    {
     "name": "stdout",
     "output_type": "stream",
     "text": [
      "[17.4406752  25.75946832 20.1381688  ... 29.87359717         nan\n",
      " 37.30804318]\n"
     ]
    }
   ],
   "source": [
    "# Temperatura\n",
    "temperatura: np.ndarray = df['Temperatura'].to_numpy()\n",
    "\n",
    "print(temperatura)"
   ]
  },
  {
   "cell_type": "code",
   "execution_count": 12,
   "metadata": {},
   "outputs": [
    {
     "name": "stdout",
     "output_type": "stream",
     "text": [
      "[10.957482    5.31562765 15.31770609 ...  4.61501177         nan\n",
      "  7.33051023]\n"
     ]
    }
   ],
   "source": [
    "# Precipitación\n",
    "precipitacion: np.ndarray = df['Precipitación'].to_numpy()\n",
    "\n",
    "print(precipitacion)"
   ]
  },
  {
   "cell_type": "code",
   "execution_count": 13,
   "metadata": {},
   "outputs": [
    {
     "name": "stdout",
     "output_type": "stream",
     "text": [
      "[52.38463749 30.63352983 41.49671458 ... 18.36284738         nan\n",
      " 50.64621058]\n"
     ]
    }
   ],
   "source": [
    "# Humedad\n",
    "humedad: np.ndarray = df['Humedad'].to_numpy()\n",
    "\n",
    "print(humedad)"
   ]
  },
  {
   "cell_type": "markdown",
   "metadata": {},
   "source": [
    "### 4. Identificar los datos faltantes en los arrays, y reemplazarlos por el promedio de los valores del respectivo array."
   ]
  },
  {
   "cell_type": "code",
   "execution_count": 14,
   "metadata": {},
   "outputs": [
    {
     "name": "stdout",
     "output_type": "stream",
     "text": [
      "media_temperatura=14.889295723531715\n",
      "[17.4406752  25.75946832 20.1381688  ... 29.87359717 14.88929572\n",
      " 37.30804318]\n",
      "Cantidad de valores nulos: 0\n"
     ]
    }
   ],
   "source": [
    "\"\"\"\n",
    "Reemplazar los valores nulos en el array de 'Temperatura' por el\n",
    "promedio de los valores no nulos\n",
    "\"\"\"\n",
    "media_temperatura = np.nanmean(temperatura)\n",
    "print(f'{media_temperatura=}')\n",
    "temperatura = np.where(np.isnan(temperatura), media_temperatura, temperatura)\n",
    "\n",
    "print(temperatura)\n",
    "print(f'Cantidad de valores nulos: {np.sum(np.isnan(temperatura).tolist())}')\n"
   ]
  },
  {
   "cell_type": "code",
   "execution_count": 15,
   "metadata": {},
   "outputs": [
    {
     "name": "stdout",
     "output_type": "stream",
     "text": [
      "media_precipitacion=9.9016035987084\n",
      "[10.957482    5.31562765 15.31770609 ...  4.61501177  9.9016036\n",
      "  7.33051023]\n",
      "Cantidad de valores nulos: 0\n"
     ]
    }
   ],
   "source": [
    "\"\"\"\n",
    "Reemplazar los valores nulos en el array de 'Precipitación' por el\n",
    "promedio de los valores no nulos\n",
    "\"\"\"\n",
    "media_precipitacion = np.nanmean(precipitacion)\n",
    "print(f'{media_precipitacion=}')\n",
    "precipitacion = np.where(\n",
    "    np.isnan(precipitacion),\n",
    "    media_precipitacion,\n",
    "    precipitacion\n",
    ")\n",
    "\n",
    "print(precipitacion)\n",
    "print(f'Cantidad de valores nulos: {np.sum(np.isnan(precipitacion).tolist())}')"
   ]
  },
  {
   "cell_type": "code",
   "execution_count": 16,
   "metadata": {},
   "outputs": [
    {
     "name": "stdout",
     "output_type": "stream",
     "text": [
      "media_humedad=54.35906079674394\n",
      "[52.38463749 30.63352983 41.49671458 ... 18.36284738 54.3590608\n",
      " 50.64621058]\n",
      "Cantidad de valores nulos: 0\n"
     ]
    }
   ],
   "source": [
    "\"\"\"\n",
    "Reemplazar los valores nulos en el array de 'Humedad' por el\n",
    "promedio de los valores no nulos\n",
    "\"\"\"\n",
    "media_humedad = np.nanmean(humedad)\n",
    "print(f'{media_humedad=}')\n",
    "humedad = np.where(np.isnan(humedad), media_humedad, humedad)\n",
    "\n",
    "print(humedad)\n",
    "print(f'Cantidad de valores nulos: {np.sum(np.isnan(humedad).tolist())}')"
   ]
  },
  {
   "cell_type": "markdown",
   "metadata": {},
   "source": [
    "##### 5. Realizar análisis estadísticos básicos."
   ]
  },
  {
   "cell_type": "code",
   "execution_count": 17,
   "metadata": {},
   "outputs": [
    {
     "name": "stdout",
     "output_type": "stream",
     "text": [
      "          Fecha  Temperatura  Precipitación    Humedad\n",
      "0    2010-01-01    17.440675      10.957482  52.384637\n",
      "1    2010-01-02    25.759468       5.315628  30.633530\n",
      "2    2010-01-03    20.138169      15.317706  41.496715\n",
      "3    2010-01-04    17.244159      13.151008  90.684704\n",
      "4    2010-01-05    11.182740      16.413667  22.116422\n",
      "...         ...          ...            ...        ...\n",
      "5105 2023-12-24    -9.554692      12.700998  50.094533\n",
      "5106 2023-12-25     2.837831       5.475686  92.456057\n",
      "5107 2023-12-26    29.873597       4.615012  18.362847\n",
      "5108 2023-12-27    14.889296       9.901604  54.359061\n",
      "5109 2023-12-28    37.308043       7.330510  50.646211\n",
      "\n",
      "[5110 rows x 4 columns]\n"
     ]
    }
   ],
   "source": [
    "\"\"\"\n",
    "Primero que todo, crear un nuevo dataframe con las columnas 'Fecha',\n",
    "'Temperatura', 'Precipitación', 'Humedad'\n",
    "\"\"\"\n",
    "df_corregido: pd.DataFrame = pd.DataFrame({\n",
    "    'Fecha': fecha,\n",
    "    'Temperatura': temperatura,\n",
    "    'Precipitación': precipitacion,\n",
    "    'Humedad': humedad\n",
    "})\n",
    "\n",
    "print(df_corregido)"
   ]
  },
  {
   "cell_type": "code",
   "execution_count": 18,
   "metadata": {},
   "outputs": [
    {
     "name": "stdout",
     "output_type": "stream",
     "text": [
      "<class 'pandas.core.frame.DataFrame'>\n",
      "RangeIndex: 5110 entries, 0 to 5109\n",
      "Data columns (total 4 columns):\n",
      " #   Column         Non-Null Count  Dtype         \n",
      "---  ------         --------------  -----         \n",
      " 0   Fecha          5110 non-null   datetime64[ns]\n",
      " 1   Temperatura    5110 non-null   float64       \n",
      " 2   Precipitación  5110 non-null   float64       \n",
      " 3   Humedad        5110 non-null   float64       \n",
      "dtypes: datetime64[ns](1), float64(3)\n",
      "memory usage: 159.8 KB\n",
      "None\n"
     ]
    }
   ],
   "source": [
    "# Obtener info del nuevo dataframe\n",
    "print(df_corregido.info())"
   ]
  },
  {
   "cell_type": "code",
   "execution_count": 19,
   "metadata": {},
   "outputs": [
    {
     "name": "stdout",
     "output_type": "stream",
     "text": [
      "La temperatura promedio entre los años 2010 y 2023 es: 14.89 °C\n"
     ]
    }
   ],
   "source": [
    "# Obtener la temperatura promedio general (se asume °C)\n",
    "temperatura_promedio: np.floating = np.mean(temperatura)\n",
    "\n",
    "print(\n",
    "    'La temperatura promedio entre los años 2010 y 2023 es: '\n",
    "    f'{temperatura_promedio:,.2f} °C'\n",
    ")"
   ]
  },
  {
   "cell_type": "code",
   "execution_count": 20,
   "metadata": {},
   "outputs": [
    {
     "name": "stdout",
     "output_type": "stream",
     "text": [
      "Las precipitaciones totales entre los años 2010 y 2023 son: 50,597.19 mm\n"
     ]
    }
   ],
   "source": [
    "# Obtener el total de precipitaciones (se asume mm)\n",
    "precipitaciones_totales: np.floating = np.sum(precipitacion)\n",
    "\n",
    "print(\n",
    "    'Las precipitaciones totales entre los años 2010 y 2023 son: '\n",
    "    f'{precipitaciones_totales:,.2f} mm'\n",
    ")"
   ]
  },
  {
   "cell_type": "code",
   "execution_count": 21,
   "metadata": {},
   "outputs": [
    {
     "name": "stdout",
     "output_type": "stream",
     "text": [
      "La humedad relativa máxima en el período 2010 - 2023 fue: 100.00 %\n"
     ]
    }
   ],
   "source": [
    "# Obtener la máxima humedad registrada (asumiendo % humedad relativa)\n",
    "maxima_humedad: np.floating = np.max(humedad)\n",
    "\n",
    "print(\n",
    "    'La humedad relativa máxima en el período 2010 - 2023 fue: '\n",
    "    f'{maxima_humedad:,.2f} %'\n",
    ")"
   ]
  },
  {
   "cell_type": "code",
   "execution_count": 22,
   "metadata": {},
   "outputs": [
    {
     "name": "stdout",
     "output_type": "stream",
     "text": [
      "La fecha más calurosa fue el 12/07/2017\n"
     ]
    }
   ],
   "source": [
    "# Obtener la fecha más calurosa\n",
    "indice_max_temperatura = df_corregido['Temperatura'].idxmax()\n",
    "fecha_mas_calurosa = df_corregido['Fecha'][indice_max_temperatura]\n",
    "print(\n",
    "    f'La fecha más calurosa fue el {fecha_mas_calurosa.strftime('%d/%m/%Y')}'\n",
    ")"
   ]
  },
  {
   "cell_type": "code",
   "execution_count": 23,
   "metadata": {},
   "outputs": [
    {
     "name": "stdout",
     "output_type": "stream",
     "text": [
      "La fecha más fria fue el 23/07/2020\n"
     ]
    }
   ],
   "source": [
    "# Obtener la fecha más fría\n",
    "indice_min_temperatura = df_corregido['Temperatura'].idxmin()\n",
    "fecha_mas_fria = df_corregido['Fecha'][indice_min_temperatura]\n",
    "print(\n",
    "    f'La fecha más fria fue el {fecha_mas_fria.strftime('%d/%m/%Y')}'\n",
    ")"
   ]
  },
  {
   "cell_type": "markdown",
   "metadata": {},
   "source": [
    "##### 6. Exportar los resultados a un nuevo archivo CSV."
   ]
  },
  {
   "cell_type": "code",
   "execution_count": 24,
   "metadata": {},
   "outputs": [
    {
     "name": "stdout",
     "output_type": "stream",
     "text": [
      "Se ha guardado el archivo con el DataFrame completo en la ruta: ./data/Proyecto_Analisis_Meteorologia.csv\n"
     ]
    }
   ],
   "source": [
    "# Guardar resultados en un archivo CSV\n",
    "save_path: str = './data/Proyecto_Analisis_Meteorologia.csv'\n",
    "df_corregido.to_csv(save_path, index=False)\n",
    "print(\n",
    "    'Se ha guardado el archivo con el DataFrame completo en la ruta: '\n",
    "    + save_path\n",
    ")"
   ]
  },
  {
   "cell_type": "code",
   "execution_count": 25,
   "metadata": {},
   "outputs": [
    {
     "name": "stdout",
     "output_type": "stream",
     "text": [
      "Se ha guardado el archivo con el DataFrame completo en la ruta: ./data/Proyecto_Analisis_Meteorologia_Resultados.csv\n"
     ]
    }
   ],
   "source": [
    "# Guardar sólo los resultados\n",
    "save_path_results: str = './data/Proyecto_Analisis_Meteorologia_Resultados.csv'\n",
    "results_df: pd.DataFrame = pd.DataFrame({\n",
    "    'Métrica': ['Temperatura promedio', 'Precipitación total', 'Humedad máxima', 'Fecha más calurosa', 'Fecha más fria'],\n",
    "    'Valor': [temperatura_promedio, precipitaciones_totales, maxima_humedad, fecha_mas_calurosa, fecha_mas_fria]\n",
    "})\n",
    "results_df.to_csv(save_path_results, index=False)\n",
    "print(\n",
    "    'Se ha guardado el archivo con el DataFrame completo en la ruta: '\n",
    "    + save_path_results\n",
    ")"
   ]
  }
 ],
 "metadata": {
  "kernelspec": {
   "display_name": "base",
   "language": "python",
   "name": "python3"
  },
  "language_info": {
   "codemirror_mode": {
    "name": "ipython",
    "version": 3
   },
   "file_extension": ".py",
   "mimetype": "text/x-python",
   "name": "python",
   "nbconvert_exporter": "python",
   "pygments_lexer": "ipython3",
   "version": "3.12.4"
  }
 },
 "nbformat": 4,
 "nbformat_minor": 2
}
