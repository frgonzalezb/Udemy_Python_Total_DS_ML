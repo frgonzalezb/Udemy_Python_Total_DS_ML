{
 "cells": [
  {
   "cell_type": "markdown",
   "metadata": {},
   "source": [
    "# Manipulación de Arrays en NumPy"
   ]
  },
  {
   "cell_type": "code",
   "execution_count": 1,
   "metadata": {},
   "outputs": [],
   "source": [
    "import numpy as np"
   ]
  },
  {
   "cell_type": "code",
   "execution_count": 2,
   "metadata": {},
   "outputs": [
    {
     "name": "stdout",
     "output_type": "stream",
     "text": [
      "[1 2 3 4 5 6 7 8 9]\n"
     ]
    }
   ],
   "source": [
    "# Concatenar listas en un array\n",
    "x: list[int] = [1, 2, 3]\n",
    "y: list[int] = [4, 5, 6]\n",
    "z: list[int] = [7, 8, 9]\n",
    "\n",
    "print(np.concatenate([x, y, z]))"
   ]
  },
  {
   "cell_type": "code",
   "execution_count": 3,
   "metadata": {},
   "outputs": [
    {
     "name": "stdout",
     "output_type": "stream",
     "text": [
      "[[1 2 5 6]\n",
      " [3 4 7 8]]\n"
     ]
    }
   ],
   "source": [
    "# Concatenar listas en un array 2D con axis=1 (horizontalmente)\n",
    "a: list[list[int]] = [[1, 2], [3, 4]]\n",
    "b: list[list[int]] = [[5, 6], [7, 8]]\n",
    "\n",
    "print(np.concatenate([a, b], axis=1))"
   ]
  },
  {
   "cell_type": "code",
   "execution_count": 4,
   "metadata": {},
   "outputs": [
    {
     "name": "stdout",
     "output_type": "stream",
     "text": [
      "[[1 2]\n",
      " [3 4]\n",
      " [5 6]\n",
      " [7 8]]\n"
     ]
    }
   ],
   "source": [
    "# Concatenar listas en un array 2D con axis=0 (verticalmente)\n",
    "print(np.concatenate([a, b], axis=0))"
   ]
  },
  {
   "cell_type": "code",
   "execution_count": 5,
   "metadata": {},
   "outputs": [
    {
     "name": "stdout",
     "output_type": "stream",
     "text": [
      "(4, 2)\n"
     ]
    }
   ],
   "source": [
    "# Conocer la forma del último array concatenado\n",
    "concatenated_array: np.ndarray = np.concatenate([a, b], axis=0)\n",
    "print(concatenated_array.shape)"
   ]
  },
  {
   "cell_type": "code",
   "execution_count": 6,
   "metadata": {},
   "outputs": [
    {
     "name": "stdout",
     "output_type": "stream",
     "text": [
      "[[1 2 3 4]\n",
      " [5 6 7 8]]\n"
     ]
    }
   ],
   "source": [
    "# Redimensionar la forma del array concatenado\n",
    "reshaped_array: np.ndarray = concatenated_array.reshape(2, 4)\n",
    "print(reshaped_array)"
   ]
  },
  {
   "cell_type": "code",
   "execution_count": 10,
   "metadata": {},
   "outputs": [
    {
     "name": "stdout",
     "output_type": "stream",
     "text": [
      "1D arrays sum:\n",
      " [5 7 9]\n",
      "\n",
      "2D arrays sum:\n",
      " [[ 2  4  6  8]\n",
      " [10 12 14 16]]\n"
     ]
    }
   ],
   "source": [
    "# Sumar arrays\n",
    "sum_arrays_1d: np.ndarray = np.array([1, 2, 3]) + np.array([4, 5, 6])\n",
    "print('1D arrays sum:\\n', sum_arrays_1d)\n",
    "\n",
    "sum_arrays_2d: np.ndarray = reshaped_array + reshaped_array\n",
    "print('\\n2D arrays sum:\\n',sum_arrays_2d)"
   ]
  },
  {
   "cell_type": "code",
   "execution_count": 11,
   "metadata": {},
   "outputs": [
    {
     "name": "stdout",
     "output_type": "stream",
     "text": [
      "1D arrays product:\n",
      " [ 4 10 18]\n",
      "\n",
      "2D arrays product:\n",
      " [[ 1  4  9 16]\n",
      " [25 36 49 64]]\n"
     ]
    }
   ],
   "source": [
    "# Multiplicar arrays\n",
    "product_arrays_1d: np.ndarray = np.array([1, 2, 3]) * np.array([4, 5, 6])\n",
    "print('1D arrays product:\\n', product_arrays_1d)\n",
    "\n",
    "product_arrays_2d: np.ndarray = reshaped_array * reshaped_array\n",
    "print('\\n2D arrays product:\\n',product_arrays_2d)"
   ]
  },
  {
   "cell_type": "code",
   "execution_count": 12,
   "metadata": {},
   "outputs": [
    {
     "name": "stdout",
     "output_type": "stream",
     "text": [
      "[[1. 2. 3. 4.]\n",
      " [5. 6. 7. 8.]]\n"
     ]
    }
   ],
   "source": [
    "# Obtener las raíces cuadradas\n",
    "roots_bloody_roots = np.sqrt(product_arrays_2d)\n",
    "print(roots_bloody_roots)"
   ]
  }
 ],
 "metadata": {
  "kernelspec": {
   "display_name": "base",
   "language": "python",
   "name": "python3"
  },
  "language_info": {
   "codemirror_mode": {
    "name": "ipython",
    "version": 3
   },
   "file_extension": ".py",
   "mimetype": "text/x-python",
   "name": "python",
   "nbconvert_exporter": "python",
   "pygments_lexer": "ipython3",
   "version": "3.12.4"
  }
 },
 "nbformat": 4,
 "nbformat_minor": 2
}
