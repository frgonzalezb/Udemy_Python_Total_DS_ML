{
 "cells": [
  {
   "cell_type": "markdown",
   "metadata": {},
   "source": [
    "# Operaciones Avanzadas y Funciones Universales en NumPy 1\n",
    "\n",
    "Crea un programa que defina dos arrays usando NumPy: el primer array `A` debe ser un array unidimensional de 5 elementos, iniciando en 1 y con pasos de 2 (i.e., `[1, 3, 5, 7, 9]`), y el segundo array `B` debe ser un array bidimensional de forma (5,1), con valores que comiencen en 10 y aumenten de 10 en 10 (i.e., `[[10], [20], [30], [40], [50]]`).\n",
    "\n",
    "Utiliza el concepto de broadcasting para sumar estos dos arrays y almacena su resultado en una variable llamada `resultado`"
   ]
  },
  {
   "cell_type": "code",
   "execution_count": 5,
   "metadata": {},
   "outputs": [
    {
     "name": "stdout",
     "output_type": "stream",
     "text": [
      "resultado=array([[11, 13, 15, 17, 19],\n",
      "       [21, 23, 25, 27, 29],\n",
      "       [31, 33, 35, 37, 39],\n",
      "       [41, 43, 45, 47, 49],\n",
      "       [51, 53, 55, 57, 59]])\n"
     ]
    }
   ],
   "source": [
    "import numpy as np\n",
    "\n",
    "\n",
    "A: np.ndarray = np.array(range(1, 10, 2))\n",
    "B: np.ndarray = np.array([[10], [20], [30], [40], [50]])\n",
    "\n",
    "resultado: np.ndarray = A + B\n",
    "print(f'{resultado=}')"
   ]
  },
  {
   "cell_type": "markdown",
   "metadata": {},
   "source": [
    "# Operaciones Avanzadas y Funciones Universales en NumPy 2\n",
    "\n",
    "Crea un programa que defina dos arrays usando NumPy: el primer array `A` debe ser un array unidimensional de 10 elementos, iniciando en 1 hasta el 10, y el segundo array `B` debe ser un array bidimensional de forma (5,1), con valores que comiencen en 10 y aumenten de 10 en 10 (i.e., [[10], [20], [30], [40], [50]]).\n",
    "\n",
    "Utiliza el concepto de broadcasting para multiplicar estos dos arrays almacena el resultado en una variable llamada `resultado`"
   ]
  },
  {
   "cell_type": "code",
   "execution_count": 7,
   "metadata": {},
   "outputs": [
    {
     "name": "stdout",
     "output_type": "stream",
     "text": [
      "resultado=array([[ 10,  20,  30,  40,  50,  60,  70,  80,  90],\n",
      "       [ 20,  40,  60,  80, 100, 120, 140, 160, 180],\n",
      "       [ 30,  60,  90, 120, 150, 180, 210, 240, 270],\n",
      "       [ 40,  80, 120, 160, 200, 240, 280, 320, 360],\n",
      "       [ 50, 100, 150, 200, 250, 300, 350, 400, 450]])\n"
     ]
    }
   ],
   "source": [
    "import numpy as np\n",
    "\n",
    "\n",
    "A: np.ndarray = np.array(range(1, 11))\n",
    "B: np.ndarray = np.array([[10], [20], [30], [40], [50]])\n",
    "\n",
    "resultado: np.ndarray = A * B\n",
    "print(f'{resultado=}')"
   ]
  },
  {
   "cell_type": "markdown",
   "metadata": {},
   "source": [
    "# Operaciones Avanzadas y Funciones Universales en NumPy 3\n",
    "\n",
    "Crea un programa que defina un array usando NumPy: `A` debe ser un array unidimensional de solamente 3 elementos, iniciando en 1 y terminando en 3 (inclusive)\n",
    "\n",
    "Utiliza la función matemática adecuada para almacenar en una variable llamada `resultado` el exponente de cada numero contenido en `A`"
   ]
  },
  {
   "cell_type": "code",
   "execution_count": 8,
   "metadata": {},
   "outputs": [
    {
     "name": "stdout",
     "output_type": "stream",
     "text": [
      "resultado=array([ 2.71828183,  7.3890561 , 20.08553692])\n"
     ]
    }
   ],
   "source": [
    "import numpy as np\n",
    "\n",
    "\n",
    "A: np.ndarray = np.array(range(1, 4))\n",
    "resultado = np.exp(A)\n",
    "print(f'{resultado=}')"
   ]
  }
 ],
 "metadata": {
  "kernelspec": {
   "display_name": "base",
   "language": "python",
   "name": "python3"
  },
  "language_info": {
   "codemirror_mode": {
    "name": "ipython",
    "version": 3
   },
   "file_extension": ".py",
   "mimetype": "text/x-python",
   "name": "python",
   "nbconvert_exporter": "python",
   "pygments_lexer": "ipython3",
   "version": "3.12.4"
  }
 },
 "nbformat": 4,
 "nbformat_minor": 2
}
