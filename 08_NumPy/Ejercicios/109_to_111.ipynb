{
 "cells": [
  {
   "cell_type": "markdown",
   "metadata": {},
   "source": [
    "# Introducción a NumPy 1\n",
    "\n",
    "Se te ha proporcionado un dataset que contiene información sobre varias ciudades, incluyendo su población y el número de visitantes anuales. Este dataset está representado en el siguiente DataFrame de Pandas:\n",
    "\n",
    "```\n",
    "datos = {\n",
    "    \"Ciudad\": [\"Ciudad de México\", \"Buenos Aires\", \"Río de Janeiro\", \"Lima\", \"Bogotá\", \"Santiago de Chile\", \"São Paulo\", \"La Habana\", \"Cancún\", \"Cartagena\"],\n",
    "    \"País\": [\"México\", \"Argentina\", \"Brasil\", \"Perú\", \"Colombia\", \"Chile\", \"Brasil\", \"Cuba\", \"México\", \"Colombia\"],\n",
    "    \"Población\": [9265833, 3059574, 6748314, 9756020, 7181663, 6199241, 12333146, 2164182, 888124, 1036671],\n",
    "    \"Visitantes\": [21000000, 15000000, 13000000, 9000000, 8000000, 7500000, 20000000, 4000000, 5000000, 3000000]\n",
    "}\n",
    "```\n",
    "\n",
    "Utilizando los métodos adecuados de `numpy` para calcular el promedio de la población de todas estas ciudades y redondea el resultado, el cual debes almacenar en una variable llamada: `promedio_poblacion`"
   ]
  },
  {
   "cell_type": "code",
   "execution_count": 2,
   "metadata": {},
   "outputs": [
    {
     "name": "stdout",
     "output_type": "stream",
     "text": [
      "5863277.0\n"
     ]
    }
   ],
   "source": [
    "import numpy as np\n",
    "import pandas as pd\n",
    "\n",
    "\n",
    "datos = {\n",
    "    \"Ciudad\": [\"Ciudad de México\", \"Buenos Aires\", \"Río de Janeiro\", \"Lima\", \"Bogotá\", \"Santiago de Chile\", \"São Paulo\", \"La Habana\", \"Cancún\", \"Cartagena\"],\n",
    "    \"País\": [\"México\", \"Argentina\", \"Brasil\", \"Perú\", \"Colombia\", \"Chile\", \"Brasil\", \"Cuba\", \"México\", \"Colombia\"],\n",
    "    \"Población\": [9265833, 3059574, 6748314, 9756020, 7181663, 6199241, 12333146, 2164182, 888124, 1036671],\n",
    "    \"Visitantes\": [21000000, 15000000, 13000000, 9000000, 8000000, 7500000, 20000000, 4000000, 5000000, 3000000]\n",
    "}\n",
    "\n",
    "df: pd.DataFrame = pd.DataFrame(data=datos)\n",
    "\n",
    "promedio_poblacion = np.round(df['Población'].mean())\n",
    "\n",
    "print(promedio_poblacion)"
   ]
  },
  {
   "cell_type": "markdown",
   "metadata": {},
   "source": [
    "# Introducción a NumPy 2\n",
    "\n",
    "Se te ha proporcionado un dataset que contiene información sobre varias ciudades, incluyendo su población y el número de visitantes anuales. Este dataset está representado en el siguiente DataFrame de Pandas:\n",
    "\n",
    "```\n",
    "datos = {\n",
    "    \"Ciudad\": [\"Ciudad de México\", \"Buenos Aires\", \"Río de Janeiro\", \"Lima\", \"Bogotá\", \"Santiago de Chile\", \"São Paulo\", \"La Habana\", \"Cancún\", \"Cartagena\"],\n",
    "    \"País\": [\"México\", \"Argentina\", \"Brasil\", \"Perú\", \"Colombia\", \"Chile\", \"Brasil\", \"Cuba\", \"México\", \"Colombia\"],\n",
    "    \"Población\": [9265833, 3059574, 6748314, 9756020, 7181663, 6199241, 12333146, 2164182, 888124, 1036671],\n",
    "    \"Visitantes\": [21000000, 15000000, 13000000, 9000000, 8000000, 7500000, 20000000, 4000000, 5000000, 3000000]\n",
    "}\n",
    "```\n",
    "\n",
    "Encuentra el **valor mínimo de visitantes** usando el método adecuado de numpy, y almacena este valor en una variable llamada: `min_visitantes`"
   ]
  },
  {
   "cell_type": "code",
   "execution_count": 3,
   "metadata": {},
   "outputs": [
    {
     "name": "stdout",
     "output_type": "stream",
     "text": [
      "3000000\n"
     ]
    }
   ],
   "source": [
    "import numpy as np\n",
    "import pandas as pd\n",
    "\n",
    "\n",
    "datos = {\n",
    "    \"Ciudad\": [\"Ciudad de México\", \"Buenos Aires\", \"Río de Janeiro\", \"Lima\", \"Bogotá\", \"Santiago de Chile\", \"São Paulo\", \"La Habana\", \"Cancún\", \"Cartagena\"],\n",
    "    \"País\": [\"México\", \"Argentina\", \"Brasil\", \"Perú\", \"Colombia\", \"Chile\", \"Brasil\", \"Cuba\", \"México\", \"Colombia\"],\n",
    "    \"Población\": [9265833, 3059574, 6748314, 9756020, 7181663, 6199241, 12333146, 2164182, 888124, 1036671],\n",
    "    \"Visitantes\": [21000000, 15000000, 13000000, 9000000, 8000000, 7500000, 20000000, 4000000, 5000000, 3000000]\n",
    "}\n",
    "\n",
    "df: pd.DataFrame = pd.DataFrame(data=datos)\n",
    "\n",
    "min_visitantes = np.min(df['Visitantes'])\n",
    "\n",
    "print(min_visitantes)"
   ]
  },
  {
   "cell_type": "markdown",
   "metadata": {},
   "source": [
    "# Introducción a NumPy 3\n",
    "\n",
    "Se te ha proporcionado un dataset que contiene información sobre varias ciudades, incluyendo su población y el número de visitantes anuales. Este dataset está representado en el siguiente DataFrame de Pandas:\n",
    "\n",
    "```\n",
    "datos = {\n",
    "    \"Ciudad\": [\"Ciudad de México\", \"Buenos Aires\", \"Río de Janeiro\", \"Lima\", \"Bogotá\", \"Santiago de Chile\", \"São Paulo\", \"La Habana\", \"Cancún\", \"Cartagena\"],\n",
    "    \"País\": [\"México\", \"Argentina\", \"Brasil\", \"Perú\", \"Colombia\", \"Chile\", \"Brasil\", \"Cuba\", \"México\", \"Colombia\"],\n",
    "    \"Población\": [9265833, 3059574, 6748314, 9756020, 7181663, 6199241, 12333146, 2164182, 888124, 1036671],\n",
    "    \"Visitantes\": [21000000, 15000000, 13000000, 9000000, 8000000, 7500000, 20000000, 4000000, 5000000, 3000000]\n",
    "}\n",
    "```\n",
    "\n",
    "Encuentra el **valor máximo de visitantes** usando el método adecuado de numpy, y almacena este valor en una variable llamada: `max_visitantes`"
   ]
  },
  {
   "cell_type": "code",
   "execution_count": 4,
   "metadata": {},
   "outputs": [
    {
     "name": "stdout",
     "output_type": "stream",
     "text": [
      "21000000\n"
     ]
    }
   ],
   "source": [
    "import numpy as np\n",
    "import pandas as pd\n",
    "\n",
    "\n",
    "datos = {\n",
    "    \"Ciudad\": [\"Ciudad de México\", \"Buenos Aires\", \"Río de Janeiro\", \"Lima\", \"Bogotá\", \"Santiago de Chile\", \"São Paulo\", \"La Habana\", \"Cancún\", \"Cartagena\"],\n",
    "    \"País\": [\"México\", \"Argentina\", \"Brasil\", \"Perú\", \"Colombia\", \"Chile\", \"Brasil\", \"Cuba\", \"México\", \"Colombia\"],\n",
    "    \"Población\": [9265833, 3059574, 6748314, 9756020, 7181663, 6199241, 12333146, 2164182, 888124, 1036671],\n",
    "    \"Visitantes\": [21000000, 15000000, 13000000, 9000000, 8000000, 7500000, 20000000, 4000000, 5000000, 3000000]\n",
    "}\n",
    "\n",
    "df: pd.DataFrame = pd.DataFrame(data=datos)\n",
    "\n",
    "max_visitantes = np.max(df['Visitantes'])\n",
    "\n",
    "print(max_visitantes)"
   ]
  }
 ],
 "metadata": {
  "kernelspec": {
   "display_name": "base",
   "language": "python",
   "name": "python3"
  },
  "language_info": {
   "codemirror_mode": {
    "name": "ipython",
    "version": 3
   },
   "file_extension": ".py",
   "mimetype": "text/x-python",
   "name": "python",
   "nbconvert_exporter": "python",
   "pygments_lexer": "ipython3",
   "version": "3.12.4"
  }
 },
 "nbformat": 4,
 "nbformat_minor": 2
}
