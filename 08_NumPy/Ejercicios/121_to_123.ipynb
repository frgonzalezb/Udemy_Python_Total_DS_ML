{
 "cells": [
  {
   "cell_type": "markdown",
   "metadata": {},
   "source": [
    "# Forma y Estructura de los Arrays de NumPy 1\n",
    "\n",
    "Crea un array de NumPy llamado `array_original` que contenga los números del 1 al 12 y luego cambia su forma para que se convierta en un array de 3 filas y 4 columnas. Almacenalo en una variable llamada `array_reshape`"
   ]
  },
  {
   "cell_type": "code",
   "execution_count": 2,
   "metadata": {},
   "outputs": [
    {
     "name": "stdout",
     "output_type": "stream",
     "text": [
      "[[ 1  2  3  4]\n",
      " [ 5  6  7  8]\n",
      " [ 9 10 11 12]]\n"
     ]
    }
   ],
   "source": [
    "import numpy as np\n",
    "\n",
    "\n",
    "array_original: np.ndarray = np.array(range(1, 13))\n",
    "array_reshape: np.ndarray = array_original.reshape(3, 4)\n",
    "print(array_reshape)"
   ]
  },
  {
   "cell_type": "markdown",
   "metadata": {},
   "source": [
    "# Forma y Estructura de los Arrays de NumPy 2\n",
    "\n",
    "Crea un array bidimensional llamado: `array_original` de forma (2, 3) que contenga los primeros 6 números enteros positivos. Utiliza el método correcto para cambiar sus filas por columnas. Almacenalo en una variable llamada `array_modificado`"
   ]
  },
  {
   "cell_type": "code",
   "execution_count": 3,
   "metadata": {},
   "outputs": [
    {
     "name": "stdout",
     "output_type": "stream",
     "text": [
      "[[1 4]\n",
      " [2 5]\n",
      " [3 6]]\n"
     ]
    }
   ],
   "source": [
    "import numpy as np\n",
    "\n",
    "\n",
    "array_original: np.ndarray = np.array([[1, 2, 3], [4, 5, 6]])\n",
    "array_modificado: np.ndarray = array_original.transpose()\n",
    "print(array_modificado)"
   ]
  },
  {
   "cell_type": "markdown",
   "metadata": {},
   "source": [
    "# Forma y Estructura de los Arrays de NumPy 3\n",
    "\n",
    "Crea un array de 2 dimensiones `array_original` de forma (2, 3) que contenga los primeros 6 números enteros positivos. Identico al del ejercicio anterior. Luego, crea una copia aplanada de este array y almacénalo en una variable llamada `array_aplanado`\n",
    "\n"
   ]
  },
  {
   "cell_type": "code",
   "execution_count": 4,
   "metadata": {},
   "outputs": [
    {
     "name": "stdout",
     "output_type": "stream",
     "text": [
      "[1 2 3 4 5 6]\n"
     ]
    }
   ],
   "source": [
    "import numpy as np\n",
    "\n",
    "\n",
    "array_original: np.ndarray = np.array([[1, 2, 3], [4, 5, 6]])\n",
    "array_aplanado: np.ndarray = array_original.flatten()\n",
    "print(array_aplanado)"
   ]
  }
 ],
 "metadata": {
  "kernelspec": {
   "display_name": "base",
   "language": "python",
   "name": "python3"
  },
  "language_info": {
   "codemirror_mode": {
    "name": "ipython",
    "version": 3
   },
   "file_extension": ".py",
   "mimetype": "text/x-python",
   "name": "python",
   "nbconvert_exporter": "python",
   "pygments_lexer": "ipython3",
   "version": "3.12.4"
  }
 },
 "nbformat": 4,
 "nbformat_minor": 2
}
