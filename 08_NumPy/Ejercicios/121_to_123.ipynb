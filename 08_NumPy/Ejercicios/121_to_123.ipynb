{
 "cells": [
  {
   "cell_type": "markdown",
   "metadata": {},
   "source": [
    "# Forma y Estructura de los Arrays de NumPy 1\n",
    "\n",
    "Crea un array de NumPy llamado `array_original` que contenga los números del 1 al 12 y luego cambia su forma para que se convierta en un array de 3 filas y 4 columnas. Almacenalo en una variable llamada `array_reshape`"
   ]
  },
  {
   "cell_type": "code",
   "execution_count": 2,
   "metadata": {},
   "outputs": [
    {
     "name": "stdout",
     "output_type": "stream",
     "text": [
      "[[ 1  2  3  4]\n",
      " [ 5  6  7  8]\n",
      " [ 9 10 11 12]]\n"
     ]
    }
   ],
   "source": [
    "import numpy as np\n",
    "\n",
    "\n",
    "array_original: np.ndarray = np.array(range(1, 13))\n",
    "array_reshape: np.ndarray = array_original.reshape(3, 4)\n",
    "print(array_reshape)"
   ]
  }
 ],
 "metadata": {
  "kernelspec": {
   "display_name": "base",
   "language": "python",
   "name": "python3"
  },
  "language_info": {
   "codemirror_mode": {
    "name": "ipython",
    "version": 3
   },
   "file_extension": ".py",
   "mimetype": "text/x-python",
   "name": "python",
   "nbconvert_exporter": "python",
   "pygments_lexer": "ipython3",
   "version": "3.12.4"
  }
 },
 "nbformat": 4,
 "nbformat_minor": 2
}
