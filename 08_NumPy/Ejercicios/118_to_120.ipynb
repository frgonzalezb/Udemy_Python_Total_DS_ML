{
 "cells": [
  {
   "cell_type": "markdown",
   "metadata": {},
   "source": [
    "# Indexación y Segmentación en Arrays de NumPy 1\n",
    "\n",
    "Crea un array de numpy nombrado `numeros` que contenga los primeros 10 números enteros (del 1 al 10). Luego escribe un código para obtener el quinto elemento de este array. Almacenalo en una variable llamada `quinto_elemento`\n",
    "\n",
    "Recuerda que los elementos se cuentan a partir de 1 en adelante, mientras que los indices de los elementos que componen una lista o array comienzan desde 0."
   ]
  },
  {
   "cell_type": "code",
   "execution_count": 2,
   "metadata": {},
   "outputs": [
    {
     "name": "stdout",
     "output_type": "stream",
     "text": [
      "5\n"
     ]
    }
   ],
   "source": [
    "import numpy as np\n",
    "\n",
    "\n",
    "numeros: np.ndarray = np.array(range(1, 11))\n",
    "quinto_elemento = numeros[4]\n",
    "print(quinto_elemento)"
   ]
  },
  {
   "cell_type": "markdown",
   "metadata": {},
   "source": [
    "# Indexación y Segmentación en Arrays de NumPy 2\n",
    "\n",
    "Crea un array bidimensional al que nombres: `matriz` con forma (3, 3) que representa una matriz de números del 1 al 9. Escribe un código para extraer la segunda fila completa de esta matriz. Almacenala en una variable nombrada `segunda_fila`"
   ]
  },
  {
   "cell_type": "code",
   "execution_count": 3,
   "metadata": {},
   "outputs": [
    {
     "name": "stdout",
     "output_type": "stream",
     "text": [
      "[4 5 6]\n"
     ]
    }
   ],
   "source": [
    "import numpy as np\n",
    "\n",
    "\n",
    "matriz: np.ndarray = np.array([[1, 2, 3], [4, 5, 6], [7, 8, 9]])\n",
    "segunda_fila = matriz[1]\n",
    "print(segunda_fila)"
   ]
  },
  {
   "cell_type": "markdown",
   "metadata": {},
   "source": [
    "# Indexación y Segmentación en Arrays de NumPy 3\n",
    "\n",
    "Crea un array bidimensional al que nombres: `matriz` con forma (3, 3) que representa una matriz de números del 1 al 9, identico al ejercicio anterior. Luego utiliza la indexacion booleana para guardar en una variable llamada `pares_impares` los numeros pares como true, y los impares como false."
   ]
  },
  {
   "cell_type": "code",
   "execution_count": 4,
   "metadata": {},
   "outputs": [
    {
     "name": "stdout",
     "output_type": "stream",
     "text": [
      "[[False  True False]\n",
      " [ True False  True]\n",
      " [False  True False]]\n"
     ]
    }
   ],
   "source": [
    "import numpy as np\n",
    "\n",
    "\n",
    "matriz: np.ndarray = np.array([[1, 2, 3], [4, 5, 6], [7, 8, 9]])\n",
    "pares_impares = matriz % 2 == 0\n",
    "print(pares_impares)"
   ]
  }
 ],
 "metadata": {
  "kernelspec": {
   "display_name": "base",
   "language": "python",
   "name": "python3"
  },
  "language_info": {
   "codemirror_mode": {
    "name": "ipython",
    "version": 3
   },
   "file_extension": ".py",
   "mimetype": "text/x-python",
   "name": "python",
   "nbconvert_exporter": "python",
   "pygments_lexer": "ipython3",
   "version": "3.12.4"
  }
 },
 "nbformat": 4,
 "nbformat_minor": 2
}
