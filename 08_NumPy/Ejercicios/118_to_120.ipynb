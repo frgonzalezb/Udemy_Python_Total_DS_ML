{
 "cells": [
  {
   "cell_type": "markdown",
   "metadata": {},
   "source": [
    "# Indexación y Segmentación en Arrays de NumPy 1\n",
    "\n",
    "Crea un array de numpy nombrado `numeros` que contenga los primeros 10 números enteros (del 1 al 10). Luego escribe un código para obtener el quinto elemento de este array. Almacenalo en una variable llamada `quinto_elemento`\n",
    "\n",
    "Recuerda que los elementos se cuentan a partir de 1 en adelante, mientras que los indices de los elementos que componen una lista o array comienzan desde 0."
   ]
  },
  {
   "cell_type": "code",
   "execution_count": 2,
   "metadata": {},
   "outputs": [
    {
     "name": "stdout",
     "output_type": "stream",
     "text": [
      "5\n"
     ]
    }
   ],
   "source": [
    "import numpy as np\n",
    "\n",
    "\n",
    "numeros: np.ndarray = np.array(range(1, 11))\n",
    "quinto_elemento = numeros[4]\n",
    "print(quinto_elemento)"
   ]
  }
 ],
 "metadata": {
  "kernelspec": {
   "display_name": "base",
   "language": "python",
   "name": "python3"
  },
  "language_info": {
   "codemirror_mode": {
    "name": "ipython",
    "version": 3
   },
   "file_extension": ".py",
   "mimetype": "text/x-python",
   "name": "python",
   "nbconvert_exporter": "python",
   "pygments_lexer": "ipython3",
   "version": "3.12.4"
  }
 },
 "nbformat": 4,
 "nbformat_minor": 2
}
