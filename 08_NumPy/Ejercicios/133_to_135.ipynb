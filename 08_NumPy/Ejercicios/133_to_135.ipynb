{
 "cells": [
  {
   "cell_type": "markdown",
   "metadata": {},
   "source": [
    "# Integración de NumPy con Pandas 1\n",
    "\n",
    "Crea un **DataFrame de Pandas** llamado `mi_dataframe` con dos columnas: \"Frutas\" y \"Cantidad\".\n",
    "\n",
    "La columna \"Frutas\" debe contener los valores \"Manzana\", \"Banana\" y \"Cereza\".\n",
    "\n",
    "La columna \"Cantidad\" debe contener los números 5, 8 y 3 respectivamente.\n",
    "\n",
    "Luego, convierte este DataFrame en un array de NumPy y guárdalo en una variable llamada `array_frutas`."
   ]
  },
  {
   "cell_type": "code",
   "execution_count": 2,
   "metadata": {},
   "outputs": [
    {
     "name": "stdout",
     "output_type": "stream",
     "text": [
      "[['Manzana' 5]\n",
      " ['Banana' 8]\n",
      " ['Cereza' 3]]\n"
     ]
    }
   ],
   "source": [
    "import numpy as np\n",
    "import pandas as pd\n",
    "\n",
    "\n",
    "mi_dataframe: pd.DataFrame = pd.DataFrame({\n",
    "    'Frutas': ['Manzana', 'Banana', 'Cereza'],\n",
    "    'Cantidad': [5, 8, 3]\n",
    "})\n",
    "\n",
    "array_frutas: np.ndarray = np.array(mi_dataframe)\n",
    "\n",
    "print(array_frutas)"
   ]
  }
 ],
 "metadata": {
  "kernelspec": {
   "display_name": "base",
   "language": "python",
   "name": "python3"
  },
  "language_info": {
   "codemirror_mode": {
    "name": "ipython",
    "version": 3
   },
   "file_extension": ".py",
   "mimetype": "text/x-python",
   "name": "python",
   "nbconvert_exporter": "python",
   "pygments_lexer": "ipython3",
   "version": "3.12.4"
  }
 },
 "nbformat": 4,
 "nbformat_minor": 2
}
