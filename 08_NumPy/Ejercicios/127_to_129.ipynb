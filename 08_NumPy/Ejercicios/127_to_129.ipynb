{
 "cells": [
  {
   "cell_type": "markdown",
   "metadata": {},
   "source": [
    "# Tratamiento de Datos Faltantes con NumPy 1\n",
    "\n",
    "Dado el siguiente array de numpy\n",
    "\n",
    "`array = np.array([3, np.nan, 7, np.nan, 0, 4.5, np.nan])`\n",
    "\n",
    "Utiliza la función adecuada para comprobar la presencia de NaN, y almacena el resultado en una variable llamada: `nan_presencia`"
   ]
  },
  {
   "cell_type": "code",
   "execution_count": 2,
   "metadata": {},
   "outputs": [
    {
     "name": "stdout",
     "output_type": "stream",
     "text": [
      "nan_presencia=array([False,  True, False,  True, False, False,  True])\n"
     ]
    }
   ],
   "source": [
    "import numpy as np\n",
    "\n",
    "\n",
    "array: np.ndarray = np.array([3, np.nan, 7, np.nan, 0, 4.5, np.nan])\n",
    "nan_presencia: np.ndarray = np.isnan(array)\n",
    "print(f'{nan_presencia=}')"
   ]
  },
  {
   "cell_type": "markdown",
   "metadata": {},
   "source": [
    "# Tratamiento de Datos Faltantes con NumPy 2\n",
    "\n",
    "Dado el siguiente array de numpy\n",
    "\n",
    "`array = np.array([3, np.nan, 7, np.nan, 0, 4.5, np.nan])`\n",
    "\n",
    "Crea una variable llamada `promedio_sin_nans` que almacene el promedio excluyendo cualquier valor `np.nan`. Debes utilizar una función de NumPy que ignore los `np.nan` automáticamente para este cálculo.\n",
    "\n"
   ]
  },
  {
   "cell_type": "code",
   "execution_count": 3,
   "metadata": {},
   "outputs": [
    {
     "name": "stdout",
     "output_type": "stream",
     "text": [
      "promedio_sin_nans=3.625\n"
     ]
    }
   ],
   "source": [
    "import numpy as np\n",
    "\n",
    "\n",
    "array: np.ndarray = np.array([3, np.nan, 7, np.nan, 0, 4.5, np.nan])\n",
    "promedio_sin_nans: np.floating = np.nanmean(array)\n",
    "print(f'{promedio_sin_nans=}')"
   ]
  }
 ],
 "metadata": {
  "kernelspec": {
   "display_name": "base",
   "language": "python",
   "name": "python3"
  },
  "language_info": {
   "codemirror_mode": {
    "name": "ipython",
    "version": 3
   },
   "file_extension": ".py",
   "mimetype": "text/x-python",
   "name": "python",
   "nbconvert_exporter": "python",
   "pygments_lexer": "ipython3",
   "version": "3.12.4"
  }
 },
 "nbformat": 4,
 "nbformat_minor": 2
}
