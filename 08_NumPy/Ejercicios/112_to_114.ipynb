{
 "cells": [
  {
   "cell_type": "markdown",
   "metadata": {},
   "source": [
    "# Tipos de Arrays en NumPy 1\n",
    "\n",
    "Crea un array unidimensional llamado: `array_enteros` que contenga los primeros 10 números enteros positivos, comenzando desde el 1.\n",
    "\n",
    "Recuerda importar NumPy para poder utilizar sus funcionalidades."
   ]
  },
  {
   "cell_type": "code",
   "execution_count": 1,
   "metadata": {},
   "outputs": [
    {
     "name": "stdout",
     "output_type": "stream",
     "text": [
      "[ 1  2  3  4  5  6  7  8  9 10]\n"
     ]
    }
   ],
   "source": [
    "import numpy as np\n",
    "\n",
    "\n",
    "array_enteros: np.ndarray = np.array([1, 2, 3, 4, 5, 6, 7, 8, 9, 10])\n",
    "print(array_enteros)"
   ]
  },
  {
   "cell_type": "markdown",
   "metadata": {},
   "source": [
    "# Tipos de Arrays en NumPy 2\n",
    "\n",
    "Utilizando el array creado en el Ejercicio 1, `array_enteros` escribe un código que imprima la forma de este array, debes almacenar el resultado en una variable llamada: `forma_array`"
   ]
  },
  {
   "cell_type": "code",
   "execution_count": 3,
   "metadata": {},
   "outputs": [
    {
     "name": "stdout",
     "output_type": "stream",
     "text": [
      "(10,)\n"
     ]
    }
   ],
   "source": [
    "import numpy as np\n",
    "\n",
    "\n",
    "array_enteros: np.ndarray = np.array([1, 2, 3, 4, 5, 6, 7, 8, 9, 10])\n",
    "forma_array: tuple = array_enteros.shape\n",
    "print(forma_array)"
   ]
  }
 ],
 "metadata": {
  "kernelspec": {
   "display_name": "base",
   "language": "python",
   "name": "python3"
  },
  "language_info": {
   "codemirror_mode": {
    "name": "ipython",
    "version": 3
   },
   "file_extension": ".py",
   "mimetype": "text/x-python",
   "name": "python",
   "nbconvert_exporter": "python",
   "pygments_lexer": "ipython3",
   "version": "3.12.4"
  }
 },
 "nbformat": 4,
 "nbformat_minor": 2
}
