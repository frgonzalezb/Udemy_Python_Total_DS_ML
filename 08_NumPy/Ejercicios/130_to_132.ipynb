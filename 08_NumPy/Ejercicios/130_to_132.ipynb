{
 "cells": [
  {
   "cell_type": "markdown",
   "metadata": {},
   "source": [
    "# Importación y Exportación de Datos con NumPy 1\n",
    "Dado el archivo 'datos.csv'\n",
    "\n",
    "Utiliza la función de NumPy correcta para importar los datos que contienen solo números. Asegúrate de que el delimitador utilizado en el archivo sea una coma (,)\n",
    "\n",
    "Guarda los datos importados en una variable llamada `datos`.\n",
    "\n",
    "Asegurate de no modificar la ruta que ya viene cargada por defecto en el ejercicio:\n",
    "\n",
    "```\n",
    "# Cargamos los datos del archivo 'datos.csv', \n",
    "ruta = 'datos.csv'\n",
    "```"
   ]
  },
  {
   "cell_type": "code",
   "execution_count": 3,
   "metadata": {},
   "outputs": [
    {
     "name": "stdout",
     "output_type": "stream",
     "text": [
      "[[nan nan nan nan nan]\n",
      " [nan  1.  2.  3. nan]\n",
      " [nan  2.  2.  4. nan]\n",
      " [17.  7. 22. 46. nan]\n",
      " [ 1.  1.  5.  7. nan]\n",
      " [nan  3.  4.  7. nan]]\n"
     ]
    }
   ],
   "source": [
    "import numpy as np\n",
    "\n",
    "\n",
    "# ruta: str = 'datos.csv'  # Esta se debe usar en Udemy\n",
    "ruta: str = './data/datos.csv'\n",
    "datos: np.ndarray = np.genfromtxt(ruta, delimiter=',')\n",
    "print(datos)"
   ]
  },
  {
   "cell_type": "markdown",
   "metadata": {},
   "source": [
    "# Importación y Exportación de Datos con NumPy 2\n",
    "\n",
    "Dado el archivo 'datos.csv'\n",
    "\n",
    "Utiliza la función de NumPy correcta para importar los datos que contienen solo números. Asegúrate de que el delimitador utilizado en el archivo sea una coma (,)\n",
    "\n",
    "Asegurate de que se ignoren los encabezados de columna.\n",
    "\n",
    "Guarda los datos importados en una variable llamada `datos`.\n",
    "\n",
    "Asegurate de no modificar la ruta que ya viene cargada por defecto en el ejercicio:\n",
    "\n",
    "```\n",
    "# Cargamos los datos del archivo 'datos.csv', \n",
    "ruta = 'datos.csv'\n",
    "```"
   ]
  },
  {
   "cell_type": "code",
   "execution_count": 4,
   "metadata": {},
   "outputs": [
    {
     "name": "stdout",
     "output_type": "stream",
     "text": [
      "[[nan  1.  2.  3. nan]\n",
      " [nan  2.  2.  4. nan]\n",
      " [17.  7. 22. 46. nan]\n",
      " [ 1.  1.  5.  7. nan]\n",
      " [nan  3.  4.  7. nan]]\n"
     ]
    }
   ],
   "source": [
    "import numpy as np\n",
    "\n",
    "\n",
    "# ruta: str = 'datos.csv'  # Esta se debe usar en Udemy\n",
    "ruta: str = './data/datos.csv'\n",
    "datos: np.ndarray = np.genfromtxt(ruta, delimiter=',', skip_header=1)\n",
    "print(datos)"
   ]
  }
 ],
 "metadata": {
  "kernelspec": {
   "display_name": "base",
   "language": "python",
   "name": "python3"
  },
  "language_info": {
   "codemirror_mode": {
    "name": "ipython",
    "version": 3
   },
   "file_extension": ".py",
   "mimetype": "text/x-python",
   "name": "python",
   "nbconvert_exporter": "python",
   "pygments_lexer": "ipython3",
   "version": "3.12.4"
  }
 },
 "nbformat": 4,
 "nbformat_minor": 2
}
