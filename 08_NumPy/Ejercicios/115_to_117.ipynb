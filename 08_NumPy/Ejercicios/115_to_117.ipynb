{
 "cells": [
  {
   "cell_type": "markdown",
   "metadata": {},
   "source": [
    "# Manipulación de Arrays en NumPy 1\n",
    "\n",
    "Crea dos arrays unidimensionales, `array1` y `array2`, donde `array1` contiene los números del 1 al 5 y `array2` contiene los números del 6 al 10. Utiliza la función de numpy adecuada para concatenar `array1` y `array2` en un nuevo array llamado `array_concatenado`."
   ]
  },
  {
   "cell_type": "code",
   "execution_count": 1,
   "metadata": {},
   "outputs": [
    {
     "name": "stdout",
     "output_type": "stream",
     "text": [
      "[ 1  2  3  4  5  6  7  8  9 10]\n"
     ]
    }
   ],
   "source": [
    "import numpy as np\n",
    "\n",
    "\n",
    "array1: np.ndarray = np.array([1, 2, 3, 4, 5])\n",
    "array2: np.ndarray = np.array([6, 7, 8, 9, 10])\n",
    "array_concatenado: np.ndarray = np.concatenate([array1, array2])\n",
    "print(array_concatenado)"
   ]
  },
  {
   "cell_type": "markdown",
   "metadata": {},
   "source": [
    "# Manipulación de Arrays en NumPy 2\n",
    "\n",
    "Crea un array unidimensional `array_original` con los números del 1 al 6, utiliza el método correcto para transformarlo en un array bidimensional de 2 filas y 3 columnas. Almacena el resultado en una variable llamada `array_reshaped`."
   ]
  },
  {
   "cell_type": "code",
   "execution_count": 4,
   "metadata": {},
   "outputs": [
    {
     "name": "stdout",
     "output_type": "stream",
     "text": [
      "[[1 2 3]\n",
      " [4 5 6]]\n"
     ]
    }
   ],
   "source": [
    "import numpy as np\n",
    "\n",
    "\n",
    "array_original: np.ndarray = np.array(range(1, 7))\n",
    "array_reshaped: np.ndarray = array_original.reshape(2, 3)\n",
    "print(array_reshaped)"
   ]
  },
  {
   "cell_type": "markdown",
   "metadata": {},
   "source": [
    "# Manipulación de Arrays en NumPy 3\n",
    "\n",
    "Crea un array bidimensional `A` de forma 2x2 que contenga los números del 1 al 4.\n",
    "\n",
    "Crea otro array bidimensional `B` de la misma forma que contenga los números del 5 al 8.\n",
    "\n",
    "Realiza las siguientes operaciones e imprime los resultados:\n",
    "\n",
    "1. La suma de `A` y `B`. Almacena el resultado en una variable llamada `suma_AB`.\n",
    "\n",
    "2. El producto elemento a elemento de `A` y `B`. Almacena el resultado en una variable llamada `productoAB`."
   ]
  },
  {
   "cell_type": "code",
   "execution_count": 5,
   "metadata": {},
   "outputs": [
    {
     "name": "stdout",
     "output_type": "stream",
     "text": [
      "suma_AB=array([[ 6,  8],\n",
      "       [10, 12]])\n",
      "productoAB=array([[ 5, 12],\n",
      "       [21, 32]])\n"
     ]
    }
   ],
   "source": [
    "import numpy as np\n",
    "\n",
    "\n",
    "A: np.ndarray = np.array([[1, 2], [3, 4]])\n",
    "B: np.ndarray = np.array([[5, 6], [7, 8]])\n",
    "suma_AB: np.ndarray = A + B\n",
    "productoAB: np.ndarray = A * B\n",
    "print(f'{suma_AB=}')\n",
    "print(f'{productoAB=}')"
   ]
  }
 ],
 "metadata": {
  "kernelspec": {
   "display_name": "base",
   "language": "python",
   "name": "python3"
  },
  "language_info": {
   "codemirror_mode": {
    "name": "ipython",
    "version": 3
   },
   "file_extension": ".py",
   "mimetype": "text/x-python",
   "name": "python",
   "nbconvert_exporter": "python",
   "pygments_lexer": "ipython3",
   "version": "3.12.4"
  }
 },
 "nbformat": 4,
 "nbformat_minor": 2
}
