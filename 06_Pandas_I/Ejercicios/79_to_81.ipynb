{
 "cells": [
  {
   "cell_type": "markdown",
   "metadata": {},
   "source": [
    "# Filtrado de Series en Pandas 1\n",
    "\n",
    "Crea una serie de Pandas llamada: `serie_numeros` que contenga los números del 1 al 20.\n",
    "\n",
    "Luego, escribe un código que **filtre y muestre** solo aquellos números que sean **mayores que 10.**\n",
    "\n",
    "Utiliza una variable llamada `filtro` para almacenar la serie filtrada.\n",
    "\n"
   ]
  },
  {
   "cell_type": "code",
   "execution_count": 2,
   "metadata": {},
   "outputs": [
    {
     "name": "stdout",
     "output_type": "stream",
     "text": [
      "10    11\n",
      "11    12\n",
      "12    13\n",
      "13    14\n",
      "14    15\n",
      "15    16\n",
      "16    17\n",
      "17    18\n",
      "18    19\n",
      "19    20\n",
      "dtype: int64\n"
     ]
    }
   ],
   "source": [
    "import pandas as pd\n",
    "\n",
    "\n",
    "serie_numeros: pd.Series = pd.Series(\n",
    "    [1, 2, 3, 4, 5, 6, 7, 8, 9, 10, 11, 12, 13, 14, 15, 16, 17, 18, 19, 20]\n",
    ")\n",
    "filtro: pd.Series = serie_numeros > 10\n",
    "print(serie_numeros[filtro])"
   ]
  },
  {
   "cell_type": "markdown",
   "metadata": {},
   "source": [
    "# Filtrado de Series en Pandas 2\n",
    "\n",
    "Dada una serie de Pandas que contiene los siguientes `valores: [18, 22, 7, 9, 15, 8]`, **filtra y muestra solo aquellos valores que sean pares.**\n",
    "\n",
    "Primero, crea una serie de valores booleanos que represente la condición. Nombra a esta variable como: `condicion_valores_pares`\n",
    "\n",
    "Luego aplica esta serie para filtrar los valores originales."
   ]
  },
  {
   "cell_type": "code",
   "execution_count": 5,
   "metadata": {},
   "outputs": [
    {
     "name": "stdout",
     "output_type": "stream",
     "text": [
      "0    18\n",
      "1    22\n",
      "5     8\n",
      "dtype: int64\n"
     ]
    }
   ],
   "source": [
    "import pandas as pd\n",
    "\n",
    "\n",
    "valores: pd.Series = pd.Series([18, 22, 7, 9, 15, 8])\n",
    "condicion_valores_pares: pd.Series = valores % 2 == 0\n",
    "print(valores[condicion_valores_pares])"
   ]
  },
  {
   "cell_type": "markdown",
   "metadata": {},
   "source": [
    "# Filtrado de Series en Pandas 3\n",
    "\n",
    "Crea una serie de Pandas llamada `frutas` y que contenga los siguientes elementos: `[\"manzana\", \"banana\", \"cereza\", \"durazno\", \"frambuesa\"]`.\n",
    "\n",
    "Escribe un código que filtre y muestre solo aquellos elementos que contengan la letra **\"e\"** en su nombre. Almacena los elementos filtrados en una variable llamada `frutas_con_e`\n",
    "\n",
    "Utiliza una condición que aplique un método de strings para lograr este filtrado."
   ]
  },
  {
   "cell_type": "code",
   "execution_count": 8,
   "metadata": {},
   "outputs": [
    {
     "name": "stdout",
     "output_type": "stream",
     "text": [
      "2       cereza\n",
      "4    frambuesa\n",
      "dtype: object\n"
     ]
    }
   ],
   "source": [
    "import pandas as pd\n",
    "\n",
    "\n",
    "frutas: pd.Series = pd.Series(\n",
    "    [\"manzana\", \"banana\", \"cereza\", \"durazno\", \"frambuesa\"]\n",
    ")\n",
    "frutas_con_e: pd.Series = frutas.str.contains(\"e\")\n",
    "print(frutas[frutas_con_e])"
   ]
  }
 ],
 "metadata": {
  "kernelspec": {
   "display_name": "base",
   "language": "python",
   "name": "python3"
  },
  "language_info": {
   "codemirror_mode": {
    "name": "ipython",
    "version": 3
   },
   "file_extension": ".py",
   "mimetype": "text/x-python",
   "name": "python",
   "nbconvert_exporter": "python",
   "pygments_lexer": "ipython3",
   "version": "3.12.4"
  }
 },
 "nbformat": 4,
 "nbformat_minor": 2
}
