{
 "cells": [
  {
   "cell_type": "markdown",
   "metadata": {},
   "source": [
    "# Ejercicio Limpieza de Datos en Pandas 1\n",
    "\n",
    "Dada una tabla (Diccionario) de ventas que contiene información sobre productos vendidos, incluyendo `ID`, `Producto`, `Cantidad` y `Precio`,\n",
    "\n",
    "```\n",
    "data = {\n",
    "    'ID': [1, 2, 3, 4, 5],\n",
    "    'Producto': ['Producto A', 'Producto B', None, 'Producto D', 'Producto E'],\n",
    "    'Cantidad': [10, 20, 30, None, 50],\n",
    "    'Precio': [100, 200, 300, 400, None]\n",
    "}\n",
    "```\n",
    "\n",
    "Escribe un código en Python usando Pandas para contar los valores nulos por columnas."
   ]
  },
  {
   "cell_type": "code",
   "execution_count": 1,
   "metadata": {},
   "outputs": [
    {
     "name": "stdout",
     "output_type": "stream",
     "text": [
      "ID          0\n",
      "Producto    1\n",
      "Cantidad    1\n",
      "Precio      1\n",
      "dtype: int64\n"
     ]
    }
   ],
   "source": [
    "import pandas as pd\n",
    "\n",
    "\n",
    "data = {\n",
    "    'ID': [1, 2, 3, 4, 5],\n",
    "    'Producto': ['Producto A', 'Producto B', None, 'Producto D', 'Producto E'],\n",
    "    'Cantidad': [10, 20, 30, None, 50],\n",
    "    'Precio': [100, 200, 300, 400, None]\n",
    "}\n",
    "\n",
    "df = pd.DataFrame(data)\n",
    "print(df.isnull().sum())"
   ]
  }
 ],
 "metadata": {
  "kernelspec": {
   "display_name": "base",
   "language": "python",
   "name": "python3"
  },
  "language_info": {
   "codemirror_mode": {
    "name": "ipython",
    "version": 3
   },
   "file_extension": ".py",
   "mimetype": "text/x-python",
   "name": "python",
   "nbconvert_exporter": "python",
   "pygments_lexer": "ipython3",
   "version": "3.12.4"
  }
 },
 "nbformat": 4,
 "nbformat_minor": 2
}
