{
 "cells": [
  {
   "cell_type": "markdown",
   "metadata": {},
   "source": [
    "# Ejercicio Limpieza de Datos en Pandas 1\n",
    "\n",
    "Dada una tabla (Diccionario) de ventas que contiene información sobre productos vendidos, incluyendo `ID`, `Producto`, `Cantidad` y `Precio`,\n",
    "\n",
    "```\n",
    "data = {\n",
    "    'ID': [1, 2, 3, 4, 5],\n",
    "    'Producto': ['Producto A', 'Producto B', None, 'Producto D', 'Producto E'],\n",
    "    'Cantidad': [10, 20, 30, None, 50],\n",
    "    'Precio': [100, 200, 300, 400, None]\n",
    "}\n",
    "```\n",
    "\n",
    "Escribe un código en Python usando Pandas para contar los valores nulos por columnas."
   ]
  },
  {
   "cell_type": "code",
   "execution_count": 1,
   "metadata": {},
   "outputs": [
    {
     "name": "stdout",
     "output_type": "stream",
     "text": [
      "ID          0\n",
      "Producto    1\n",
      "Cantidad    1\n",
      "Precio      1\n",
      "dtype: int64\n"
     ]
    }
   ],
   "source": [
    "import pandas as pd\n",
    "\n",
    "\n",
    "data = {\n",
    "    'ID': [1, 2, 3, 4, 5],\n",
    "    'Producto': ['Producto A', 'Producto B', None, 'Producto D', 'Producto E'],\n",
    "    'Cantidad': [10, 20, 30, None, 50],\n",
    "    'Precio': [100, 200, 300, 400, None]\n",
    "}\n",
    "\n",
    "df: pd.DataFrame = pd.DataFrame(data)\n",
    "print(df.isnull().sum())"
   ]
  },
  {
   "cell_type": "markdown",
   "metadata": {},
   "source": [
    "# Ejercicio Limpieza de Datos en Pandas 2\n",
    "\n",
    "El conjunto de datos proporcionado tiene algunas entradas duplicadas.\n",
    "\n",
    "```\n",
    "data = {\n",
    "    'ID': [1, 2, 3, 4, 1],\n",
    "    'Producto': ['Producto A', 'Producto B', 'Producto C', 'Producto D', 'Producto A'],\n",
    "    'Cantidad': [10, 20, 30, 40, 50],\n",
    "    'Precio': [100, 200, 300, 400, 100]\n",
    "}\n",
    "```\n",
    "\n",
    "Escribe un script en Python usando Pandas para eliminar las filas duplicadas en el conjunto de datos. Almacena el resultado en una variable llamada: `df_sin_duplicados`"
   ]
  },
  {
   "cell_type": "code",
   "execution_count": 2,
   "metadata": {},
   "outputs": [
    {
     "name": "stdout",
     "output_type": "stream",
     "text": [
      "   ID    Producto  Cantidad  Precio\n",
      "0   1  Producto A        10     100\n",
      "1   2  Producto B        20     200\n",
      "2   3  Producto C        30     300\n",
      "3   4  Producto D        40     400\n"
     ]
    }
   ],
   "source": [
    "data = {\n",
    "    'ID': [1, 2, 3, 4, 1],\n",
    "    'Producto': ['Producto A', 'Producto B', 'Producto C', 'Producto D', 'Producto A'],\n",
    "    'Cantidad': [10, 20, 30, 40, 50],\n",
    "    'Precio': [100, 200, 300, 400, 100]\n",
    "}\n",
    "\n",
    "df: pd.DataFrame = pd.DataFrame(data)\n",
    "df_sin_duplicados: pd.DataFrame = df.drop_duplicates(subset=['ID'])\n",
    "print(df_sin_duplicados)"
   ]
  },
  {
   "cell_type": "markdown",
   "metadata": {},
   "source": [
    "# Ejercicio Limpieza de Datos en Pandas 3\n",
    "\n",
    "Tu tabla de ventas, la columna \"Precio\" tiene algunos valores nulos.\n",
    "\n",
    "```\n",
    "data = {\n",
    "    'ID': [1, 2, 3, 4],\n",
    "    'Producto': ['Producto A', 'Producto B', 'Producto C', 'Producto D'],\n",
    "    'Cantidad': [10, 20, 30, 40],\n",
    "    'Precio': [100, None, 300, None]\n",
    "}\n",
    "```\n",
    "\n",
    "Escribe un código en Python usando Pandas para reemplazar los valores nulos en la columna Precio por el promedio de los precios no nulos de esa columna."
   ]
  },
  {
   "cell_type": "code",
   "execution_count": 3,
   "metadata": {},
   "outputs": [
    {
     "name": "stdout",
     "output_type": "stream",
     "text": [
      "   ID    Producto  Cantidad  Precio\n",
      "0   1  Producto A        10   100.0\n",
      "1   2  Producto B        20   200.0\n",
      "2   3  Producto C        30   300.0\n",
      "3   4  Producto D        40   200.0\n"
     ]
    }
   ],
   "source": [
    "data = {\n",
    "    'ID': [1, 2, 3, 4],\n",
    "    'Producto': ['Producto A', 'Producto B', 'Producto C', 'Producto D'],\n",
    "    'Cantidad': [10, 20, 30, 40],\n",
    "    'Precio': [100, None, 300, None]\n",
    "}\n",
    "\n",
    "df: pd.DataFrame = pd.DataFrame(data)\n",
    "precio_por_defecto: dict = {\n",
    "    'Precio': df['Precio'].mean()\n",
    "}\n",
    "df_limpios: pd.DataFrame = df.fillna(precio_por_defecto)\n",
    "print(df_limpios)"
   ]
  }
 ],
 "metadata": {
  "kernelspec": {
   "display_name": "base",
   "language": "python",
   "name": "python3"
  },
  "language_info": {
   "codemirror_mode": {
    "name": "ipython",
    "version": 3
   },
   "file_extension": ".py",
   "mimetype": "text/x-python",
   "name": "python",
   "nbconvert_exporter": "python",
   "pygments_lexer": "ipython3",
   "version": "3.12.4"
  }
 },
 "nbformat": 4,
 "nbformat_minor": 2
}
