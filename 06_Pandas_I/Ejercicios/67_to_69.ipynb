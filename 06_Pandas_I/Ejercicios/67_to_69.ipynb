{
 "cells": [
  {
   "cell_type": "markdown",
   "metadata": {},
   "source": [
    "# Ejercicio DataFrames en Pandas 1\n",
    "\n",
    "Crea un DataFrame llamado datos_clima usando Pandas para cargar un archivo CSV llamado \"clima.csv\" que supuestamente contiene datos sobre temperaturas y precipitaciones en diferentes ciudades. Asegúrate de importar Pandas antes de intentar cargar el archivo.\n",
    "\n",
    "Considera que tu archivo \"clima.csv\" se encuentra en la misma ubicación que el archivo de tu código, por lo cual puedes importarlo usando su nombre incluyendo la extensión .csv"
   ]
  },
  {
   "cell_type": "code",
   "execution_count": 1,
   "metadata": {},
   "outputs": [
    {
     "name": "stdout",
     "output_type": "stream",
     "text": [
      "            CIUDAD           PRONOSTICO   MIN   MAX\n",
      "0     Pelotillehue              Soleado     9    15\n",
      "1      Springfield              Soleado    21    24\n",
      "2           Quahog    Nubosidad Parcial    19    23\n",
      "3       Saltadilla   Tormenta Eléctrica    17    19\n",
      "4    Ciudad Gótica               Lluvia    14    18\n",
      "5    Gravity Falls              Nublado    19    23\n",
      "6  Fondo de Bikini              Soleado    20    30\n",
      "7       Ba Sing Se    Nubosidad Parcial    15    21\n",
      "8      Isla Kyoshi              Soleado    12    15\n",
      "9          Pripyat              Nublado     8    12\n"
     ]
    }
   ],
   "source": [
    "import pandas as pd\n",
    "\n",
    "\n",
    "datos_clima: pd.DataFrame = pd.read_csv('./data/clima.csv')\n",
    "print(datos_clima)"
   ]
  },
  {
   "cell_type": "markdown",
   "metadata": {},
   "source": [
    "*Nota del programador:* Deliberadamente dejé el archivo en una carpeta para tener mayor orden, pero en el sandbox de Udemy se usó lo exigido por el ejercicio."
   ]
  }
 ],
 "metadata": {
  "kernelspec": {
   "display_name": "base",
   "language": "python",
   "name": "python3"
  },
  "language_info": {
   "codemirror_mode": {
    "name": "ipython",
    "version": 3
   },
   "file_extension": ".py",
   "mimetype": "text/x-python",
   "name": "python",
   "nbconvert_exporter": "python",
   "pygments_lexer": "ipython3",
   "version": "3.12.4"
  }
 },
 "nbformat": 4,
 "nbformat_minor": 2
}
