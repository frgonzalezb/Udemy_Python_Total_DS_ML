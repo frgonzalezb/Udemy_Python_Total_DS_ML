{
 "cells": [
  {
   "cell_type": "markdown",
   "metadata": {},
   "source": [
    "# Ejercicio DataFrames en Pandas 1\n",
    "\n",
    "Crea un DataFrame llamado datos_clima usando Pandas para cargar un archivo CSV llamado \"clima.csv\" que supuestamente contiene datos sobre temperaturas y precipitaciones en diferentes ciudades. Asegúrate de importar Pandas antes de intentar cargar el archivo.\n",
    "\n",
    "Considera que tu archivo \"clima.csv\" se encuentra en la misma ubicación que el archivo de tu código, por lo cual puedes importarlo usando su nombre incluyendo la extensión .csv"
   ]
  },
  {
   "cell_type": "code",
   "execution_count": 1,
   "metadata": {},
   "outputs": [
    {
     "name": "stdout",
     "output_type": "stream",
     "text": [
      "            CIUDAD           PRONOSTICO   MIN   MAX\n",
      "0     Pelotillehue              Soleado     9    15\n",
      "1      Springfield              Soleado    21    24\n",
      "2           Quahog    Nubosidad Parcial    19    23\n",
      "3       Saltadilla   Tormenta Eléctrica    17    19\n",
      "4    Ciudad Gótica               Lluvia    14    18\n",
      "5    Gravity Falls              Nublado    19    23\n",
      "6  Fondo de Bikini              Soleado    20    30\n",
      "7       Ba Sing Se    Nubosidad Parcial    15    21\n",
      "8      Isla Kyoshi              Soleado    12    15\n",
      "9          Pripyat              Nublado     8    12\n"
     ]
    }
   ],
   "source": [
    "import pandas as pd\n",
    "\n",
    "\n",
    "datos_clima: pd.DataFrame = pd.read_csv('./data/clima.csv')\n",
    "print(datos_clima)"
   ]
  },
  {
   "cell_type": "markdown",
   "metadata": {},
   "source": [
    "**Nota del programador:** Deliberadamente dejé el archivo CSV en una carpeta _ad hoc_ para tener mayor orden, pero en el sandbox de Udemy se ocupó lo exigido por el ejercicio."
   ]
  },
  {
   "cell_type": "markdown",
   "metadata": {},
   "source": [
    "# Ejercicio DataFrames en Pandas 2\n",
    "\n",
    "Utiliza el DataFrame datos_clima creado en el ejercicio anterior. Aplica el método describe() para explorar la estructura del DataFrame y obtener un resumen estadístico de las columnas numéricas.\n",
    "\n",
    "Asegurate de almacenar el resultado en una variable llamada describe_df"
   ]
  },
  {
   "cell_type": "code",
   "execution_count": 2,
   "metadata": {},
   "outputs": [
    {
     "name": "stdout",
     "output_type": "stream",
     "text": [
      "             MIN        MAX\n",
      "count  10.000000  10.000000\n",
      "mean   15.400000  20.000000\n",
      "std     4.599517   5.312459\n",
      "min     8.000000  12.000000\n",
      "25%    12.500000  15.750000\n",
      "50%    16.000000  20.000000\n",
      "75%    19.000000  23.000000\n",
      "max    21.000000  30.000000\n"
     ]
    }
   ],
   "source": [
    "describe_df: pd.DataFrame = datos_clima.describe()\n",
    "print(describe_df)"
   ]
  }
 ],
 "metadata": {
  "kernelspec": {
   "display_name": "base",
   "language": "python",
   "name": "python3"
  },
  "language_info": {
   "codemirror_mode": {
    "name": "ipython",
    "version": 3
   },
   "file_extension": ".py",
   "mimetype": "text/x-python",
   "name": "python",
   "nbconvert_exporter": "python",
   "pygments_lexer": "ipython3",
   "version": "3.12.4"
  }
 },
 "nbformat": 4,
 "nbformat_minor": 2
}
