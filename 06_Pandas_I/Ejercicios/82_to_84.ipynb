{
 "cells": [
  {
   "cell_type": "markdown",
   "metadata": {},
   "source": [
    "# Agregación de Series en Pandas 1\n",
    "\n",
    "Crea una serie de Pandas a partir de la siguiente lista de `edades = [23, 30, 26, 27, 22, 24, 25, 28]`. Luego, utiliza la función adecuada para calcular el promedio de estas edades. Almacena el promedio en una variable llamada: `promedio_edades`"
   ]
  },
  {
   "cell_type": "code",
   "execution_count": null,
   "metadata": {},
   "outputs": [],
   "source": [
    "import pandas as pd\n",
    "\n",
    "\n",
    "edades: list[int] = [23, 30, 26, 27, 22, 24, 25, 28]\n",
    "serie_edades: pd.Series = pd.Series(edades)\n",
    "promedio_edades: float = serie_edades.mean()\n",
    "print(promedio_edades)"
   ]
  }
 ],
 "metadata": {
  "kernelspec": {
   "display_name": "base",
   "language": "python",
   "name": "python3"
  },
  "language_info": {
   "name": "python",
   "version": "3.12.4"
  }
 },
 "nbformat": 4,
 "nbformat_minor": 2
}
