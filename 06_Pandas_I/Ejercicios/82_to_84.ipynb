{
 "cells": [
  {
   "cell_type": "markdown",
   "metadata": {},
   "source": [
    "# Agregación de Series en Pandas 1\n",
    "\n",
    "Crea una serie de Pandas a partir de la siguiente lista de `edades = [23, 30, 26, 27, 22, 24, 25, 28]`. Luego, utiliza la función adecuada para calcular el promedio de estas edades. Almacena el promedio en una variable llamada: `promedio_edades`"
   ]
  },
  {
   "cell_type": "code",
   "execution_count": 1,
   "metadata": {},
   "outputs": [
    {
     "name": "stdout",
     "output_type": "stream",
     "text": [
      "25.625\n"
     ]
    }
   ],
   "source": [
    "import pandas as pd\n",
    "\n",
    "\n",
    "edades: list[int] = [23, 30, 26, 27, 22, 24, 25, 28]\n",
    "serie_edades: pd.Series = pd.Series(edades)\n",
    "promedio_edades: float = serie_edades.mean()\n",
    "print(promedio_edades)"
   ]
  },
  {
   "cell_type": "markdown",
   "metadata": {},
   "source": [
    "# Agregación de Series en Pandas 2\n",
    "\n",
    "Dada lista con los siguientes valores de ventas diarias de una tienda en una semana:\n",
    "`ventas = [120, 150, 90, 200, 210, 130, 160]`, realiza las siguientes tareas:\n",
    "\n",
    "1. Crea una serie de Pandas con los días de la semana como índice **(asumiendo que el primer valor corresponde al Lunes).**\n",
    "\n",
    "2. Calcula y muestra la suma total de las ventas de la semana. Almacena este valor en una variable llamada: `suma_total_ventas`\n",
    "\n",
    "3. Encuentra y muestra el día de mayores ventas. Almacena este valor en una variable llamada: `dia_mayores_ventas`\n",
    "\n",
    "4. Calcula y muestra el promedio de ventas de la semana. Almacena este valor en una variable llamada: `promedio_ventas`"
   ]
  },
  {
   "cell_type": "code",
   "execution_count": 6,
   "metadata": {},
   "outputs": [
    {
     "name": "stdout",
     "output_type": "stream",
     "text": [
      "La suma total de ventas es: 1060\n",
      "El valor del dia de la semana con más ventas es: 210\n",
      "El promedio de ventas es: 151.42857142857142\n",
      "\n",
      "*El dia de la semana con más ventas es: Viernes\n"
     ]
    }
   ],
   "source": [
    "import pandas as pd\n",
    "\n",
    "\n",
    "ventas: list[int] = [120, 150, 90, 200, 210, 130, 160]\n",
    "dias_semanas: list[str] = [\n",
    "    \"Lunes\", \"Martes\", \"Miercoles\", \"Jueves\", \"Viernes\", \"Sabado\", \"Domingo\"\n",
    "]\n",
    "serie_ventas: pd.Series = pd.Series(ventas, index=dias_semanas)\n",
    "suma_total_ventas: int = serie_ventas.sum()\n",
    "print(f'La suma total de ventas es: {suma_total_ventas}')\n",
    "dia_mayores_ventas: int = serie_ventas.max()\n",
    "print(f'El valor del dia de la semana con más ventas es: {dia_mayores_ventas}')\n",
    "promedio_ventas: float = serie_ventas.mean()\n",
    "print(f'El promedio de ventas es: {promedio_ventas}')\n",
    "\n",
    "\"\"\"\n",
    "NOTE: La variable dia_mayores_ventas supuestamente debería dar el nombre\n",
    "del día, pero por alguna razón el sistema de Udemy quería el valor\n",
    "numérico de ese día. Lo correcto sería lo siguiente:\n",
    "\"\"\"\n",
    "\n",
    "dia_mayores_ventas: str = serie_ventas.idxmax()\n",
    "print(f'\\n*El dia de la semana con más ventas es: {dia_mayores_ventas}')"
   ]
  },
  {
   "cell_type": "markdown",
   "metadata": {},
   "source": [
    "# Agregación de Series en Pandas 3\n",
    "\n",
    "Considera una serie de Pandas que representa las ventas de un mes, donde cada valor corresponde a las ventas de un día específico. No modifiques la serie de Pandas brindada en el ejercicio.\n",
    "\n",
    "Realiza las siguientes operaciones y muestra los resultados empleando los métodos correspondientes:\n",
    "\n",
    "1. Calcula el total de ventas del mes. Almacena su valor en una variable llamada: `total_ventas_mes`\n",
    "\n",
    "2. Encuentra el día con las ventas más bajas. Almacena su valor en una variable llamada: `dia_ventas_mas_bajas`\n",
    "\n",
    "3. Determina el promedio mensual de ventas. Almacena su valor en una variable llamada: `promedio_ventas_mes`"
   ]
  },
  {
   "cell_type": "code",
   "execution_count": 13,
   "metadata": {},
   "outputs": [
    {
     "name": "stdout",
     "output_type": "stream",
     "text": [
      "El total de ventas del mes es: 7139\n",
      "Las cantidad de ventas del día menos productivo es: 190\n",
      "El promedio de ventas del mes es: 237.96666666666667\n",
      "\n",
      "*El día con ventas más bajas fue el 11 de este mes\n"
     ]
    }
   ],
   "source": [
    "import pandas as pd\n",
    "\n",
    "\n",
    "# Serie de ventas del mes\n",
    "ventas_mes = pd.Series([220, 235, 260, 213, 202, 298, 265, 198, 220, 230, 190, 215, 275, 222, 218, 245, 233, 210, 290, 210,\n",
    "                        215, 220, 225, 230, 245, 250, 260, 270, 280, 295])\n",
    "\n",
    "# aquí comienza mi código\n",
    "total_ventas_mes: int = ventas_mes.sum()\n",
    "print(f'El total de ventas del mes es: {total_ventas_mes}')\n",
    "dia_ventas_mas_bajas: int = ventas_mes.min()\n",
    "print(f'Las cantidad de ventas del día menos productivo es: {dia_ventas_mas_bajas}')\n",
    "promedio_ventas_mes: float = ventas_mes.mean()\n",
    "print(f'El promedio de ventas del mes es: {promedio_ventas_mes}')\n",
    "\n",
    "\"\"\"\n",
    "NOTE: Al igual que en el ejecicio anterior, Udemy no quiere realmente el\n",
    "numero del dia del mes para la variable dia_ventas_mas_bajas, sino el\n",
    "valor que se obtuvo ese día.\n",
    "\n",
    "Mensaje de error de Udemy:\n",
    "Items are not equal: El día de menores ventas no es el esperado\n",
    " ACTUAL: 11\n",
    " DESIRED: 190\n",
    "\"\"\"\n",
    "\n",
    "# esto debería ser lo correcto\n",
    "dia_ventas_mas_bajas: int = int(ventas_mes.idxmin()) + 1\n",
    "print(f'\\n*El día con ventas más bajas fue el {dia_ventas_mas_bajas} de este mes')"
   ]
  }
 ],
 "metadata": {
  "kernelspec": {
   "display_name": "base",
   "language": "python",
   "name": "python3"
  },
  "language_info": {
   "codemirror_mode": {
    "name": "ipython",
    "version": 3
   },
   "file_extension": ".py",
   "mimetype": "text/x-python",
   "name": "python",
   "nbconvert_exporter": "python",
   "pygments_lexer": "ipython3",
   "version": "3.12.4"
  }
 },
 "nbformat": 4,
 "nbformat_minor": 2
}
