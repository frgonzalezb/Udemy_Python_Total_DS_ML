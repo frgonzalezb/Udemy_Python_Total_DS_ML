{
 "cells": [
  {
   "cell_type": "markdown",
   "metadata": {},
   "source": [
    "# Agregación de Series en Pandas 1\n",
    "\n",
    "Crea una serie de Pandas a partir de la siguiente lista de `edades = [23, 30, 26, 27, 22, 24, 25, 28]`. Luego, utiliza la función adecuada para calcular el promedio de estas edades. Almacena el promedio en una variable llamada: `promedio_edades`"
   ]
  },
  {
   "cell_type": "code",
   "execution_count": 1,
   "metadata": {},
   "outputs": [
    {
     "name": "stdout",
     "output_type": "stream",
     "text": [
      "25.625\n"
     ]
    }
   ],
   "source": [
    "import pandas as pd\n",
    "\n",
    "\n",
    "edades: list[int] = [23, 30, 26, 27, 22, 24, 25, 28]\n",
    "serie_edades: pd.Series = pd.Series(edades)\n",
    "promedio_edades: float = serie_edades.mean()\n",
    "print(promedio_edades)"
   ]
  },
  {
   "cell_type": "markdown",
   "metadata": {},
   "source": [
    "# Agregación de Series en Pandas 2\n",
    "\n",
    "Dada lista con los siguientes valores de ventas diarias de una tienda en una semana:\n",
    "`ventas = [120, 150, 90, 200, 210, 130, 160]`, realiza las siguientes tareas:\n",
    "\n",
    "1. Crea una serie de Pandas con los días de la semana como índice **(asumiendo que el primer valor corresponde al Lunes).**\n",
    "\n",
    "2. Calcula y muestra la suma total de las ventas de la semana. Almacena este valor en una variable llamada: `suma_total_ventas`\n",
    "\n",
    "3. Encuentra y muestra el día de mayores ventas. Almacena este valor en una variable llamada: `dia_mayores_ventas`\n",
    "\n",
    "4. Calcula y muestra el promedio de ventas de la semana. Almacena este valor en una variable llamada: `promedio_ventas`"
   ]
  },
  {
   "cell_type": "code",
   "execution_count": 6,
   "metadata": {},
   "outputs": [
    {
     "name": "stdout",
     "output_type": "stream",
     "text": [
      "La suma total de ventas es: 1060\n",
      "El valor del dia de la semana con más ventas es: 210\n",
      "El promedio de ventas es: 151.42857142857142\n",
      "\n",
      "*El dia de la semana con más ventas es: Viernes\n"
     ]
    }
   ],
   "source": [
    "import pandas as pd\n",
    "\n",
    "\n",
    "ventas: list[int] = [120, 150, 90, 200, 210, 130, 160]\n",
    "dias_semanas: list[str] = [\n",
    "    \"Lunes\", \"Martes\", \"Miercoles\", \"Jueves\", \"Viernes\", \"Sabado\", \"Domingo\"\n",
    "]\n",
    "serie_ventas: pd.Series = pd.Series(ventas, index=dias_semanas)\n",
    "suma_total_ventas: int = serie_ventas.sum()\n",
    "print(f'La suma total de ventas es: {suma_total_ventas}')\n",
    "dia_mayores_ventas: int = serie_ventas.max()\n",
    "print(f'El valor del dia de la semana con más ventas es: {dia_mayores_ventas}')\n",
    "promedio_ventas: float = serie_ventas.mean()\n",
    "print(f'El promedio de ventas es: {promedio_ventas}')\n",
    "\n",
    "\"\"\"\n",
    "NOTE: La variable dia_mayores_ventas supuestamente debería dar el nombre\n",
    "del día, pero por alguna razón el sistema de Udemy quería el valor\n",
    "numérico de ese día. Lo correcto sería lo siguiente:\n",
    "\"\"\"\n",
    "\n",
    "dia_mayores_ventas: str = serie_ventas.idxmax()\n",
    "print(f'\\n*El dia de la semana con más ventas es: {dia_mayores_ventas}')"
   ]
  }
 ],
 "metadata": {
  "kernelspec": {
   "display_name": "base",
   "language": "python",
   "name": "python3"
  },
  "language_info": {
   "codemirror_mode": {
    "name": "ipython",
    "version": 3
   },
   "file_extension": ".py",
   "mimetype": "text/x-python",
   "name": "python",
   "nbconvert_exporter": "python",
   "pygments_lexer": "ipython3",
   "version": "3.12.4"
  }
 },
 "nbformat": 4,
 "nbformat_minor": 2
}
