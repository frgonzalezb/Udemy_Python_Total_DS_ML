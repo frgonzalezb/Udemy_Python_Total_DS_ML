{
 "cells": [
  {
   "cell_type": "markdown",
   "metadata": {},
   "source": [
    "# Ejercicio Operaciones Básicas con Series de Pandas 1\n",
    "\n",
    "Crea dos series de pandas utilizando listas de Python.\n",
    "\n",
    "Puedes crear ambas series con los números enteros de tu elección solamente asegurate de que la serie 1 y la serie 2 las almacenes en variables nombradas: `serie1` y `serie2` respectivamente.\n",
    "\n",
    "Luego, suma ambas series y asigna el resultado a una variable llamada `serie_sumada`. Imprime el resultado de `serie_sumada`."
   ]
  },
  {
   "cell_type": "code",
   "execution_count": null,
   "metadata": {},
   "outputs": [],
   "source": [
    "import pandas as pd\n",
    "\n",
    "\n",
    "serie1: pd.Series = pd.Series([10, 20, 30, 40, 50])\n",
    "serie2: pd.Series = pd.Series([5, 10, 15, 20, 25])\n",
    "serie_sumada: pd.Series = serie1 + serie2\n",
    "print(serie_sumada)"
   ]
  }
 ],
 "metadata": {
  "kernelspec": {
   "display_name": "base",
   "language": "python",
   "name": "python3"
  },
  "language_info": {
   "name": "python",
   "version": "3.12.4"
  }
 },
 "nbformat": 4,
 "nbformat_minor": 2
}
