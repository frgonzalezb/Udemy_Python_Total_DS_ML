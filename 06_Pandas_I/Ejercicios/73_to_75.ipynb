{
 "cells": [
  {
   "cell_type": "markdown",
   "metadata": {},
   "source": [
    "# Ejercicio Operaciones Básicas con Series de Pandas 1\n",
    "\n",
    "Crea dos series de pandas utilizando listas de Python.\n",
    "\n",
    "Puedes crear ambas series con los números enteros de tu elección solamente asegurate de que la serie 1 y la serie 2 las almacenes en variables nombradas: `serie1` y `serie2` respectivamente.\n",
    "\n",
    "Luego, suma ambas series y asigna el resultado a una variable llamada `serie_sumada`. Imprime el resultado de `serie_sumada`."
   ]
  },
  {
   "cell_type": "code",
   "execution_count": 1,
   "metadata": {},
   "outputs": [
    {
     "name": "stdout",
     "output_type": "stream",
     "text": [
      "0    15\n",
      "1    30\n",
      "2    45\n",
      "3    60\n",
      "4    75\n",
      "dtype: int64\n"
     ]
    }
   ],
   "source": [
    "import pandas as pd\n",
    "\n",
    "\n",
    "serie1: pd.Series = pd.Series([10, 20, 30, 40, 50])\n",
    "serie2: pd.Series = pd.Series([5, 10, 15, 20, 25])\n",
    "serie_sumada: pd.Series = serie1 + serie2\n",
    "print(serie_sumada)"
   ]
  },
  {
   "cell_type": "markdown",
   "metadata": {},
   "source": [
    "# Ejercicio Operaciones Básicas con Series de Panda 2\n",
    "\n",
    "Dada una serie de pandas llamada `serie_numerica` que contienga los números de tu preferencia.\n",
    "\n",
    "Realiza las siguientes operaciones matemáticas y guarda los resultados en variables separadas:\n",
    "\n",
    "- Multiplica `serie_numerica` por 2 y guarda el resultado en `serie_doble`.\n",
    "\n",
    "- Divide `serie_numerica` por 10 y guarda el resultado en `serie_dividida`.\n",
    "\n",
    "Imprime los resultados de `serie_doble` y `serie_dividida`.\n",
    "\n"
   ]
  },
  {
   "cell_type": "code",
   "execution_count": 2,
   "metadata": {},
   "outputs": [
    {
     "name": "stdout",
     "output_type": "stream",
     "text": [
      "0     2\n",
      "1     4\n",
      "2     6\n",
      "3     8\n",
      "4    10\n",
      "5    12\n",
      "6    14\n",
      "7    16\n",
      "8    18\n",
      "9    20\n",
      "dtype: int64\n"
     ]
    }
   ],
   "source": [
    "serie_numerica: pd.Series = pd.Series([1, 2, 3, 4, 5, 6, 7, 8, 9, 10])\n",
    "serie_doble: pd.Series = serie_numerica * 2\n",
    "print(serie_doble)"
   ]
  },
  {
   "cell_type": "code",
   "execution_count": 3,
   "metadata": {},
   "outputs": [
    {
     "name": "stdout",
     "output_type": "stream",
     "text": [
      "0    0.1\n",
      "1    0.2\n",
      "2    0.3\n",
      "3    0.4\n",
      "4    0.5\n",
      "5    0.6\n",
      "6    0.7\n",
      "7    0.8\n",
      "8    0.9\n",
      "9    1.0\n",
      "dtype: float64\n"
     ]
    }
   ],
   "source": [
    "serie_dividida: pd.Series = serie_numerica / 10\n",
    "print(serie_dividida)"
   ]
  }
 ],
 "metadata": {
  "kernelspec": {
   "display_name": "base",
   "language": "python",
   "name": "python3"
  },
  "language_info": {
   "codemirror_mode": {
    "name": "ipython",
    "version": 3
   },
   "file_extension": ".py",
   "mimetype": "text/x-python",
   "name": "python",
   "nbconvert_exporter": "python",
   "pygments_lexer": "ipython3",
   "version": "3.12.4"
  }
 },
 "nbformat": 4,
 "nbformat_minor": 2
}
