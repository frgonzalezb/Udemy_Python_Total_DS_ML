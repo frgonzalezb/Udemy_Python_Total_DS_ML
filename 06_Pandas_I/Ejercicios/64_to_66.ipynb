{
 "cells": [
  {
   "cell_type": "markdown",
   "metadata": {},
   "source": [
    "# Ejercicio Tipos de Datos en Pandas 1\n",
    "\n",
    "Utilizando la biblioteca Pandas, crea un DataFrame llamado df_empleados que contenga dos columnas: nombre y edad.\n",
    "\n",
    "La columna nombre debe contener los nombres de tres empleados: 'Ana', 'Luis' y 'Carlos'\n",
    "\n",
    "La columna edad debe contener las edades correspondientes: 30, 25 y 40\n",
    "\n",
    "Finalmente, muestra el DataFrame df_empleados utilizando la función print().\n",
    "\n"
   ]
  },
  {
   "cell_type": "code",
   "execution_count": 1,
   "metadata": {},
   "outputs": [
    {
     "name": "stdout",
     "output_type": "stream",
     "text": [
      "   nombre  edad\n",
      "0     Ana    30\n",
      "1    Luis    25\n",
      "2  Carlos    40\n"
     ]
    }
   ],
   "source": [
    "from typing import Any\n",
    "import pandas as pd\n",
    "\n",
    "\n",
    "empleados: dict[str, Any] = {\n",
    "    'nombre': ['Ana', 'Luis', 'Carlos'],\n",
    "    'edad': [30, 25, 40]\n",
    "}\n",
    "\n",
    "df_empleados: pd.DataFrame = pd.DataFrame(empleados)\n",
    "print(df_empleados)"
   ]
  },
  {
   "cell_type": "markdown",
   "metadata": {},
   "source": [
    "# Ejercicio Tipos de Datos en Pandas 2\n",
    "\n",
    "Dado el DataFrame df_empleados creado en el ejercicio anterior:\n",
    "\n",
    "- La columna nombre debe contener los nombres de tres empleados: 'Ana', 'Luis' y 'Carlos'\n",
    "\n",
    "- La columna edad debe contener las edades correspondientes: 30, 25 y 40\n",
    "\n",
    "1. Utiliza el método adecuado para seleccionar solo la columna edad y almacénala en una variable llamada edades.\n",
    "\n",
    "2. Luego, muestra el contenido de edades utilizando la función print().\n",
    "\n",
    "3. Asegúrate de demostrar que el tipo de dato de edades es una Serie de Pandas. Utilizando la función type()."
   ]
  },
  {
   "cell_type": "code",
   "execution_count": 2,
   "metadata": {},
   "outputs": [
    {
     "name": "stdout",
     "output_type": "stream",
     "text": [
      "0    30\n",
      "1    25\n",
      "2    40\n",
      "Name: edad, dtype: int64\n",
      "<class 'pandas.core.series.Series'>\n"
     ]
    }
   ],
   "source": [
    "edades: pd.Series = df_empleados['edad']\n",
    "print(edades)\n",
    "print(type(edades))"
   ]
  },
  {
   "cell_type": "markdown",
   "metadata": {},
   "source": [
    "# Ejercicio Tipos de Datos en Pandas 3\n",
    "\n",
    "Dado el DataFrame df_empleados creado en el ejercicio anterior:\n",
    "\n",
    "- La columna nombre debe contener los nombres de tres empleados: 'Ana', 'Luis' y 'Carlos'\n",
    "\n",
    "- La columna edad debe contener las edades correspondientes: 30, 25 y 40\n",
    "\n",
    "Para explorar sus atributos principales: shape, columns, y index.\n",
    "\n",
    "Utilizando las siguientes variables respectivamente: shape_df, columns_df, index_df \n",
    "\n",
    "Imprime los resultados de cada exploración para demostrar tu comprensión de la estructura de los DataFrames y las Series en Pandas.\n",
    "\n",
    "El resultado esperado es el siguiente:\n",
    "\n",
    "```\n",
    "(3, 2)\n",
    "Index(['nombre', 'edad'], dtype='object')\n",
    "RangeIndex(start=0, stop=3, step=1)\n",
    "```"
   ]
  },
  {
   "cell_type": "code",
   "execution_count": 4,
   "metadata": {},
   "outputs": [
    {
     "name": "stdout",
     "output_type": "stream",
     "text": [
      "(3, 2)\n",
      "Index(['nombre', 'edad'], dtype='object')\n",
      "RangeIndex(start=0, stop=3, step=1)\n"
     ]
    }
   ],
   "source": [
    "shape_df: tuple[int, int] = df_empleados.shape\n",
    "columns_df: pd.Index = df_empleados.columns\n",
    "index_df: pd.Index = df_empleados.index\n",
    "print(shape_df)\n",
    "print(columns_df)\n",
    "print(index_df)"
   ]
  }
 ],
 "metadata": {
  "kernelspec": {
   "display_name": "base",
   "language": "python",
   "name": "python3"
  },
  "language_info": {
   "codemirror_mode": {
    "name": "ipython",
    "version": 3
   },
   "file_extension": ".py",
   "mimetype": "text/x-python",
   "name": "python",
   "nbconvert_exporter": "python",
   "pygments_lexer": "ipython3",
   "version": "3.12.4"
  }
 },
 "nbformat": 4,
 "nbformat_minor": 2
}
