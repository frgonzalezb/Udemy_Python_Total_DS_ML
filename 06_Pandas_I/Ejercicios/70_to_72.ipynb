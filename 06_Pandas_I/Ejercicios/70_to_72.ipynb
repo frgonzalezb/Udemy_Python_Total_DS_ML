{
 "cells": [
  {
   "cell_type": "markdown",
   "metadata": {},
   "source": [
    "# Ejercicio Series en Pandas 1\n",
    "\n",
    "Crea una serie en Pandas a partir de la siguiente lista de números: `[4, 7, -5, 3]`. Llama a esta serie `mi_serie`. Imprime `mi_serie` para ver el resultado."
   ]
  },
  {
   "cell_type": "code",
   "execution_count": 2,
   "metadata": {},
   "outputs": [
    {
     "name": "stdout",
     "output_type": "stream",
     "text": [
      "0    4\n",
      "1    7\n",
      "2   -5\n",
      "3    3\n",
      "dtype: int64\n"
     ]
    }
   ],
   "source": [
    "import pandas as pd\n",
    "\n",
    "\n",
    "mi_serie: pd.Series = pd.Series([4, 7, -5, 3])\n",
    "print(mi_serie)"
   ]
  },
  {
   "cell_type": "markdown",
   "metadata": {},
   "source": [
    "# Ejercicio Series en Pandas 2\n",
    "\n",
    "1. Crea una serie en Pandas a partir de la lista `[10, 20, 30, 40]` con índices personalizados `['a', 'b', 'c', 'd']`. Llama a esta serie `serie_con_indices`."
   ]
  },
  {
   "cell_type": "code",
   "execution_count": 3,
   "metadata": {},
   "outputs": [
    {
     "name": "stdout",
     "output_type": "stream",
     "text": [
      "a    10\n",
      "b    20\n",
      "c    30\n",
      "d    40\n",
      "dtype: int64\n"
     ]
    }
   ],
   "source": [
    "serie_con_indices: pd.Series = pd.Series(\n",
    "    data=[10, 20, 30, 40],\n",
    "    index=['a', 'b', 'c', 'd']\n",
    ")\n",
    "print(serie_con_indices)"
   ]
  },
  {
   "cell_type": "markdown",
   "metadata": {},
   "source": [
    "2. Crea una variable llamada `valor_c` donde almacenes el valor asociado al índice `'c'`."
   ]
  },
  {
   "cell_type": "code",
   "execution_count": 4,
   "metadata": {},
   "outputs": [
    {
     "name": "stdout",
     "output_type": "stream",
     "text": [
      "30\n",
      "<class 'numpy.int64'>\n"
     ]
    }
   ],
   "source": [
    "valor_c = serie_con_indices['c']\n",
    "print(valor_c)\n",
    "print(type(valor_c))  # solo por curiosidad"
   ]
  },
  {
   "cell_type": "markdown",
   "metadata": {},
   "source": [
    "3. Crea una función llamada `imprimir_valor_c` que se capaz de mostrar el valor asociado al índice `'c'`."
   ]
  },
  {
   "cell_type": "code",
   "execution_count": 5,
   "metadata": {},
   "outputs": [
    {
     "name": "stdout",
     "output_type": "stream",
     "text": [
      "30\n"
     ]
    }
   ],
   "source": [
    "def imprimir_valor_c(serie: pd.Series) -> None:\n",
    "    print(serie['c'])\n",
    "\n",
    "\n",
    "imprimir_valor_c(serie_con_indices)"
   ]
  },
  {
   "cell_type": "markdown",
   "metadata": {},
   "source": [
    "# Ejercicio Series en Pandas 3\n",
    "\n",
    "Utiliza el diccionario `{'a': 30, 'b': 70, 'c': 160, 'd': 50}` para crear una serie en Pandas, la cual llamarás  `serie_desde_diccionario`.\n",
    "\n",
    "Luego, accede a los valores asociados a los índices `'a'` y `'d'`, sumándolos. \n",
    "\n",
    "Almacena esta suma en la variable `suma_ad`\n",
    "\n",
    "Crea una función llamada: `imprimir_suma_ad()` que se encargue de imprimir el valor de `suma_ad`"
   ]
  },
  {
   "cell_type": "code",
   "execution_count": 6,
   "metadata": {},
   "outputs": [
    {
     "name": "stdout",
     "output_type": "stream",
     "text": [
      "a     30\n",
      "b     70\n",
      "c    160\n",
      "d     50\n",
      "dtype: int64\n"
     ]
    }
   ],
   "source": [
    "serie_desde_diccionario: pd.Series = pd.Series(\n",
    "    {'a': 30, 'b': 70, 'c': 160, 'd': 50}\n",
    ")\n",
    "print(serie_desde_diccionario)"
   ]
  },
  {
   "cell_type": "code",
   "execution_count": 7,
   "metadata": {},
   "outputs": [
    {
     "name": "stdout",
     "output_type": "stream",
     "text": [
      "80\n"
     ]
    }
   ],
   "source": [
    "suma_ad = serie_desde_diccionario['a'] + serie_desde_diccionario['d']\n",
    "print(suma_ad)"
   ]
  },
  {
   "cell_type": "code",
   "execution_count": 8,
   "metadata": {},
   "outputs": [
    {
     "name": "stdout",
     "output_type": "stream",
     "text": [
      "80\n"
     ]
    }
   ],
   "source": [
    "def imprimir_suma_ad(serie: pd.Series) -> None:\n",
    "    print(serie['a'] + serie['d'])\n",
    "\n",
    "\n",
    "imprimir_suma_ad(serie_desde_diccionario)"
   ]
  }
 ],
 "metadata": {
  "kernelspec": {
   "display_name": "base",
   "language": "python",
   "name": "python3"
  },
  "language_info": {
   "codemirror_mode": {
    "name": "ipython",
    "version": 3
   },
   "file_extension": ".py",
   "mimetype": "text/x-python",
   "name": "python",
   "nbconvert_exporter": "python",
   "pygments_lexer": "ipython3",
   "version": "3.12.4"
  }
 },
 "nbformat": 4,
 "nbformat_minor": 2
}
