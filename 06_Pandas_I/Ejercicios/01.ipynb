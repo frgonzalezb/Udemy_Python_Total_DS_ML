{
 "cells": [
  {
   "cell_type": "markdown",
   "metadata": {},
   "source": [
    "# Ejercicio Tipos de Datos en Pandas 1\n",
    "\n",
    "Utilizando la biblioteca Pandas, crea un DataFrame llamado df_empleados que contenga dos columnas: nombre y edad.\n",
    "\n",
    "La columna nombre debe contener los nombres de tres empleados: 'Ana', 'Luis' y 'Carlos'\n",
    "\n",
    "La columna edad debe contener las edades correspondientes: 30, 25 y 40\n",
    "\n",
    "Finalmente, muestra el DataFrame df_empleados utilizando la función print().\n",
    "\n"
   ]
  },
  {
   "cell_type": "code",
   "execution_count": 1,
   "metadata": {},
   "outputs": [
    {
     "name": "stdout",
     "output_type": "stream",
     "text": [
      "   nombre  edad\n",
      "0     Ana    30\n",
      "1    Luis    25\n",
      "2  Carlos    40\n"
     ]
    }
   ],
   "source": [
    "from typing import Any\n",
    "import pandas as pd\n",
    "\n",
    "\n",
    "empleados: dict[str, Any] = {\n",
    "    'nombre': ['Ana', 'Luis', 'Carlos'],\n",
    "    'edad': [30, 25, 40]\n",
    "}\n",
    "\n",
    "df_empleados: pd.DataFrame = pd.DataFrame(empleados)\n",
    "print(df_empleados)"
   ]
  }
 ],
 "metadata": {
  "kernelspec": {
   "display_name": "base",
   "language": "python",
   "name": "python3"
  },
  "language_info": {
   "codemirror_mode": {
    "name": "ipython",
    "version": 3
   },
   "file_extension": ".py",
   "mimetype": "text/x-python",
   "name": "python",
   "nbconvert_exporter": "python",
   "pygments_lexer": "ipython3",
   "version": "3.12.4"
  }
 },
 "nbformat": 4,
 "nbformat_minor": 2
}
