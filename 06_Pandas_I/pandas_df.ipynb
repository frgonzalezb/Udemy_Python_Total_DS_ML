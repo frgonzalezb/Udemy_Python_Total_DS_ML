{
 "cells": [
  {
   "cell_type": "markdown",
   "metadata": {},
   "source": [
    "# DataFrames en Pandas"
   ]
  },
  {
   "cell_type": "code",
   "execution_count": 1,
   "metadata": {},
   "outputs": [],
   "source": [
    "import pandas as pd"
   ]
  },
  {
   "cell_type": "code",
   "execution_count": 2,
   "metadata": {},
   "outputs": [
    {
     "name": "stdout",
     "output_type": "stream",
     "text": [
      "                    region  enero  febrero  marzo  abril   mayo  junio  julio  \\\n",
      "0                 A CORUNA  240.5    293.4   31.0   80.6  149.5  108.9   44.6   \n",
      "1                 ALBACETE   68.1     28.0   26.2   65.3   25.4   50.0    2.0   \n",
      "2                 ALICANTE   49.2      3.7   63.2   85.8   57.2   20.0    9.2   \n",
      "3                  ALMERIA   56.3      5.2   35.8   43.1   38.8   16.9   10.2   \n",
      "4                    ARABA   96.8     79.9   38.0   52.0   37.7  107.8    8.5   \n",
      "5                 ASTURIAS  196.9    138.4   34.4   73.1   67.4  131.2   22.5   \n",
      "6                    AVILA   67.6    104.5    5.6   83.4   25.7   44.4    5.5   \n",
      "7                  BADAJOZ   62.2     78.5    7.7   61.3   13.0   29.6    0.0   \n",
      "8            ILLES BALEARS   81.2      5.3   53.9   22.0   54.4   28.5    8.8   \n",
      "9                BARCELONA   26.8     28.4   16.4   72.2   26.0   42.3   18.7   \n",
      "10                 BIZKAIA  175.7    111.5   52.3   57.5   49.1  124.8   37.9   \n",
      "11                  BURGOS   75.8     90.1   17.2   54.2   46.0   75.5    5.8   \n",
      "12                 CACERES   70.5    117.3    4.3   95.1   19.5   36.2    0.2   \n",
      "13                   CADIZ  148.5     75.4   65.0   35.5    7.5   12.3    0.0   \n",
      "14               CANTABRIA  180.7    112.8   56.0   60.3   60.2  122.9   43.2   \n",
      "15               CASTELLON   56.6     21.6   30.6   97.3   31.7   46.1   33.9   \n",
      "16                   CEUTA  261.9     93.9  209.8   35.4   12.9    2.7    0.0   \n",
      "17             CIUDAD REAL   84.0     39.6   10.3   63.0   11.8   24.0    0.7   \n",
      "18                 CORDOBA   88.6     57.5    9.6   64.5   11.6   20.7    0.3   \n",
      "19                  CUENCA   93.6     58.4   14.8   84.8   27.0   59.5    9.0   \n",
      "20                GIPUZKOA  173.0    113.6   62.0   62.9   69.0  145.0   46.8   \n",
      "21                  GIRONA   34.9     45.4   16.0   73.2   54.2   39.9   29.4   \n",
      "22                 GRANADA   72.2     32.9   17.2   51.0   38.1   15.5    1.3   \n",
      "23             GUADALAJARA   88.4     74.3   15.5   92.7   40.6   66.5   12.3   \n",
      "24                  HUELVA   50.7    101.9   35.4   51.5   15.1   14.5    0.0   \n",
      "25                  HUESCA   84.3     52.7    5.6   72.7   42.5   71.3   23.6   \n",
      "26                    JAEN  100.6     66.8   10.0   53.2   18.5   31.2    0.1   \n",
      "27                LA RIOJA   72.8     54.2   17.6   46.5   47.1   94.8    4.1   \n",
      "28              LAS PALMAS   44.1     32.6    6.1    3.5    0.7    1.1    0.7   \n",
      "29                    LEON   92.0    128.2   19.4   56.6   48.9   77.6    6.0   \n",
      "30                  LLEIDA   59.3     42.0   12.6   81.7   37.5   66.9   38.6   \n",
      "31                    LUGO  179.5    221.7   26.6   79.5   78.4  101.7   13.5   \n",
      "32                  MADRID   69.3     61.7    6.1   77.0   25.7   40.0    5.6   \n",
      "33                  MALAGA  139.5     43.7   35.5   56.9   16.5    6.4    0.0   \n",
      "34                 MELILLA   44.9     20.0   45.1   57.1    9.0    3.1    0.0   \n",
      "35                  MURCIA   44.5      2.3   52.6   61.6   48.7   32.6    9.3   \n",
      "36                 NAVARRA   98.8     85.9   23.8   43.7   44.2   87.9   17.6   \n",
      "37                 OURENSE  138.9    234.4   10.9   98.8   65.0   86.1    5.5   \n",
      "38                PALENCIA   52.3     81.3    7.5   55.8   29.7   79.3    3.4   \n",
      "39              PONTEVEDRA  255.4    335.7   22.3  128.4  144.5   80.7   24.6   \n",
      "40               SALAMANCA   52.9    123.6    4.1   62.4   24.4   50.8    5.6   \n",
      "41  SANTA CRUZ DE TENERIFE   90.6     56.0   20.8   19.4    2.8    3.5    1.7   \n",
      "42                 SEGOVIA   63.3     80.5    3.3   88.5   39.8   55.6    6.3   \n",
      "43                 SEVILLA   91.1     54.4   24.5   60.7    9.2    8.1    0.1   \n",
      "44                   SORIA   75.1     63.5   12.1   67.7   70.7   85.4   10.5   \n",
      "45               TARRAGONA   52.7     28.4    9.7   59.6   19.0   63.8   22.4   \n",
      "46                  TERUEL   54.1     28.8   11.9   74.6   48.5   72.6   26.8   \n",
      "47                  TOLEDO   83.0     51.1    7.5   62.5   15.0   27.1    3.3   \n",
      "48                VALENCIA   61.9     16.8   49.3   86.4   33.8   34.2   17.1   \n",
      "49              VALLADOLID   29.2     69.1    4.1   65.1   24.3   58.3    1.9   \n",
      "50                  ZAMORA   53.0    112.0    6.8   63.7   19.8   54.2    3.1   \n",
      "51                ZARAGOZA   52.0     30.0    3.6   52.7   38.3   57.5   13.5   \n",
      "\n",
      "    agosto  septiembre  octubre  noviembre  diciembre   anual  \n",
      "0     21.8        96.5    154.5      100.8      214.8  1536.9  \n",
      "1     34.5        48.0     44.8       33.1       14.1   439.5  \n",
      "2      5.0        44.0     41.1       47.4        1.8   427.6  \n",
      "3      1.9        17.4     27.3       32.6        3.2   288.7  \n",
      "4     17.7        63.3     38.5      212.2      197.3   949.7  \n",
      "5     19.2        90.3     74.2      309.8      205.3  1362.7  \n",
      "6     14.2        97.9     91.7       33.9       47.5   621.9  \n",
      "7      2.7        80.5     77.6       10.2       59.3   482.6  \n",
      "8     10.0        73.2     55.6      229.9       18.1   640.9  \n",
      "9     25.7        76.0     40.6       72.8        2.2   448.1  \n",
      "10    26.4        98.0     53.9      371.4      282.1  1440.6  \n",
      "11    17.6        48.4     48.7      112.3       88.1   679.7  \n",
      "12     4.9        98.5    130.9        7.1       75.8   660.3  \n",
      "13     0.1        30.8     24.8       44.5      135.1   579.5  \n",
      "14    30.3       105.1     47.1      384.6      246.6  1449.8  \n",
      "15    57.0       106.6     15.3       47.3        4.1   548.1  \n",
      "16     1.5         7.6      3.7      129.2       61.8   820.4  \n",
      "17    16.1        39.8     88.9       23.1       34.2   435.5  \n",
      "18     4.7        46.0     48.1       21.0       85.4   458.0  \n",
      "19    33.4        58.1     99.3       39.5       32.2   609.6  \n",
      "20    27.0       122.8     69.4      342.0      314.7  1548.2  \n",
      "21    44.0        89.9     29.6      108.5       12.1   577.1  \n",
      "22     6.8        11.5     18.6       31.7       25.5   322.3  \n",
      "23    33.5        76.0     75.4       44.6       35.1   654.9  \n",
      "24     0.0        78.2     32.0       18.1      105.3   502.7  \n",
      "25    17.7        78.3     65.0       64.7       59.1   637.5  \n",
      "26    15.8        19.0     45.7       51.0       51.8   463.7  \n",
      "27    16.9        42.0     37.2      115.8       49.7   598.7  \n",
      "28     1.5         0.9      1.6       10.9        4.5   108.2  \n",
      "29     9.2        71.8     60.1       59.8      112.1   741.7  \n",
      "30    19.0        55.7     45.0       58.6       32.9   549.8  \n",
      "31    17.6        59.5    111.0      114.1      179.8  1182.9  \n",
      "32    30.0        63.0     84.1       25.2       36.0   523.7  \n",
      "33     1.2        29.9     13.1       26.5       70.9   440.1  \n",
      "34     1.2        49.6      1.0       34.1        5.2   270.3  \n",
      "35     3.3        32.4     20.1       37.4        4.2   349.0  \n",
      "36    28.3        64.3     45.0      161.1      186.9   887.5  \n",
      "37    23.0        65.9     97.5       32.6      144.5  1003.1  \n",
      "38     6.8        61.6     47.5       56.0       51.5   532.7  \n",
      "39    34.0        92.4    175.7       45.3      236.4  1575.4  \n",
      "40     6.7        85.0     78.6       27.1       48.4   569.6  \n",
      "41     3.4         3.9      8.2       50.2       25.9   286.4  \n",
      "42    14.4        47.1     62.5       42.9       44.8   549.0  \n",
      "43     0.2        46.0     29.9       20.6      114.7   459.5  \n",
      "44    19.4        56.5     47.0       62.9       37.7   608.5  \n",
      "45    43.5        88.7     25.4      115.0        5.1   533.3  \n",
      "46    48.1        55.0     30.9       60.0       13.2   524.5  \n",
      "47    18.6        70.5     94.7       16.4       29.9   479.6  \n",
      "48    30.9        99.3     46.1       46.6        5.5   527.9  \n",
      "49     3.8        54.1     40.2       41.7       35.9   427.7  \n",
      "50     9.6        78.5     55.3       29.0       50.3   535.3  \n",
      "51    13.2        61.5     27.4       76.6       23.4   449.7  \n"
     ]
    }
   ],
   "source": [
    "df: pd.DataFrame = pd.read_csv('./data/Precipitaciones.csv')\n",
    "print(df)"
   ]
  },
  {
   "cell_type": "code",
   "execution_count": 3,
   "metadata": {},
   "outputs": [
    {
     "name": "stdout",
     "output_type": "stream",
     "text": [
      "<class 'pandas.core.frame.DataFrame'>\n"
     ]
    }
   ],
   "source": [
    "print(type(df))"
   ]
  },
  {
   "cell_type": "code",
   "execution_count": 4,
   "metadata": {},
   "outputs": [
    {
     "name": "stdout",
     "output_type": "stream",
     "text": [
      "     region  enero  febrero  marzo  abril   mayo  junio  julio  agosto  \\\n",
      "0  A CORUNA  240.5    293.4   31.0   80.6  149.5  108.9   44.6    21.8   \n",
      "1  ALBACETE   68.1     28.0   26.2   65.3   25.4   50.0    2.0    34.5   \n",
      "2  ALICANTE   49.2      3.7   63.2   85.8   57.2   20.0    9.2     5.0   \n",
      "3   ALMERIA   56.3      5.2   35.8   43.1   38.8   16.9   10.2     1.9   \n",
      "4     ARABA   96.8     79.9   38.0   52.0   37.7  107.8    8.5    17.7   \n",
      "\n",
      "   septiembre  octubre  noviembre  diciembre   anual  \n",
      "0        96.5    154.5      100.8      214.8  1536.9  \n",
      "1        48.0     44.8       33.1       14.1   439.5  \n",
      "2        44.0     41.1       47.4        1.8   427.6  \n",
      "3        17.4     27.3       32.6        3.2   288.7  \n",
      "4        63.3     38.5      212.2      197.3   949.7  \n"
     ]
    }
   ],
   "source": [
    "# Get the first 5 rows\n",
    "print(df.head())"
   ]
  },
  {
   "cell_type": "code",
   "execution_count": 5,
   "metadata": {},
   "outputs": [
    {
     "name": "stdout",
     "output_type": "stream",
     "text": [
      "     region  enero  febrero  marzo  abril   mayo  junio  julio  agosto  \\\n",
      "0  A CORUNA  240.5    293.4   31.0   80.6  149.5  108.9   44.6    21.8   \n",
      "1  ALBACETE   68.1     28.0   26.2   65.3   25.4   50.0    2.0    34.5   \n",
      "2  ALICANTE   49.2      3.7   63.2   85.8   57.2   20.0    9.2     5.0   \n",
      "\n",
      "   septiembre  octubre  noviembre  diciembre   anual  \n",
      "0        96.5    154.5      100.8      214.8  1536.9  \n",
      "1        48.0     44.8       33.1       14.1   439.5  \n",
      "2        44.0     41.1       47.4        1.8   427.6  \n"
     ]
    }
   ],
   "source": [
    "# Get the first 3 rows\n",
    "print(df.head(3))"
   ]
  },
  {
   "cell_type": "code",
   "execution_count": 6,
   "metadata": {},
   "outputs": [
    {
     "name": "stdout",
     "output_type": "stream",
     "text": [
      "        region  enero  febrero  marzo  abril  mayo  junio  julio  agosto  \\\n",
      "47      TOLEDO   83.0     51.1    7.5   62.5  15.0   27.1    3.3    18.6   \n",
      "48    VALENCIA   61.9     16.8   49.3   86.4  33.8   34.2   17.1    30.9   \n",
      "49  VALLADOLID   29.2     69.1    4.1   65.1  24.3   58.3    1.9     3.8   \n",
      "50      ZAMORA   53.0    112.0    6.8   63.7  19.8   54.2    3.1     9.6   \n",
      "51    ZARAGOZA   52.0     30.0    3.6   52.7  38.3   57.5   13.5    13.2   \n",
      "\n",
      "    septiembre  octubre  noviembre  diciembre  anual  \n",
      "47        70.5     94.7       16.4       29.9  479.6  \n",
      "48        99.3     46.1       46.6        5.5  527.9  \n",
      "49        54.1     40.2       41.7       35.9  427.7  \n",
      "50        78.5     55.3       29.0       50.3  535.3  \n",
      "51        61.5     27.4       76.6       23.4  449.7  \n"
     ]
    }
   ],
   "source": [
    "# Get the last 5 rows\n",
    "print(df.tail())"
   ]
  },
  {
   "cell_type": "code",
   "execution_count": 7,
   "metadata": {},
   "outputs": [
    {
     "name": "stdout",
     "output_type": "stream",
     "text": [
      "        region  enero  febrero  marzo  abril  mayo  junio  julio  agosto  \\\n",
      "49  VALLADOLID   29.2     69.1    4.1   65.1  24.3   58.3    1.9     3.8   \n",
      "50      ZAMORA   53.0    112.0    6.8   63.7  19.8   54.2    3.1     9.6   \n",
      "51    ZARAGOZA   52.0     30.0    3.6   52.7  38.3   57.5   13.5    13.2   \n",
      "\n",
      "    septiembre  octubre  noviembre  diciembre  anual  \n",
      "49        54.1     40.2       41.7       35.9  427.7  \n",
      "50        78.5     55.3       29.0       50.3  535.3  \n",
      "51        61.5     27.4       76.6       23.4  449.7  \n"
     ]
    }
   ],
   "source": [
    "# Get the last 3 rows\n",
    "print(df.tail(3))"
   ]
  },
  {
   "cell_type": "code",
   "execution_count": 8,
   "metadata": {},
   "outputs": [
    {
     "name": "stdout",
     "output_type": "stream",
     "text": [
      "(52, 14)\n"
     ]
    }
   ],
   "source": [
    "# Get the shape of the dataframe, how many rows and columns it has\n",
    "print(df.shape)"
   ]
  },
  {
   "cell_type": "code",
   "execution_count": 9,
   "metadata": {},
   "outputs": [
    {
     "name": "stdout",
     "output_type": "stream",
     "text": [
      "Index(['region', 'enero', 'febrero', 'marzo', 'abril', 'mayo', 'junio',\n",
      "       'julio', 'agosto', 'septiembre', 'octubre', 'noviembre', 'diciembre',\n",
      "       'anual'],\n",
      "      dtype='object')\n"
     ]
    }
   ],
   "source": [
    "# Get the column headers of the dataframe\n",
    "print(df.columns)"
   ]
  },
  {
   "cell_type": "code",
   "execution_count": 10,
   "metadata": {},
   "outputs": [
    {
     "name": "stdout",
     "output_type": "stream",
     "text": [
      "<class 'pandas.core.frame.DataFrame'>\n",
      "RangeIndex: 52 entries, 0 to 51\n",
      "Data columns (total 14 columns):\n",
      " #   Column      Non-Null Count  Dtype  \n",
      "---  ------      --------------  -----  \n",
      " 0   region      52 non-null     object \n",
      " 1   enero       52 non-null     float64\n",
      " 2   febrero     52 non-null     float64\n",
      " 3   marzo       52 non-null     float64\n",
      " 4   abril       52 non-null     float64\n",
      " 5   mayo        52 non-null     float64\n",
      " 6   junio       52 non-null     float64\n",
      " 7   julio       52 non-null     float64\n",
      " 8   agosto      52 non-null     float64\n",
      " 9   septiembre  52 non-null     float64\n",
      " 10  octubre     52 non-null     float64\n",
      " 11  noviembre   52 non-null     float64\n",
      " 12  diciembre   52 non-null     float64\n",
      " 13  anual       52 non-null     float64\n",
      "dtypes: float64(13), object(1)\n",
      "memory usage: 5.8+ KB\n",
      "None\n"
     ]
    }
   ],
   "source": [
    "# Get some brief info about the dataframe\n",
    "print(df.info())"
   ]
  },
  {
   "cell_type": "code",
   "execution_count": 11,
   "metadata": {},
   "outputs": [
    {
     "name": "stdout",
     "output_type": "stream",
     "text": [
      "            enero     febrero       marzo       abril        mayo       junio  \\\n",
      "count   52.000000   52.000000   52.000000   52.000000   52.000000   52.000000   \n",
      "mean    92.996154   78.632692   26.684615   64.500000   38.305769   54.182692   \n",
      "std     57.127171   67.454280   31.473913   21.421942   29.079576   36.821635   \n",
      "min     26.800000    2.300000    3.300000    3.500000    0.700000    1.100000   \n",
      "25%     53.825000   32.825000    9.125000   53.950000   18.875000   26.325000   \n",
      "50%     73.950000   62.600000   17.200000   62.700000   35.650000   50.400000   \n",
      "75%     97.300000  102.550000   35.425000   77.625000   48.750000   78.025000   \n",
      "max    261.900000  335.700000  209.800000  128.400000  149.500000  145.000000   \n",
      "\n",
      "           julio     agosto  septiembre     octubre   noviembre   diciembre  \\\n",
      "count  52.000000  52.000000   52.000000   52.000000   52.000000   52.000000   \n",
      "mean   11.840385  17.178846   62.246154   54.373077   82.494231   76.192308   \n",
      "std    13.256390  13.939496   28.581205   36.619785   91.689789   80.409042   \n",
      "min     0.000000   0.000000    0.900000    1.000000    7.100000    1.800000   \n",
      "25%     1.600000   4.850000   46.000000   29.825000   32.375000   22.075000   \n",
      "50%     6.150000  16.500000   62.300000   46.550000   46.950000   47.950000   \n",
      "75%    17.875000  26.550000   81.625000   74.500000  102.725000  107.000000   \n",
      "max    46.800000  57.000000  122.800000  175.700000  384.600000  314.700000   \n",
      "\n",
      "             anual  \n",
      "count    52.000000  \n",
      "mean    659.626923  \n",
      "std     352.905548  \n",
      "min     108.200000  \n",
      "25%     455.925000  \n",
      "50%     548.550000  \n",
      "75%     665.150000  \n",
      "max    1575.400000  \n"
     ]
    }
   ],
   "source": [
    "# Get some statistics about the dataframe\n",
    "print(df.describe())"
   ]
  }
 ],
 "metadata": {
  "kernelspec": {
   "display_name": "base",
   "language": "python",
   "name": "python3"
  },
  "language_info": {
   "codemirror_mode": {
    "name": "ipython",
    "version": 3
   },
   "file_extension": ".py",
   "mimetype": "text/x-python",
   "name": "python",
   "nbconvert_exporter": "python",
   "pygments_lexer": "ipython3",
   "version": "3.12.4"
  }
 },
 "nbformat": 4,
 "nbformat_minor": 2
}
