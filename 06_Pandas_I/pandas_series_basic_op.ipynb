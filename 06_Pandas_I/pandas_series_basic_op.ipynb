{
 "cells": [
  {
   "cell_type": "markdown",
   "metadata": {},
   "source": [
    "# Operaciones Básicas con Series de Pandas"
   ]
  },
  {
   "cell_type": "code",
   "execution_count": 1,
   "metadata": {},
   "outputs": [
    {
     "name": "stdout",
     "output_type": "stream",
     "text": [
      "0    10\n",
      "1    20\n",
      "2    30\n",
      "3    40\n",
      "4    50\n",
      "dtype: int64\n"
     ]
    }
   ],
   "source": [
    "import pandas as pd\n",
    "\n",
    "\n",
    "serie: pd.Series = pd.Series([10, 20, 30, 40, 50])\n",
    "print(serie)"
   ]
  },
  {
   "cell_type": "code",
   "execution_count": 2,
   "metadata": {},
   "outputs": [
    {
     "name": "stdout",
     "output_type": "stream",
     "text": [
      "0    20\n",
      "1    20\n",
      "2    30\n",
      "3    40\n",
      "4    50\n",
      "dtype: int64\n"
     ]
    }
   ],
   "source": [
    "# Sumar 10 al primer elemento de la serie\n",
    "serie[0] += 10\n",
    "print(serie)"
   ]
  },
  {
   "cell_type": "code",
   "execution_count": 3,
   "metadata": {},
   "outputs": [
    {
     "name": "stdout",
     "output_type": "stream",
     "text": [
      "0    30\n",
      "1    30\n",
      "2    40\n",
      "3    50\n",
      "4    60\n",
      "dtype: int64\n"
     ]
    }
   ],
   "source": [
    "# Sumar 10 a cada elemento de la serie\n",
    "serie += 10\n",
    "print(serie)"
   ]
  },
  {
   "cell_type": "code",
   "execution_count": 4,
   "metadata": {},
   "outputs": [
    {
     "name": "stdout",
     "output_type": "stream",
     "text": [
      "0     20\n",
      "1     40\n",
      "2     60\n",
      "3     80\n",
      "4    100\n",
      "dtype: int64\n"
     ]
    }
   ],
   "source": [
    "# Multiplicar cada elemento de una serie por 2\n",
    "serie: pd.Series = pd.Series([10, 20, 30, 40, 50])\n",
    "serie *= 2\n",
    "print(serie)\n",
    "\n",
    "\"\"\"\n",
    "NOTE: Por alguna razón, el cuaderno deja de percibir la variable `serie`\n",
    "definida previamente y me obliga a redeclararla para que no me de error.\n",
    "\n",
    "En todo caso, lo importante aquí es la operación matemática.\n",
    "\"\"\""
   ]
  }
 ],
 "metadata": {
  "kernelspec": {
   "display_name": "base",
   "language": "python",
   "name": "python3"
  },
  "language_info": {
   "codemirror_mode": {
    "name": "ipython",
    "version": 3
   },
   "file_extension": ".py",
   "mimetype": "text/x-python",
   "name": "python",
   "nbconvert_exporter": "python",
   "pygments_lexer": "ipython3",
   "version": "3.12.4"
  }
 },
 "nbformat": 4,
 "nbformat_minor": 2
}
