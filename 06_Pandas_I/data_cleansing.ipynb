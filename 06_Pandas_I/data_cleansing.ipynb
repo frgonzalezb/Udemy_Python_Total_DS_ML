{
 "cells": [
  {
   "cell_type": "markdown",
   "metadata": {},
   "source": [
    "# Limpieza de Datos en Pandas (data cleansing)\n",
    "\n",
    "**Nota para mi yo del futuro:**\n",
    "Es un paso que siempre debe hacerse!!!!\n",
    "En el mundo real, siguiendo el principio de entropía, siempre está el riesgo de que un dataset contenga datos duplicados o faltantes (o nulos), o directamente errores en la recogida de datos (tipos de datos incorrectos, etc.)."
   ]
  },
  {
   "cell_type": "code",
   "execution_count": 1,
   "metadata": {},
   "outputs": [
    {
     "name": "stdout",
     "output_type": "stream",
     "text": [
      "   product_id  sold  price\n",
      "0        1001  30.0   20.5\n",
      "1        1002   NaN   15.0\n",
      "2        1003  25.0    NaN\n",
      "3        1003  25.0   22.5\n"
     ]
    }
   ],
   "source": [
    "# Script de ejemplo (con un dataset deliberadamente con errores)\n",
    "from typing import Any\n",
    "import pandas as pd\n",
    "\n",
    "\n",
    "data: dict[str, list[Any]] = {\n",
    "    'product_id': [1001, 1002, 1003, 1003],\n",
    "    'sold': [30, None, 25, 25],\n",
    "    'price': [20.5, 15.0, None, 22.5]\n",
    "}\n",
    "\n",
    "df: pd.DataFrame = pd.DataFrame(data)\n",
    "print(df)"
   ]
  },
  {
   "cell_type": "code",
   "execution_count": 2,
   "metadata": {},
   "outputs": [
    {
     "name": "stdout",
     "output_type": "stream",
     "text": [
      "<class 'pandas.core.frame.DataFrame'>\n",
      "RangeIndex: 4 entries, 0 to 3\n",
      "Data columns (total 3 columns):\n",
      " #   Column      Non-Null Count  Dtype  \n",
      "---  ------      --------------  -----  \n",
      " 0   product_id  4 non-null      int64  \n",
      " 1   sold        3 non-null      float64\n",
      " 2   price       3 non-null      float64\n",
      "dtypes: float64(2), int64(1)\n",
      "memory usage: 228.0 bytes\n",
      "None\n"
     ]
    }
   ],
   "source": [
    "# Importante usar df.info() para diagnosticar el dataset\n",
    "print(df.info())"
   ]
  },
  {
   "cell_type": "code",
   "execution_count": 3,
   "metadata": {},
   "outputs": [
    {
     "name": "stdout",
     "output_type": "stream",
     "text": [
      "   product_id   sold  price\n",
      "0       False  False  False\n",
      "1       False   True  False\n",
      "2       False  False   True\n",
      "3       False  False  False\n"
     ]
    }
   ],
   "source": [
    "# Encontrar las celdas nulas (a ojo)\n",
    "print(df.isnull())"
   ]
  },
  {
   "cell_type": "code",
   "execution_count": 4,
   "metadata": {},
   "outputs": [
    {
     "name": "stdout",
     "output_type": "stream",
     "text": [
      "product_id    0\n",
      "sold          1\n",
      "price         1\n",
      "dtype: int64\n"
     ]
    }
   ],
   "source": [
    "# Encontrar la cantidad de celdas nulas según serie\n",
    "print(df.isnull().sum())"
   ]
  },
  {
   "cell_type": "markdown",
   "metadata": {},
   "source": [
    "**Otra nota para mi yo del futuro**: La forma de lidiar con los registros con datos nulos, repetidos, dañados, etc. varía de caso a caso.\n",
    "\n",
    "NO HAY FORMA ÚNICA DE RESOLVER ESTE PROBLEMA!!!!!!! 😱\n",
    "\n",
    "En algunos casos, generalmente en muestras grandes, se pueden sacrificar las instancias con datos nulos, sin afectar mayormente los análisis posteriores. En otros, especialmente con muestras pequeñas, se prefiere conservar todas las instancias, pero reemplazando las celdas faltantes con algún valor por defecto, el cual puede ser fijo o depender de los mismos datos ya existentes.\n",
    "\n",
    "De cualquier forma, vale la pena abordar el problema con el jefe de proyecto o de investigación para resolver el camino a escoger."
   ]
  },
  {
   "cell_type": "code",
   "execution_count": 5,
   "metadata": {},
   "outputs": [
    {
     "name": "stdout",
     "output_type": "stream",
     "text": [
      "   product_id  sold  price\n",
      "0        1001  30.0   20.5\n",
      "3        1003  25.0   22.5\n"
     ]
    }
   ],
   "source": [
    "# En el caso de eliminar registros con valores faltantes (NaN)\n",
    "df_without_nan: pd.DataFrame = df.dropna()\n",
    "print(df_without_nan)"
   ]
  },
  {
   "cell_type": "code",
   "execution_count": 6,
   "metadata": {},
   "outputs": [
    {
     "name": "stdout",
     "output_type": "stream",
     "text": [
      "   product_id  sold      price\n",
      "0        1001  30.0  20.500000\n",
      "1        1002   0.0  15.000000\n",
      "2        1003  25.0  19.333333\n",
      "3        1003  25.0  22.500000\n"
     ]
    }
   ],
   "source": [
    "# En el caso de reemplazar los valores faltantes (NaN) por un valor\n",
    "default_values_for_nan: dict = {\n",
    "    'sold': 0,                  # valor fijo\n",
    "    'price': df['price'].mean() # valor depende de la media de la serie\n",
    "}\n",
    "df_replaced_nan: pd.DataFrame = df.fillna(default_values_for_nan)\n",
    "print(df_replaced_nan)"
   ]
  },
  {
   "cell_type": "markdown",
   "metadata": {},
   "source": [
    "También es muy importante verificar que el tipo de dato de cada serie sea el más adecuado para cada caso. Véase los ejemplos a continuación:"
   ]
  },
  {
   "cell_type": "code",
   "execution_count": 7,
   "metadata": {},
   "outputs": [
    {
     "name": "stdout",
     "output_type": "stream",
     "text": [
      "   product_id  sold      price\n",
      "0        1001    30  20.500000\n",
      "1        1002     0  15.000000\n",
      "2        1003    25  19.333333\n",
      "3        1003    25  22.500000\n"
     ]
    }
   ],
   "source": [
    "# La cantidad de productos vendidos debe ser representado como integer, no float\n",
    "df_replaced_nan['sold'] = df_replaced_nan['sold'].astype('int64')\n",
    "print(df_replaced_nan)"
   ]
  },
  {
   "cell_type": "markdown",
   "metadata": {},
   "source": [
    "Ejemplos de qué hacer con los registros con datos duplicados:"
   ]
  },
  {
   "cell_type": "code",
   "execution_count": 8,
   "metadata": {},
   "outputs": [
    {
     "name": "stdout",
     "output_type": "stream",
     "text": [
      "   product_id  sold      price\n",
      "0        1001    30  20.500000\n",
      "1        1002     0  15.000000\n",
      "2        1003    25  19.333333\n",
      "3        1003    25  22.500000\n"
     ]
    }
   ],
   "source": [
    "# Eliminar registros con duplicados\n",
    "df_unique_values: pd.DataFrame = df_replaced_nan.drop_duplicates()\n",
    "print(df_unique_values)"
   ]
  },
  {
   "cell_type": "markdown",
   "metadata": {},
   "source": [
    "**IMPORTANTE:** No hubo eliminación aquí, porque `drop_duplicates()` (sin parámetros) elimina registros cuando dos o más son _completamente_ iguales. En el ejemplo anterior, dos registros comparten los mismos valores para `product_id` y `sold`, pero difieren en `price`.\n",
    "\n",
    "No obstante, es posible pasarle parámetros a `drop_duplicates()` para nuestros intereses:"
   ]
  },
  {
   "cell_type": "code",
   "execution_count": 9,
   "metadata": {},
   "outputs": [
    {
     "name": "stdout",
     "output_type": "stream",
     "text": [
      "   product_id  sold      price\n",
      "0        1001    30  20.500000\n",
      "1        1002     0  15.000000\n",
      "2        1003    25  19.333333\n"
     ]
    }
   ],
   "source": [
    "# Eliminar registros con duplicados (con parámetros)\n",
    "df_unique_values: pd.DataFrame = df_replaced_nan.drop_duplicates(subset=['product_id'])\n",
    "print(df_unique_values)"
   ]
  }
 ],
 "metadata": {
  "kernelspec": {
   "display_name": "base",
   "language": "python",
   "name": "python3"
  },
  "language_info": {
   "codemirror_mode": {
    "name": "ipython",
    "version": 3
   },
   "file_extension": ".py",
   "mimetype": "text/x-python",
   "name": "python",
   "nbconvert_exporter": "python",
   "pygments_lexer": "ipython3",
   "version": "3.12.4"
  }
 },
 "nbformat": 4,
 "nbformat_minor": 2
}
