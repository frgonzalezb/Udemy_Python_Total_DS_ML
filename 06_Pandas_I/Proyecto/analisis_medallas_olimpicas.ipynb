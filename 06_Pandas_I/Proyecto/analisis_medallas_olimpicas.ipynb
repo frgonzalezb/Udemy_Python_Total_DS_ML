{
 "cells": [
  {
   "cell_type": "markdown",
   "metadata": {},
   "source": [
    "# Proyecto del Día - Análisis de Medallas Olímpicas\n",
    "\n",
    "## Objetivo\n",
    "\n",
    "Realizar un análisis exploratorio de datos (EDA) sobre un conjuntos de datos de medallas olímpicas utilizando Pandas. Este proyecto te permitirá aplicar los conceptos aprendidos sobre **Series, DataFrames, limpieza de datos, operaciones básicas, filtrado y agregación** en Pandas.\n",
    "\n",
    "## Consigna\n",
    "\n",
    "Vas a trabajar con el conjunto de datos _medallas.csv_, que descargarás de la lección **Proyecto del Día 6**, y que incluye información sobre las medallas de oro, plata, bronce y el total obtenido por cada país en los Juegos Olímpicos.\n",
    "\n",
    "Vas a realizar una serie de tareas básicas, que te permitirán responder a las preguntas del cuestionario que encontrarás al final del día. Las tareas que realizarás son:\n",
    "\n",
    "1. **Cargar los datos:** Importar los datos desde el archivo CSV a un DataFrame de Pandas.\n",
    "2. **Exploración inicial:** Utilizar métodos básicos para explorar el tamaño, las columnas y los tipos de datos del DataFrame.\n",
    "3. **Limpieza de datos:** Identificar y manejar valores faltantes o incorrectos, especialmente en las columnas de medallas donde los valores faltantes indican cero medallas.\n",
    "4. **Análisis de medallas de oro por país:** Realiza las operaciones que sean necesarias para identificar cuáles fueron los 3 países con más medallas de oro en total (vas a necesitar investigar los métodos de DataFrames para encontrar cuál te permita ordenar los valores de mayor a menor y viceversa).\n",
    "5. **Análisis de medallas totales por país:** Obtener un DataFrame que contenga sólo los países que ganaron más de 10 medallas en total.\n",
    "\n",
    "Una vez que hayas realizado estos pasos, realiza el cuestionario del día, que contiene preguntas que sólo podrás responder tras haber explorado los datos, siguiendo los pasos anteriores.\n",
    "\n",
    "¡Mucha suerte!"
   ]
  },
  {
   "cell_type": "markdown",
   "metadata": {},
   "source": [
    "## 1. Cargar los datos"
   ]
  },
  {
   "cell_type": "code",
   "execution_count": 1,
   "metadata": {},
   "outputs": [],
   "source": [
    "import pandas as pd"
   ]
  },
  {
   "cell_type": "code",
   "execution_count": 2,
   "metadata": {},
   "outputs": [
    {
     "data": {
      "text/html": [
       "<div>\n",
       "<style scoped>\n",
       "    .dataframe tbody tr th:only-of-type {\n",
       "        vertical-align: middle;\n",
       "    }\n",
       "\n",
       "    .dataframe tbody tr th {\n",
       "        vertical-align: top;\n",
       "    }\n",
       "\n",
       "    .dataframe thead th {\n",
       "        text-align: right;\n",
       "    }\n",
       "</style>\n",
       "<table border=\"1\" class=\"dataframe\">\n",
       "  <thead>\n",
       "    <tr style=\"text-align: right;\">\n",
       "      <th></th>\n",
       "      <th>Oro</th>\n",
       "      <th>Plata</th>\n",
       "      <th>Bronce</th>\n",
       "      <th>Total</th>\n",
       "      <th>Pais</th>\n",
       "    </tr>\n",
       "  </thead>\n",
       "  <tbody>\n",
       "    <tr>\n",
       "      <th>0</th>\n",
       "      <td>NaN</td>\n",
       "      <td>1.0</td>\n",
       "      <td>2.0</td>\n",
       "      <td>3</td>\n",
       "      <td>Argentina</td>\n",
       "    </tr>\n",
       "    <tr>\n",
       "      <th>1</th>\n",
       "      <td>NaN</td>\n",
       "      <td>2.0</td>\n",
       "      <td>2.0</td>\n",
       "      <td>4</td>\n",
       "      <td>Armenia</td>\n",
       "    </tr>\n",
       "    <tr>\n",
       "      <th>2</th>\n",
       "      <td>17.0</td>\n",
       "      <td>7.0</td>\n",
       "      <td>22.0</td>\n",
       "      <td>46</td>\n",
       "      <td>Australia</td>\n",
       "    </tr>\n",
       "    <tr>\n",
       "      <th>3</th>\n",
       "      <td>1.0</td>\n",
       "      <td>1.0</td>\n",
       "      <td>5.0</td>\n",
       "      <td>7</td>\n",
       "      <td>Austria</td>\n",
       "    </tr>\n",
       "    <tr>\n",
       "      <th>4</th>\n",
       "      <td>NaN</td>\n",
       "      <td>3.0</td>\n",
       "      <td>4.0</td>\n",
       "      <td>7</td>\n",
       "      <td>Azerbaijan</td>\n",
       "    </tr>\n",
       "    <tr>\n",
       "      <th>...</th>\n",
       "      <td>...</td>\n",
       "      <td>...</td>\n",
       "      <td>...</td>\n",
       "      <td>...</td>\n",
       "      <td>...</td>\n",
       "    </tr>\n",
       "    <tr>\n",
       "      <th>88</th>\n",
       "      <td>NaN</td>\n",
       "      <td>1.0</td>\n",
       "      <td>NaN</td>\n",
       "      <td>1</td>\n",
       "      <td>Turkmenistan</td>\n",
       "    </tr>\n",
       "    <tr>\n",
       "      <th>89</th>\n",
       "      <td>2.0</td>\n",
       "      <td>1.0</td>\n",
       "      <td>1.0</td>\n",
       "      <td>4</td>\n",
       "      <td>Uganda</td>\n",
       "    </tr>\n",
       "    <tr>\n",
       "      <th>90</th>\n",
       "      <td>1.0</td>\n",
       "      <td>6.0</td>\n",
       "      <td>12.0</td>\n",
       "      <td>19</td>\n",
       "      <td>Ukraine</td>\n",
       "    </tr>\n",
       "    <tr>\n",
       "      <th>91</th>\n",
       "      <td>3.0</td>\n",
       "      <td>NaN</td>\n",
       "      <td>2.0</td>\n",
       "      <td>5</td>\n",
       "      <td>Uzbekistan</td>\n",
       "    </tr>\n",
       "    <tr>\n",
       "      <th>92</th>\n",
       "      <td>1.0</td>\n",
       "      <td>3.0</td>\n",
       "      <td>NaN</td>\n",
       "      <td>4</td>\n",
       "      <td>Venezuela</td>\n",
       "    </tr>\n",
       "  </tbody>\n",
       "</table>\n",
       "<p>93 rows × 5 columns</p>\n",
       "</div>"
      ],
      "text/plain": [
       "     Oro  Plata  Bronce  Total          Pais\n",
       "0    NaN    1.0     2.0      3     Argentina\n",
       "1    NaN    2.0     2.0      4       Armenia\n",
       "2   17.0    7.0    22.0     46     Australia\n",
       "3    1.0    1.0     5.0      7       Austria\n",
       "4    NaN    3.0     4.0      7    Azerbaijan\n",
       "..   ...    ...     ...    ...           ...\n",
       "88   NaN    1.0     NaN      1  Turkmenistan\n",
       "89   2.0    1.0     1.0      4        Uganda\n",
       "90   1.0    6.0    12.0     19       Ukraine\n",
       "91   3.0    NaN     2.0      5    Uzbekistan\n",
       "92   1.0    3.0     NaN      4     Venezuela\n",
       "\n",
       "[93 rows x 5 columns]"
      ]
     },
     "execution_count": 2,
     "metadata": {},
     "output_type": "execute_result"
    }
   ],
   "source": [
    "medallas_df: pd.DataFrame = pd.read_csv('./data/medallas.csv')\n",
    "medallas_df"
   ]
  },
  {
   "cell_type": "markdown",
   "metadata": {},
   "source": [
    "## 2. Exploración inicial"
   ]
  },
  {
   "cell_type": "code",
   "execution_count": 3,
   "metadata": {},
   "outputs": [
    {
     "name": "stdout",
     "output_type": "stream",
     "text": [
      "El tamaño del DataFrame es de 93 filas y 5 columnas.\n",
      "\n"
     ]
    }
   ],
   "source": [
    "print(\n",
    "    f'El tamaño del DataFrame es de {medallas_df.shape[0]} filas '\n",
    "    f'y {medallas_df.shape[1]} columnas.\\n'\n",
    ")"
   ]
  },
  {
   "cell_type": "code",
   "execution_count": 4,
   "metadata": {},
   "outputs": [
    {
     "name": "stdout",
     "output_type": "stream",
     "text": [
      "Las columnas son: Oro, Plata, Bronce, Total, Pais\n",
      "\n"
     ]
    }
   ],
   "source": [
    "print(f'Las columnas son: {', '.join(list(medallas_df.columns))}\\n')"
   ]
  },
  {
   "cell_type": "code",
   "execution_count": 5,
   "metadata": {},
   "outputs": [
    {
     "name": "stdout",
     "output_type": "stream",
     "text": [
      "Los tipos de datos por columna son:\n",
      "Oro       float64\n",
      "Plata     float64\n",
      "Bronce    float64\n",
      "Total       int64\n",
      "Pais       object\n",
      "dtype: object\n",
      "\n"
     ]
    }
   ],
   "source": [
    "print(f'Los tipos de datos por columna son:\\n{medallas_df.dtypes}\\n')"
   ]
  },
  {
   "cell_type": "code",
   "execution_count": 6,
   "metadata": {},
   "outputs": [
    {
     "name": "stdout",
     "output_type": "stream",
     "text": [
      "Algunos estadísticos descriptivos:\n",
      "             Oro      Plata     Bronce       Total\n",
      "count  65.000000  69.000000  76.000000   93.000000\n",
      "mean    4.400000   4.768116   4.934211   10.548387\n",
      "std     7.633806   7.276362   6.261705   18.897617\n",
      "min     1.000000   1.000000   1.000000    1.000000\n",
      "25%     1.000000   1.000000   1.000000    2.000000\n",
      "50%     2.000000   2.000000   2.000000    4.000000\n",
      "75%     3.000000   5.000000   5.250000    8.000000\n",
      "max    39.000000  41.000000  33.000000  113.000000\n"
     ]
    }
   ],
   "source": [
    "print(f'Algunos estadísticos descriptivos:\\n{medallas_df.describe()}')"
   ]
  },
  {
   "cell_type": "markdown",
   "metadata": {},
   "source": [
    "## 3. Limpieza de datos"
   ]
  },
  {
   "cell_type": "markdown",
   "metadata": {},
   "source": [
    "### 3.1. Diagnosticar el dataset"
   ]
  },
  {
   "cell_type": "code",
   "execution_count": 7,
   "metadata": {},
   "outputs": [
    {
     "name": "stdout",
     "output_type": "stream",
     "text": [
      "<class 'pandas.core.frame.DataFrame'>\n",
      "RangeIndex: 93 entries, 0 to 92\n",
      "Data columns (total 5 columns):\n",
      " #   Column  Non-Null Count  Dtype  \n",
      "---  ------  --------------  -----  \n",
      " 0   Oro     65 non-null     float64\n",
      " 1   Plata   69 non-null     float64\n",
      " 2   Bronce  76 non-null     float64\n",
      " 3   Total   93 non-null     int64  \n",
      " 4   Pais    93 non-null     object \n",
      "dtypes: float64(3), int64(1), object(1)\n",
      "memory usage: 3.8+ KB\n"
     ]
    }
   ],
   "source": [
    "medallas_df.info()"
   ]
  },
  {
   "cell_type": "markdown",
   "metadata": {},
   "source": [
    "### 3.2. Determinar la cantidad de nulos por columna"
   ]
  },
  {
   "cell_type": "code",
   "execution_count": 8,
   "metadata": {},
   "outputs": [
    {
     "name": "stdout",
     "output_type": "stream",
     "text": [
      "\n",
      "La cantidad de entradas nulas por columna:\n",
      "Oro       28\n",
      "Plata     24\n",
      "Bronce    17\n",
      "Total      0\n",
      "Pais       0\n",
      "dtype: int64\n"
     ]
    }
   ],
   "source": [
    "print(\n",
    "    '\\nLa cantidad de entradas nulas por columna:'\n",
    "    f'\\n{medallas_df.isnull().sum()}'\n",
    ")"
   ]
  },
  {
   "cell_type": "markdown",
   "metadata": {},
   "source": [
    "### 3.3. Reemplazar los valores nulos por ceros"
   ]
  },
  {
   "cell_type": "code",
   "execution_count": 12,
   "metadata": {},
   "outputs": [
    {
     "data": {
      "text/html": [
       "<div>\n",
       "<style scoped>\n",
       "    .dataframe tbody tr th:only-of-type {\n",
       "        vertical-align: middle;\n",
       "    }\n",
       "\n",
       "    .dataframe tbody tr th {\n",
       "        vertical-align: top;\n",
       "    }\n",
       "\n",
       "    .dataframe thead th {\n",
       "        text-align: right;\n",
       "    }\n",
       "</style>\n",
       "<table border=\"1\" class=\"dataframe\">\n",
       "  <thead>\n",
       "    <tr style=\"text-align: right;\">\n",
       "      <th></th>\n",
       "      <th>Oro</th>\n",
       "      <th>Plata</th>\n",
       "      <th>Bronce</th>\n",
       "      <th>Total</th>\n",
       "      <th>Pais</th>\n",
       "    </tr>\n",
       "  </thead>\n",
       "  <tbody>\n",
       "    <tr>\n",
       "      <th>0</th>\n",
       "      <td>0.0</td>\n",
       "      <td>1.0</td>\n",
       "      <td>2.0</td>\n",
       "      <td>3</td>\n",
       "      <td>Argentina</td>\n",
       "    </tr>\n",
       "    <tr>\n",
       "      <th>1</th>\n",
       "      <td>0.0</td>\n",
       "      <td>2.0</td>\n",
       "      <td>2.0</td>\n",
       "      <td>4</td>\n",
       "      <td>Armenia</td>\n",
       "    </tr>\n",
       "    <tr>\n",
       "      <th>2</th>\n",
       "      <td>17.0</td>\n",
       "      <td>7.0</td>\n",
       "      <td>22.0</td>\n",
       "      <td>46</td>\n",
       "      <td>Australia</td>\n",
       "    </tr>\n",
       "    <tr>\n",
       "      <th>3</th>\n",
       "      <td>1.0</td>\n",
       "      <td>1.0</td>\n",
       "      <td>5.0</td>\n",
       "      <td>7</td>\n",
       "      <td>Austria</td>\n",
       "    </tr>\n",
       "    <tr>\n",
       "      <th>4</th>\n",
       "      <td>0.0</td>\n",
       "      <td>3.0</td>\n",
       "      <td>4.0</td>\n",
       "      <td>7</td>\n",
       "      <td>Azerbaijan</td>\n",
       "    </tr>\n",
       "    <tr>\n",
       "      <th>...</th>\n",
       "      <td>...</td>\n",
       "      <td>...</td>\n",
       "      <td>...</td>\n",
       "      <td>...</td>\n",
       "      <td>...</td>\n",
       "    </tr>\n",
       "    <tr>\n",
       "      <th>88</th>\n",
       "      <td>0.0</td>\n",
       "      <td>1.0</td>\n",
       "      <td>0.0</td>\n",
       "      <td>1</td>\n",
       "      <td>Turkmenistan</td>\n",
       "    </tr>\n",
       "    <tr>\n",
       "      <th>89</th>\n",
       "      <td>2.0</td>\n",
       "      <td>1.0</td>\n",
       "      <td>1.0</td>\n",
       "      <td>4</td>\n",
       "      <td>Uganda</td>\n",
       "    </tr>\n",
       "    <tr>\n",
       "      <th>90</th>\n",
       "      <td>1.0</td>\n",
       "      <td>6.0</td>\n",
       "      <td>12.0</td>\n",
       "      <td>19</td>\n",
       "      <td>Ukraine</td>\n",
       "    </tr>\n",
       "    <tr>\n",
       "      <th>91</th>\n",
       "      <td>3.0</td>\n",
       "      <td>0.0</td>\n",
       "      <td>2.0</td>\n",
       "      <td>5</td>\n",
       "      <td>Uzbekistan</td>\n",
       "    </tr>\n",
       "    <tr>\n",
       "      <th>92</th>\n",
       "      <td>1.0</td>\n",
       "      <td>3.0</td>\n",
       "      <td>0.0</td>\n",
       "      <td>4</td>\n",
       "      <td>Venezuela</td>\n",
       "    </tr>\n",
       "  </tbody>\n",
       "</table>\n",
       "<p>93 rows × 5 columns</p>\n",
       "</div>"
      ],
      "text/plain": [
       "     Oro  Plata  Bronce  Total          Pais\n",
       "0    0.0    1.0     2.0      3     Argentina\n",
       "1    0.0    2.0     2.0      4       Armenia\n",
       "2   17.0    7.0    22.0     46     Australia\n",
       "3    1.0    1.0     5.0      7       Austria\n",
       "4    0.0    3.0     4.0      7    Azerbaijan\n",
       "..   ...    ...     ...    ...           ...\n",
       "88   0.0    1.0     0.0      1  Turkmenistan\n",
       "89   2.0    1.0     1.0      4        Uganda\n",
       "90   1.0    6.0    12.0     19       Ukraine\n",
       "91   3.0    0.0     2.0      5    Uzbekistan\n",
       "92   1.0    3.0     0.0      4     Venezuela\n",
       "\n",
       "[93 rows x 5 columns]"
      ]
     },
     "execution_count": 12,
     "metadata": {},
     "output_type": "execute_result"
    }
   ],
   "source": [
    "medallas_df_sin_nulos: pd.DataFrame = medallas_df.fillna(0)\n",
    "medallas_df_sin_nulos"
   ]
  },
  {
   "cell_type": "code",
   "execution_count": 13,
   "metadata": {},
   "outputs": [
    {
     "name": "stdout",
     "output_type": "stream",
     "text": [
      "\n",
      "La cantidad de entradas nulas por columna:\n",
      "Oro       0\n",
      "Plata     0\n",
      "Bronce    0\n",
      "Total     0\n",
      "Pais      0\n",
      "dtype: int64\n"
     ]
    }
   ],
   "source": [
    "print(\n",
    "    '\\nLa cantidad de entradas nulas por columna:'\n",
    "    f'\\n{medallas_df_sin_nulos.isnull().sum()}'\n",
    ")"
   ]
  },
  {
   "cell_type": "markdown",
   "metadata": {},
   "source": [
    "### 3.4. Reemplazar tipos de datos por los correctos"
   ]
  },
  {
   "cell_type": "code",
   "execution_count": 14,
   "metadata": {},
   "outputs": [
    {
     "name": "stdout",
     "output_type": "stream",
     "text": [
      "\n",
      "Se han reemplazado los valores flotantes por enteros:\n",
      "Oro        int64\n",
      "Plata      int64\n",
      "Bronce     int64\n",
      "Total      int64\n",
      "Pais      object\n",
      "dtype: object\n"
     ]
    }
   ],
   "source": [
    "medallas_df_sin_nulos['Oro'] = medallas_df_sin_nulos['Oro'].astype('int64')\n",
    "medallas_df_sin_nulos['Plata'] = medallas_df_sin_nulos['Plata'].astype('int64')\n",
    "medallas_df_sin_nulos['Bronce'] = medallas_df_sin_nulos['Bronce'].astype('int64')\n",
    "\n",
    "print(\n",
    "    '\\nSe han reemplazado los valores flotantes por enteros:'\n",
    "    f'\\n{medallas_df_sin_nulos.dtypes}'\n",
    ")"
   ]
  },
  {
   "cell_type": "markdown",
   "metadata": {},
   "source": [
    "### 3.5. Encontrar y manejar posibles duplicados"
   ]
  },
  {
   "cell_type": "code",
   "execution_count": 15,
   "metadata": {},
   "outputs": [
    {
     "name": "stdout",
     "output_type": "stream",
     "text": [
      "\n",
      "No se han encontrado duplicados.\n"
     ]
    }
   ],
   "source": [
    "duplicados: list[bool] = medallas_df_sin_nulos['Pais'].duplicated().to_list()\n",
    "\n",
    "if True in duplicados:\n",
    "    print('\\nSe han encontrado duplicados.')\n",
    "else:\n",
    "    print('\\nNo se han encontrado duplicados.')"
   ]
  },
  {
   "cell_type": "markdown",
   "metadata": {},
   "source": [
    "## 4. Análisis de medallas de oro por país"
   ]
  },
  {
   "cell_type": "code",
   "execution_count": 16,
   "metadata": {},
   "outputs": [
    {
     "name": "stdout",
     "output_type": "stream",
     "text": [
      "Los 3 países con mayor cantidad de medallas de oro son:\n",
      "1. Estados Unidos de America, con 39.\n",
      "2. Republica Popular de China, con 38.\n",
      "3. Japon, con 27.\n"
     ]
    }
   ],
   "source": [
    "medallas_df_orden_oro: pd.DataFrame = medallas_df_sin_nulos.sort_values(\n",
    "    by='Oro',\n",
    "    ascending=False\n",
    ")\n",
    "primer_lugar_oro: pd.Series = medallas_df_orden_oro.iloc[0]\n",
    "segundo_lugar_oro: pd.Series = medallas_df_orden_oro.iloc[1]\n",
    "tercer_lugar_oro: pd.Series = medallas_df_orden_oro.iloc[2]\n",
    "\n",
    "print(\n",
    "    'Los 3 países con mayor cantidad de medallas de oro son:'\n",
    "    f'\\n1. {primer_lugar_oro['Pais']}, con {primer_lugar_oro[\"Oro\"]}.'\n",
    "    f'\\n2. {segundo_lugar_oro[\"Pais\"]}, con {segundo_lugar_oro[\"Oro\"]}.'\n",
    "    f'\\n3. {tercer_lugar_oro[\"Pais\"]}, con {tercer_lugar_oro[\"Oro\"]}.'\n",
    ")"
   ]
  },
  {
   "cell_type": "markdown",
   "metadata": {},
   "source": [
    "## 5. Análisis de medallas totales por país"
   ]
  },
  {
   "cell_type": "code",
   "execution_count": 17,
   "metadata": {},
   "outputs": [
    {
     "name": "stdout",
     "output_type": "stream",
     "text": [
      "Los países que han obtenido más de 10 medallas en total son:\n",
      "\n",
      "                      Pais  Total\n",
      " Estados Unidos de America    113\n",
      "Republica Popular de China     88\n",
      "                       ROC     71\n",
      "              Gran Bretana     65\n",
      "                     Japon     58\n",
      "                 Australia     46\n",
      "                   Germany     37\n",
      "               Netherlands     36\n",
      "                    France     33\n",
      "                    Canada     24\n",
      "                    Brazil     21\n",
      "                   Ukraine     19\n",
      "                     Spain     17\n",
      "                      Cuba     15\n",
      "                    Poland     14\n",
      "                    Turkey     13\n",
      "               Switzerland     13\n",
      "            Chinese Taipei     12\n",
      "                   Denmark     11\n",
      "            Czech Republic     11\n"
     ]
    }
   ],
   "source": [
    "medallas_df_por_pais: pd.DataFrame = medallas_df_sin_nulos.sort_values(\n",
    "    by='Total',\n",
    "    ascending=False\n",
    ")\n",
    "filtro: pd.Series = medallas_df_por_pais['Total'] > 10\n",
    "medallas_df_filtrado: pd.DataFrame = medallas_df_por_pais[filtro]\n",
    "print('Los países que han obtenido más de 10 medallas en total son:\\n')\n",
    "print(\n",
    "    medallas_df_filtrado[['Pais', 'Total', 'Oro', 'Plata', 'Bronce']]\n",
    "    .drop(columns=['Oro', 'Plata', 'Bronce'])\n",
    "    .to_string(index=False)\n",
    ")"
   ]
  }
 ],
 "metadata": {
  "kernelspec": {
   "display_name": "base",
   "language": "python",
   "name": "python3"
  },
  "language_info": {
   "codemirror_mode": {
    "name": "ipython",
    "version": 3
   },
   "file_extension": ".py",
   "mimetype": "text/x-python",
   "name": "python",
   "nbconvert_exporter": "python",
   "pygments_lexer": "ipython3",
   "version": "3.12.4"
  }
 },
 "nbformat": 4,
 "nbformat_minor": 2
}
