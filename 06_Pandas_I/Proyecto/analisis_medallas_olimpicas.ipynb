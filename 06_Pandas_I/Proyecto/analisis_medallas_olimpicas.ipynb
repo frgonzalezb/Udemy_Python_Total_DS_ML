{
 "cells": [
  {
   "cell_type": "markdown",
   "metadata": {},
   "source": [
    "# Proyecto del Día - Análisis de Medallas Olímpicas\n",
    "\n",
    "## Objetivo\n",
    "\n",
    "Realizar un análisis exploratorio de datos (EDA) sobre un conjuntos de datos de medallas olímpicas utilizando Pandas. Este proyecto te permitirá aplicar los conceptos aprendidos sobre **Series, DataFrames, limpieza de datos, operaciones básicas, filtrado y agregación** en Pandas.\n",
    "\n",
    "## Consigna\n",
    "\n",
    "Vas a trabajar con el conjunto de datos _medallas.csv_, que descargarás de la lección **Proyecto del Día 6**, y que incluye información sobre las medallas de oro, plata, bronce y el total obtenido por cada país en los Juegos Olímpicos.\n",
    "\n",
    "Vas a realizar una serie de tareas básicas, que te permitirán responder a las preguntas del cuestionario que encontrarás al final del día. Las tareas que realizarás son:\n",
    "\n",
    "1. **Cargar los datos:** Importar los datos desde el archivo CSV a un DataFrame de Pandas.\n",
    "2. **Exploración inicial:** Utilizar métodos básicos para explorar el tamaño, las columnas y los tipos de datos del DataFrame.\n",
    "3. **Limpieza de datos:** Identificar y manejar valores faltantes o incorrectos, especialmente en las columnas de medallas donde los valores faltantes indican cero medallas.\n",
    "4. **Análisis de medallas de oro por país:** Realiza las operaciones que sean necesarias para identificar cuáles fueron los 3 países con más medallas de oro en total (vas a necesitar investigar los métodos de DataFrames para encontrar cuál te permita ordenar los valores de mayor a menor y viceversa).\n",
    "5. **Análisis de medallas totales por país:** Obtener un DataFrame que contenga sólo los países que ganaron más de 10 medallas en total.\n",
    "\n",
    "Una vez que hayas realizado estos pasos, realiza el cuestionario del día, que contiene preguntas que sólo podrás responder tras haber explorado los datos, siguiendo los pasos anteriores.\n",
    "\n",
    "¡Mucha suerte!"
   ]
  },
  {
   "cell_type": "code",
   "execution_count": 2,
   "metadata": {},
   "outputs": [
    {
     "name": "stdout",
     "output_type": "stream",
     "text": [
      "     Oro  Plata  Bronce  Total          Pais\n",
      "0    NaN    1.0     2.0      3     Argentina\n",
      "1    NaN    2.0     2.0      4       Armenia\n",
      "2   17.0    7.0    22.0     46     Australia\n",
      "3    1.0    1.0     5.0      7       Austria\n",
      "4    NaN    3.0     4.0      7    Azerbaijan\n",
      "..   ...    ...     ...    ...           ...\n",
      "88   NaN    1.0     NaN      1  Turkmenistan\n",
      "89   2.0    1.0     1.0      4        Uganda\n",
      "90   1.0    6.0    12.0     19       Ukraine\n",
      "91   3.0    NaN     2.0      5    Uzbekistan\n",
      "92   1.0    3.0     NaN      4     Venezuela\n",
      "\n",
      "[93 rows x 5 columns]\n"
     ]
    }
   ],
   "source": [
    "import pandas as pd\n",
    "\n",
    "\n",
    "# Carga de datos\n",
    "medallas_df: pd.DataFrame = pd.read_csv('./data/medallas.csv')\n",
    "print(medallas_df)"
   ]
  },
  {
   "cell_type": "code",
   "execution_count": 3,
   "metadata": {},
   "outputs": [
    {
     "name": "stdout",
     "output_type": "stream",
     "text": [
      "El tamaño del DataFrame es de 93 filas y 5 columnas.\n",
      "\n",
      "Las columnas son: Oro, Plata, Bronce, Total, Pais\n",
      "\n",
      "Los tipos de datos por columna son:\n",
      "Oro       float64\n",
      "Plata     float64\n",
      "Bronce    float64\n",
      "Total       int64\n",
      "Pais       object\n",
      "dtype: object\n",
      "\n",
      "Algunos estadísticos descriptivos:\n",
      "             Oro      Plata     Bronce       Total\n",
      "count  65.000000  69.000000  76.000000   93.000000\n",
      "mean    4.400000   4.768116   4.934211   10.548387\n",
      "std     7.633806   7.276362   6.261705   18.897617\n",
      "min     1.000000   1.000000   1.000000    1.000000\n",
      "25%     1.000000   1.000000   1.000000    2.000000\n",
      "50%     2.000000   2.000000   2.000000    4.000000\n",
      "75%     3.000000   5.000000   5.250000    8.000000\n",
      "max    39.000000  41.000000  33.000000  113.000000\n"
     ]
    }
   ],
   "source": [
    "# Exploración inicial\n",
    "print(\n",
    "    f'El tamaño del DataFrame es de {medallas_df.shape[0]} filas '\n",
    "    f'y {medallas_df.shape[1]} columnas.\\n'\n",
    ")\n",
    "print(f'Las columnas son: {', '.join(list(medallas_df.columns))}\\n')\n",
    "print(f'Los tipos de datos por columna son:\\n{medallas_df.dtypes}\\n')\n",
    "print(f'Algunos estadísticos descriptivos:\\n{medallas_df.describe()}')"
   ]
  },
  {
   "cell_type": "code",
   "execution_count": 26,
   "metadata": {},
   "outputs": [
    {
     "name": "stdout",
     "output_type": "stream",
     "text": [
      "<class 'pandas.core.frame.DataFrame'>\n",
      "RangeIndex: 93 entries, 0 to 92\n",
      "Data columns (total 5 columns):\n",
      " #   Column  Non-Null Count  Dtype  \n",
      "---  ------  --------------  -----  \n",
      " 0   Oro     65 non-null     float64\n",
      " 1   Plata   69 non-null     float64\n",
      " 2   Bronce  76 non-null     float64\n",
      " 3   Total   93 non-null     int64  \n",
      " 4   Pais    93 non-null     object \n",
      "dtypes: float64(3), int64(1), object(1)\n",
      "memory usage: 3.8+ KB\n",
      "None\n",
      "\n",
      "La cantidad de entradas nulas por columna:\n",
      "Oro       28\n",
      "Plata     24\n",
      "Bronce    17\n",
      "Total      0\n",
      "Pais       0\n",
      "dtype: int64\n",
      "\n",
      "Se han reemplazado los valores nulos por ceros:\n",
      "     Oro  Plata  Bronce  Total          Pais\n",
      "0    0.0    1.0     2.0      3     Argentina\n",
      "1    0.0    2.0     2.0      4       Armenia\n",
      "2   17.0    7.0    22.0     46     Australia\n",
      "3    1.0    1.0     5.0      7       Austria\n",
      "4    0.0    3.0     4.0      7    Azerbaijan\n",
      "..   ...    ...     ...    ...           ...\n",
      "88   0.0    1.0     0.0      1  Turkmenistan\n",
      "89   2.0    1.0     1.0      4        Uganda\n",
      "90   1.0    6.0    12.0     19       Ukraine\n",
      "91   3.0    0.0     2.0      5    Uzbekistan\n",
      "92   1.0    3.0     0.0      4     Venezuela\n",
      "\n",
      "[93 rows x 5 columns]\n",
      "\n",
      "Se han reemplazado los valores flotantes por enteros:\n",
      "Oro                int64\n",
      "Plata              int64\n",
      "Bronce             int64\n",
      "Total              int64\n",
      "Pais      string[python]\n",
      "dtype: object\n",
      "\n",
      "No se han encontrado duplicados.\n"
     ]
    }
   ],
   "source": [
    "# Limpieza de datos 1 - Diagnosticar el dataset\n",
    "print(medallas_df.info())\n",
    "\n",
    "# Limpieza de datos 2 - Determinar la cantidad de nulos por columna\n",
    "print(\n",
    "    '\\nLa cantidad de entradas nulas por columna:'\n",
    "    f'\\n{medallas_df.isnull().sum()}'\n",
    ")\n",
    "\n",
    "# Limpieza de datos 3 - Reemplazar los valores nulos por ceros\n",
    "medallas_df_sin_nulos: pd.DataFrame = medallas_df.fillna(0)\n",
    "print(\n",
    "    '\\nSe han reemplazado los valores nulos por ceros:'\n",
    "    f'\\n{medallas_df_sin_nulos}'\n",
    ")\n",
    "\n",
    "# Limpieza de datos 4 - Reemplazar tipos de datos por los correctos\n",
    "medallas_df_sin_nulos['Oro'] = medallas_df_sin_nulos['Oro'].astype('int64')\n",
    "medallas_df_sin_nulos['Plata'] = medallas_df_sin_nulos['Plata'].astype('int64')\n",
    "medallas_df_sin_nulos['Bronce'] = medallas_df_sin_nulos['Bronce'].astype('int64')\n",
    "medallas_df_sin_nulos['Pais'] = medallas_df_sin_nulos['Pais'].astype('string')\n",
    "\n",
    "print(\n",
    "    '\\nSe han reemplazado los valores flotantes por enteros:'\n",
    "    f'\\n{medallas_df_sin_nulos.dtypes}'\n",
    ")\n",
    "\n",
    "# Limpieza de datos 5 - Encontrar y manejar posibles duplicados\n",
    "duplicados: list[bool] = medallas_df_sin_nulos['Pais'].duplicated().to_list()\n",
    "\n",
    "if True in duplicados:\n",
    "    print('\\nSe han encontrado duplicados.')\n",
    "else:\n",
    "    print('\\nNo se han encontrado duplicados.')"
   ]
  },
  {
   "cell_type": "code",
   "execution_count": 31,
   "metadata": {},
   "outputs": [
    {
     "name": "stdout",
     "output_type": "stream",
     "text": [
      "Los 3 países con mayor cantidad de medallas de oro son:\n",
      "1. Estados Unidos de America, con 39.\n",
      "2. Republica Popular de China, con 38.\n",
      "3. Japon, con 27.\n"
     ]
    }
   ],
   "source": [
    "# Análisis de medallas de oro por país\n",
    "medallas_df_orden_oro: pd.DataFrame = medallas_df_sin_nulos.sort_values(\n",
    "    by='Oro',\n",
    "    ascending=False\n",
    ")\n",
    "primer_lugar_oro: pd.Series = medallas_df_orden_oro.iloc[0]\n",
    "segundo_lugar_oro: pd.Series = medallas_df_orden_oro.iloc[1]\n",
    "tercer_lugar_oro: pd.Series = medallas_df_orden_oro.iloc[2]\n",
    "\n",
    "print(\n",
    "    'Los 3 países con mayor cantidad de medallas de oro son:'\n",
    "    f'\\n1. {primer_lugar_oro['Pais']}, con {primer_lugar_oro[\"Oro\"]}.'\n",
    "    f'\\n2. {segundo_lugar_oro[\"Pais\"]}, con {segundo_lugar_oro[\"Oro\"]}.'\n",
    "    f'\\n3. {tercer_lugar_oro[\"Pais\"]}, con {tercer_lugar_oro[\"Oro\"]}.'\n",
    ")"
   ]
  },
  {
   "cell_type": "code",
   "execution_count": 44,
   "metadata": {},
   "outputs": [
    {
     "name": "stdout",
     "output_type": "stream",
     "text": [
      "Los países que han obtenido más de 10 medallas en total son:\n",
      "\n",
      "                      Pais  Total\n",
      " Estados Unidos de America    113\n",
      "Republica Popular de China     88\n",
      "                       ROC     71\n",
      "              Gran Bretana     65\n",
      "                     Japon     58\n",
      "                 Australia     46\n",
      "                   Germany     37\n",
      "               Netherlands     36\n",
      "                    France     33\n",
      "                    Canada     24\n",
      "                    Brazil     21\n",
      "                   Ukraine     19\n",
      "                     Spain     17\n",
      "                      Cuba     15\n",
      "                    Poland     14\n",
      "                    Turkey     13\n",
      "               Switzerland     13\n",
      "            Chinese Taipei     12\n",
      "                   Denmark     11\n",
      "            Czech Republic     11\n"
     ]
    }
   ],
   "source": [
    "# Análisis de medallas totales por país\n",
    "medallas_df_por_pais: pd.DataFrame = medallas_df_sin_nulos.sort_values(\n",
    "    by='Total',\n",
    "    ascending=False\n",
    ")\n",
    "filtro: pd.Series = medallas_df_por_pais['Total'] > 10\n",
    "medallas_df_filtrado: pd.DataFrame = medallas_df_por_pais[filtro]\n",
    "print('Los países que han obtenido más de 10 medallas en total son:\\n')\n",
    "print(\n",
    "    medallas_df_filtrado[['Pais', 'Total', 'Oro', 'Plata', 'Bronce']]\n",
    "    .drop(columns=['Oro', 'Plata', 'Bronce'])\n",
    "    .to_string(index=False)\n",
    ")"
   ]
  }
 ],
 "metadata": {
  "kernelspec": {
   "display_name": "base",
   "language": "python",
   "name": "python3"
  },
  "language_info": {
   "codemirror_mode": {
    "name": "ipython",
    "version": 3
   },
   "file_extension": ".py",
   "mimetype": "text/x-python",
   "name": "python",
   "nbconvert_exporter": "python",
   "pygments_lexer": "ipython3",
   "version": "3.12.4"
  }
 },
 "nbformat": 4,
 "nbformat_minor": 2
}
