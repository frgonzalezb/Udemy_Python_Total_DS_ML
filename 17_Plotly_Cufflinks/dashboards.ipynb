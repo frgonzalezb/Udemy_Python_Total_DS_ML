{
 "cells": [
  {
   "cell_type": "markdown",
   "metadata": {},
   "source": [
    "# Dashboards con Plotly Dash"
   ]
  },
  {
   "cell_type": "markdown",
   "metadata": {},
   "source": [
    "**NOTA:** Si aparece `ModuleNotFoundError: No module named 'dash'`, usar el comando de aquí abajo. De lo contrario, saltarse esta parte."
   ]
  },
  {
   "cell_type": "code",
   "execution_count": null,
   "metadata": {},
   "outputs": [],
   "source": [
    "%pip install dash"
   ]
  },
  {
   "cell_type": "markdown",
   "metadata": {},
   "source": [
    "Aquí comienza lo verdadero:"
   ]
  },
  {
   "cell_type": "code",
   "execution_count": 1,
   "metadata": {},
   "outputs": [],
   "source": [
    "import dash\n",
    "from dash import dcc, html"
   ]
  },
  {
   "cell_type": "code",
   "execution_count": 2,
   "metadata": {},
   "outputs": [],
   "source": [
    "from typing import Any"
   ]
  },
  {
   "cell_type": "code",
   "execution_count": 3,
   "metadata": {},
   "outputs": [],
   "source": [
    "app: dash.Dash = dash.Dash(__name__)"
   ]
  },
  {
   "cell_type": "code",
   "execution_count": 4,
   "metadata": {},
   "outputs": [],
   "source": [
    "data: list[dict[str, Any]] = [\n",
    "    {'x': [1, 2, 3], 'y': [4, 1, 2], 'type': 'bar', 'name': 'SF'},\n",
    "    {'x': [1, 2, 3], 'y': [2, 4, 5], 'type': 'bar', 'name': 'Montreal'},\n",
    "]\n",
    "\n",
    "layout: dict[str, str] = {\n",
    "    'title': 'Dash Data Visualization'\n",
    "}\n",
    "\n",
    "app.layout = html.Div(\n",
    "    children=[\n",
    "        html.H1(children='Dash'),\n",
    "        html.Div(children='A web application framework for Python.'),\n",
    "        dcc.Graph(\n",
    "            id='example-graph',\n",
    "            figure={\n",
    "                'data': data,\n",
    "                'layout': layout\n",
    "            }\n",
    "        )\n",
    "    ],\n",
    "    style={\n",
    "        'background-color': 'white'\n",
    "    }\n",
    ")"
   ]
  },
  {
   "cell_type": "code",
   "execution_count": 5,
   "metadata": {},
   "outputs": [
    {
     "data": {
      "text/html": [
       "\n",
       "        <iframe\n",
       "            width=\"100%\"\n",
       "            height=\"650\"\n",
       "            src=\"http://127.0.0.1:8050/\"\n",
       "            frameborder=\"0\"\n",
       "            allowfullscreen\n",
       "            \n",
       "        ></iframe>\n",
       "        "
      ],
      "text/plain": [
       "<IPython.lib.display.IFrame at 0x14beb971760>"
      ]
     },
     "metadata": {},
     "output_type": "display_data"
    }
   ],
   "source": [
    "if __name__ == '__main__':\n",
    "    app.run(debug=True)"
   ]
  },
  {
   "cell_type": "markdown",
   "metadata": {},
   "source": [
    "Bonito, ¿no? 😎\n",
    "\n",
    "Vamos a explorar más cositas..."
   ]
  },
  {
   "cell_type": "code",
   "execution_count": 6,
   "metadata": {},
   "outputs": [],
   "source": [
    "new_app: dash.Dash = dash.Dash(__name__)"
   ]
  },
  {
   "cell_type": "code",
   "execution_count": 7,
   "metadata": {},
   "outputs": [],
   "source": [
    "new_app.layout = html.Div(\n",
    "    children=[\n",
    "        dcc.Input(\n",
    "            id='input-1',\n",
    "            type='text',\n",
    "            placeholder='Enter a value'\n",
    "        ),\n",
    "        html.Button(\n",
    "            id='button-1',\n",
    "            children='Submit'\n",
    "        ),\n",
    "        html.Div(id='output-1', children='')\n",
    "    ],\n",
    "    style={\n",
    "        'background-color': 'white'\n",
    "    }\n",
    ")"
   ]
  },
  {
   "cell_type": "markdown",
   "metadata": {},
   "source": [
    "**SEGÚN FEDERICO:** Un `callback` es una función que automáticamente actualiza parte de la interfaz de la aplicación (`dash.Dash`) a través de lo que cambie en los componentes."
   ]
  },
  {
   "cell_type": "code",
   "execution_count": 8,
   "metadata": {},
   "outputs": [],
   "source": [
    "@new_app.callback(\n",
    "    dash.Output(component_id='output-1', component_property='children'),\n",
    "    dash.Input(component_id='button-1', component_property='n_clicks'),\n",
    "    dash.State(component_id='input-1', component_property='value')\n",
    ")\n",
    "def update_output(n_clicks: int | None, input_value: str | None) -> str:\n",
    "    if n_clicks is None:\n",
    "        return 'No button has been clicked yet'\n",
    "    else:\n",
    "        return f'You have entered \"{input_value}\" and clicked {n_clicks} times'"
   ]
  },
  {
   "cell_type": "code",
   "execution_count": 9,
   "metadata": {},
   "outputs": [
    {
     "data": {
      "text/html": [
       "\n",
       "        <iframe\n",
       "            width=\"100%\"\n",
       "            height=\"650\"\n",
       "            src=\"http://127.0.0.1:8050/\"\n",
       "            frameborder=\"0\"\n",
       "            allowfullscreen\n",
       "            \n",
       "        ></iframe>\n",
       "        "
      ],
      "text/plain": [
       "<IPython.lib.display.IFrame at 0x14beaf2d4c0>"
      ]
     },
     "metadata": {},
     "output_type": "display_data"
    }
   ],
   "source": [
    "if __name__ == '__main__':\n",
    "    new_app.run(debug=True)"
   ]
  },
  {
   "cell_type": "markdown",
   "metadata": {},
   "source": [
    "Nótese que `app` fue cerrada y se muestra `new_app` en su lugar, dado que se carga en la misma instancia de este cuaderno Jupyter (`__name__`). Esto es normal. Si hubiese algún problema, conviene reiniciar el kernel e intentar nuevamente."
   ]
  },
  {
   "cell_type": "markdown",
   "metadata": {},
   "source": [
    "Veamos un dashboard más complejo (la aplicación `new_app` correrá la misma suerte que su antecesora):"
   ]
  },
  {
   "cell_type": "code",
   "execution_count": 12,
   "metadata": {},
   "outputs": [
    {
     "data": {
      "text/html": [
       "\n",
       "        <iframe\n",
       "            width=\"100%\"\n",
       "            height=\"650\"\n",
       "            src=\"http://127.0.0.1:8050/\"\n",
       "            frameborder=\"0\"\n",
       "            allowfullscreen\n",
       "            \n",
       "        ></iframe>\n",
       "        "
      ],
      "text/plain": [
       "<IPython.lib.display.IFrame at 0x14beea4ffb0>"
      ]
     },
     "metadata": {},
     "output_type": "display_data"
    }
   ],
   "source": [
    "import pandas as pd\n",
    "import plotly.express as px\n",
    "import plotly.graph_objects as go\n",
    "\n",
    "\n",
    "df: pd.DataFrame = pd.DataFrame({\n",
    "    'Fruit': ['Apples', 'Oranges', 'Bananas', 'Apples', 'Oranges', 'Bananas'],\n",
    "    'Amount': [4, 1, 2, 2, 4, 5],\n",
    "    'City': ['SF', 'SF', 'SF', 'MTL', 'MTL', 'NYC']\n",
    "})\n",
    "\n",
    "newer_app: dash.Dash = dash.Dash(__name__)\n",
    "\n",
    "newer_app.layout = html.Div(\n",
    "    children=[\n",
    "        html.H1(children='Advanced Interactivity with Dash'),\n",
    "        dcc.Dropdown(\n",
    "            id='dropdown',\n",
    "            options=[\n",
    "                {'label': 'New York City', 'value': 'NYC'},\n",
    "                {'label': 'Montreal', 'value': 'MTL'},\n",
    "                {'label': 'San Francisco', 'value': 'SF'}\n",
    "            ],\n",
    "            value='MTL'\n",
    "        ),\n",
    "        dcc.Graph(id='the_graph'),\n",
    "    ],\n",
    "    style={\n",
    "        'background-color': 'white'\n",
    "    }\n",
    ")\n",
    "\n",
    "@newer_app.callback(\n",
    "    dash.Output(component_id='the_graph', component_property='figure'),\n",
    "    dash.Input(component_id='dropdown', component_property='value')\n",
    ")\n",
    "def update_graph(selected_value: str) -> go.Figure:\n",
    "    filtered_df: pd.DataFrame = df[df['City'] == selected_value]\n",
    "    return px.bar(filtered_df, x='Fruit', y='Amount', color='Fruit')\n",
    "\n",
    "\n",
    "if __name__ == '__main__':\n",
    "    newer_app.run(debug=True)"
   ]
  }
 ],
 "metadata": {
  "kernelspec": {
   "display_name": "base",
   "language": "python",
   "name": "python3"
  },
  "language_info": {
   "codemirror_mode": {
    "name": "ipython",
    "version": 3
   },
   "file_extension": ".py",
   "mimetype": "text/x-python",
   "name": "python",
   "nbconvert_exporter": "python",
   "pygments_lexer": "ipython3",
   "version": "3.12.4"
  }
 },
 "nbformat": 4,
 "nbformat_minor": 2
}
