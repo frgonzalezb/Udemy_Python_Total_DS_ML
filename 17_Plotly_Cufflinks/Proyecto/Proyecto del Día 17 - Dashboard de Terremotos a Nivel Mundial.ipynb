{
 "cells": [
  {
   "cell_type": "markdown",
   "id": "5bcf50b1",
   "metadata": {},
   "source": [
    "# Proyecto del Día 17: Dashboard de Terremotos a Nivel Mundial\n",
    "\n",
    "Bienvenido al proyecto del día de hoy, donde vas a crear un **dashboard interactivo utilizando Plotly y Dash**. En este proyecto, trabajarás con datos reales de terremotos, que podrás descargar de los archivos adjuntos de esta lección.\n",
    "\n",
    "Con esa información vas a desarrollar un conjunto de visualizaciones interactivas que proporcionen una comprensión profunda de los patrones y tendencias de los terremotos. Este ejercicio te permitirá aplicar tus conocimientos adquiridos sobre visualización de datos y desarrollo de dashboards con herramientas de Python.\n",
    "\n",
    "El dataset contiene información detallada sobre terremotos, incluyendo:\n",
    "+ fecha y hora del evento\n",
    "+ magnitud\n",
    "+ profundidad\n",
    "+ país en el que ocurrió.\n",
    "\n",
    "Utilizarás esta información para crear varios gráficos interactivos que te ayudarán a explorar y presentar los datos de manera efectiva.\n",
    "\n",
    "### Consigna\n",
    "\n",
    "Tu tarea es desarrollar un dashboard interactivo utilizando **Plotly** y **Dash** para visualizar los datos de terremotos proporcionados en el archivo `earthquake data.csv`. \n",
    "\n",
    "Asegúrate de que el dashboard tenga un diseño limpio y organizado, con títulos claros y descripciones para cada gráfico.\n",
    "\n",
    "### Pasos para Completar el Proyecto\n",
    "\n",
    "1. **Cargar y Preparar los Datos**: Carga el archivo `earthquake data.csv` y realiza las transformaciones necesarias, como convertir la columna de fecha y hora al formato datetime.\n",
    "\n",
    "2. **Creación de Gráficos**: Crea los siguientes gráficos usando plotly:\n",
    "    + **Mapa Coroplético**: Un mapa coroplético que muestre la densidad de terremotos por región.\n",
    "    + **Gráfico de Barras**: Un gráfico de barras que muestre el número de terremotos por magnitud.\n",
    "    + **Gráfico de Líneas**: Un gráfico de líneas que muestre la tendencia de la magnitud de los terremotos a lo largo del tiempo.\n",
    "    + **Gráfico de Dispersión**: Un gráfico de dispersión que muestre la relación entre la magnitud de los terremotos y su profundidad.\n",
    "    + **Gráfico 3D**: Un gráfico 3D que visualice la relación entre magnitud, profundidad y tiempo.\n",
    "\n",
    "3. **Diseño de la Aplicación**: Usando Dash, crea la aplicación con el Layout del Dashboard, en el que deben desplegarse todos los gráficos que has preparado. Finalmente ejecuta la aplicación.\n",
    "\n",
    "\n",
    "Ten en cuenta que la información entra por los ojos, por lo que sería bueno que agregues parámetros de formato a cada gráfico para mejorar su apariencia y usabilidad. Piensa en colores, tamaños de marcadores, etiquetas de texto y cualquier otra personalización que haga los gráficos más informativos y atractivos. No te limites a lo enseñado en las lecciones y atrévete a explorar parámetros adicionales.\n",
    "\n",
    "**¡Buena suerte y diviértete creando tu dashboard interactivo de terremotos!**"
   ]
  },
  {
   "cell_type": "markdown",
   "id": "d92bede9",
   "metadata": {},
   "source": [
    "## 1. Cargar y Preparar los Datos"
   ]
  },
  {
   "cell_type": "code",
   "execution_count": 1,
   "id": "e8bd9ce5",
   "metadata": {},
   "outputs": [],
   "source": [
    "from typing import Any\n",
    "\n",
    "import numpy as np\n",
    "import pandas as pd\n",
    "import cufflinks as cf\n",
    "import plotly.io as pio\n",
    "\n",
    "import plotly.express as px\n",
    "import plotly.graph_objects as go\n",
    "from plotly.subplots import make_subplots\n",
    "\n",
    "import dash\n",
    "from dash import dcc, html"
   ]
  },
  {
   "cell_type": "code",
   "execution_count": 7,
   "id": "d74cd3ae",
   "metadata": {},
   "outputs": [
    {
     "data": {
      "text/html": [
       "<div>\n",
       "<style scoped>\n",
       "    .dataframe tbody tr th:only-of-type {\n",
       "        vertical-align: middle;\n",
       "    }\n",
       "\n",
       "    .dataframe tbody tr th {\n",
       "        vertical-align: top;\n",
       "    }\n",
       "\n",
       "    .dataframe thead th {\n",
       "        text-align: right;\n",
       "    }\n",
       "</style>\n",
       "<table border=\"1\" class=\"dataframe\">\n",
       "  <thead>\n",
       "    <tr style=\"text-align: right;\">\n",
       "      <th></th>\n",
       "      <th>Date &amp; Time</th>\n",
       "      <th>Latitude</th>\n",
       "      <th>Longitude</th>\n",
       "      <th>Depth</th>\n",
       "      <th>Magnitude</th>\n",
       "      <th>Lands</th>\n",
       "      <th>Country</th>\n",
       "    </tr>\n",
       "  </thead>\n",
       "  <tbody>\n",
       "    <tr>\n",
       "      <th>0</th>\n",
       "      <td>11/21/2023 16:36</td>\n",
       "      <td>38243.0</td>\n",
       "      <td>38808.0</td>\n",
       "      <td>7</td>\n",
       "      <td>1.0</td>\n",
       "      <td>EASTERN</td>\n",
       "      <td>TURKEY</td>\n",
       "    </tr>\n",
       "    <tr>\n",
       "      <th>1</th>\n",
       "      <td>11/21/2023 15:59</td>\n",
       "      <td>39134.0</td>\n",
       "      <td>29026.0</td>\n",
       "      <td>10</td>\n",
       "      <td>1.0</td>\n",
       "      <td>WESTERN</td>\n",
       "      <td>TURKEY</td>\n",
       "    </tr>\n",
       "    <tr>\n",
       "      <th>2</th>\n",
       "      <td>11/21/2023 13:00</td>\n",
       "      <td>39636.0</td>\n",
       "      <td>30104.0</td>\n",
       "      <td>7</td>\n",
       "      <td>1.0</td>\n",
       "      <td>WESTERN</td>\n",
       "      <td>TURKEY</td>\n",
       "    </tr>\n",
       "    <tr>\n",
       "      <th>3</th>\n",
       "      <td>11/20/2023 18:43</td>\n",
       "      <td>47368.0</td>\n",
       "      <td>6918.0</td>\n",
       "      <td>5</td>\n",
       "      <td>1.0</td>\n",
       "      <td>SWITZERLAND</td>\n",
       "      <td>SWITZERLAND</td>\n",
       "    </tr>\n",
       "    <tr>\n",
       "      <th>4</th>\n",
       "      <td>11/19/2023 10:48</td>\n",
       "      <td>37175.0</td>\n",
       "      <td>36892.0</td>\n",
       "      <td>7</td>\n",
       "      <td>1.0</td>\n",
       "      <td>CENTRAL</td>\n",
       "      <td>TURKEY</td>\n",
       "    </tr>\n",
       "  </tbody>\n",
       "</table>\n",
       "</div>"
      ],
      "text/plain": [
       "        Date & Time  Latitude  Longitude  Depth  Magnitude        Lands  \\\n",
       "0  11/21/2023 16:36   38243.0    38808.0      7        1.0      EASTERN   \n",
       "1  11/21/2023 15:59   39134.0    29026.0     10        1.0      WESTERN   \n",
       "2  11/21/2023 13:00   39636.0    30104.0      7        1.0      WESTERN   \n",
       "3  11/20/2023 18:43   47368.0     6918.0      5        1.0  SWITZERLAND   \n",
       "4  11/19/2023 10:48   37175.0    36892.0      7        1.0      CENTRAL   \n",
       "\n",
       "       Country  \n",
       "0       TURKEY  \n",
       "1       TURKEY  \n",
       "2       TURKEY  \n",
       "3  SWITZERLAND  \n",
       "4       TURKEY  "
      ]
     },
     "execution_count": 7,
     "metadata": {},
     "output_type": "execute_result"
    }
   ],
   "source": [
    "df: pd.DataFrame = pd.read_csv('./data/earthquake+data.csv')\n",
    "df.head()"
   ]
  },
  {
   "cell_type": "code",
   "execution_count": 8,
   "id": "cc99da00",
   "metadata": {},
   "outputs": [
    {
     "name": "stdout",
     "output_type": "stream",
     "text": [
      "<class 'pandas.core.frame.DataFrame'>\n",
      "RangeIndex: 52767 entries, 0 to 52766\n",
      "Data columns (total 7 columns):\n",
      " #   Column       Non-Null Count  Dtype  \n",
      "---  ------       --------------  -----  \n",
      " 0   Date & Time  52767 non-null  object \n",
      " 1   Latitude     52767 non-null  float64\n",
      " 2   Longitude    52767 non-null  float64\n",
      " 3   Depth        52767 non-null  int64  \n",
      " 4   Magnitude    52767 non-null  float64\n",
      " 5   Lands        52767 non-null  object \n",
      " 6   Country      52767 non-null  object \n",
      "dtypes: float64(3), int64(1), object(3)\n",
      "memory usage: 2.8+ MB\n"
     ]
    }
   ],
   "source": [
    "df.info()"
   ]
  },
  {
   "cell_type": "code",
   "execution_count": 9,
   "id": "96c95451",
   "metadata": {},
   "outputs": [
    {
     "data": {
      "text/plain": [
       "str"
      ]
     },
     "execution_count": 9,
     "metadata": {},
     "output_type": "execute_result"
    }
   ],
   "source": [
    "type(df['Date & Time'][0])"
   ]
  },
  {
   "cell_type": "code",
   "execution_count": 10,
   "id": "ddc4ee31",
   "metadata": {},
   "outputs": [
    {
     "name": "stdout",
     "output_type": "stream",
     "text": [
      "2023-11-21 16:36:00\n",
      "<class 'pandas._libs.tslibs.timestamps.Timestamp'>\n"
     ]
    }
   ],
   "source": [
    "df['Date & Time'] = pd.to_datetime(\n",
    "    df['Date & Time'],\n",
    "    format='%m/%d/%Y %H:%M',\n",
    ")\n",
    "print(df['Date & Time'][0])\n",
    "print(type(df['Date & Time'][0]))"
   ]
  }
 ],
 "metadata": {
  "kernelspec": {
   "display_name": "base",
   "language": "python",
   "name": "python3"
  },
  "language_info": {
   "codemirror_mode": {
    "name": "ipython",
    "version": 3
   },
   "file_extension": ".py",
   "mimetype": "text/x-python",
   "name": "python",
   "nbconvert_exporter": "python",
   "pygments_lexer": "ipython3",
   "version": "3.12.4"
  }
 },
 "nbformat": 4,
 "nbformat_minor": 5
}
