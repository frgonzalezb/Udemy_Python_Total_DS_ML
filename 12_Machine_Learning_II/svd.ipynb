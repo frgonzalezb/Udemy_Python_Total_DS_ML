{
 "cells": [
  {
   "cell_type": "markdown",
   "metadata": {},
   "source": [
    "# Descomposición de Valores Singulares (SVD) en Machine Learning"
   ]
  },
  {
   "cell_type": "markdown",
   "metadata": {},
   "source": [
    "Al igual que PCA, se utiliza para reducir o comprimir la dimensionalidad de los datos, con la particularidad aquí de extraer sus características."
   ]
  },
  {
   "cell_type": "markdown",
   "metadata": {},
   "source": [
    "Complementando lo dicho por Federico con información de otras fuentes, como [Wikipedia](https://en.wikipedia.org/wiki/Singular_value_decomposition):\n",
    "\n",
    "La descomposición en valores singulares es una **factorización** de una matriz real o compleja en una rotación, seguida por un reescalamiento seguido por otra rotación. Es una parte relevante del álgebra lineal."
   ]
  },
  {
   "cell_type": "markdown",
   "metadata": {},
   "source": [
    "**Fórmula base**\n",
    "\n",
    "![FormulaSVD.png](./assets/SVD/FormulaSVD.png)\n",
    "\n",
    "donde:\n",
    "\n",
    "- **`A`** es la matriz original, real o compleja, de dimensiones `m x n`. La matriz `A` es también más comúnmente vista como `M` en otras fuentes. De cualquier manera, para efectos de este curso, será una matriz real que funcionará como entrada en el algoritmo SVD y que se descompondrá en 3 matrices diferentes: `U`, `∑` y `Vt`.\n",
    "- **`U`** es una matriz real ortogonal de dimensiones `m x m` (cuadrada). Si `A` fuera compleja, esta será una matriz compleja unitaria.\n",
    "- **`∑`** es una matriz diagonal rectangular de dimensiones `m x n` con números reales `R` no-negativos (desde `0` en adelante) en la diagonal.\n",
    "- **`Vt`** es una matriz real ortogonal \"traspuesta\" de dimensiones `n x n` (cuadrada). Si `A` fuera compleja, esta será una matriz compleja unitaria y se le conocería como `V*`."
   ]
  },
  {
   "cell_type": "markdown",
   "metadata": {},
   "source": [
    "**Ejemplo de Federico**\n",
    "\n",
    "![a.png](./assets/SVD/a.png)\n",
    "\n",
    "![u.png](./assets/SVD/u.png)\n",
    "\n",
    "![sigma.png](./assets/SVD/sigma.png)\n",
    "\n",
    "![vt.png](./assets/SVD/vt.png)"
   ]
  },
  {
   "cell_type": "markdown",
   "metadata": {},
   "source": [
    "**Ejemplo gráfico de la Wikipedia**\n",
    "\n",
    "![512px-Singular-Value-Decomposition.svg.png](https://upload.wikimedia.org/wikipedia/commons/thumb/b/bb/Singular-Value-Decomposition.svg/512px-Singular-Value-Decomposition.svg.png)"
   ]
  },
  {
   "cell_type": "markdown",
   "metadata": {},
   "source": [
    "**Visualización de la multiplicación de matrices en SVD**\n",
    "\n",
    "![512px-Singular_value_decomposition_visualisation.svg.png](https://upload.wikimedia.org/wikipedia/commons/thumb/c/c8/Singular_value_decomposition_visualisation.svg/512px-Singular_value_decomposition_visualisation.svg.png)"
   ]
  },
  {
   "cell_type": "markdown",
   "metadata": {},
   "source": [
    "En la práctica del aprendizaje automático, SVD es una herramienta que, al igual que PCA, nos ayuda a **encontrar patrones subyacentes** en nuestros datos de manera no-supervisada, simplificando y destacando los hallazgos más relevantes."
   ]
  },
  {
   "cell_type": "code",
   "execution_count": 1,
   "metadata": {},
   "outputs": [],
   "source": [
    "# Para esto, sólo necesitamos a numpy!!\n",
    "import numpy as np"
   ]
  },
  {
   "cell_type": "code",
   "execution_count": 2,
   "metadata": {},
   "outputs": [
    {
     "data": {
      "text/plain": [
       "array([[1, 2],\n",
       "       [3, 4],\n",
       "       [5, 6]])"
      ]
     },
     "execution_count": 2,
     "metadata": {},
     "output_type": "execute_result"
    }
   ],
   "source": [
    "# Definimos a A (también podría ser M, pero sigamos a Federico)\n",
    "A: np.ndarray = np.array([[1, 2], [3, 4], [5, 6]])\n",
    "A"
   ]
  },
  {
   "cell_type": "code",
   "execution_count": 3,
   "metadata": {},
   "outputs": [],
   "source": [
    "# Declarar las matrices de salida\n",
    "U, SIGMA, VT = np.linalg.svd(A)"
   ]
  },
  {
   "cell_type": "code",
   "execution_count": 4,
   "metadata": {},
   "outputs": [
    {
     "data": {
      "text/plain": [
       "array([[-0.2298477 ,  0.88346102,  0.40824829],\n",
       "       [-0.52474482,  0.24078249, -0.81649658],\n",
       "       [-0.81964194, -0.40189603,  0.40824829]])"
      ]
     },
     "execution_count": 4,
     "metadata": {},
     "output_type": "execute_result"
    }
   ],
   "source": [
    "U"
   ]
  },
  {
   "cell_type": "code",
   "execution_count": 5,
   "metadata": {},
   "outputs": [
    {
     "data": {
      "text/plain": [
       "array([9.52551809, 0.51430058])"
      ]
     },
     "execution_count": 5,
     "metadata": {},
     "output_type": "execute_result"
    }
   ],
   "source": [
    "SIGMA"
   ]
  },
  {
   "cell_type": "code",
   "execution_count": 6,
   "metadata": {},
   "outputs": [
    {
     "data": {
      "text/plain": [
       "array([[-0.61962948, -0.78489445],\n",
       "       [-0.78489445,  0.61962948]])"
      ]
     },
     "execution_count": 6,
     "metadata": {},
     "output_type": "execute_result"
    }
   ],
   "source": [
    "VT"
   ]
  },
  {
   "cell_type": "markdown",
   "metadata": {},
   "source": [
    "Matemáticamente hablando: that's all folks!!! 😂\n",
    "\n",
    "Pero como estamos en machine learning y no en matemáticas crudas abstractas, más vale poner todo esto en contexto y generar visualizaciones para tener una mejor comprensión del asunto."
   ]
  },
  {
   "cell_type": "code",
   "execution_count": 9,
   "metadata": {},
   "outputs": [],
   "source": [
    "# Importemos bibliotecas necesarias para nuestro caso aplicado\n",
    "from sklearn.datasets import load_iris\n",
    "import matplotlib.pyplot as plt"
   ]
  },
  {
   "cell_type": "code",
   "execution_count": 10,
   "metadata": {},
   "outputs": [],
   "source": [
    "iris = load_iris()\n",
    "\n",
    "x = iris.data  # solo necesitamos la data, no el target!!"
   ]
  },
  {
   "cell_type": "code",
   "execution_count": 11,
   "metadata": {},
   "outputs": [
    {
     "data": {
      "text/plain": [
       "array([[-7.43333333e-01,  4.42666667e-01, -2.35800000e+00,\n",
       "        -9.99333333e-01],\n",
       "       [-9.43333333e-01, -5.73333333e-02, -2.35800000e+00,\n",
       "        -9.99333333e-01],\n",
       "       [-1.14333333e+00,  1.42666667e-01, -2.45800000e+00,\n",
       "        -9.99333333e-01],\n",
       "       [-1.24333333e+00,  4.26666667e-02, -2.25800000e+00,\n",
       "        -9.99333333e-01],\n",
       "       [-8.43333333e-01,  5.42666667e-01, -2.35800000e+00,\n",
       "        -9.99333333e-01],\n",
       "       [-4.43333333e-01,  8.42666667e-01, -2.05800000e+00,\n",
       "        -7.99333333e-01],\n",
       "       [-1.24333333e+00,  3.42666667e-01, -2.35800000e+00,\n",
       "        -8.99333333e-01],\n",
       "       [-8.43333333e-01,  3.42666667e-01, -2.25800000e+00,\n",
       "        -9.99333333e-01],\n",
       "       [-1.44333333e+00, -1.57333333e-01, -2.35800000e+00,\n",
       "        -9.99333333e-01],\n",
       "       [-9.43333333e-01,  4.26666667e-02, -2.25800000e+00,\n",
       "        -1.09933333e+00],\n",
       "       [-4.43333333e-01,  6.42666667e-01, -2.25800000e+00,\n",
       "        -9.99333333e-01],\n",
       "       [-1.04333333e+00,  3.42666667e-01, -2.15800000e+00,\n",
       "        -9.99333333e-01],\n",
       "       [-1.04333333e+00, -5.73333333e-02, -2.35800000e+00,\n",
       "        -1.09933333e+00],\n",
       "       [-1.54333333e+00, -5.73333333e-02, -2.65800000e+00,\n",
       "        -1.09933333e+00],\n",
       "       [-4.33333333e-02,  9.42666667e-01, -2.55800000e+00,\n",
       "        -9.99333333e-01],\n",
       "       [-1.43333333e-01,  1.34266667e+00, -2.25800000e+00,\n",
       "        -7.99333333e-01],\n",
       "       [-4.43333333e-01,  8.42666667e-01, -2.45800000e+00,\n",
       "        -7.99333333e-01],\n",
       "       [-7.43333333e-01,  4.42666667e-01, -2.35800000e+00,\n",
       "        -8.99333333e-01],\n",
       "       [-1.43333333e-01,  7.42666667e-01, -2.05800000e+00,\n",
       "        -8.99333333e-01],\n",
       "       [-7.43333333e-01,  7.42666667e-01, -2.25800000e+00,\n",
       "        -8.99333333e-01],\n",
       "       [-4.43333333e-01,  3.42666667e-01, -2.05800000e+00,\n",
       "        -9.99333333e-01],\n",
       "       [-7.43333333e-01,  6.42666667e-01, -2.25800000e+00,\n",
       "        -7.99333333e-01],\n",
       "       [-1.24333333e+00,  5.42666667e-01, -2.75800000e+00,\n",
       "        -9.99333333e-01],\n",
       "       [-7.43333333e-01,  2.42666667e-01, -2.05800000e+00,\n",
       "        -6.99333333e-01],\n",
       "       [-1.04333333e+00,  3.42666667e-01, -1.85800000e+00,\n",
       "        -9.99333333e-01],\n",
       "       [-8.43333333e-01, -5.73333333e-02, -2.15800000e+00,\n",
       "        -9.99333333e-01],\n",
       "       [-8.43333333e-01,  3.42666667e-01, -2.15800000e+00,\n",
       "        -7.99333333e-01],\n",
       "       [-6.43333333e-01,  4.42666667e-01, -2.25800000e+00,\n",
       "        -9.99333333e-01],\n",
       "       [-6.43333333e-01,  3.42666667e-01, -2.35800000e+00,\n",
       "        -9.99333333e-01],\n",
       "       [-1.14333333e+00,  1.42666667e-01, -2.15800000e+00,\n",
       "        -9.99333333e-01],\n",
       "       [-1.04333333e+00,  4.26666667e-02, -2.15800000e+00,\n",
       "        -9.99333333e-01],\n",
       "       [-4.43333333e-01,  3.42666667e-01, -2.25800000e+00,\n",
       "        -7.99333333e-01],\n",
       "       [-6.43333333e-01,  1.04266667e+00, -2.25800000e+00,\n",
       "        -1.09933333e+00],\n",
       "       [-3.43333333e-01,  1.14266667e+00, -2.35800000e+00,\n",
       "        -9.99333333e-01],\n",
       "       [-9.43333333e-01,  4.26666667e-02, -2.25800000e+00,\n",
       "        -9.99333333e-01],\n",
       "       [-8.43333333e-01,  1.42666667e-01, -2.55800000e+00,\n",
       "        -9.99333333e-01],\n",
       "       [-3.43333333e-01,  4.42666667e-01, -2.45800000e+00,\n",
       "        -9.99333333e-01],\n",
       "       [-9.43333333e-01,  5.42666667e-01, -2.35800000e+00,\n",
       "        -1.09933333e+00],\n",
       "       [-1.44333333e+00, -5.73333333e-02, -2.45800000e+00,\n",
       "        -9.99333333e-01],\n",
       "       [-7.43333333e-01,  3.42666667e-01, -2.25800000e+00,\n",
       "        -9.99333333e-01],\n",
       "       [-8.43333333e-01,  4.42666667e-01, -2.45800000e+00,\n",
       "        -8.99333333e-01],\n",
       "       [-1.34333333e+00, -7.57333333e-01, -2.45800000e+00,\n",
       "        -8.99333333e-01],\n",
       "       [-1.44333333e+00,  1.42666667e-01, -2.45800000e+00,\n",
       "        -9.99333333e-01],\n",
       "       [-8.43333333e-01,  4.42666667e-01, -2.15800000e+00,\n",
       "        -5.99333333e-01],\n",
       "       [-7.43333333e-01,  7.42666667e-01, -1.85800000e+00,\n",
       "        -7.99333333e-01],\n",
       "       [-1.04333333e+00, -5.73333333e-02, -2.35800000e+00,\n",
       "        -8.99333333e-01],\n",
       "       [-7.43333333e-01,  7.42666667e-01, -2.15800000e+00,\n",
       "        -9.99333333e-01],\n",
       "       [-1.24333333e+00,  1.42666667e-01, -2.35800000e+00,\n",
       "        -9.99333333e-01],\n",
       "       [-5.43333333e-01,  6.42666667e-01, -2.25800000e+00,\n",
       "        -9.99333333e-01],\n",
       "       [-8.43333333e-01,  2.42666667e-01, -2.35800000e+00,\n",
       "        -9.99333333e-01],\n",
       "       [ 1.15666667e+00,  1.42666667e-01,  9.42000000e-01,\n",
       "         2.00666667e-01],\n",
       "       [ 5.56666667e-01,  1.42666667e-01,  7.42000000e-01,\n",
       "         3.00666667e-01],\n",
       "       [ 1.05666667e+00,  4.26666667e-02,  1.14200000e+00,\n",
       "         3.00666667e-01],\n",
       "       [-3.43333333e-01, -7.57333333e-01,  2.42000000e-01,\n",
       "         1.00666667e-01],\n",
       "       [ 6.56666667e-01, -2.57333333e-01,  8.42000000e-01,\n",
       "         3.00666667e-01],\n",
       "       [-1.43333333e-01, -2.57333333e-01,  7.42000000e-01,\n",
       "         1.00666667e-01],\n",
       "       [ 4.56666667e-01,  2.42666667e-01,  9.42000000e-01,\n",
       "         4.00666667e-01],\n",
       "       [-9.43333333e-01, -6.57333333e-01, -4.58000000e-01,\n",
       "        -1.99333333e-01],\n",
       "       [ 7.56666667e-01, -1.57333333e-01,  8.42000000e-01,\n",
       "         1.00666667e-01],\n",
       "       [-6.43333333e-01, -3.57333333e-01,  1.42000000e-01,\n",
       "         2.00666667e-01],\n",
       "       [-8.43333333e-01, -1.05733333e+00, -2.58000000e-01,\n",
       "        -1.99333333e-01],\n",
       "       [ 5.66666667e-02, -5.73333333e-02,  4.42000000e-01,\n",
       "         3.00666667e-01],\n",
       "       [ 1.56666667e-01, -8.57333333e-01,  2.42000000e-01,\n",
       "        -1.99333333e-01],\n",
       "       [ 2.56666667e-01, -1.57333333e-01,  9.42000000e-01,\n",
       "         2.00666667e-01],\n",
       "       [-2.43333333e-01, -1.57333333e-01, -1.58000000e-01,\n",
       "         1.00666667e-01],\n",
       "       [ 8.56666667e-01,  4.26666667e-02,  6.42000000e-01,\n",
       "         2.00666667e-01],\n",
       "       [-2.43333333e-01, -5.73333333e-02,  7.42000000e-01,\n",
       "         3.00666667e-01],\n",
       "       [-4.33333333e-02, -3.57333333e-01,  3.42000000e-01,\n",
       "        -1.99333333e-01],\n",
       "       [ 3.56666667e-01, -8.57333333e-01,  7.42000000e-01,\n",
       "         3.00666667e-01],\n",
       "       [-2.43333333e-01, -5.57333333e-01,  1.42000000e-01,\n",
       "        -9.93333333e-02],\n",
       "       [ 5.66666667e-02,  1.42666667e-01,  1.04200000e+00,\n",
       "         6.00666667e-01],\n",
       "       [ 2.56666667e-01, -2.57333333e-01,  2.42000000e-01,\n",
       "         1.00666667e-01],\n",
       "       [ 4.56666667e-01, -5.57333333e-01,  1.14200000e+00,\n",
       "         3.00666667e-01],\n",
       "       [ 2.56666667e-01, -2.57333333e-01,  9.42000000e-01,\n",
       "         6.66666667e-04],\n",
       "       [ 5.56666667e-01, -1.57333333e-01,  5.42000000e-01,\n",
       "         1.00666667e-01],\n",
       "       [ 7.56666667e-01, -5.73333333e-02,  6.42000000e-01,\n",
       "         2.00666667e-01],\n",
       "       [ 9.56666667e-01, -2.57333333e-01,  1.04200000e+00,\n",
       "         2.00666667e-01],\n",
       "       [ 8.56666667e-01, -5.73333333e-02,  1.24200000e+00,\n",
       "         5.00666667e-01],\n",
       "       [ 1.56666667e-01, -1.57333333e-01,  7.42000000e-01,\n",
       "         3.00666667e-01],\n",
       "       [-1.43333333e-01, -4.57333333e-01, -2.58000000e-01,\n",
       "        -1.99333333e-01],\n",
       "       [-3.43333333e-01, -6.57333333e-01,  4.20000000e-02,\n",
       "        -9.93333333e-02],\n",
       "       [-3.43333333e-01, -6.57333333e-01, -5.80000000e-02,\n",
       "        -1.99333333e-01],\n",
       "       [-4.33333333e-02, -3.57333333e-01,  1.42000000e-01,\n",
       "         6.66666667e-04],\n",
       "       [ 1.56666667e-01, -3.57333333e-01,  1.34200000e+00,\n",
       "         4.00666667e-01],\n",
       "       [-4.43333333e-01, -5.73333333e-02,  7.42000000e-01,\n",
       "         3.00666667e-01],\n",
       "       [ 1.56666667e-01,  3.42666667e-01,  7.42000000e-01,\n",
       "         4.00666667e-01],\n",
       "       [ 8.56666667e-01,  4.26666667e-02,  9.42000000e-01,\n",
       "         3.00666667e-01],\n",
       "       [ 4.56666667e-01, -7.57333333e-01,  6.42000000e-01,\n",
       "         1.00666667e-01],\n",
       "       [-2.43333333e-01, -5.73333333e-02,  3.42000000e-01,\n",
       "         1.00666667e-01],\n",
       "       [-3.43333333e-01, -5.57333333e-01,  2.42000000e-01,\n",
       "         1.00666667e-01],\n",
       "       [-3.43333333e-01, -4.57333333e-01,  6.42000000e-01,\n",
       "         6.66666667e-04],\n",
       "       [ 2.56666667e-01, -5.73333333e-02,  8.42000000e-01,\n",
       "         2.00666667e-01],\n",
       "       [-4.33333333e-02, -4.57333333e-01,  2.42000000e-01,\n",
       "         6.66666667e-04],\n",
       "       [-8.43333333e-01, -7.57333333e-01, -4.58000000e-01,\n",
       "        -1.99333333e-01],\n",
       "       [-2.43333333e-01, -3.57333333e-01,  4.42000000e-01,\n",
       "         1.00666667e-01],\n",
       "       [-1.43333333e-01, -5.73333333e-02,  4.42000000e-01,\n",
       "         6.66666667e-04],\n",
       "       [-1.43333333e-01, -1.57333333e-01,  4.42000000e-01,\n",
       "         1.00666667e-01],\n",
       "       [ 3.56666667e-01, -1.57333333e-01,  5.42000000e-01,\n",
       "         1.00666667e-01],\n",
       "       [-7.43333333e-01, -5.57333333e-01, -7.58000000e-01,\n",
       "        -9.93333333e-02],\n",
       "       [-1.43333333e-01, -2.57333333e-01,  3.42000000e-01,\n",
       "         1.00666667e-01],\n",
       "       [ 4.56666667e-01,  2.42666667e-01,  2.24200000e+00,\n",
       "         1.30066667e+00],\n",
       "       [-4.33333333e-02, -3.57333333e-01,  1.34200000e+00,\n",
       "         7.00666667e-01],\n",
       "       [ 1.25666667e+00, -5.73333333e-02,  2.14200000e+00,\n",
       "         9.00666667e-01],\n",
       "       [ 4.56666667e-01, -1.57333333e-01,  1.84200000e+00,\n",
       "         6.00666667e-01],\n",
       "       [ 6.56666667e-01, -5.73333333e-02,  2.04200000e+00,\n",
       "         1.00066667e+00],\n",
       "       [ 1.75666667e+00, -5.73333333e-02,  2.84200000e+00,\n",
       "         9.00666667e-01],\n",
       "       [-9.43333333e-01, -5.57333333e-01,  7.42000000e-01,\n",
       "         5.00666667e-01],\n",
       "       [ 1.45666667e+00, -1.57333333e-01,  2.54200000e+00,\n",
       "         6.00666667e-01],\n",
       "       [ 8.56666667e-01, -5.57333333e-01,  2.04200000e+00,\n",
       "         6.00666667e-01],\n",
       "       [ 1.35666667e+00,  5.42666667e-01,  2.34200000e+00,\n",
       "         1.30066667e+00],\n",
       "       [ 6.56666667e-01,  1.42666667e-01,  1.34200000e+00,\n",
       "         8.00666667e-01],\n",
       "       [ 5.56666667e-01, -3.57333333e-01,  1.54200000e+00,\n",
       "         7.00666667e-01],\n",
       "       [ 9.56666667e-01, -5.73333333e-02,  1.74200000e+00,\n",
       "         9.00666667e-01],\n",
       "       [-1.43333333e-01, -5.57333333e-01,  1.24200000e+00,\n",
       "         8.00666667e-01],\n",
       "       [-4.33333333e-02, -2.57333333e-01,  1.34200000e+00,\n",
       "         1.20066667e+00],\n",
       "       [ 5.56666667e-01,  1.42666667e-01,  1.54200000e+00,\n",
       "         1.10066667e+00],\n",
       "       [ 6.56666667e-01, -5.73333333e-02,  1.74200000e+00,\n",
       "         6.00666667e-01],\n",
       "       [ 1.85666667e+00,  7.42666667e-01,  2.94200000e+00,\n",
       "         1.00066667e+00],\n",
       "       [ 1.85666667e+00, -4.57333333e-01,  3.14200000e+00,\n",
       "         1.10066667e+00],\n",
       "       [ 1.56666667e-01, -8.57333333e-01,  1.24200000e+00,\n",
       "         3.00666667e-01],\n",
       "       [ 1.05666667e+00,  1.42666667e-01,  1.94200000e+00,\n",
       "         1.10066667e+00],\n",
       "       [-2.43333333e-01, -2.57333333e-01,  1.14200000e+00,\n",
       "         8.00666667e-01],\n",
       "       [ 1.85666667e+00, -2.57333333e-01,  2.94200000e+00,\n",
       "         8.00666667e-01],\n",
       "       [ 4.56666667e-01, -3.57333333e-01,  1.14200000e+00,\n",
       "         6.00666667e-01],\n",
       "       [ 8.56666667e-01,  2.42666667e-01,  1.94200000e+00,\n",
       "         9.00666667e-01],\n",
       "       [ 1.35666667e+00,  1.42666667e-01,  2.24200000e+00,\n",
       "         6.00666667e-01],\n",
       "       [ 3.56666667e-01, -2.57333333e-01,  1.04200000e+00,\n",
       "         6.00666667e-01],\n",
       "       [ 2.56666667e-01, -5.73333333e-02,  1.14200000e+00,\n",
       "         6.00666667e-01],\n",
       "       [ 5.56666667e-01, -2.57333333e-01,  1.84200000e+00,\n",
       "         9.00666667e-01],\n",
       "       [ 1.35666667e+00, -5.73333333e-02,  2.04200000e+00,\n",
       "         4.00666667e-01],\n",
       "       [ 1.55666667e+00, -2.57333333e-01,  2.34200000e+00,\n",
       "         7.00666667e-01],\n",
       "       [ 2.05666667e+00,  7.42666667e-01,  2.64200000e+00,\n",
       "         8.00666667e-01],\n",
       "       [ 5.56666667e-01, -2.57333333e-01,  1.84200000e+00,\n",
       "         1.00066667e+00],\n",
       "       [ 4.56666667e-01, -2.57333333e-01,  1.34200000e+00,\n",
       "         3.00666667e-01],\n",
       "       [ 2.56666667e-01, -4.57333333e-01,  1.84200000e+00,\n",
       "         2.00666667e-01],\n",
       "       [ 1.85666667e+00, -5.73333333e-02,  2.34200000e+00,\n",
       "         1.10066667e+00],\n",
       "       [ 4.56666667e-01,  3.42666667e-01,  1.84200000e+00,\n",
       "         1.20066667e+00],\n",
       "       [ 5.56666667e-01,  4.26666667e-02,  1.74200000e+00,\n",
       "         6.00666667e-01],\n",
       "       [ 1.56666667e-01, -5.73333333e-02,  1.04200000e+00,\n",
       "         6.00666667e-01],\n",
       "       [ 1.05666667e+00,  4.26666667e-02,  1.64200000e+00,\n",
       "         9.00666667e-01],\n",
       "       [ 8.56666667e-01,  4.26666667e-02,  1.84200000e+00,\n",
       "         1.20066667e+00],\n",
       "       [ 1.05666667e+00,  4.26666667e-02,  1.34200000e+00,\n",
       "         1.10066667e+00],\n",
       "       [-4.33333333e-02, -3.57333333e-01,  1.34200000e+00,\n",
       "         7.00666667e-01],\n",
       "       [ 9.56666667e-01,  1.42666667e-01,  2.14200000e+00,\n",
       "         1.10066667e+00],\n",
       "       [ 8.56666667e-01,  2.42666667e-01,  1.94200000e+00,\n",
       "         1.30066667e+00],\n",
       "       [ 8.56666667e-01, -5.73333333e-02,  1.44200000e+00,\n",
       "         1.10066667e+00],\n",
       "       [ 4.56666667e-01, -5.57333333e-01,  1.24200000e+00,\n",
       "         7.00666667e-01],\n",
       "       [ 6.56666667e-01, -5.73333333e-02,  1.44200000e+00,\n",
       "         8.00666667e-01],\n",
       "       [ 3.56666667e-01,  3.42666667e-01,  1.64200000e+00,\n",
       "         1.10066667e+00],\n",
       "       [ 5.66666667e-02, -5.73333333e-02,  1.34200000e+00,\n",
       "         6.00666667e-01]])"
      ]
     },
     "execution_count": 11,
     "metadata": {},
     "output_type": "execute_result"
    }
   ],
   "source": [
    "# x_standarized va a ser nuestra matriz A\n",
    "x_standarized: np.ndarray = x - np.mean(x, axis=0)\n",
    "x_standarized"
   ]
  },
  {
   "cell_type": "code",
   "execution_count": 12,
   "metadata": {},
   "outputs": [],
   "source": [
    "u, sigma, vt = np.linalg.svd(x_standarized)"
   ]
  },
  {
   "cell_type": "markdown",
   "metadata": {},
   "source": [
    "**NOTA DE FEDERICO**\n",
    "\n",
    "La matriz _sigma_ es la que contiene los **valores singulares** que representan la **importancia de cada componente principal** en la descripción de la **variabilidad** de los datos.\n",
    "\n",
    "Los **componentes principales** son **nuevas direcciones** en el espacio de los datos que **capturan la mayor variabilidad** posible."
   ]
  },
  {
   "cell_type": "code",
   "execution_count": 23,
   "metadata": {},
   "outputs": [],
   "source": [
    "k: int = 2\n",
    "\n",
    "x_transformed = u[:, :k] * sigma[:k]  # reduce la dimensionalidad"
   ]
  },
  {
   "cell_type": "markdown",
   "metadata": {},
   "source": [
    "La variable `k` (denominada así por convención) corresponde a la cantidad de componentes principales o dimensiones espaciales a representar (en este caso, un valor de `2` representa un espacio bidimensional para nuestras visualizaciones, tal y como en PCA)."
   ]
  },
  {
   "cell_type": "markdown",
   "metadata": {},
   "source": [
    "Por su parte, `x_transformed` contiene los datos originales transformados para **adecuarlos al espacio de los componentes principales** que hemos declarado (en `k`).\n",
    "\n",
    "- `u[:, :k]` es un array que selecciona las **primeras `k` columnas** de `u`, que corresponden a los **valores singulares izquierdos** asociados a los dos valores singulares más grandes. Esos valores singulares izquierdos **sirven para encontrar las dos mejores líneas que capturen la esencia** o la forma principal **de cómo se distribuyen nuestros puntos** en el espacio.\n",
    "\n",
    "- `sigma[:k]` es un array que selecciona los **primeros `k` valores singulares** de `sigma`, que indican la **importancia** de cada uno de los dos componentes principales.\n",
    "\n",
    "La multiplicación entre ambas variables, que se hace de elemento a elemento entre cada columna seleccionada de `u` y cada valor singular, sirve para escalar las columnas de `u` según la importancia de cada componente principal."
   ]
  },
  {
   "cell_type": "code",
   "execution_count": 25,
   "metadata": {},
   "outputs": [],
   "source": [
    "species: list[str] = ['Setosa', 'Versicolor', 'Virginica']"
   ]
  },
  {
   "cell_type": "code",
   "execution_count": 29,
   "metadata": {},
   "outputs": [
    {
     "data": {
      "image/png": "[encoded data removed]",
      "text/plain": [
       "<Figure size 1000x600 with 1 Axes>"
      ]
     },
     "metadata": {},
     "output_type": "display_data"
    }
   ],
   "source": [
    "plt.figure(figsize=(10, 6))\n",
    "for i in range(len(species)):\n",
    "    first_column = x_transformed[iris.target == i, 0]\n",
    "    second_column = x_transformed[iris.target == i, 1]\n",
    "    plt.scatter(\n",
    "        x=first_column,\n",
    "        y=second_column,\n",
    "        label=species[i]\n",
    "    )\n",
    "plt.title(\n",
    "    'Dataset \"Iris\" transformed by SVD',\n",
    "    fontsize=16,\n",
    "    pad=20\n",
    ")\n",
    "plt.xlabel('Principal component 1')\n",
    "plt.ylabel('Principal component 2')\n",
    "plt.grid(True, linestyle='-.')\n",
    "plt.legend()\n",
    "plt.show()"
   ]
  }
 ],
 "metadata": {
  "kernelspec": {
   "display_name": "base",
   "language": "python",
   "name": "python3"
  },
  "language_info": {
   "codemirror_mode": {
    "name": "ipython",
    "version": 3
   },
   "file_extension": ".py",
   "mimetype": "text/x-python",
   "name": "python",
   "nbconvert_exporter": "python",
   "pygments_lexer": "ipython3",
   "version": "3.12.4"
  }
 },
 "nbformat": 4,
 "nbformat_minor": 2
}
