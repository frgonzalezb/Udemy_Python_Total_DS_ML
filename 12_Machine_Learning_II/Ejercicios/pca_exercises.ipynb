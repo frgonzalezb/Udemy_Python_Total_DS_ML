{
 "cells": [
  {
   "cell_type": "markdown",
   "metadata": {},
   "source": [
    "# Análisis de Componentes Principales (PCA) en Machine Learning 1\n",
    "\n",
    "**Ejercicio 1: Carga de datos**\n",
    "\n",
    "Consigna: Utiliza la biblioteca `sklearn` para cargar el conjunto de datos de flores **Iris**.\n",
    "\n",
    "Almacena el conjunto de datos en una variable llamda: `iris`\n",
    "\n",
    "Accede a los atributos de este objeto para extraer los datos de las características y almacénalos en una variable llamada `X`.\n",
    "\n",
    "Extrae las etiquetas correspondientes a la especie de cada flor y guárdalas en una variable llamada `y`."
   ]
  },
  {
   "cell_type": "code",
   "execution_count": 1,
   "metadata": {},
   "outputs": [],
   "source": [
    "import numpy as np\n",
    "import matplotlib.pyplot as plt\n",
    "\n",
    "from sklearn.datasets import load_iris\n",
    "from sklearn.decomposition import PCA\n",
    "\n",
    "\n",
    "iris = load_iris()\n",
    "\n",
    "X = iris.data\n",
    "y = iris.target"
   ]
  },
  {
   "cell_type": "markdown",
   "metadata": {},
   "source": [
    "# Análisis de Componentes Principales (PCA) en Machine Learning 2\n",
    "\n",
    "**Ejercicio 2: Estandarización de datos y Aplicación de PCA**\n",
    "\n",
    "Con el conjunto de datos cargado como se indica en el **Ejercicio 1**.\n",
    "\n",
    "Ahora vamos a comprobar la estandarización de datos y aplicamos PCA. Para ello sigue estos pasos:\n",
    "\n",
    "1. Crea la variable `X_centrado` y almacena el calculo de la media de cada característica (columna) en la matriz de datos `X`\n",
    "\n",
    "2. Crea la variable `pca` y almacena una instancia del modelo PCA (Análisis de Componentes Principales) utilizando la clase PCA de la biblioteca `sklearn.decomposition`.\n",
    "\n",
    "3. Crea la variable `X_pca` y entrena el modelo PCA que fue instanciado anteriormente a los datos centrados `X_centrado`."
   ]
  },
  {
   "cell_type": "code",
   "execution_count": 2,
   "metadata": {},
   "outputs": [],
   "source": [
    "import numpy as np\n",
    "import matplotlib.pyplot as plt\n",
    "\n",
    "from sklearn.datasets import load_iris\n",
    "from sklearn.decomposition import PCA\n",
    "\n",
    "\n",
    "iris = load_iris()\n",
    "\n",
    "X = iris.data\n",
    "y = iris.target\n",
    "\n",
    "X_centrado = X - np.mean(X, axis=0)\n",
    "\n",
    "pca: PCA = PCA(n_components=2)\n",
    "X_pca: np.ndarray = pca.fit_transform(X_centrado)"
   ]
  }
 ],
 "metadata": {
  "kernelspec": {
   "display_name": "base",
   "language": "python",
   "name": "python3"
  },
  "language_info": {
   "codemirror_mode": {
    "name": "ipython",
    "version": 3
   },
   "file_extension": ".py",
   "mimetype": "text/x-python",
   "name": "python",
   "nbconvert_exporter": "python",
   "pygments_lexer": "ipython3",
   "version": "3.12.4"
  }
 },
 "nbformat": 4,
 "nbformat_minor": 2
}
