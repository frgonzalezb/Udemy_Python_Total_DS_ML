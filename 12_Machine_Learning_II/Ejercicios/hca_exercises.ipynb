{
 "cells": [
  {
   "cell_type": "markdown",
   "metadata": {},
   "source": [
    "# Cluster Jerárquico en Machine Learning 1\n",
    "**Ejericicio 1:**\n",
    "\n",
    "Usando el conjunto de datos `iris` de la biblioteca `sklearn`, realiza el agrupamiento jerárquico utilizando el método de enlace `'ward'`. Almacenalo en una variable llamada `Z`"
   ]
  },
  {
   "cell_type": "code",
   "execution_count": 1,
   "metadata": {},
   "outputs": [],
   "source": [
    "import matplotlib.pyplot as plt\n",
    "from sklearn.datasets import load_iris\n",
    "from scipy.cluster.hierarchy import dendrogram, linkage\n",
    "\n",
    "\n",
    "iris = load_iris()\n",
    "X = iris.data\n",
    "Z = linkage(X, 'ward')"
   ]
  }
 ],
 "metadata": {
  "kernelspec": {
   "display_name": "base",
   "language": "python",
   "name": "python3"
  },
  "language_info": {
   "codemirror_mode": {
    "name": "ipython",
    "version": 3
   },
   "file_extension": ".py",
   "mimetype": "text/x-python",
   "name": "python",
   "nbconvert_exporter": "python",
   "pygments_lexer": "ipython3",
   "version": "3.12.4"
  }
 },
 "nbformat": 4,
 "nbformat_minor": 2
}
