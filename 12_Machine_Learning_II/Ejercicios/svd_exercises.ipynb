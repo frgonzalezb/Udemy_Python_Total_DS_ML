{
 "cells": [
  {
   "cell_type": "markdown",
   "metadata": {},
   "source": [
    "# Descomposición de Valores Singulares (SVD) en Machine Learning 1\n",
    "Utiliza la biblioteca NumPy para realizar la descomposición en valores singulares (SVD) de la matriz `A = [[1, 2], [3, 4]]`. Guarda las matrices U, Σ, y VT en variables llamadas `u`, `sigma`, y `vt`, respectivamente.\n",
    "\n",
    "Para ello puedes auxiliarte los pasos siguientes:\n",
    "\n",
    "1. Importar la biblioteca NumPy.\n",
    "\n",
    "2. Definir la matriz 𝐴.\n",
    "\n",
    "3. Utilizar la función `numpy.linalg.svd` para calcular la descomposición SVD de la matriz.\n",
    "\n",
    "4. Guardar las matrices 𝑈U, ΣΣ, y 𝑉𝑇VT en las variables `u`, `s`, y `vt`, respectivamente."
   ]
  },
  {
   "cell_type": "code",
   "execution_count": 1,
   "metadata": {},
   "outputs": [],
   "source": [
    "import numpy as np\n",
    "\n",
    "\n",
    "A = [[1, 2], [3, 4]]\n",
    "u, s, vt = np.linalg.svd(A)  # lo del paso 4 vale, no lo inicial"
   ]
  },
  {
   "cell_type": "markdown",
   "metadata": {},
   "source": [
    "# Descomposición de Valores Singulares (SVD) en Machine Learning 2\n",
    "\n",
    "Dada una matriz `B = [[1, 1, 0], [0, 1, 1], [1, 0, 1]]`, realiza su descomposición SVD y encuentra los valores singulares (`s`). Crea una lista que contenga los valores singulares (`s`) ordenados de mayor a menor y llámala `valores_singulares`.\n",
    "\n",
    "Para ello puedes auxiliarte los pasos siguientes:\n",
    "\n",
    "1. Importar la biblioteca NumPy.\n",
    "\n",
    "2. Definir la matriz `B`.\n",
    "\n",
    "3. Utilizar la función `numpy.linalg.svd` para calcular la descomposición SVD de la matriz.\n",
    "\n",
    "4. Guardar las matrices 𝑈U, ΣΣ, y 𝑉𝑇VT en las variables `u`, `s`, y `vt`, respectivamente.\n",
    "\n",
    "5. Almacenar en la lista `valores_singulares` los valores de `s` en ordenados de mayor a menor, para esto puedes hacer uso del método `sorted` y del parámetro `reverse`."
   ]
  },
  {
   "cell_type": "code",
   "execution_count": 10,
   "metadata": {},
   "outputs": [],
   "source": [
    "import numpy as np\n",
    "\n",
    "\n",
    "B = np.array([[1, 1, 0], [0, 1, 1], [1, 0, 1]])\n",
    "u, s, vt = np.linalg.svd(B)\n",
    "valores_singulares = s.tolist()\n",
    "valores_singulares.sort(reverse=True)"
   ]
  }
 ],
 "metadata": {
  "kernelspec": {
   "display_name": "base",
   "language": "python",
   "name": "python3"
  },
  "language_info": {
   "codemirror_mode": {
    "name": "ipython",
    "version": 3
   },
   "file_extension": ".py",
   "mimetype": "text/x-python",
   "name": "python",
   "nbconvert_exporter": "python",
   "pygments_lexer": "ipython3",
   "version": "3.12.4"
  }
 },
 "nbformat": 4,
 "nbformat_minor": 2
}
