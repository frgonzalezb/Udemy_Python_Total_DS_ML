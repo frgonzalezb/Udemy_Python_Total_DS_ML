{
 "cells": [
  {
   "cell_type": "markdown",
   "id": "3891ae72",
   "metadata": {},
   "source": [
    "# Proyecto del Día 12 - Análisis y Clasificación de Clientes\n",
    "\n",
    "Bienvenido al **Proyecto del Día 12**. Lee atentamente la consigna *¡y a programar!*\n",
    "\n",
    "\n",
    "### Título: Análisis y Clasificación de Clientes para Campañas de Marketing\n",
    "\n",
    "En este proyecto, vas a aplicar técnicas avanzadas de análisis de datos para resolver un problema de clasificación de clientes en un conjunto de datos simulado.\n",
    "\n",
    "El objetivo es identificar distintos segmentos de clientes basados en sus comportamientos de compra y características demográficas para diseñar campañas de marketing más efectivas.\n",
    "\n",
    "\n",
    "### Descripción del Proyecto\n",
    "\n",
    "Este proyecto tiene como objetivo utilizar técnicas de análisis de datos y aprendizaje automático para **identificar diferentes segmentos de clientes basados en sus comportamientos de compra y características demográficas**. Esto te permitirá desarrollar estrategias de marketing dirigidas y personalizadas. Vas a aplicar métodos de preprocesamiento de datos, reducción de dimensiones, y técnicas de clustering para analizar un conjunto de datos simulado de clientes.\n",
    "\n",
    "\n",
    "### Datos\n",
    "\n",
    "Vas a utilizar un dataset simulado llamado `datos_clientes.csv` que te descargarás en los recursos de esta lección, y que contiene información demográfica y de comportamiento de compra de clientes, como la edad, los ingresos anuales, la puntuación de gasto y la categoría de producto favorito.\n",
    "\n",
    "\n",
    "### Consigna del Proyecto\n",
    "\n",
    "1. **Preprocesamiento de Datos**: Cargar, limpiar y preparar el dataset para el análisis. Esto incluye la normalización de los datos para asegurar que las técnicas de reducción de dimensiones y clustering funcionen correctamente.\n",
    "2. **Reducción de Dimensiones**: Utilizar **PCA** y **SVD** para reducir la cantidad de variables y destacar las características más importantes que influyen en el comportamiento del cliente.\n",
    "3. **Clustering**: Implementar **K-Means** y **Clustering Jerárquico** para segmentar los clientes en grupos basados en similitudes en sus datos. Esto ayudará a identificar patrones y tendencias entre diferentes tipos de clientes.\n",
    "4. **Visualización de Datos**: Crear visualizaciones para interpretar los resultados de las técnicas de reducción de dimensiones y clustering. Esto incluye la creación de **gráficos de dispersión** para los resultados de PCA y la visualización de **dendrogramas** para el Clustering Jerárquico.\n",
    "5. **Interpretación y Estrategias de Marketing**: Analizar los clusters obtenidos y desarrollar propuestas de estrategias de marketing específicas para cada segmento de clientes. Deberás justificar tus estrategias basándote en las características y comportamientos de los grupos identificados.\n",
    "\n",
    "¡Mucha suerte, y que te diviertas!"
   ]
  },
  {
   "cell_type": "markdown",
   "id": "28531fac",
   "metadata": {},
   "source": [
    "## Análisis y Clasificación de Clientes para Campañas de Marketing"
   ]
  },
  {
   "cell_type": "markdown",
   "id": "a56458a6",
   "metadata": {},
   "source": [
    "### 1. Preprocesamiento de Datos"
   ]
  },
  {
   "cell_type": "code",
   "execution_count": 1,
   "id": "80aaa4d7",
   "metadata": {},
   "outputs": [],
   "source": [
    "# Importar librerías\n",
    "import pandas as pd\n",
    "import numpy as np\n",
    "import matplotlib.pyplot as plt\n",
    "import seaborn as sns\n",
    "from sklearn.preprocessing import MinMaxScaler\n",
    "from sklearn.decomposition import PCA\n",
    "from sklearn.cluster import KMeans\n",
    "from scipy.cluster.hierarchy import dendrogram, linkage"
   ]
  },
  {
   "cell_type": "code",
   "execution_count": 2,
   "id": "ff5050b3",
   "metadata": {},
   "outputs": [],
   "source": [
    "# Cargar los datos\n",
    "df: pd.DataFrame = pd.read_csv('./data/customer_data.csv')"
   ]
  },
  {
   "cell_type": "code",
   "execution_count": 4,
   "id": "78abbec2",
   "metadata": {},
   "outputs": [
    {
     "name": "stdout",
     "output_type": "stream",
     "text": [
      "<class 'pandas.core.frame.DataFrame'>\n",
      "RangeIndex: 200 entries, 0 to 199\n",
      "Data columns (total 5 columns):\n",
      " #   Column                          Non-Null Count  Dtype \n",
      "---  ------                          --------------  ----- \n",
      " 0   ID Cliente                      200 non-null    int64 \n",
      " 1   Edad                            200 non-null    int64 \n",
      " 2   Ingresos Anuales (k$)           200 non-null    int64 \n",
      " 3   Puntuación de Gasto (1-100)     200 non-null    int64 \n",
      " 4   Categoría de Producto Favorito  200 non-null    object\n",
      "dtypes: int64(4), object(1)\n",
      "memory usage: 7.9+ KB\n"
     ]
    }
   ],
   "source": [
    "# Ver información básica del dataset\n",
    "df.info(verbose=True)"
   ]
  },
  {
   "cell_type": "code",
   "execution_count": 5,
   "id": "ea31c4f9",
   "metadata": {},
   "outputs": [
    {
     "data": {
      "text/html": [
       "<div>\n",
       "<style scoped>\n",
       "    .dataframe tbody tr th:only-of-type {\n",
       "        vertical-align: middle;\n",
       "    }\n",
       "\n",
       "    .dataframe tbody tr th {\n",
       "        vertical-align: top;\n",
       "    }\n",
       "\n",
       "    .dataframe thead th {\n",
       "        text-align: right;\n",
       "    }\n",
       "</style>\n",
       "<table border=\"1\" class=\"dataframe\">\n",
       "  <thead>\n",
       "    <tr style=\"text-align: right;\">\n",
       "      <th></th>\n",
       "      <th>ID Cliente</th>\n",
       "      <th>Edad</th>\n",
       "      <th>Ingresos Anuales (k$)</th>\n",
       "      <th>Puntuación de Gasto (1-100)</th>\n",
       "    </tr>\n",
       "  </thead>\n",
       "  <tbody>\n",
       "    <tr>\n",
       "      <th>count</th>\n",
       "      <td>200.000000</td>\n",
       "      <td>200.00000</td>\n",
       "      <td>200.000000</td>\n",
       "      <td>200.000000</td>\n",
       "    </tr>\n",
       "    <tr>\n",
       "      <th>mean</th>\n",
       "      <td>100.500000</td>\n",
       "      <td>43.42500</td>\n",
       "      <td>69.580000</td>\n",
       "      <td>49.910000</td>\n",
       "    </tr>\n",
       "    <tr>\n",
       "      <th>std</th>\n",
       "      <td>57.879185</td>\n",
       "      <td>14.94191</td>\n",
       "      <td>29.693808</td>\n",
       "      <td>29.409292</td>\n",
       "    </tr>\n",
       "    <tr>\n",
       "      <th>min</th>\n",
       "      <td>1.000000</td>\n",
       "      <td>18.00000</td>\n",
       "      <td>20.000000</td>\n",
       "      <td>1.000000</td>\n",
       "    </tr>\n",
       "    <tr>\n",
       "      <th>25%</th>\n",
       "      <td>50.750000</td>\n",
       "      <td>31.00000</td>\n",
       "      <td>43.750000</td>\n",
       "      <td>24.000000</td>\n",
       "    </tr>\n",
       "    <tr>\n",
       "      <th>50%</th>\n",
       "      <td>100.500000</td>\n",
       "      <td>43.50000</td>\n",
       "      <td>69.500000</td>\n",
       "      <td>50.000000</td>\n",
       "    </tr>\n",
       "    <tr>\n",
       "      <th>75%</th>\n",
       "      <td>150.250000</td>\n",
       "      <td>56.00000</td>\n",
       "      <td>92.500000</td>\n",
       "      <td>74.000000</td>\n",
       "    </tr>\n",
       "    <tr>\n",
       "      <th>max</th>\n",
       "      <td>200.000000</td>\n",
       "      <td>69.00000</td>\n",
       "      <td>119.000000</td>\n",
       "      <td>99.000000</td>\n",
       "    </tr>\n",
       "  </tbody>\n",
       "</table>\n",
       "</div>"
      ],
      "text/plain": [
       "       ID Cliente       Edad  Ingresos Anuales (k$)  \\\n",
       "count  200.000000  200.00000             200.000000   \n",
       "mean   100.500000   43.42500              69.580000   \n",
       "std     57.879185   14.94191              29.693808   \n",
       "min      1.000000   18.00000              20.000000   \n",
       "25%     50.750000   31.00000              43.750000   \n",
       "50%    100.500000   43.50000              69.500000   \n",
       "75%    150.250000   56.00000              92.500000   \n",
       "max    200.000000   69.00000             119.000000   \n",
       "\n",
       "       Puntuación de Gasto (1-100)  \n",
       "count                   200.000000  \n",
       "mean                     49.910000  \n",
       "std                      29.409292  \n",
       "min                       1.000000  \n",
       "25%                      24.000000  \n",
       "50%                      50.000000  \n",
       "75%                      74.000000  \n",
       "max                      99.000000  "
      ]
     },
     "execution_count": 5,
     "metadata": {},
     "output_type": "execute_result"
    }
   ],
   "source": [
    "# Ver la descripción de las estadísticas básicas del dataset\n",
    "df.describe()"
   ]
  },
  {
   "cell_type": "code",
   "execution_count": 10,
   "id": "3ed99afe",
   "metadata": {},
   "outputs": [
    {
     "data": {
      "text/html": [
       "<div>\n",
       "<style scoped>\n",
       "    .dataframe tbody tr th:only-of-type {\n",
       "        vertical-align: middle;\n",
       "    }\n",
       "\n",
       "    .dataframe tbody tr th {\n",
       "        vertical-align: top;\n",
       "    }\n",
       "\n",
       "    .dataframe thead th {\n",
       "        text-align: right;\n",
       "    }\n",
       "</style>\n",
       "<table border=\"1\" class=\"dataframe\">\n",
       "  <thead>\n",
       "    <tr style=\"text-align: right;\">\n",
       "      <th></th>\n",
       "      <th>Edad</th>\n",
       "      <th>Ingresos Anuales (k$)</th>\n",
       "      <th>Puntuación de Gasto (1-100)</th>\n",
       "    </tr>\n",
       "  </thead>\n",
       "  <tbody>\n",
       "    <tr>\n",
       "      <th>0</th>\n",
       "      <td>56</td>\n",
       "      <td>89</td>\n",
       "      <td>47</td>\n",
       "    </tr>\n",
       "    <tr>\n",
       "      <th>1</th>\n",
       "      <td>69</td>\n",
       "      <td>91</td>\n",
       "      <td>86</td>\n",
       "    </tr>\n",
       "    <tr>\n",
       "      <th>2</th>\n",
       "      <td>46</td>\n",
       "      <td>46</td>\n",
       "      <td>23</td>\n",
       "    </tr>\n",
       "    <tr>\n",
       "      <th>3</th>\n",
       "      <td>32</td>\n",
       "      <td>28</td>\n",
       "      <td>66</td>\n",
       "    </tr>\n",
       "    <tr>\n",
       "      <th>4</th>\n",
       "      <td>60</td>\n",
       "      <td>81</td>\n",
       "      <td>27</td>\n",
       "    </tr>\n",
       "  </tbody>\n",
       "</table>\n",
       "</div>"
      ],
      "text/plain": [
       "   Edad  Ingresos Anuales (k$)  Puntuación de Gasto (1-100)\n",
       "0    56                     89                           47\n",
       "1    69                     91                           86\n",
       "2    46                     46                           23\n",
       "3    32                     28                           66\n",
       "4    60                     81                           27"
      ]
     },
     "execution_count": 10,
     "metadata": {},
     "output_type": "execute_result"
    }
   ],
   "source": [
    "# Declarar x\n",
    "x: pd.DataFrame = df.drop(\n",
    "    ['ID Cliente', 'Categoría de Producto Favorito'],\n",
    "    axis=1\n",
    ")\n",
    "x.head()"
   ]
  },
  {
   "cell_type": "code",
   "execution_count": 14,
   "id": "566641bc",
   "metadata": {},
   "outputs": [
    {
     "data": {
      "text/html": [
       "<div>\n",
       "<style scoped>\n",
       "    .dataframe tbody tr th:only-of-type {\n",
       "        vertical-align: middle;\n",
       "    }\n",
       "\n",
       "    .dataframe tbody tr th {\n",
       "        vertical-align: top;\n",
       "    }\n",
       "\n",
       "    .dataframe thead th {\n",
       "        text-align: right;\n",
       "    }\n",
       "</style>\n",
       "<table border=\"1\" class=\"dataframe\">\n",
       "  <thead>\n",
       "    <tr style=\"text-align: right;\">\n",
       "      <th></th>\n",
       "      <th>Edad</th>\n",
       "      <th>Ingresos Anuales (k$)</th>\n",
       "      <th>Puntuación de Gasto (1-100)</th>\n",
       "    </tr>\n",
       "  </thead>\n",
       "  <tbody>\n",
       "    <tr>\n",
       "      <th>0</th>\n",
       "      <td>0.745098</td>\n",
       "      <td>0.696970</td>\n",
       "      <td>0.469388</td>\n",
       "    </tr>\n",
       "    <tr>\n",
       "      <th>1</th>\n",
       "      <td>1.000000</td>\n",
       "      <td>0.717172</td>\n",
       "      <td>0.867347</td>\n",
       "    </tr>\n",
       "    <tr>\n",
       "      <th>2</th>\n",
       "      <td>0.549020</td>\n",
       "      <td>0.262626</td>\n",
       "      <td>0.224490</td>\n",
       "    </tr>\n",
       "    <tr>\n",
       "      <th>3</th>\n",
       "      <td>0.274510</td>\n",
       "      <td>0.080808</td>\n",
       "      <td>0.663265</td>\n",
       "    </tr>\n",
       "    <tr>\n",
       "      <th>4</th>\n",
       "      <td>0.823529</td>\n",
       "      <td>0.616162</td>\n",
       "      <td>0.265306</td>\n",
       "    </tr>\n",
       "  </tbody>\n",
       "</table>\n",
       "</div>"
      ],
      "text/plain": [
       "       Edad  Ingresos Anuales (k$)  Puntuación de Gasto (1-100)\n",
       "0  0.745098               0.696970                     0.469388\n",
       "1  1.000000               0.717172                     0.867347\n",
       "2  0.549020               0.262626                     0.224490\n",
       "3  0.274510               0.080808                     0.663265\n",
       "4  0.823529               0.616162                     0.265306"
      ]
     },
     "execution_count": 14,
     "metadata": {},
     "output_type": "execute_result"
    }
   ],
   "source": [
    "# Normalizar los datos\n",
    "scale: MinMaxScaler = MinMaxScaler(feature_range=(0, 1))\n",
    "normalized: np.ndarray = scale.fit_transform(x)\n",
    "x_standarized: pd.DataFrame = pd.DataFrame(normalized, columns=x.columns)\n",
    "x_standarized.head()"
   ]
  },
  {
   "cell_type": "markdown",
   "id": "f4b1ab25",
   "metadata": {},
   "source": [
    "### 2. Reducción de Dimensiones: PCA y SVD"
   ]
  },
  {
   "cell_type": "code",
   "execution_count": null,
   "id": "1293a477",
   "metadata": {},
   "outputs": [],
   "source": [
    "# Aplicar PCA"
   ]
  },
  {
   "cell_type": "code",
   "execution_count": null,
   "id": "fd931af1",
   "metadata": {},
   "outputs": [],
   "source": [
    "# Aplicar SVD"
   ]
  },
  {
   "cell_type": "code",
   "execution_count": null,
   "id": "3baed16c",
   "metadata": {},
   "outputs": [],
   "source": [
    "# Seleccionar los dos primeros componentes singulares para reducción de dimensiones"
   ]
  },
  {
   "cell_type": "markdown",
   "id": "18a5865c",
   "metadata": {},
   "source": [
    "### 3. Clustering: K-Means y Clustering Jerárquico"
   ]
  },
  {
   "cell_type": "code",
   "execution_count": null,
   "id": "7d9a3533",
   "metadata": {},
   "outputs": [],
   "source": [
    "# Aplicar K-Means"
   ]
  },
  {
   "cell_type": "code",
   "execution_count": null,
   "id": "b8d41ef0",
   "metadata": {},
   "outputs": [],
   "source": [
    "# Aplicar Clustering Jerárquico"
   ]
  },
  {
   "cell_type": "markdown",
   "id": "c562a49d",
   "metadata": {},
   "source": [
    "### 4. Visualización de Datos"
   ]
  },
  {
   "cell_type": "code",
   "execution_count": null,
   "id": "994f3428",
   "metadata": {},
   "outputs": [],
   "source": [
    "# Crear un gráfico de dispersión para los resultados de PCA"
   ]
  },
  {
   "cell_type": "code",
   "execution_count": null,
   "id": "678fce19",
   "metadata": {},
   "outputs": [],
   "source": [
    "# Crear un dendrograma del clústering jerárquico"
   ]
  },
  {
   "cell_type": "markdown",
   "id": "8360bb3c",
   "metadata": {},
   "source": [
    "### 5. Interpretación y Estrategias de Marketing basadas en los Clusters"
   ]
  },
  {
   "cell_type": "code",
   "execution_count": 1,
   "id": "e5db89bb",
   "metadata": {},
   "outputs": [],
   "source": [
    "# Escribe un loop que te permita mostrar los datos básicos de los diferentes clusters, como:\n",
    "## su edad media\n",
    "## sus ingresos medios\n",
    "## su puntuación de gastos media"
   ]
  },
  {
   "cell_type": "code",
   "execution_count": null,
   "id": "2296f3d1",
   "metadata": {},
   "outputs": [],
   "source": [
    "# Redacta una propuesta de estrategia de marketing para los diferentes clusters"
   ]
  }
 ],
 "metadata": {
  "kernelspec": {
   "display_name": "base",
   "language": "python",
   "name": "python3"
  },
  "language_info": {
   "codemirror_mode": {
    "name": "ipython",
    "version": 3
   },
   "file_extension": ".py",
   "mimetype": "text/x-python",
   "name": "python",
   "nbconvert_exporter": "python",
   "pygments_lexer": "ipython3",
   "version": "3.12.4"
  }
 },
 "nbformat": 4,
 "nbformat_minor": 5
}
