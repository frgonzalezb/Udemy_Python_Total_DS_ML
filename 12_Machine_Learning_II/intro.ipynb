{
 "cells": [
  {
   "cell_type": "markdown",
   "metadata": {},
   "source": [
    "# Aprendizaje No Supervisado en Machine Learning\n",
    "\n",
    "El aprendizaje no supervisado es otro tipo de algoritmos de machine learning y en este caso también se trata de **entrenar a diferentes modelos**, pero **usando datos que no han sido etiquetados** para poder descubrir patrones o relaciones que hay entre esa información sin que le hayamos dicho al modelo que buscar.\n",
    "\n",
    "En el aprendizaje no supervisado, el modelo se concentra en la **estructura inherente de la información** y en las relaciones desconocidas que existen dentro de ella.\n",
    "\n",
    "El objetivo del aprendizaje no supervisado es **descubrir patrones, relaciones o estructuras ocultas** en los datos.\n",
    "\n",
    "Aunque hya diversas maneras, en este curso se verán cinco:\n",
    "\n",
    "1. Agrupamiento de promedios K\n",
    "2. Análisis de componentes principales\n",
    "3. Descomposición de valores singulares\n",
    "4. Autoencoders\n",
    "5. Clustering jerárquico"
   ]
  }
 ],
 "metadata": {
  "kernelspec": {
   "display_name": "base",
   "language": "python",
   "name": "python3"
  },
  "language_info": {
   "name": "python",
   "version": "3.12.4"
  }
 },
 "nbformat": 4,
 "nbformat_minor": 2
}
