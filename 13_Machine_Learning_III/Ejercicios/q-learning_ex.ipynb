{
 "cells": [
  {
   "cell_type": "markdown",
   "metadata": {},
   "source": [
    "# Q-Learning en Machine Learning - Parte I (1)\n",
    "Implementa la función `indice_a_estado`, que toma un índice lineal (número entero) y lo convierte de nuevo a una representación bidimensional (tupla) del estado actual en la cuadrícula. Esta función es la inversa de `estado_a_indice` que vimos en la lección."
   ]
  },
  {
   "cell_type": "code",
   "execution_count": 3,
   "metadata": {},
   "outputs": [
    {
     "name": "stdout",
     "output_type": "stream",
     "text": [
      "(4, 4)\n"
     ]
    }
   ],
   "source": [
    "def indice_a_estado(\n",
    "        indice_lineal: int,\n",
    "        ) -> tuple[int, int]:\n",
    "    estado_0, estado_1 = divmod(indice_lineal, 5)\n",
    "    return estado_0, estado_1\n",
    "\n",
    "\n",
    "print(indice_a_estado(24))"
   ]
  },
  {
   "cell_type": "markdown",
   "metadata": {},
   "source": [
    "**NOTA PERSONAL:** Esta es la solución aceptada en Udemy, pero no me parece que el valor `5` en `divmod()` deba ser hardcoded. Lamentablemente, el ejercicio no pemite pasar un segundo argumento a la función. 😞"
   ]
  },
  {
   "cell_type": "markdown",
   "metadata": {},
   "source": [
    "# Q-Learning en Machine Learning - Parte I (2)\n",
    "Escribe una función `crear_entorno()` que inicialice el entorno con las condiciones dadas: **dimensiones de la cuadrícula, estado_inicial, estado_objetivo y obstáculos.**\n",
    "\n",
    "1. Define una cuadrícula con dimensiones de 5x5. `dimensiones`\n",
    "\n",
    "2. El punto de inicio está en la esquina superior izquierda (0,0). `estado_inicial`\n",
    "\n",
    "3. El punto objetivo está en la esquina inferior derecha (4,4). `estado_objetivo`\n",
    "\n",
    "4. Obstáculos distribuidos en: (1,1), (1,3), (2,3), (3,0). `obstaculos`\n",
    "\n",
    "Asegurate que esta función devuelva todos los valores requeridos:\n",
    "\n",
    "`dimensiones`, `estado_inicial`, `estado_objetivo`, `obstaculos`"
   ]
  },
  {
   "cell_type": "code",
   "execution_count": null,
   "metadata": {},
   "outputs": [],
   "source": [
    "from typing import TypeAlias\n",
    "\n",
    "\n",
    "EnvironmentType: TypeAlias = tuple[\n",
    "    tuple[int, int],\n",
    "    tuple[int, int],\n",
    "    tuple[int, int],\n",
    "    list[tuple[int, int]]\n",
    "]\n",
    "\n",
    "\n",
    "def crear_entorno() -> EnvironmentType:\n",
    "    dimensiones: tuple[int, int] = (5, 5)\n",
    "    estado_inicial: tuple[int, int] = (0, 0)\n",
    "    estado_objetivo: tuple[int, int] = (4, 4)\n",
    "    obstaculos: list[tuple[int, int]] = [(1, 1), (1, 3), (2, 3), (3, 0)]\n",
    "    return dimensiones, estado_inicial, estado_objetivo, obstaculos"
   ]
  }
 ],
 "metadata": {
  "kernelspec": {
   "display_name": "base",
   "language": "python",
   "name": "python3"
  },
  "language_info": {
   "codemirror_mode": {
    "name": "ipython",
    "version": 3
   },
   "file_extension": ".py",
   "mimetype": "text/x-python",
   "name": "python",
   "nbconvert_exporter": "python",
   "pygments_lexer": "ipython3",
   "version": "3.12.4"
  }
 },
 "nbformat": 4,
 "nbformat_minor": 2
}
