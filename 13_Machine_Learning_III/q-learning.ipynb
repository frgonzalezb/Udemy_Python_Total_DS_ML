{
 "cells": [
  {
   "cell_type": "markdown",
   "metadata": {},
   "source": [
    "# Q-Learning en Machine Learning - Parte I"
   ]
  },
  {
   "cell_type": "markdown",
   "metadata": {},
   "source": [
    "**SEGÚN FEDERICO:**\n",
    "\n",
    "Es un tipo de algoritmo de aprendizaje por refuerzo que le permite a un agente imaginario aprender a tomar decisiones óptimas y a alcanzar un objetivo en ese entorno o ambiente determinado.\n",
    "\n",
    "El agente opera **aprendiendo los valores que sean más convenientes para cada paso** que tenga que dar, y a esos pasos los implementamos en un par de datos que definen la acción que tiene que tomar y el estado en que queda.\n",
    "\n",
    "Entonces, Q-Learning implica un agente que debe identificar qué pasos realizar y la **calidad de esos pasos** la vamos a denominar con la letra `Q`.\n",
    "\n",
    "Los valores `Q`, es decir, los valores de sus pasos que se definen por los valores de la acción y del Estado, van a ayudar a este agente a decidir qué acción tiene que tomar en cada paso."
   ]
  },
  {
   "cell_type": "markdown",
   "metadata": {},
   "source": [
    "### Ecuación de Bellman para actualizar valores Q\n",
    "\n",
    "![Bellman.png](./assets/Bellman.png)\n",
    "\n",
    "Donde:\n",
    "\n",
    "- `𝑄(𝑠,a)` = función 𝑄 que se está actualizando. Representa el valor actual estimado de tomar la acción 𝑎 en el estado 𝑠.\n",
    "\n",
    "- `𝑠` = estado (state)\n",
    "\n",
    "- `a` = acción (action)\n",
    "\n",
    "- `α` = tasa de aprendizaje o **learning rate** (usualmente, un número entre 0 y 1). Controla qué tan rápido actualizamos la estimación del valor. Si α es cercano a 1, significa que confiamos mucho en las nuevas experiencias, y si es cercano a 0, confiamos más en los valores previos. Dicho de otra manera, según Federico:\n",
    "\n",
    "    - Para un valor cercano a 1, el aprendizaje será más rápido, pero menos seguro, con estimaciones menos estables para los valores Q.\n",
    "    \n",
    "    - Para un valor cercano a 0, el aprendizaje será más lento, pero más seguro en llevar una estimación más estable de los valores Q.\n",
    "\n",
    "- `R(𝑠,a)` = reforzador (reinforcer) o recompensa (reward), después de tomar la acción 𝑎 en el estado 𝑠. Esta recompensa indica el **beneficio obtenido** por realizar esa acción en ese momento específico.\n",
    "\n",
    "- `γ` = factor de descuento o **discount factor**, también un número entre 0 y 1. Indica cuánto valoramos las recompensas futuras. Un valor cercano a 1 significa que nos importan mucho las recompensas futuras (lo suficiente para considerar las consecuencias a largo plazo de nuestras acciones), mientras que un valor cercano a 0 significa que solo nos interesa la recompensa inmediata.\n",
    "\n",
    "- `𝑠′` = nuevo estado al que llega el agente después de tomar la acción 𝑎 en el estado 𝑠.\n",
    "\n",
    "- `max a′ Q(𝑠′, a′)` = selecciona el valor máximo de la función 𝑄 sobre todas las acciones posibles 𝑎′ que el agente podría tomar en el nuevo estado 𝑠′. En otras palabras, el agente trata de estimar el mejor valor futuro posible en el siguiente estado, basándose en lo que ha aprendido hasta el momento."
   ]
  },
  {
   "cell_type": "markdown",
   "metadata": {},
   "source": [
    "### Caso de ejemplo\n",
    "\n",
    "Nos imaginemos un robot que opera en una cuadrícula que representa el salón de una fábrica en la que debe moverse trasladando herramientas.\n",
    "\n",
    "El objetivo es que el robot aprenda a encontrar el camino más corto, desde su posición inicial hasta el destino, evitando obstáculos.\n",
    "\n",
    "Entonces, el entorno que vamos a definir para este ejercicio va a ser una cuadrícula de dimensiones de 5x5, un punto de inicio en la esquina superior izquierda, que sería el punto `(0, 0)`, el punto objetivo en la esquina inferior derecha, que sería el punto `(4, 4)` y los obstáculos distribuidos en la cuadrícula.\n",
    "\n",
    "Vamos a establecer las acciones. Esto implica que el robot va a poder moverse en cuatro direcciones hacia arriba, hacia abajo, izquierda o derecha, y vamos a definir recompensas.\n",
    "\n",
    "Si alcanza el objetivo, va a tener 100 puntos de premio.\n",
    "\n",
    "Si colisiona con un obstáculo, se le van a restar 100 puntos y cualquier otro movimiento que haga va a valer -1.\n",
    "\n",
    "¿Para que?\n",
    "\n",
    "Para incentivar la eficiencia, que reste lo menos que pueda."
   ]
  },
  {
   "cell_type": "code",
   "execution_count": 3,
   "metadata": {},
   "outputs": [],
   "source": [
    "import random\n",
    "import numpy as np"
   ]
  },
  {
   "cell_type": "code",
   "execution_count": 22,
   "metadata": {},
   "outputs": [],
   "source": [
    "grid: tuple[int, int] = (5, 5)\n",
    "\n",
    "initial_state: tuple[int, int] = (0, 0)\n",
    "goal_state: tuple[int, int] = (4, 4)\n",
    "\n",
    "obstacles: list[tuple[int, int]] = [(1, 1), (1, 3), (2, 3), (3, 0)]\n",
    "\n",
    "actions: dict[str, tuple[int, int]] = {\n",
    "    'up': (0, -1),\n",
    "    'down': (0, 1),\n",
    "    'left': (-1, 0),\n",
    "    'right': (1, 0),\n",
    "}"
   ]
  },
  {
   "cell_type": "code",
   "execution_count": 16,
   "metadata": {},
   "outputs": [
    {
     "data": {
      "text/plain": [
       "25"
      ]
     },
     "execution_count": 16,
     "metadata": {},
     "output_type": "execute_result"
    }
   ],
   "source": [
    "grid_states: int = grid[0] * grid[1]\n",
    "grid_states"
   ]
  },
  {
   "cell_type": "code",
   "execution_count": 17,
   "metadata": {},
   "outputs": [],
   "source": [
    "possible_actions: int = len(actions)"
   ]
  },
  {
   "cell_type": "code",
   "execution_count": 18,
   "metadata": {},
   "outputs": [
    {
     "data": {
      "text/plain": [
       "array([[0., 0., 0., 0.],\n",
       "       [0., 0., 0., 0.],\n",
       "       [0., 0., 0., 0.],\n",
       "       [0., 0., 0., 0.],\n",
       "       [0., 0., 0., 0.],\n",
       "       [0., 0., 0., 0.],\n",
       "       [0., 0., 0., 0.],\n",
       "       [0., 0., 0., 0.],\n",
       "       [0., 0., 0., 0.],\n",
       "       [0., 0., 0., 0.],\n",
       "       [0., 0., 0., 0.],\n",
       "       [0., 0., 0., 0.],\n",
       "       [0., 0., 0., 0.],\n",
       "       [0., 0., 0., 0.],\n",
       "       [0., 0., 0., 0.],\n",
       "       [0., 0., 0., 0.],\n",
       "       [0., 0., 0., 0.],\n",
       "       [0., 0., 0., 0.],\n",
       "       [0., 0., 0., 0.],\n",
       "       [0., 0., 0., 0.],\n",
       "       [0., 0., 0., 0.],\n",
       "       [0., 0., 0., 0.],\n",
       "       [0., 0., 0., 0.],\n",
       "       [0., 0., 0., 0.],\n",
       "       [0., 0., 0., 0.]])"
      ]
     },
     "execution_count": 18,
     "metadata": {},
     "output_type": "execute_result"
    }
   ],
   "source": [
    "q_table: np.ndarray = np.zeros((grid_states, possible_actions))\n",
    "q_table"
   ]
  },
  {
   "cell_type": "code",
   "execution_count": 19,
   "metadata": {},
   "outputs": [],
   "source": [
    "def convert_state_to_index(\n",
    "        state: tuple[int, int],\n",
    "        grid: tuple[int, int]\n",
    "        ) -> int:\n",
    "    \"\"\"\n",
    "    Convert the current two-dimensional representation of the current\n",
    "    state (the agent's position on the grid) to an unique linear index.\n",
    "\n",
    "    Every possible state can be represented as a index number for the\n",
    "    Q table.\n",
    "\n",
    "    Parameters\n",
    "    ----------\n",
    "    state : tuple[int, int]\n",
    "        The current two-dimensional representation of the current state\n",
    "        (the agent's position on the grid).\n",
    "\n",
    "    grid : tuple[int, int]\n",
    "        The width and height of the grid.\n",
    "\n",
    "    Returns\n",
    "    -------\n",
    "    int\n",
    "        The index of the current state in the Q table.\n",
    "    \n",
    "    Examples\n",
    "    --------\n",
    "    >>> convert_state_to_index((0, 0), (5, 5))\n",
    "    0\n",
    "    >>> convert_state_to_index((4, 4), (5, 5))\n",
    "    24\n",
    "\n",
    "    \"\"\"\n",
    "    return state[0] * grid[1] + state[1]"
   ]
  },
  {
   "cell_type": "code",
   "execution_count": 21,
   "metadata": {},
   "outputs": [
    {
     "data": {
      "text/plain": [
       "0"
      ]
     },
     "execution_count": 21,
     "metadata": {},
     "output_type": "execute_result"
    }
   ],
   "source": [
    "example = convert_state_to_index(initial_state, grid)\n",
    "example"
   ]
  },
  {
   "cell_type": "markdown",
   "metadata": {},
   "source": [
    "**¿Cómo el agente robot va a aprender a navegar por el entorno?**\n",
    "\n",
    "Los siguientes parámetros son fundamentales:"
   ]
  },
  {
   "cell_type": "code",
   "execution_count": 23,
   "metadata": {},
   "outputs": [],
   "source": [
    "alpha: float = 0.1      # learning rate\n",
    "gamma: float = 0.99     # discount factor\n",
    "epsilon: float = 0.2    # exploration\n",
    "episodes: int = 100     # number of episodes"
   ]
  },
  {
   "cell_type": "markdown",
   "metadata": {},
   "source": [
    "La variable `epsilon` sirve para que el agente no repita siempre las mismas acciones, definiendo la **probabilidad** de que el agente tome una **acción aleatoria** en lugar de la mejor acción conocida hasta el momento, según la tabla Q.\n",
    "\n",
    "En otras palabras, esto permite que el agente **explore el entorno** desconocido en lugar de explotar constantemente el conocimiento que ya dispone, porque una vez que encuentre una solución, podría tender a repetir esa solución siempre, en vez de explorar otras posibilidades (que podrían ser más eficientes o de mayor interés, según sea el caso)."
   ]
  },
  {
   "cell_type": "markdown",
   "metadata": {},
   "source": [
    "La variable `episodes` está definiendo el número total de veces (episodios) que se va a repetir este proceso de entrenamiento.\n",
    "\n",
    "Un episodio comienza con el agente en el estado inicial (declarado en `initial_state`) y termina cuando alcanza el estado objetivo (declarado en `goal_state`) o algún otro criterio de finalización, según sea requerido.\n",
    "\n",
    "Mientras mayor sea el número de episodios, más oportunidades va a tener el agente de tener más experiencias de las cuales aprender y esto va a mejorar potencialmente sus políticas de acción."
   ]
  }
 ],
 "metadata": {
  "kernelspec": {
   "display_name": "base",
   "language": "python",
   "name": "python3"
  },
  "language_info": {
   "codemirror_mode": {
    "name": "ipython",
    "version": 3
   },
   "file_extension": ".py",
   "mimetype": "text/x-python",
   "name": "python",
   "nbconvert_exporter": "python",
   "pygments_lexer": "ipython3",
   "version": "3.12.4"
  }
 },
 "nbformat": 4,
 "nbformat_minor": 2
}
