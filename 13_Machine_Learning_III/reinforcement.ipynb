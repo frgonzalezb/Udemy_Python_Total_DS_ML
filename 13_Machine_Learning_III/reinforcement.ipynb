{
 "cells": [
  {
   "cell_type": "markdown",
   "metadata": {},
   "source": [
    "# Aprendizaje por Reforzamiento en Machine Learning\n",
    "\n",
    "**SEGÚN FEDERICO:**\n",
    "\n",
    "se trata de un algoritmo que implica que un agente imaginario aprenda a tomar decisiones **interactuando con un ambiente** y **recibiendo recompensas o penalizaciones** basadas en sus acciones.\n",
    "\n",
    "De esta manera, el agente **aprende a través de la prueba y del error**, explorando el ambiente, recibiendo un premio o un castigo por sus decisiones y luego ajustando su comportamiento para maximizar sus recompensas.\n",
    "\n",
    "Y es por eso que se lo denomina aprendizaje por reforzamiento, porque se trata de **reforzar las decisiones positivas** y fomentando de esa manera su aprendizaje **por medio de la retroalimentación**.\n",
    "\n",
    "El objetivo es que el agente haya aprendido una política o una estrategia que maximice su recompensa a largo plazo."
   ]
  },
  {
   "cell_type": "markdown",
   "metadata": {},
   "source": [
    "### Técnicas que se verán en esta sección:\n",
    "\n",
    "- Q-learning\n",
    "\n",
    "- Sarsa\n",
    "\n",
    "- Redes Q profundas"
   ]
  }
 ],
 "metadata": {
  "kernelspec": {
   "display_name": "base",
   "language": "python",
   "name": "python3"
  },
  "language_info": {
   "name": "python",
   "version": "3.12.4"
  }
 },
 "nbformat": 4,
 "nbformat_minor": 2
}
