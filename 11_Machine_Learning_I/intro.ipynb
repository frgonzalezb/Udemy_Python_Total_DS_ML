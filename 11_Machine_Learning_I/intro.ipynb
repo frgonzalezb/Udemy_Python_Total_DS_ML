{
 "cells": [
  {
   "cell_type": "markdown",
   "metadata": {},
   "source": [
    "# Qué es Machine Learning\n",
    "\n",
    "Subcampo de las **Ciencias de la Computación** que otorga a las computadoras la capacidad de **aprender**, sin se explícitamente programadas.\n",
    "\n",
    "Se puede traducir como **aprendizaje automático** o **aprendizaje para las computadoras**.\n",
    "\n",
    "El aprendizaje para las computadoras refiere a la **probabilidad** de que éstas realicen correctamente una **tarea** que les ha sido encomendada y vayan mejorando en ella con la **experiencia** (NOTA PERSONAL: de manera análoga a cómo lo hace un organismo que interactúa con su entorno).\n",
    "\n",
    "Existen 3 tipos:\n",
    "\n",
    "1. Aprendizaje supervisado\n",
    "2. Aprendizaje no-supervisado\n",
    "3. Aprendizaje por reforzamiento"
   ]
  }
 ],
 "metadata": {
  "language_info": {
   "name": "python"
  }
 },
 "nbformat": 4,
 "nbformat_minor": 2
}
