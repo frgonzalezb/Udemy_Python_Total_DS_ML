{
 "cells": [
  {
   "cell_type": "markdown",
   "metadata": {},
   "source": [
    "# Qué es Machine Learning\n",
    "\n",
    "Subcampo de las **Ciencias de la Computación** que otorga a las computadoras la capacidad de **aprender**, sin se explícitamente programadas.\n",
    "\n",
    "Se puede traducir como **aprendizaje automático** o **aprendizaje para las computadoras**.\n",
    "\n",
    "El aprendizaje para las computadoras refiere a la **probabilidad** de que éstas realicen correctamente una **tarea** que les ha sido encomendada y vayan mejorando en ella con la **experiencia** (NOTA PERSONAL: de manera análoga a cómo lo hace un organismo que interactúa con su entorno).\n",
    "\n",
    "Existen 3 tipos:\n",
    "\n",
    "1. Aprendizaje supervisado (que se verá en esta sección)\n",
    "2. Aprendizaje no-supervisado (se verá en la sección siguiente)\n",
    "3. Aprendizaje por reforzamiento (se verá posteriormente)"
   ]
  },
  {
   "cell_type": "markdown",
   "metadata": {},
   "source": [
    "## Aprendizaje Supervisado\n",
    "\n",
    "Es un tipo de algoritmo que implica el entrenamiento de un modelo con el objetivo de predecir valores de salida, que estén basados en los datos de entrada que han sido etiquetados con salidas conocidas.\n",
    "\n",
    "En el aprendizaje supervisado:\n",
    "\n",
    "1. Se le proporcionan datos a la computadora, cuyos valores son correctos o válidos.\n",
    "\n",
    "2. La computadora estudia esos datos y sus relaciones con el fin de predecir las respuestas por sí misma para cuando se le proporcionen datos nuevos y similares.\n",
    "\n",
    "De esta forma, la computadora puede dar respuestas correctas a datos que no ha visto antes, de acuerdo con lo que ya aprendió en su entrenamiento.\n",
    "\n",
    "Dentro de sus principales usos:\n",
    "- Clasificación de imágenes\n",
    "- Reconocimiento de voz\n",
    "- Procesamiento del lenguaje natural\n",
    "- Previsión financiera\n",
    "\n",
    "Este aprendizaje se puede realizar aplicando diferentes algoritmos, tales como:\n",
    "- Regresión lineal\n",
    "- Regresión logística\n",
    "- árboles de decisión\n",
    "- Bosques alteatorios\n",
    "- máquinas de vectores de soporte\n",
    "- K vecinos más cercanos\n",
    "- Redes neuronales\n",
    "- Boosting\n",
    "\n",
    "En este curso, se verán los 4 primeros algoritmos."
   ]
  }
 ],
 "metadata": {
  "language_info": {
   "name": "python"
  }
 },
 "nbformat": 4,
 "nbformat_minor": 2
}
