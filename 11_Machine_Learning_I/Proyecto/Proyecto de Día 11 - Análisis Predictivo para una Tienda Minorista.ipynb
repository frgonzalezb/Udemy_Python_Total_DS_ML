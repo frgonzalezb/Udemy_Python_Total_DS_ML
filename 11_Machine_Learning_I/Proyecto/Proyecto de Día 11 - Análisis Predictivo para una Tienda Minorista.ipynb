{
 "cells": [
  {
   "cell_type": "markdown",
   "id": "e89c5079",
   "metadata": {},
   "source": [
    "# Proyecto de Día 11 - Análisis Predictivo para una Tienda Minorista\n",
    "\n",
    "### Objetivo\n",
    "Tu tarea consiste en desarrollar un **modelo predictivo** para una **tienda minorista** que desea pronosticar las ventas basándose en diversas características. La tienda ha estado recopilando datos sobre las ventas diarias y quiere utilizar esta información para tomar decisiones informadas sobre la *gestión de inventario*, *promociones* y *programación de personal*.\n",
    "\n",
    "Tu objetivo es construir un modelo que pueda **predecir el total de ventas para el próximo mes**, utilizando datos de los meses anteriores.\n",
    "\n",
    "### Tarea\n",
    "**1. Preparación de Datos**\n",
    "- Carga el conjunto de datos y realiza cualquier preprocesamiento necesario, como manejar **valores faltantes**, selección de **variables dependientes e independientes**, y dividir los datos en **conjuntos de entrenamiento** y **prueba**.\n",
    "\n",
    "\n",
    "**2. Análisis Exploratorio de Datos (EDA)**\n",
    "- Realiza un EDA para entender la distribución de las ventas y la relación entre las ventas y otras características. Esto podría incluir trazar las ventas a lo largo del tiempo, analizar las ventas en *festivos* vs. *no festivos* y el impacto de las promociones.\n",
    "\n",
    "**3. Selección de Modelo**\n",
    "- Utiliza el conocimiento que has adquirido sobre diferentes algoritmos para elegir el modelo más adecuado para esta tarea. Considera la **Regresión Lineal**, los **Árboles de Decisión**, y los **Bosques Aleatorios**.\n",
    "\n",
    "**4. Entrenamiento y Evaluación del Modelo**\n",
    "- Entrena tu modelo seleccionado en el conjunto de entrenamiento y evalúa su rendimiento utilizando el conjunto de prueba. Utiliza gráficos para visualizar las *ventas reales* vs. *las predichas*.\n",
    "\n",
    "**5. Conclusión**\n",
    "\n",
    "- Basado en los resultados iniciales, resume tus hallazgos y realiza recomendaciones para la tienda minorista sobre cómo utilizar el análisis predictivo para una mejor toma de decisiones.\n",
    "\n",
    "\n",
    "### Nota\n",
    "* Enfócate en la claridad y simplicidad de tu código.\n",
    "\n",
    "¡Mucha Suerte!"
   ]
  },
  {
   "cell_type": "markdown",
   "id": "ef83c97e",
   "metadata": {},
   "source": [
    "### 0. Cargar librerías"
   ]
  },
  {
   "cell_type": "code",
   "execution_count": 1,
   "id": "a0abf9ea",
   "metadata": {},
   "outputs": [],
   "source": [
    "import numpy as np\n",
    "import pandas as pd\n",
    "import seaborn as sns\n",
    "import matplotlib.pyplot as plt\n",
    "\n",
    "import sklearn.linear_model as lm\n",
    "import sklearn.tree as tr\n",
    "import sklearn.model_selection as ms\n",
    "import sklearn.preprocessing as sp\n",
    "import sklearn.ensemble as se"
   ]
  },
  {
   "cell_type": "markdown",
   "id": "f5b440f8",
   "metadata": {},
   "source": [
    "### 1. Preparación de Datos"
   ]
  },
  {
   "cell_type": "code",
   "execution_count": 2,
   "id": "cff77b39",
   "metadata": {},
   "outputs": [
    {
     "data": {
      "text/html": [
       "<div>\n",
       "<style scoped>\n",
       "    .dataframe tbody tr th:only-of-type {\n",
       "        vertical-align: middle;\n",
       "    }\n",
       "\n",
       "    .dataframe tbody tr th {\n",
       "        vertical-align: top;\n",
       "    }\n",
       "\n",
       "    .dataframe thead th {\n",
       "        text-align: right;\n",
       "    }\n",
       "</style>\n",
       "<table border=\"1\" class=\"dataframe\">\n",
       "  <thead>\n",
       "    <tr style=\"text-align: right;\">\n",
       "      <th></th>\n",
       "      <th>Fecha</th>\n",
       "      <th>DíaDeLaSemana</th>\n",
       "      <th>Promociones</th>\n",
       "      <th>Festivo</th>\n",
       "      <th>Ventas</th>\n",
       "    </tr>\n",
       "  </thead>\n",
       "  <tbody>\n",
       "    <tr>\n",
       "      <th>0</th>\n",
       "      <td>2022-01-01</td>\n",
       "      <td>6</td>\n",
       "      <td>0</td>\n",
       "      <td>0</td>\n",
       "      <td>4033</td>\n",
       "    </tr>\n",
       "    <tr>\n",
       "      <th>1</th>\n",
       "      <td>2022-01-02</td>\n",
       "      <td>7</td>\n",
       "      <td>0</td>\n",
       "      <td>1</td>\n",
       "      <td>4012</td>\n",
       "    </tr>\n",
       "    <tr>\n",
       "      <th>2</th>\n",
       "      <td>2022-01-03</td>\n",
       "      <td>1</td>\n",
       "      <td>0</td>\n",
       "      <td>0</td>\n",
       "      <td>1608</td>\n",
       "    </tr>\n",
       "    <tr>\n",
       "      <th>3</th>\n",
       "      <td>2022-01-04</td>\n",
       "      <td>2</td>\n",
       "      <td>1</td>\n",
       "      <td>0</td>\n",
       "      <td>2046</td>\n",
       "    </tr>\n",
       "    <tr>\n",
       "      <th>4</th>\n",
       "      <td>2022-01-05</td>\n",
       "      <td>3</td>\n",
       "      <td>0</td>\n",
       "      <td>0</td>\n",
       "      <td>2484</td>\n",
       "    </tr>\n",
       "    <tr>\n",
       "      <th>...</th>\n",
       "      <td>...</td>\n",
       "      <td>...</td>\n",
       "      <td>...</td>\n",
       "      <td>...</td>\n",
       "      <td>...</td>\n",
       "    </tr>\n",
       "    <tr>\n",
       "      <th>360</th>\n",
       "      <td>2022-12-27</td>\n",
       "      <td>2</td>\n",
       "      <td>1</td>\n",
       "      <td>0</td>\n",
       "      <td>2189</td>\n",
       "    </tr>\n",
       "    <tr>\n",
       "      <th>361</th>\n",
       "      <td>2022-12-28</td>\n",
       "      <td>3</td>\n",
       "      <td>0</td>\n",
       "      <td>0</td>\n",
       "      <td>2548</td>\n",
       "    </tr>\n",
       "    <tr>\n",
       "      <th>362</th>\n",
       "      <td>2022-12-29</td>\n",
       "      <td>4</td>\n",
       "      <td>0</td>\n",
       "      <td>0</td>\n",
       "      <td>3018</td>\n",
       "    </tr>\n",
       "    <tr>\n",
       "      <th>363</th>\n",
       "      <td>2022-12-30</td>\n",
       "      <td>5</td>\n",
       "      <td>0</td>\n",
       "      <td>0</td>\n",
       "      <td>3591</td>\n",
       "    </tr>\n",
       "    <tr>\n",
       "      <th>364</th>\n",
       "      <td>2022-12-31</td>\n",
       "      <td>6</td>\n",
       "      <td>1</td>\n",
       "      <td>0</td>\n",
       "      <td>4351</td>\n",
       "    </tr>\n",
       "  </tbody>\n",
       "</table>\n",
       "<p>365 rows × 5 columns</p>\n",
       "</div>"
      ],
      "text/plain": [
       "          Fecha  DíaDeLaSemana  Promociones  Festivo  Ventas\n",
       "0    2022-01-01              6            0        0    4033\n",
       "1    2022-01-02              7            0        1    4012\n",
       "2    2022-01-03              1            0        0    1608\n",
       "3    2022-01-04              2            1        0    2046\n",
       "4    2022-01-05              3            0        0    2484\n",
       "..          ...            ...          ...      ...     ...\n",
       "360  2022-12-27              2            1        0    2189\n",
       "361  2022-12-28              3            0        0    2548\n",
       "362  2022-12-29              4            0        0    3018\n",
       "363  2022-12-30              5            0        0    3591\n",
       "364  2022-12-31              6            1        0    4351\n",
       "\n",
       "[365 rows x 5 columns]"
      ]
     },
     "execution_count": 2,
     "metadata": {},
     "output_type": "execute_result"
    }
   ],
   "source": [
    "# Carga el conjunto de datos\n",
    "df: pd.DataFrame = pd.read_csv('./data/Ventas.csv')\n",
    "df"
   ]
  },
  {
   "cell_type": "code",
   "execution_count": 3,
   "id": "6319c5b8",
   "metadata": {},
   "outputs": [
    {
     "name": "stdout",
     "output_type": "stream",
     "text": [
      "<class 'pandas.core.frame.DataFrame'>\n",
      "RangeIndex: 365 entries, 0 to 364\n",
      "Data columns (total 5 columns):\n",
      " #   Column         Non-Null Count  Dtype \n",
      "---  ------         --------------  ----- \n",
      " 0   Fecha          365 non-null    object\n",
      " 1   DíaDeLaSemana  365 non-null    int64 \n",
      " 2   Promociones    365 non-null    int64 \n",
      " 3   Festivo        365 non-null    int64 \n",
      " 4   Ventas         365 non-null    int64 \n",
      "dtypes: int64(4), object(1)\n",
      "memory usage: 14.4+ KB\n"
     ]
    }
   ],
   "source": [
    "# Obtener información preliminar del DataFrame\n",
    "df.info()"
   ]
  },
  {
   "cell_type": "code",
   "execution_count": 4,
   "id": "3817844b",
   "metadata": {},
   "outputs": [
    {
     "data": {
      "text/html": [
       "<div>\n",
       "<style scoped>\n",
       "    .dataframe tbody tr th:only-of-type {\n",
       "        vertical-align: middle;\n",
       "    }\n",
       "\n",
       "    .dataframe tbody tr th {\n",
       "        vertical-align: top;\n",
       "    }\n",
       "\n",
       "    .dataframe thead th {\n",
       "        text-align: right;\n",
       "    }\n",
       "</style>\n",
       "<table border=\"1\" class=\"dataframe\">\n",
       "  <thead>\n",
       "    <tr style=\"text-align: right;\">\n",
       "      <th></th>\n",
       "      <th>DíaDeLaSemana</th>\n",
       "      <th>Promociones</th>\n",
       "      <th>Festivo</th>\n",
       "      <th>Ventas</th>\n",
       "    </tr>\n",
       "  </thead>\n",
       "  <tbody>\n",
       "    <tr>\n",
       "      <th>count</th>\n",
       "      <td>365.000000</td>\n",
       "      <td>365.000000</td>\n",
       "      <td>365.000000</td>\n",
       "      <td>365.000000</td>\n",
       "    </tr>\n",
       "    <tr>\n",
       "      <th>mean</th>\n",
       "      <td>4.005479</td>\n",
       "      <td>0.200000</td>\n",
       "      <td>0.142466</td>\n",
       "      <td>2997.219178</td>\n",
       "    </tr>\n",
       "    <tr>\n",
       "      <th>std</th>\n",
       "      <td>2.002738</td>\n",
       "      <td>0.400549</td>\n",
       "      <td>0.350007</td>\n",
       "      <td>942.096284</td>\n",
       "    </tr>\n",
       "    <tr>\n",
       "      <th>min</th>\n",
       "      <td>1.000000</td>\n",
       "      <td>0.000000</td>\n",
       "      <td>0.000000</td>\n",
       "      <td>1305.000000</td>\n",
       "    </tr>\n",
       "    <tr>\n",
       "      <th>25%</th>\n",
       "      <td>2.000000</td>\n",
       "      <td>0.000000</td>\n",
       "      <td>0.000000</td>\n",
       "      <td>2195.000000</td>\n",
       "    </tr>\n",
       "    <tr>\n",
       "      <th>50%</th>\n",
       "      <td>4.000000</td>\n",
       "      <td>0.000000</td>\n",
       "      <td>0.000000</td>\n",
       "      <td>3074.000000</td>\n",
       "    </tr>\n",
       "    <tr>\n",
       "      <th>75%</th>\n",
       "      <td>6.000000</td>\n",
       "      <td>0.000000</td>\n",
       "      <td>0.000000</td>\n",
       "      <td>3979.000000</td>\n",
       "    </tr>\n",
       "    <tr>\n",
       "      <th>max</th>\n",
       "      <td>7.000000</td>\n",
       "      <td>1.000000</td>\n",
       "      <td>1.000000</td>\n",
       "      <td>4404.000000</td>\n",
       "    </tr>\n",
       "  </tbody>\n",
       "</table>\n",
       "</div>"
      ],
      "text/plain": [
       "       DíaDeLaSemana  Promociones     Festivo       Ventas\n",
       "count     365.000000   365.000000  365.000000   365.000000\n",
       "mean        4.005479     0.200000    0.142466  2997.219178\n",
       "std         2.002738     0.400549    0.350007   942.096284\n",
       "min         1.000000     0.000000    0.000000  1305.000000\n",
       "25%         2.000000     0.000000    0.000000  2195.000000\n",
       "50%         4.000000     0.000000    0.000000  3074.000000\n",
       "75%         6.000000     0.000000    0.000000  3979.000000\n",
       "max         7.000000     1.000000    1.000000  4404.000000"
      ]
     },
     "execution_count": 4,
     "metadata": {},
     "output_type": "execute_result"
    }
   ],
   "source": [
    "# Obtener estadísticos generales del DataFrame\n",
    "df.describe()"
   ]
  },
  {
   "cell_type": "markdown",
   "id": "029edf38",
   "metadata": {},
   "source": [
    "El dataset entrega las ventas del negocio durante el año 2022. La columna `DíaDeLaSemana` indica el número del día de la semana en la que cae la fecha (`1` es lunes, `2` es martes, y así). Las columnas `Promociones` y `Festivo` parecen ser booleanos y simplemente indican si ese día hubo una promoción o fue un día festivo, respectivamente.\n",
    "\n",
    "A primera vista, el dataset **no posee nulos**, por lo que se asume que todos los valores aquí proveídos son correctos (NOTA: Ok, el 1 de enero debería ser festivo y el 2 no, pero para efectos de este proyecto se puede dejar pasar, ya que no es el foco).\n",
    "\n",
    "No obstante..."
   ]
  },
  {
   "cell_type": "code",
   "execution_count": 5,
   "id": "63e4c254",
   "metadata": {},
   "outputs": [
    {
     "name": "stdout",
     "output_type": "stream",
     "text": [
      "2022-01-01\n",
      "<class 'str'>\n"
     ]
    }
   ],
   "source": [
    "# Ver un elemento de la columna 'Fecha' y su tipo de dato\n",
    "print(df['Fecha'][0])\n",
    "print(type(df['Fecha'][0]))"
   ]
  },
  {
   "cell_type": "markdown",
   "id": "0a21a565",
   "metadata": {},
   "source": [
    "La columna `Fecha` es de tipo `str` (algo que siempre pasa al cargar el dataset desde CSV)."
   ]
  },
  {
   "cell_type": "code",
   "execution_count": 6,
   "id": "107ab18c",
   "metadata": {},
   "outputs": [
    {
     "name": "stdout",
     "output_type": "stream",
     "text": [
      "2022-01-01 00:00:00\n",
      "<class 'pandas._libs.tslibs.timestamps.Timestamp'>\n"
     ]
    }
   ],
   "source": [
    "# Cambiar el tipo de dato de la columna 'Fecha' al tipo correcto\n",
    "df['Fecha'] = pd.to_datetime(df['Fecha'], format='%Y-%m-%d', dayfirst=True)\n",
    "print(df['Fecha'][0])\n",
    "print(type(df['Fecha'][0]))"
   ]
  },
  {
   "cell_type": "markdown",
   "id": "7f919129",
   "metadata": {},
   "source": [
    "Dado que el objetivo es **predecir el total de ventas para el próximo mes**, se deduce que la columna `Ventas` será la _variable dependiente_, mientras que las demás cumplirán como _variables independientes_."
   ]
  },
  {
   "cell_type": "code",
   "execution_count": 8,
   "id": "d990a12a",
   "metadata": {},
   "outputs": [
    {
     "data": {
      "text/html": [
       "<div>\n",
       "<style scoped>\n",
       "    .dataframe tbody tr th:only-of-type {\n",
       "        vertical-align: middle;\n",
       "    }\n",
       "\n",
       "    .dataframe tbody tr th {\n",
       "        vertical-align: top;\n",
       "    }\n",
       "\n",
       "    .dataframe thead th {\n",
       "        text-align: right;\n",
       "    }\n",
       "</style>\n",
       "<table border=\"1\" class=\"dataframe\">\n",
       "  <thead>\n",
       "    <tr style=\"text-align: right;\">\n",
       "      <th></th>\n",
       "      <th>Fecha</th>\n",
       "      <th>DíaDeLaSemana</th>\n",
       "      <th>Promociones</th>\n",
       "      <th>Festivo</th>\n",
       "    </tr>\n",
       "  </thead>\n",
       "  <tbody>\n",
       "    <tr>\n",
       "      <th>0</th>\n",
       "      <td>2022-01-01</td>\n",
       "      <td>6</td>\n",
       "      <td>0</td>\n",
       "      <td>0</td>\n",
       "    </tr>\n",
       "    <tr>\n",
       "      <th>1</th>\n",
       "      <td>2022-01-02</td>\n",
       "      <td>7</td>\n",
       "      <td>0</td>\n",
       "      <td>1</td>\n",
       "    </tr>\n",
       "    <tr>\n",
       "      <th>2</th>\n",
       "      <td>2022-01-03</td>\n",
       "      <td>1</td>\n",
       "      <td>0</td>\n",
       "      <td>0</td>\n",
       "    </tr>\n",
       "    <tr>\n",
       "      <th>3</th>\n",
       "      <td>2022-01-04</td>\n",
       "      <td>2</td>\n",
       "      <td>1</td>\n",
       "      <td>0</td>\n",
       "    </tr>\n",
       "    <tr>\n",
       "      <th>4</th>\n",
       "      <td>2022-01-05</td>\n",
       "      <td>3</td>\n",
       "      <td>0</td>\n",
       "      <td>0</td>\n",
       "    </tr>\n",
       "  </tbody>\n",
       "</table>\n",
       "</div>"
      ],
      "text/plain": [
       "       Fecha  DíaDeLaSemana  Promociones  Festivo\n",
       "0 2022-01-01              6            0        0\n",
       "1 2022-01-02              7            0        1\n",
       "2 2022-01-03              1            0        0\n",
       "3 2022-01-04              2            1        0\n",
       "4 2022-01-05              3            0        0"
      ]
     },
     "execution_count": 8,
     "metadata": {},
     "output_type": "execute_result"
    }
   ],
   "source": [
    "X: pd.DataFrame = df.drop('Ventas', axis=1)\n",
    "X.head()"
   ]
  },
  {
   "cell_type": "code",
   "execution_count": 9,
   "id": "a9c00ac5",
   "metadata": {},
   "outputs": [
    {
     "data": {
      "text/html": [
       "<div>\n",
       "<style scoped>\n",
       "    .dataframe tbody tr th:only-of-type {\n",
       "        vertical-align: middle;\n",
       "    }\n",
       "\n",
       "    .dataframe tbody tr th {\n",
       "        vertical-align: top;\n",
       "    }\n",
       "\n",
       "    .dataframe thead th {\n",
       "        text-align: right;\n",
       "    }\n",
       "</style>\n",
       "<table border=\"1\" class=\"dataframe\">\n",
       "  <thead>\n",
       "    <tr style=\"text-align: right;\">\n",
       "      <th></th>\n",
       "      <th>Ventas</th>\n",
       "    </tr>\n",
       "  </thead>\n",
       "  <tbody>\n",
       "    <tr>\n",
       "      <th>0</th>\n",
       "      <td>4033</td>\n",
       "    </tr>\n",
       "    <tr>\n",
       "      <th>1</th>\n",
       "      <td>4012</td>\n",
       "    </tr>\n",
       "    <tr>\n",
       "      <th>2</th>\n",
       "      <td>1608</td>\n",
       "    </tr>\n",
       "    <tr>\n",
       "      <th>3</th>\n",
       "      <td>2046</td>\n",
       "    </tr>\n",
       "    <tr>\n",
       "      <th>4</th>\n",
       "      <td>2484</td>\n",
       "    </tr>\n",
       "  </tbody>\n",
       "</table>\n",
       "</div>"
      ],
      "text/plain": [
       "   Ventas\n",
       "0    4033\n",
       "1    4012\n",
       "2    1608\n",
       "3    2046\n",
       "4    2484"
      ]
     },
     "execution_count": 9,
     "metadata": {},
     "output_type": "execute_result"
    }
   ],
   "source": [
    "y: pd.DataFrame = df[['Ventas']]\n",
    "y.head()"
   ]
  },
  {
   "cell_type": "code",
   "execution_count": 10,
   "id": "6219368c",
   "metadata": {},
   "outputs": [],
   "source": [
    "# Dividir los datos en conjuntos de entrenamiento y prueba\n",
    "X_train, X_test, y_train, y_test = ms.train_test_split(\n",
    "    X, y, test_size=0.2, random_state=42\n",
    ")"
   ]
  }
 ],
 "metadata": {
  "kernelspec": {
   "display_name": "base",
   "language": "python",
   "name": "python3"
  },
  "language_info": {
   "codemirror_mode": {
    "name": "ipython",
    "version": 3
   },
   "file_extension": ".py",
   "mimetype": "text/x-python",
   "name": "python",
   "nbconvert_exporter": "python",
   "pygments_lexer": "ipython3",
   "version": "3.12.4"
  }
 },
 "nbformat": 4,
 "nbformat_minor": 5
}
