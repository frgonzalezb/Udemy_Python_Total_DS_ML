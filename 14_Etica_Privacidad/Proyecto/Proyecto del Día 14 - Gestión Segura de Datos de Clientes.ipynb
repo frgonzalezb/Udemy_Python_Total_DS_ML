{
 "cells": [
  {
   "cell_type": "markdown",
   "id": "0c48c59c",
   "metadata": {},
   "source": [
    "# Proyecto del Día 14 - Gestión Segura de Datos de Clientes\n",
    "\n",
    "Este notebook implementa un sistema básico de gestión y análisis de datos de clientes, aplicando técnicas de pseudonimización, anonimización y balanceo de datos.\n",
    "\n",
    "\n",
    "## Objetivo\n",
    "El proyecto consiste en desarrollar un sistema de gestión y análisis de datos de clientes que implemente técnicas de pseudonimización, anonimización y balanceo de datos para proteger la privacidad de los usuarios y asegurar un análisis equitativo.\n",
    "\n",
    "\n",
    "## Consignas del Proyecto\n",
    "1. Cargar los datos de clientes provistos en un archivo CSV.\n",
    "2. Aplicar técnicas de anonimización al campo `direccion`, `edad` y `salario` para proteger la identidad de los clientes.\n",
    "3. Aplicar técnicas de pseudonimización al campo `nombre`.\n",
    "4. Implementar una función de balanceo de datos para asegurar la representación equitativa de diversas categorías en el análisis posterior.\n",
    "5. Realizar un análisis simple de los datos para identificar tendencias o patrones que podrían ser útiles para decisiones de negocios o marketing.\n",
    "\n",
    "\n",
    "Este proyecto te permitirá aplicar prácticas esenciales de privacidad de datos y técnicas de manipulación de datos en un entorno práctico, preparándote para desafíos similares en entornos profesionales.\n",
    "\n",
    "¡Mucha suerte y que te diviertas!"
   ]
  },
  {
   "cell_type": "code",
   "execution_count": 61,
   "id": "288a2768",
   "metadata": {},
   "outputs": [],
   "source": [
    "import os\n",
    "import uuid\n",
    "\n",
    "import numpy as np\n",
    "import pandas as pd\n",
    "import matplotlib.pyplot as plt\n",
    "import seaborn as sns\n",
    "\n",
    "from sklearn.model_selection import train_test_split\n",
    "from sklearn.utils import resample\n",
    "\n",
    "from dotenv import load_dotenv"
   ]
  },
  {
   "cell_type": "code",
   "execution_count": 62,
   "id": "4e33ba1b",
   "metadata": {},
   "outputs": [
    {
     "data": {
      "text/plain": [
       "True"
      ]
     },
     "execution_count": 62,
     "metadata": {},
     "output_type": "execute_result"
    }
   ],
   "source": [
    "load_dotenv('.env')"
   ]
  },
  {
   "cell_type": "markdown",
   "id": "86e45cf1",
   "metadata": {},
   "source": [
    "### 1. Cargar los datos de clientes provistos en un archivo CSV."
   ]
  },
  {
   "cell_type": "code",
   "execution_count": 63,
   "id": "63b540af",
   "metadata": {},
   "outputs": [],
   "source": [
    "df: pd.DataFrame = pd.read_csv(os.environ['PROJECT_DATA'])"
   ]
  },
  {
   "cell_type": "markdown",
   "id": "e2d9962c",
   "metadata": {},
   "source": [
    "### 2. Aplicar técnicas de anonimización al campo `direccion`, `edad` y `salario` para proteger la identidad de los clientes."
   ]
  },
  {
   "cell_type": "code",
   "execution_count": 64,
   "id": "cd65bda3",
   "metadata": {},
   "outputs": [],
   "source": [
    "# Anonimizar el campo dirección por simple supresión\n",
    "# (asumiendo que no es relevante para el estudio)\n",
    "df.drop(['direccion'], axis=1, inplace=True)"
   ]
  },
  {
   "cell_type": "code",
   "execution_count": 65,
   "id": "971d9698",
   "metadata": {},
   "outputs": [],
   "source": [
    "# Anonimizar el campo edad por redondeo o truncado\n",
    "# en este caso, escogemos redondear al múltiplo de 10 más cercano\n",
    "df['edad'] = df['edad'].round(-1)"
   ]
  },
  {
   "cell_type": "code",
   "execution_count": 66,
   "id": "ac349857",
   "metadata": {},
   "outputs": [],
   "source": [
    "# Anonimizar el campo salario con ruido aleatorio\n",
    "noise: np.ndarray = np.random.normal(0, 10000, size=df['salario'].shape)\n",
    "df['salario'] += noise"
   ]
  },
  {
   "cell_type": "markdown",
   "id": "6edbb926",
   "metadata": {},
   "source": [
    "### 3. Aplicar técnicas de pseudonimización al campo `nombre`."
   ]
  },
  {
   "cell_type": "code",
   "execution_count": 67,
   "id": "adf43c91",
   "metadata": {},
   "outputs": [],
   "source": [
    "# Pseudonomización de los valores del campo nombre\n",
    "# usando un identificador único universal (UUID) para cada valor\n",
    "uuid_container: list[str] = []\n",
    "\n",
    "for _ in range(len(df)):\n",
    "    uuid_container.append(str(uuid.uuid4()))\n",
    "\n",
    "df['uuid'] = uuid_container\n",
    "df.drop(['nombre'], axis=1, inplace=True)"
   ]
  },
  {
   "cell_type": "markdown",
   "id": "8722aadc",
   "metadata": {},
   "source": [
    "A partir de aquí, ya parece seguro mostrar algo de `df` para los siguientes pasos. 😁"
   ]
  },
  {
   "cell_type": "code",
   "execution_count": 68,
   "id": "547a814c",
   "metadata": {},
   "outputs": [
    {
     "data": {
      "text/html": [
       "<div>\n",
       "<style scoped>\n",
       "    .dataframe tbody tr th:only-of-type {\n",
       "        vertical-align: middle;\n",
       "    }\n",
       "\n",
       "    .dataframe tbody tr th {\n",
       "        vertical-align: top;\n",
       "    }\n",
       "\n",
       "    .dataframe thead th {\n",
       "        text-align: right;\n",
       "    }\n",
       "</style>\n",
       "<table border=\"1\" class=\"dataframe\">\n",
       "  <thead>\n",
       "    <tr style=\"text-align: right;\">\n",
       "      <th></th>\n",
       "      <th>edad</th>\n",
       "      <th>categoria</th>\n",
       "      <th>salario</th>\n",
       "      <th>uuid</th>\n",
       "    </tr>\n",
       "  </thead>\n",
       "  <tbody>\n",
       "    <tr>\n",
       "      <th>0</th>\n",
       "      <td>60</td>\n",
       "      <td>0</td>\n",
       "      <td>70256.329588</td>\n",
       "      <td>3bfee0de-48c0-43c2-90c5-e05d416cea7a</td>\n",
       "    </tr>\n",
       "    <tr>\n",
       "      <th>1</th>\n",
       "      <td>60</td>\n",
       "      <td>1</td>\n",
       "      <td>52334.463852</td>\n",
       "      <td>b129d5d8-5d52-40cc-9de7-81d6b3f3a41f</td>\n",
       "    </tr>\n",
       "    <tr>\n",
       "      <th>2</th>\n",
       "      <td>20</td>\n",
       "      <td>0</td>\n",
       "      <td>40641.837759</td>\n",
       "      <td>014038f7-3a14-4191-9321-453ee603032a</td>\n",
       "    </tr>\n",
       "    <tr>\n",
       "      <th>3</th>\n",
       "      <td>20</td>\n",
       "      <td>1</td>\n",
       "      <td>36917.953170</td>\n",
       "      <td>e416fecd-fd9b-4c89-8ee7-571893e79f0b</td>\n",
       "    </tr>\n",
       "    <tr>\n",
       "      <th>4</th>\n",
       "      <td>20</td>\n",
       "      <td>1</td>\n",
       "      <td>38411.666258</td>\n",
       "      <td>3b23d6b8-2de8-4297-90d6-376ddfda8328</td>\n",
       "    </tr>\n",
       "  </tbody>\n",
       "</table>\n",
       "</div>"
      ],
      "text/plain": [
       "   edad  categoria       salario                                  uuid\n",
       "0    60          0  70256.329588  3bfee0de-48c0-43c2-90c5-e05d416cea7a\n",
       "1    60          1  52334.463852  b129d5d8-5d52-40cc-9de7-81d6b3f3a41f\n",
       "2    20          0  40641.837759  014038f7-3a14-4191-9321-453ee603032a\n",
       "3    20          1  36917.953170  e416fecd-fd9b-4c89-8ee7-571893e79f0b\n",
       "4    20          1  38411.666258  3b23d6b8-2de8-4297-90d6-376ddfda8328"
      ]
     },
     "execution_count": 68,
     "metadata": {},
     "output_type": "execute_result"
    }
   ],
   "source": [
    "df.head()"
   ]
  },
  {
   "cell_type": "code",
   "execution_count": 69,
   "id": "fca245fc",
   "metadata": {},
   "outputs": [
    {
     "name": "stdout",
     "output_type": "stream",
     "text": [
      "<class 'pandas.core.frame.DataFrame'>\n",
      "RangeIndex: 200 entries, 0 to 199\n",
      "Data columns (total 4 columns):\n",
      " #   Column     Non-Null Count  Dtype  \n",
      "---  ------     --------------  -----  \n",
      " 0   edad       200 non-null    int64  \n",
      " 1   categoria  200 non-null    int64  \n",
      " 2   salario    200 non-null    float64\n",
      " 3   uuid       200 non-null    object \n",
      "dtypes: float64(1), int64(2), object(1)\n",
      "memory usage: 6.4+ KB\n"
     ]
    }
   ],
   "source": [
    "df.info()"
   ]
  },
  {
   "cell_type": "code",
   "execution_count": 70,
   "id": "1d87beaa",
   "metadata": {},
   "outputs": [
    {
     "data": {
      "text/html": [
       "<div>\n",
       "<style scoped>\n",
       "    .dataframe tbody tr th:only-of-type {\n",
       "        vertical-align: middle;\n",
       "    }\n",
       "\n",
       "    .dataframe tbody tr th {\n",
       "        vertical-align: top;\n",
       "    }\n",
       "\n",
       "    .dataframe thead th {\n",
       "        text-align: right;\n",
       "    }\n",
       "</style>\n",
       "<table border=\"1\" class=\"dataframe\">\n",
       "  <thead>\n",
       "    <tr style=\"text-align: right;\">\n",
       "      <th></th>\n",
       "      <th>edad</th>\n",
       "      <th>categoria</th>\n",
       "      <th>salario</th>\n",
       "    </tr>\n",
       "  </thead>\n",
       "  <tbody>\n",
       "    <tr>\n",
       "      <th>count</th>\n",
       "      <td>200.000000</td>\n",
       "      <td>200.000000</td>\n",
       "      <td>200.000000</td>\n",
       "    </tr>\n",
       "    <tr>\n",
       "      <th>mean</th>\n",
       "      <td>42.550000</td>\n",
       "      <td>0.570000</td>\n",
       "      <td>48645.328904</td>\n",
       "    </tr>\n",
       "    <tr>\n",
       "      <th>std</th>\n",
       "      <td>15.977292</td>\n",
       "      <td>0.496318</td>\n",
       "      <td>15246.600128</td>\n",
       "    </tr>\n",
       "    <tr>\n",
       "      <th>min</th>\n",
       "      <td>20.000000</td>\n",
       "      <td>0.000000</td>\n",
       "      <td>9180.581526</td>\n",
       "    </tr>\n",
       "    <tr>\n",
       "      <th>25%</th>\n",
       "      <td>30.000000</td>\n",
       "      <td>0.000000</td>\n",
       "      <td>38179.143209</td>\n",
       "    </tr>\n",
       "    <tr>\n",
       "      <th>50%</th>\n",
       "      <td>40.000000</td>\n",
       "      <td>1.000000</td>\n",
       "      <td>48680.111241</td>\n",
       "    </tr>\n",
       "    <tr>\n",
       "      <th>75%</th>\n",
       "      <td>60.000000</td>\n",
       "      <td>1.000000</td>\n",
       "      <td>58087.509227</td>\n",
       "    </tr>\n",
       "    <tr>\n",
       "      <th>max</th>\n",
       "      <td>70.000000</td>\n",
       "      <td>1.000000</td>\n",
       "      <td>96509.811250</td>\n",
       "    </tr>\n",
       "  </tbody>\n",
       "</table>\n",
       "</div>"
      ],
      "text/plain": [
       "             edad   categoria       salario\n",
       "count  200.000000  200.000000    200.000000\n",
       "mean    42.550000    0.570000  48645.328904\n",
       "std     15.977292    0.496318  15246.600128\n",
       "min     20.000000    0.000000   9180.581526\n",
       "25%     30.000000    0.000000  38179.143209\n",
       "50%     40.000000    1.000000  48680.111241\n",
       "75%     60.000000    1.000000  58087.509227\n",
       "max     70.000000    1.000000  96509.811250"
      ]
     },
     "execution_count": 70,
     "metadata": {},
     "output_type": "execute_result"
    }
   ],
   "source": [
    "df.describe()"
   ]
  },
  {
   "cell_type": "markdown",
   "id": "dff0868d",
   "metadata": {},
   "source": [
    "### 4. Implementar una función de balanceo de datos para asegurar la representación equitativa de diversas categorías en el análisis posterior."
   ]
  },
  {
   "cell_type": "markdown",
   "id": "88e16bbb",
   "metadata": {},
   "source": [
    "Preliminarmente, los datos estadísticos de `df.describe()` parecen indicar que:\n",
    "\n",
    "- Existen sólo dos categorías: `0` y `1`\n",
    "\n",
    "- Hay más instancias para la segunda categoría que para la primera, tomando como referencia la media de `0.57`\n",
    "\n",
    "No obstante, en honor a la rigurosidad, conviene verificar estos puntos antes de proceder con el objetivo de este paso."
   ]
  },
  {
   "cell_type": "code",
   "execution_count": 71,
   "id": "d9af3a04",
   "metadata": {},
   "outputs": [
    {
     "data": {
      "text/plain": [
       "array([0, 1], dtype=int64)"
      ]
     },
     "execution_count": 71,
     "metadata": {},
     "output_type": "execute_result"
    }
   ],
   "source": [
    "df['categoria'].unique()"
   ]
  },
  {
   "cell_type": "markdown",
   "id": "98531dad",
   "metadata": {},
   "source": [
    "Efectivamente, existen sólo dos categorías: `0` y `1`. Veamos la proporción exacta de ellas en el conjunto `df`:"
   ]
  },
  {
   "cell_type": "code",
   "execution_count": 72,
   "id": "cab583f2",
   "metadata": {},
   "outputs": [
    {
     "name": "stdout",
     "output_type": "stream",
     "text": [
      "Instancias de categoría 0: 86\n",
      "Instancias de categoría 1: 114\n"
     ]
    }
   ],
   "source": [
    "category_0: int = (df['categoria'] == 0).sum()\n",
    "category_1: int = (df['categoria'] == 1).sum()\n",
    "\n",
    "print(f'Instancias de categoría 0: {category_0}')\n",
    "print(f'Instancias de categoría 1: {category_1}')"
   ]
  },
  {
   "cell_type": "markdown",
   "id": "aeef1c93",
   "metadata": {},
   "source": [
    "Efectivamente, se verifica que hay un desbalance en la repartición de instancias entre categorías en el conjunto de datos, en una razón de 86:114 para las categorías `0` y `1`, respectivamente."
   ]
  },
  {
   "cell_type": "markdown",
   "id": "e9823c06",
   "metadata": {},
   "source": [
    "Por lo tanto, procederemos con las operaciones para asegurar la representación equitativa de ambas categorías."
   ]
  },
  {
   "cell_type": "code",
   "execution_count": 73,
   "id": "0ee5516b",
   "metadata": {},
   "outputs": [
    {
     "name": "stdout",
     "output_type": "stream",
     "text": [
      "Instancias de categoría 0: 114\n",
      "Instancias de categoría 1: 114\n"
     ]
    }
   ],
   "source": [
    "grouped_df = df.groupby('categoria')\n",
    "\n",
    "balanced_data: pd.DataFrame = pd.DataFrame()\n",
    "\n",
    "for name, group in grouped_df:\n",
    "    balanced_group = resample(\n",
    "        group,\n",
    "        replace=True,\n",
    "        n_samples=114,\n",
    "        random_state=123\n",
    "    )\n",
    "    balanced_data = pd.concat([balanced_data, balanced_group])\n",
    "\n",
    "category_0 = (balanced_data['categoria'] == 0).sum()\n",
    "category_1 = (balanced_data['categoria'] == 1).sum()\n",
    "\n",
    "print(f'Instancias de categoría 0: {category_0}')\n",
    "print(f'Instancias de categoría 1: {category_1}')"
   ]
  },
  {
   "cell_type": "markdown",
   "id": "def36aa3",
   "metadata": {},
   "source": [
    "Las instancias de ambas categorías se han igualado exitosamente. Veamos las características de `balanced_data`:"
   ]
  },
  {
   "cell_type": "code",
   "execution_count": 74,
   "id": "4d2f5694",
   "metadata": {},
   "outputs": [
    {
     "name": "stdout",
     "output_type": "stream",
     "text": [
      "<class 'pandas.core.frame.DataFrame'>\n",
      "Index: 228 entries, 158 to 11\n",
      "Data columns (total 4 columns):\n",
      " #   Column     Non-Null Count  Dtype  \n",
      "---  ------     --------------  -----  \n",
      " 0   edad       228 non-null    int64  \n",
      " 1   categoria  228 non-null    int64  \n",
      " 2   salario    228 non-null    float64\n",
      " 3   uuid       228 non-null    object \n",
      "dtypes: float64(1), int64(2), object(1)\n",
      "memory usage: 8.9+ KB\n"
     ]
    }
   ],
   "source": [
    "balanced_data.info()"
   ]
  },
  {
   "cell_type": "markdown",
   "id": "61aae6b3",
   "metadata": {},
   "source": [
    "### 5. Realizar un análisis simple de los datos para identificar tendencias o patrones que podrían ser útiles para decisiones de negocios o marketing."
   ]
  },
  {
   "cell_type": "markdown",
   "id": "429b0a34",
   "metadata": {},
   "source": [
    "#### Relación entre categoría y edad"
   ]
  },
  {
   "cell_type": "code",
   "execution_count": 82,
   "id": "9a07ed10",
   "metadata": {},
   "outputs": [
    {
     "data": {
      "image/png": "[encoded data removed]",
      "text/plain": [
       "<Figure size 576.986x500 with 1 Axes>"
      ]
     },
     "metadata": {},
     "output_type": "display_data"
    }
   ],
   "source": [
    "categoria_edad: sns.FacetGrid = sns.catplot(\n",
    "    data=balanced_data,\n",
    "    x='categoria',\n",
    "    y='edad',\n",
    "    kind='box',\n",
    "    hue='categoria'\n",
    ")\n",
    "categoria_edad.set_axis_labels('Categoria', 'Edad')\n",
    "plt.title('Relación entre categoría y edad', pad=12)\n",
    "plt.grid(True, linestyle='-.')\n",
    "plt.show()"
   ]
  },
  {
   "cell_type": "markdown",
   "id": "66fc6294",
   "metadata": {},
   "source": [
    "No se observan diferencias en la relación entre categorías y edades. Ambos comparten un rango de personas de entre aprox. 20 y 70 años de edad, con una distribución idéntica entre sus cuartiles, y compartiendo la mediana alrededor de los 40 años de edad.\n",
    "\n",
    "De todas maneras, sin tener en cuenta la distinción por categoría, sí se puede tener presente que el 50% de los clientes más jóvenes se encuentra en un rango de edad más acotado, de entre los 20 y los 40 años de edad aproximadamente (2 décadas), mientras que el 50% restante de los clientes abarca un rango de edad más amplio, de entre los 40 y los 70 años de edad aproximadamente (3 décadas)."
   ]
  },
  {
   "cell_type": "markdown",
   "id": "c20c4ac2",
   "metadata": {},
   "source": [
    "#### Relación entre categoría y salario."
   ]
  },
  {
   "cell_type": "code",
   "execution_count": 109,
   "id": "219592e2",
   "metadata": {},
   "outputs": [
    {
     "data": {
      "image/png": "[encoded data removed]",
      "text/plain": [
       "<Figure size 576.986x500 with 1 Axes>"
      ]
     },
     "metadata": {},
     "output_type": "display_data"
    }
   ],
   "source": [
    "categoria_salario: sns.FacetGrid = sns.catplot(\n",
    "    data=balanced_data,\n",
    "    x='categoria',\n",
    "    y='salario',\n",
    "    kind='box',\n",
    "    hue='categoria'\n",
    ")\n",
    "categoria_salario.set_axis_labels('Categoria', 'Salario')\n",
    "plt.title('Relación entre categoría y salario', pad=12)\n",
    "plt.grid(True, linestyle='-.')\n",
    "plt.show()"
   ]
  },
  {
   "cell_type": "markdown",
   "id": "9ee95b33",
   "metadata": {},
   "source": [
    "El rango completo de salarios entre las categorías `0` y `1` es muy similar. No obstante, se aprecian diferencias entre los rangos intercuartílicos de ambas, donde se observa que:\n",
    "\n",
    "- el 50% intercuartílico de los clientes de la categoría `0` poseen salarios superiores, de entre aproximadamente $40.000 y los $60.000, con la mediana de la categoría entre los $50.000 y los $60.000 y teniendo instancias atípicas que llegan a un salario entre los $90.000 y los $100.000,\n",
    "\n",
    "- mientras que el 50% intercuartílico de los clientes de la categoría `1` poseen salarios inferiores, donde el segundo cuartil tiene un salario bajo los $40.000, y el tercer cuartil, bajo los $60.000, con la mediana de la categoría entre los $40.000 y los $50.000.\n",
    "\n",
    "Por ende, los clientes de la categoría `0` poseen mayor poder de compra que los de la categoría `1`."
   ]
  }
 ],
 "metadata": {
  "kernelspec": {
   "display_name": "base",
   "language": "python",
   "name": "python3"
  },
  "language_info": {
   "codemirror_mode": {
    "name": "ipython",
    "version": 3
   },
   "file_extension": ".py",
   "mimetype": "text/x-python",
   "name": "python",
   "nbconvert_exporter": "python",
   "pygments_lexer": "ipython3",
   "version": "3.12.4"
  }
 },
 "nbformat": 4,
 "nbformat_minor": 5
}
