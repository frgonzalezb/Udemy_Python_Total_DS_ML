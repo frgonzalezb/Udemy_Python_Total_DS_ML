{
 "cells": [
  {
   "cell_type": "markdown",
   "id": "0c48c59c",
   "metadata": {},
   "source": [
    "# Proyecto del Día 14 - Gestión Segura de Datos de Clientes\n",
    "\n",
    "Este notebook implementa un sistema básico de gestión y análisis de datos de clientes, aplicando técnicas de pseudonimización, anonimización y balanceo de datos.\n",
    "\n",
    "\n",
    "## Objetivo\n",
    "El proyecto consiste en desarrollar un sistema de gestión y análisis de datos de clientes que implemente técnicas de pseudonimización, anonimización y balanceo de datos para proteger la privacidad de los usuarios y asegurar un análisis equitativo.\n",
    "\n",
    "\n",
    "## Consignas del Proyecto\n",
    "1. Cargar los datos de clientes provistos en un archivo CSV.\n",
    "2. Aplicar técnicas de anonimización al campo `direccion`, `edad` y `salario` para proteger la identidad de los clientes.\n",
    "3. Aplicar técnicas de pseudonimización al campo `nombre`.\n",
    "4. Implementar una función de balanceo de datos para asegurar la representación equitativa de diversas categorías en el análisis posterior.\n",
    "5. Realizar un análisis simple de los datos para identificar tendencias o patrones que podrían ser útiles para decisiones de negocios o marketing.\n",
    "\n",
    "\n",
    "Este proyecto te permitirá aplicar prácticas esenciales de privacidad de datos y técnicas de manipulación de datos en un entorno práctico, preparándote para desafíos similares en entornos profesionales.\n",
    "\n",
    "¡Mucha suerte y que te diviertas!"
   ]
  },
  {
   "cell_type": "code",
   "execution_count": 1,
   "id": "288a2768",
   "metadata": {},
   "outputs": [],
   "source": [
    "import os\n",
    "import uuid\n",
    "\n",
    "import numpy as np\n",
    "import pandas as pd\n",
    "import matplotlib.pyplot as plt\n",
    "import seaborn as sns\n",
    "\n",
    "from sklearn.model_selection import train_test_split\n",
    "from sklearn.utils import resample\n",
    "\n",
    "from dotenv import load_dotenv"
   ]
  },
  {
   "cell_type": "code",
   "execution_count": 2,
   "id": "4e33ba1b",
   "metadata": {},
   "outputs": [],
   "source": [
    "env_path: str = '.env'\n",
    "if not load_dotenv(env_path):\n",
    "    raise FileNotFoundError(f'No se ha encontrado el archivo {env_path}')\n",
    "else:\n",
    "    load_dotenv(env_path)"
   ]
  },
  {
   "cell_type": "markdown",
   "id": "86e45cf1",
   "metadata": {},
   "source": [
    "### 1. Cargar los datos de clientes provistos en un archivo CSV."
   ]
  },
  {
   "cell_type": "code",
   "execution_count": 22,
   "id": "63b540af",
   "metadata": {},
   "outputs": [],
   "source": [
    "try:\n",
    "    env_key: str = 'PROJECT_DATA'\n",
    "    df: pd.DataFrame = pd.read_csv(os.environ[env_key])\n",
    "except:\n",
    "    print(\n",
    "        f'La clave {env_key} no existe en el archivo {env_path}, '\n",
    "        'o su valor es incorrecto.'\n",
    "    )"
   ]
  },
  {
   "cell_type": "markdown",
   "id": "e2d9962c",
   "metadata": {},
   "source": [
    "### 2. Aplicar técnicas de anonimización al campo `direccion`, `edad` y `salario` para proteger la identidad de los clientes."
   ]
  },
  {
   "cell_type": "code",
   "execution_count": 23,
   "id": "cd65bda3",
   "metadata": {},
   "outputs": [],
   "source": [
    "# Anonimizar el campo dirección por simple supresión\n",
    "# (asumiendo que no es relevante para el estudio)\n",
    "df.drop(['direccion'], axis=1, inplace=True)"
   ]
  },
  {
   "cell_type": "code",
   "execution_count": 24,
   "id": "c9b64ae5",
   "metadata": {},
   "outputs": [],
   "source": [
    "# Anonimizar el campo edad, transformandolo en un campo categórico\n",
    "# Las edades pasan a ser rangos etáreos de base 10 (e.g. 20-29)\n",
    "# mediante truncado\n",
    "df['rango etareo'] = ''\n",
    "decades: pd.Series = (df['edad'] // 10) * 10\n",
    "for i, decade in enumerate(decades):\n",
    "    df.loc[i, 'rango etareo'] = f'{decade} - {decade + 9}'\n",
    "df.drop(['edad'], axis=1, inplace=True)"
   ]
  },
  {
   "cell_type": "code",
   "execution_count": 25,
   "id": "ac349857",
   "metadata": {},
   "outputs": [],
   "source": [
    "# Anonimizar el campo salario con ruido aleatorio\n",
    "noise: np.ndarray = np.random.normal(0, 10000, size=df['salario'].shape)\n",
    "df['salario'] += noise"
   ]
  },
  {
   "cell_type": "markdown",
   "id": "6edbb926",
   "metadata": {},
   "source": [
    "### 3. Aplicar técnicas de pseudonimización al campo `nombre`."
   ]
  },
  {
   "cell_type": "code",
   "execution_count": 26,
   "id": "adf43c91",
   "metadata": {},
   "outputs": [],
   "source": [
    "# Pseudonomización de los valores del campo nombre\n",
    "# usando un identificador único universal (UUID) para cada valor\n",
    "uuid_container: list[str] = []\n",
    "\n",
    "for _ in range(len(df)):\n",
    "    uuid_container.append(str(uuid.uuid4()))\n",
    "\n",
    "df['uuid'] = uuid_container\n",
    "df.drop(['nombre'], axis=1, inplace=True)"
   ]
  },
  {
   "cell_type": "markdown",
   "id": "8722aadc",
   "metadata": {},
   "source": [
    "A partir de aquí, ya parece seguro mostrar algo de `df` para los siguientes pasos. 😁"
   ]
  },
  {
   "cell_type": "code",
   "execution_count": 27,
   "id": "547a814c",
   "metadata": {},
   "outputs": [
    {
     "data": {
      "text/html": [
       "<div>\n",
       "<style scoped>\n",
       "    .dataframe tbody tr th:only-of-type {\n",
       "        vertical-align: middle;\n",
       "    }\n",
       "\n",
       "    .dataframe tbody tr th {\n",
       "        vertical-align: top;\n",
       "    }\n",
       "\n",
       "    .dataframe thead th {\n",
       "        text-align: right;\n",
       "    }\n",
       "</style>\n",
       "<table border=\"1\" class=\"dataframe\">\n",
       "  <thead>\n",
       "    <tr style=\"text-align: right;\">\n",
       "      <th></th>\n",
       "      <th>categoria</th>\n",
       "      <th>salario</th>\n",
       "      <th>rango etareo</th>\n",
       "      <th>uuid</th>\n",
       "    </tr>\n",
       "  </thead>\n",
       "  <tbody>\n",
       "    <tr>\n",
       "      <th>0</th>\n",
       "      <td>0</td>\n",
       "      <td>73659.764942</td>\n",
       "      <td>60 - 69</td>\n",
       "      <td>aafefa13-2923-4345-aea5-8abe4a79c42e</td>\n",
       "    </tr>\n",
       "    <tr>\n",
       "      <th>1</th>\n",
       "      <td>1</td>\n",
       "      <td>43291.981685</td>\n",
       "      <td>60 - 69</td>\n",
       "      <td>1a425dae-a514-4a1f-8256-4b1b9c698d4e</td>\n",
       "    </tr>\n",
       "    <tr>\n",
       "      <th>2</th>\n",
       "      <td>0</td>\n",
       "      <td>58721.960620</td>\n",
       "      <td>10 - 19</td>\n",
       "      <td>fb4e6ed0-ef28-4fa0-95a3-538d25619dc2</td>\n",
       "    </tr>\n",
       "    <tr>\n",
       "      <th>3</th>\n",
       "      <td>1</td>\n",
       "      <td>17776.307702</td>\n",
       "      <td>20 - 29</td>\n",
       "      <td>cc3ed20a-0557-4e05-846c-e0a3706ce1b0</td>\n",
       "    </tr>\n",
       "    <tr>\n",
       "      <th>4</th>\n",
       "      <td>1</td>\n",
       "      <td>26248.709763</td>\n",
       "      <td>20 - 29</td>\n",
       "      <td>0fc5d83c-1838-4573-ad7d-1a8e21f6dca5</td>\n",
       "    </tr>\n",
       "  </tbody>\n",
       "</table>\n",
       "</div>"
      ],
      "text/plain": [
       "   categoria       salario rango etareo                                  uuid\n",
       "0          0  73659.764942      60 - 69  aafefa13-2923-4345-aea5-8abe4a79c42e\n",
       "1          1  43291.981685      60 - 69  1a425dae-a514-4a1f-8256-4b1b9c698d4e\n",
       "2          0  58721.960620      10 - 19  fb4e6ed0-ef28-4fa0-95a3-538d25619dc2\n",
       "3          1  17776.307702      20 - 29  cc3ed20a-0557-4e05-846c-e0a3706ce1b0\n",
       "4          1  26248.709763      20 - 29  0fc5d83c-1838-4573-ad7d-1a8e21f6dca5"
      ]
     },
     "execution_count": 27,
     "metadata": {},
     "output_type": "execute_result"
    }
   ],
   "source": [
    "df.head()"
   ]
  },
  {
   "cell_type": "code",
   "execution_count": 28,
   "id": "fca245fc",
   "metadata": {},
   "outputs": [
    {
     "name": "stdout",
     "output_type": "stream",
     "text": [
      "<class 'pandas.core.frame.DataFrame'>\n",
      "RangeIndex: 200 entries, 0 to 199\n",
      "Data columns (total 4 columns):\n",
      " #   Column        Non-Null Count  Dtype  \n",
      "---  ------        --------------  -----  \n",
      " 0   categoria     200 non-null    int64  \n",
      " 1   salario       200 non-null    float64\n",
      " 2   rango etareo  200 non-null    object \n",
      " 3   uuid          200 non-null    object \n",
      "dtypes: float64(1), int64(1), object(2)\n",
      "memory usage: 6.4+ KB\n"
     ]
    }
   ],
   "source": [
    "df.info()"
   ]
  },
  {
   "cell_type": "code",
   "execution_count": 29,
   "id": "1d87beaa",
   "metadata": {},
   "outputs": [
    {
     "data": {
      "text/html": [
       "<div>\n",
       "<style scoped>\n",
       "    .dataframe tbody tr th:only-of-type {\n",
       "        vertical-align: middle;\n",
       "    }\n",
       "\n",
       "    .dataframe tbody tr th {\n",
       "        vertical-align: top;\n",
       "    }\n",
       "\n",
       "    .dataframe thead th {\n",
       "        text-align: right;\n",
       "    }\n",
       "</style>\n",
       "<table border=\"1\" class=\"dataframe\">\n",
       "  <thead>\n",
       "    <tr style=\"text-align: right;\">\n",
       "      <th></th>\n",
       "      <th>categoria</th>\n",
       "      <th>salario</th>\n",
       "    </tr>\n",
       "  </thead>\n",
       "  <tbody>\n",
       "    <tr>\n",
       "      <th>count</th>\n",
       "      <td>200.000000</td>\n",
       "      <td>200.000000</td>\n",
       "    </tr>\n",
       "    <tr>\n",
       "      <th>mean</th>\n",
       "      <td>0.570000</td>\n",
       "      <td>48759.916212</td>\n",
       "    </tr>\n",
       "    <tr>\n",
       "      <th>std</th>\n",
       "      <td>0.496318</td>\n",
       "      <td>15598.551538</td>\n",
       "    </tr>\n",
       "    <tr>\n",
       "      <th>min</th>\n",
       "      <td>0.000000</td>\n",
       "      <td>9986.180656</td>\n",
       "    </tr>\n",
       "    <tr>\n",
       "      <th>25%</th>\n",
       "      <td>0.000000</td>\n",
       "      <td>39436.152716</td>\n",
       "    </tr>\n",
       "    <tr>\n",
       "      <th>50%</th>\n",
       "      <td>1.000000</td>\n",
       "      <td>50697.430551</td>\n",
       "    </tr>\n",
       "    <tr>\n",
       "      <th>75%</th>\n",
       "      <td>1.000000</td>\n",
       "      <td>59081.731269</td>\n",
       "    </tr>\n",
       "    <tr>\n",
       "      <th>max</th>\n",
       "      <td>1.000000</td>\n",
       "      <td>86834.899123</td>\n",
       "    </tr>\n",
       "  </tbody>\n",
       "</table>\n",
       "</div>"
      ],
      "text/plain": [
       "        categoria       salario\n",
       "count  200.000000    200.000000\n",
       "mean     0.570000  48759.916212\n",
       "std      0.496318  15598.551538\n",
       "min      0.000000   9986.180656\n",
       "25%      0.000000  39436.152716\n",
       "50%      1.000000  50697.430551\n",
       "75%      1.000000  59081.731269\n",
       "max      1.000000  86834.899123"
      ]
     },
     "execution_count": 29,
     "metadata": {},
     "output_type": "execute_result"
    }
   ],
   "source": [
    "df.describe()"
   ]
  },
  {
   "cell_type": "markdown",
   "id": "dff0868d",
   "metadata": {},
   "source": [
    "### 4. Implementar una función de balanceo de datos para asegurar la representación equitativa de diversas categorías en el análisis posterior."
   ]
  },
  {
   "cell_type": "markdown",
   "id": "88e16bbb",
   "metadata": {},
   "source": [
    "Preliminarmente, los datos estadísticos de `df.describe()` parecen indicar que:\n",
    "\n",
    "- Existen sólo dos categorías: `0` y `1`\n",
    "\n",
    "- Hay más instancias para la segunda categoría que para la primera, tomando como referencia la media de `0.57`\n",
    "\n",
    "No obstante, en honor a la rigurosidad, conviene verificar estos puntos antes de proceder con el objetivo de este paso."
   ]
  },
  {
   "cell_type": "code",
   "execution_count": 30,
   "id": "d9af3a04",
   "metadata": {},
   "outputs": [
    {
     "data": {
      "text/plain": [
       "[0, 1]"
      ]
     },
     "execution_count": 30,
     "metadata": {},
     "output_type": "execute_result"
    }
   ],
   "source": [
    "categories: list[int] = df['categoria'].unique().tolist()\n",
    "categories"
   ]
  },
  {
   "cell_type": "markdown",
   "id": "d5ad94fe",
   "metadata": {},
   "source": [
    "Dado que el uso de números crudos (sin contexto) en variables categóricas es un poco \"vago\" (y que, dicho sea de paso, puede confundirse con variables realmente numéricas, como `salario`), me he tomado la licencia de darle unos nombres de fantasía más interesantes para el contexto de análisis. 😁"
   ]
  },
  {
   "cell_type": "code",
   "execution_count": 31,
   "id": "97be16fc",
   "metadata": {},
   "outputs": [],
   "source": [
    "motes: list[str] = ['Arenisca', 'Basalto']\n",
    "df['categoría'] = ''\n",
    "for i, categoria in enumerate(df['categoria']):   # sin tilde\n",
    "    df.loc[i, 'categoría'] = motes[0] if categoria == 0 else motes[1]\n",
    "df.drop(['categoria'], axis=1, inplace=True)"
   ]
  },
  {
   "cell_type": "markdown",
   "id": "98531dad",
   "metadata": {},
   "source": [
    "Efectivamente, existen sólo dos categorías: `0` y `1`. Veamos la proporción exacta de ellas en el conjunto `df`:"
   ]
  },
  {
   "cell_type": "code",
   "execution_count": 59,
   "id": "cab583f2",
   "metadata": {},
   "outputs": [
    {
     "name": "stdout",
     "output_type": "stream",
     "text": [
      "Instancias de categoría ARENISCA: 86\n",
      "Instancias de categoría BASALTO: 114\n"
     ]
    }
   ],
   "source": [
    "category_0: int = (df['categoría'] == motes[0]).sum()\n",
    "category_1: int = (df['categoría'] == motes[1]).sum()\n",
    "\n",
    "print(f'Instancias de categoría {motes[0].upper()}: {category_0}')\n",
    "print(f'Instancias de categoría {motes[1].upper()}: {category_1}')"
   ]
  },
  {
   "cell_type": "markdown",
   "id": "aeef1c93",
   "metadata": {},
   "source": [
    "Efectivamente, se verifica que hay un desbalance en la repartición de instancias entre categorías en el conjunto de datos."
   ]
  },
  {
   "cell_type": "markdown",
   "id": "e9823c06",
   "metadata": {},
   "source": [
    "Por lo tanto, procederemos con las operaciones para asegurar la representación equitativa de ambas categorías."
   ]
  },
  {
   "cell_type": "code",
   "execution_count": 58,
   "id": "0ee5516b",
   "metadata": {},
   "outputs": [
    {
     "name": "stdout",
     "output_type": "stream",
     "text": [
      "Instancias de categoría ARENISCA: 114\n",
      "Instancias de categoría BASALTO: 114\n"
     ]
    }
   ],
   "source": [
    "grouped_df = df.groupby('categoría')\n",
    "\n",
    "balanced_data: pd.DataFrame = pd.DataFrame()\n",
    "\n",
    "for name, group in grouped_df:\n",
    "    balanced_group = resample(\n",
    "        group,\n",
    "        replace=True,\n",
    "        n_samples=114,\n",
    "        random_state=123\n",
    "    )\n",
    "    balanced_data = pd.concat([balanced_data, balanced_group])\n",
    "\n",
    "category_0: int = (balanced_data['categoría'] == motes[0]).sum()\n",
    "category_1: int = (balanced_data['categoría'] == motes[1]).sum()\n",
    "\n",
    "print(f'Instancias de categoría {motes[0].upper()}: {category_0}')\n",
    "print(f'Instancias de categoría {motes[1].upper()}: {category_1}')"
   ]
  },
  {
   "cell_type": "markdown",
   "id": "def36aa3",
   "metadata": {},
   "source": [
    "Las instancias de ambas categorías se han igualado exitosamente. Veamos las características de `balanced_data`:"
   ]
  },
  {
   "cell_type": "code",
   "execution_count": 18,
   "id": "4d2f5694",
   "metadata": {},
   "outputs": [
    {
     "name": "stdout",
     "output_type": "stream",
     "text": [
      "<class 'pandas.core.frame.DataFrame'>\n",
      "Index: 228 entries, 192 to 160\n",
      "Data columns (total 4 columns):\n",
      " #   Column        Non-Null Count  Dtype  \n",
      "---  ------        --------------  -----  \n",
      " 0   salario       228 non-null    float64\n",
      " 1   rango etareo  228 non-null    object \n",
      " 2   uuid          228 non-null    object \n",
      " 3   categoría     228 non-null    object \n",
      "dtypes: float64(1), object(3)\n",
      "memory usage: 8.9+ KB\n"
     ]
    }
   ],
   "source": [
    "balanced_data.info()"
   ]
  },
  {
   "cell_type": "markdown",
   "id": "61aae6b3",
   "metadata": {},
   "source": [
    "### 5. Realizar un análisis simple de los datos para identificar tendencias o patrones que podrían ser útiles para decisiones de negocios o marketing."
   ]
  },
  {
   "cell_type": "markdown",
   "id": "61d86878",
   "metadata": {},
   "source": [
    "Veamos algunos datos estadísticos descriptivos del nuevo conjunto balanceado:"
   ]
  },
  {
   "cell_type": "code",
   "execution_count": 66,
   "id": "c92b653c",
   "metadata": {},
   "outputs": [
    {
     "data": {
      "text/html": [
       "<div>\n",
       "<style scoped>\n",
       "    .dataframe tbody tr th:only-of-type {\n",
       "        vertical-align: middle;\n",
       "    }\n",
       "\n",
       "    .dataframe tbody tr th {\n",
       "        vertical-align: top;\n",
       "    }\n",
       "\n",
       "    .dataframe thead th {\n",
       "        text-align: right;\n",
       "    }\n",
       "</style>\n",
       "<table border=\"1\" class=\"dataframe\">\n",
       "  <thead>\n",
       "    <tr style=\"text-align: right;\">\n",
       "      <th></th>\n",
       "      <th>salario</th>\n",
       "    </tr>\n",
       "  </thead>\n",
       "  <tbody>\n",
       "    <tr>\n",
       "      <th>count</th>\n",
       "      <td>228.0</td>\n",
       "    </tr>\n",
       "    <tr>\n",
       "      <th>mean</th>\n",
       "      <td>48429.0</td>\n",
       "    </tr>\n",
       "    <tr>\n",
       "      <th>std</th>\n",
       "      <td>15917.0</td>\n",
       "    </tr>\n",
       "    <tr>\n",
       "      <th>min</th>\n",
       "      <td>9986.0</td>\n",
       "    </tr>\n",
       "    <tr>\n",
       "      <th>25%</th>\n",
       "      <td>39007.0</td>\n",
       "    </tr>\n",
       "    <tr>\n",
       "      <th>50%</th>\n",
       "      <td>50907.0</td>\n",
       "    </tr>\n",
       "    <tr>\n",
       "      <th>75%</th>\n",
       "      <td>59082.0</td>\n",
       "    </tr>\n",
       "    <tr>\n",
       "      <th>max</th>\n",
       "      <td>86835.0</td>\n",
       "    </tr>\n",
       "  </tbody>\n",
       "</table>\n",
       "</div>"
      ],
      "text/plain": [
       "       salario\n",
       "count    228.0\n",
       "mean   48429.0\n",
       "std    15917.0\n",
       "min     9986.0\n",
       "25%    39007.0\n",
       "50%    50907.0\n",
       "75%    59082.0\n",
       "max    86835.0"
      ]
     },
     "execution_count": 66,
     "metadata": {},
     "output_type": "execute_result"
    }
   ],
   "source": [
    "balanced_data_stats: pd.DataFrame = balanced_data.describe().round()\n",
    "balanced_data_stats"
   ]
  },
  {
   "cell_type": "code",
   "execution_count": 46,
   "id": "711bfc3e",
   "metadata": {},
   "outputs": [],
   "source": [
    "# Separar el dataframe balanceado por categoría\n",
    "data_categoria_0 = balanced_data[balanced_data['categoría'] == motes[0]]\n",
    "data_categoria_1 = balanced_data[balanced_data['categoría'] == motes[1]]"
   ]
  },
  {
   "cell_type": "code",
   "execution_count": 67,
   "id": "04c363b0",
   "metadata": {},
   "outputs": [
    {
     "data": {
      "text/html": [
       "<div>\n",
       "<style scoped>\n",
       "    .dataframe tbody tr th:only-of-type {\n",
       "        vertical-align: middle;\n",
       "    }\n",
       "\n",
       "    .dataframe tbody tr th {\n",
       "        vertical-align: top;\n",
       "    }\n",
       "\n",
       "    .dataframe thead th {\n",
       "        text-align: right;\n",
       "    }\n",
       "</style>\n",
       "<table border=\"1\" class=\"dataframe\">\n",
       "  <thead>\n",
       "    <tr style=\"text-align: right;\">\n",
       "      <th></th>\n",
       "      <th>salario</th>\n",
       "    </tr>\n",
       "  </thead>\n",
       "  <tbody>\n",
       "    <tr>\n",
       "      <th>count</th>\n",
       "      <td>114.0</td>\n",
       "    </tr>\n",
       "    <tr>\n",
       "      <th>mean</th>\n",
       "      <td>50430.0</td>\n",
       "    </tr>\n",
       "    <tr>\n",
       "      <th>std</th>\n",
       "      <td>15463.0</td>\n",
       "    </tr>\n",
       "    <tr>\n",
       "      <th>min</th>\n",
       "      <td>9986.0</td>\n",
       "    </tr>\n",
       "    <tr>\n",
       "      <th>25%</th>\n",
       "      <td>41486.0</td>\n",
       "    </tr>\n",
       "    <tr>\n",
       "      <th>50%</th>\n",
       "      <td>51117.0</td>\n",
       "    </tr>\n",
       "    <tr>\n",
       "      <th>75%</th>\n",
       "      <td>61045.0</td>\n",
       "    </tr>\n",
       "    <tr>\n",
       "      <th>max</th>\n",
       "      <td>86348.0</td>\n",
       "    </tr>\n",
       "  </tbody>\n",
       "</table>\n",
       "</div>"
      ],
      "text/plain": [
       "       salario\n",
       "count    114.0\n",
       "mean   50430.0\n",
       "std    15463.0\n",
       "min     9986.0\n",
       "25%    41486.0\n",
       "50%    51117.0\n",
       "75%    61045.0\n",
       "max    86348.0"
      ]
     },
     "execution_count": 67,
     "metadata": {},
     "output_type": "execute_result"
    }
   ],
   "source": [
    "# Ver estadísticas de salario para la primera categoría\n",
    "stats_cat_0 = data_categoria_0.describe().round()\n",
    "stats_cat_0"
   ]
  },
  {
   "cell_type": "code",
   "execution_count": 69,
   "id": "1485d4e4",
   "metadata": {},
   "outputs": [
    {
     "data": {
      "text/html": [
       "<div>\n",
       "<style scoped>\n",
       "    .dataframe tbody tr th:only-of-type {\n",
       "        vertical-align: middle;\n",
       "    }\n",
       "\n",
       "    .dataframe tbody tr th {\n",
       "        vertical-align: top;\n",
       "    }\n",
       "\n",
       "    .dataframe thead th {\n",
       "        text-align: right;\n",
       "    }\n",
       "</style>\n",
       "<table border=\"1\" class=\"dataframe\">\n",
       "  <thead>\n",
       "    <tr style=\"text-align: right;\">\n",
       "      <th></th>\n",
       "      <th>salario</th>\n",
       "    </tr>\n",
       "  </thead>\n",
       "  <tbody>\n",
       "    <tr>\n",
       "      <th>count</th>\n",
       "      <td>114.0</td>\n",
       "    </tr>\n",
       "    <tr>\n",
       "      <th>mean</th>\n",
       "      <td>46427.0</td>\n",
       "    </tr>\n",
       "    <tr>\n",
       "      <th>std</th>\n",
       "      <td>16179.0</td>\n",
       "    </tr>\n",
       "    <tr>\n",
       "      <th>min</th>\n",
       "      <td>12613.0</td>\n",
       "    </tr>\n",
       "    <tr>\n",
       "      <th>25%</th>\n",
       "      <td>36274.0</td>\n",
       "    </tr>\n",
       "    <tr>\n",
       "      <th>50%</th>\n",
       "      <td>49609.0</td>\n",
       "    </tr>\n",
       "    <tr>\n",
       "      <th>75%</th>\n",
       "      <td>57736.0</td>\n",
       "    </tr>\n",
       "    <tr>\n",
       "      <th>max</th>\n",
       "      <td>86835.0</td>\n",
       "    </tr>\n",
       "  </tbody>\n",
       "</table>\n",
       "</div>"
      ],
      "text/plain": [
       "       salario\n",
       "count    114.0\n",
       "mean   46427.0\n",
       "std    16179.0\n",
       "min    12613.0\n",
       "25%    36274.0\n",
       "50%    49609.0\n",
       "75%    57736.0\n",
       "max    86835.0"
      ]
     },
     "execution_count": 69,
     "metadata": {},
     "output_type": "execute_result"
    }
   ],
   "source": [
    "# Ver estadísticas de salario para la segunda categoría\n",
    "stats_cat_1 = data_categoria_1.describe().round()\n",
    "stats_cat_1"
   ]
  },
  {
   "cell_type": "markdown",
   "id": "c20c4ac2",
   "metadata": {},
   "source": [
    "#### Relación entre categoría y salario."
   ]
  },
  {
   "cell_type": "code",
   "execution_count": 34,
   "id": "219592e2",
   "metadata": {},
   "outputs": [
    {
     "data": {
      "image/png": "[encoded data removed]",
      "text/plain": [
       "<Figure size 500x500 with 1 Axes>"
      ]
     },
     "metadata": {},
     "output_type": "display_data"
    }
   ],
   "source": [
    "categoria_salario: sns.FacetGrid = sns.catplot(\n",
    "    data=balanced_data,\n",
    "    x='categoría',\n",
    "    y='salario',\n",
    "    kind='box',\n",
    "    hue='categoría'\n",
    ")\n",
    "categoria_salario.set_axis_labels('Categoría', 'Salario')\n",
    "plt.title('Relación entre categoría y salario', pad=12)\n",
    "plt.grid(True, linestyle='-.')\n",
    "plt.show()"
   ]
  },
  {
   "cell_type": "markdown",
   "id": "9ee95b33",
   "metadata": {},
   "source": [
    "La distribución de salarios en ambas categorías, `Arenisca` y `Basalto`, es similarmente amplia. No obstante, se aprecian diferencias entre los rangos intercuartílicos (IQR) de ambas. Teniendo en cuenta que el IQR general es de entre `$39,007` y `$59,082`, con la **mediana general** en `$50,907`, se observa que:\n",
    "\n",
    "- el IQR de los clientes de la categoría `Arenisca` poseen **salarios ligeramente superiores**, de entre `$41,486` y `$61,045`, con la mediana de la categoría en `$51,117`.\n",
    "\n",
    "- mientras que el IQR de los clientes de la categoría `Basalto` poseen **salarios ligeramente inferiores**, de entre `$36,274` y `$57,736`, con la mediana de la categoría en `$49,609`.\n",
    "\n",
    "Por otro lado, cabe destacar que, al menos, un cliente de la categoría `Arenisca` tiene un salario inusualmente bajo, llegando a un mínimo de `$9,986` (véase el _outlier_ en el gráfico). Según el gráfico, el salario mínimo esperado para `Arenisca` está sobre los `$20.000`. Esta ocurrencia no se observa en la categoría `Basalto`, donde no se aprecian _outliers_, y el salario mínimo llega normalmente hasta los `$12,613`\n",
    "\n",
    "En definitiva, los clientes de la categoría `Arenisca` presentan un rango salarial ligeramente más alto y concentrado alrededor de valores medianos-altos, pero también muestra una mayor variabilidad en los salarios bajos (reflejado por el _outlier_ bajo los bigotes). `Basalto`, por otro lado, tiene salarios que se concentran más hacia el centro de su rango y presenta menor dispersión en salarios altos, lo cual podría interpretarse como una distribución salarial más estable en torno a su mediana."
   ]
  }
 ],
 "metadata": {
  "kernelspec": {
   "display_name": "base",
   "language": "python",
   "name": "python3"
  },
  "language_info": {
   "codemirror_mode": {
    "name": "ipython",
    "version": 3
   },
   "file_extension": ".py",
   "mimetype": "text/x-python",
   "name": "python",
   "nbconvert_exporter": "python",
   "pygments_lexer": "ipython3",
   "version": "3.12.4"
  }
 },
 "nbformat": 4,
 "nbformat_minor": 5
}
