{
 "cells": [
  {
   "cell_type": "markdown",
   "id": "0c48c59c",
   "metadata": {},
   "source": [
    "# Proyecto del Día 14 - Gestión Segura de Datos de Clientes\n",
    "\n",
    "Este notebook implementa un sistema básico de gestión y análisis de datos de clientes, aplicando técnicas de pseudonimización, anonimización y balanceo de datos.\n",
    "\n",
    "\n",
    "## Objetivo\n",
    "El proyecto consiste en desarrollar un sistema de gestión y análisis de datos de clientes que implemente técnicas de pseudonimización, anonimización y balanceo de datos para proteger la privacidad de los usuarios y asegurar un análisis equitativo.\n",
    "\n",
    "\n",
    "## Consignas del Proyecto\n",
    "1. Cargar los datos de clientes provistos en un archivo CSV.\n",
    "2. Aplicar técnicas de anonimización al campo `direccion`, `edad` y `salario` para proteger la identidad de los clientes.\n",
    "3. Aplicar técnicas de pseudonimización al campo `nombre`.\n",
    "4. Implementar una función de balanceo de datos para asegurar la representación equitativa de diversas categorías en el análisis posterior.\n",
    "5. Realizar un análisis simple de los datos para identificar tendencias o patrones que podrían ser útiles para decisiones de negocios o marketing.\n",
    "\n",
    "\n",
    "Este proyecto te permitirá aplicar prácticas esenciales de privacidad de datos y técnicas de manipulación de datos en un entorno práctico, preparándote para desafíos similares en entornos profesionales.\n",
    "\n",
    "¡Mucha suerte y que te diviertas!"
   ]
  },
  {
   "cell_type": "code",
   "execution_count": 3,
   "id": "288a2768",
   "metadata": {},
   "outputs": [],
   "source": [
    "import os\n",
    "\n",
    "import numpy as np\n",
    "import pandas as pd\n",
    "import matplotlib.pyplot as plt\n",
    "\n",
    "from dotenv import load_dotenv"
   ]
  },
  {
   "cell_type": "code",
   "execution_count": 4,
   "id": "4e33ba1b",
   "metadata": {},
   "outputs": [
    {
     "data": {
      "text/plain": [
       "True"
      ]
     },
     "execution_count": 4,
     "metadata": {},
     "output_type": "execute_result"
    }
   ],
   "source": [
    "load_dotenv('.env')"
   ]
  },
  {
   "cell_type": "markdown",
   "id": "86e45cf1",
   "metadata": {},
   "source": [
    "### 1. Cargar los datos de clientes provistos en un archivo CSV."
   ]
  },
  {
   "cell_type": "code",
   "execution_count": 5,
   "id": "63b540af",
   "metadata": {},
   "outputs": [],
   "source": [
    "df: pd.DataFrame = pd.read_csv(os.environ['PROJECT_DATA'])"
   ]
  },
  {
   "cell_type": "markdown",
   "id": "e2d9962c",
   "metadata": {},
   "source": [
    "### 2. Aplicar técnicas de anonimización al campo `direccion`, `edad` y `salario` para proteger la identidad de los clientes."
   ]
  },
  {
   "cell_type": "code",
   "execution_count": null,
   "id": "cd65bda3",
   "metadata": {},
   "outputs": [],
   "source": [
    "# Anonimizar el campo dirección por simple supresión\n",
    "# (asumiendo que no es relevante para el estudio)\n",
    "df.drop(['direccion'], axis=1, inplace=True)"
   ]
  },
  {
   "cell_type": "code",
   "execution_count": null,
   "id": "971d9698",
   "metadata": {},
   "outputs": [],
   "source": [
    "# Anonimizar el campo edad por redondeo o truncado\n",
    "# adaptando las edades a sus respectivas décadas\n",
    "df['edad'] = (df['edad'] // 10) * 10"
   ]
  },
  {
   "cell_type": "code",
   "execution_count": 8,
   "id": "ac349857",
   "metadata": {},
   "outputs": [],
   "source": [
    "# Anonimizar el campo salario con ruido aleatorio\n",
    "noise: np.ndarray = np.random.normal(0, 10000, size=df['salario'].shape)\n",
    "df['salario'] += noise"
   ]
  }
 ],
 "metadata": {
  "kernelspec": {
   "display_name": "base",
   "language": "python",
   "name": "python3"
  },
  "language_info": {
   "codemirror_mode": {
    "name": "ipython",
    "version": 3
   },
   "file_extension": ".py",
   "mimetype": "text/x-python",
   "name": "python",
   "nbconvert_exporter": "python",
   "pygments_lexer": "ipython3",
   "version": "3.12.4"
  }
 },
 "nbformat": 4,
 "nbformat_minor": 5
}
