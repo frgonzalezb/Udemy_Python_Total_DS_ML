{
 "cells": [
  {
   "cell_type": "markdown",
   "id": "0c48c59c",
   "metadata": {},
   "source": [
    "# Proyecto del Día 14 - Gestión Segura de Datos de Clientes\n",
    "\n",
    "Este notebook implementa un sistema básico de gestión y análisis de datos de clientes, aplicando técnicas de pseudonimización, anonimización y balanceo de datos.\n",
    "\n",
    "\n",
    "## Objetivo\n",
    "El proyecto consiste en desarrollar un sistema de gestión y análisis de datos de clientes que implemente técnicas de pseudonimización, anonimización y balanceo de datos para proteger la privacidad de los usuarios y asegurar un análisis equitativo.\n",
    "\n",
    "\n",
    "## Consignas del Proyecto\n",
    "1. Cargar los datos de clientes provistos en un archivo CSV.\n",
    "2. Aplicar técnicas de anonimización al campo `direccion`, `edad` y `salario` para proteger la identidad de los clientes.\n",
    "3. Aplicar técnicas de pseudonimización al campo `nombre`.\n",
    "4. Implementar una función de balanceo de datos para asegurar la representación equitativa de diversas categorías en el análisis posterior.\n",
    "5. Realizar un análisis simple de los datos para identificar tendencias o patrones que podrían ser útiles para decisiones de negocios o marketing.\n",
    "\n",
    "\n",
    "Este proyecto te permitirá aplicar prácticas esenciales de privacidad de datos y técnicas de manipulación de datos en un entorno práctico, preparándote para desafíos similares en entornos profesionales.\n",
    "\n",
    "¡Mucha suerte y que te diviertas!"
   ]
  },
  {
   "cell_type": "code",
   "execution_count": 23,
   "id": "288a2768",
   "metadata": {},
   "outputs": [],
   "source": [
    "import os\n",
    "import uuid\n",
    "\n",
    "import numpy as np\n",
    "import pandas as pd\n",
    "import matplotlib.pyplot as plt\n",
    "\n",
    "from sklearn.model_selection import train_test_split\n",
    "from sklearn.utils import resample\n",
    "\n",
    "from dotenv import load_dotenv"
   ]
  },
  {
   "cell_type": "code",
   "execution_count": 4,
   "id": "4e33ba1b",
   "metadata": {},
   "outputs": [
    {
     "data": {
      "text/plain": [
       "True"
      ]
     },
     "execution_count": 4,
     "metadata": {},
     "output_type": "execute_result"
    }
   ],
   "source": [
    "load_dotenv('.env')"
   ]
  },
  {
   "cell_type": "markdown",
   "id": "86e45cf1",
   "metadata": {},
   "source": [
    "### 1. Cargar los datos de clientes provistos en un archivo CSV."
   ]
  },
  {
   "cell_type": "code",
   "execution_count": 5,
   "id": "63b540af",
   "metadata": {},
   "outputs": [],
   "source": [
    "df: pd.DataFrame = pd.read_csv(os.environ['PROJECT_DATA'])"
   ]
  },
  {
   "cell_type": "markdown",
   "id": "e2d9962c",
   "metadata": {},
   "source": [
    "### 2. Aplicar técnicas de anonimización al campo `direccion`, `edad` y `salario` para proteger la identidad de los clientes."
   ]
  },
  {
   "cell_type": "code",
   "execution_count": null,
   "id": "cd65bda3",
   "metadata": {},
   "outputs": [],
   "source": [
    "# Anonimizar el campo dirección por simple supresión\n",
    "# (asumiendo que no es relevante para el estudio)\n",
    "df.drop(['direccion'], axis=1, inplace=True)"
   ]
  },
  {
   "cell_type": "code",
   "execution_count": null,
   "id": "971d9698",
   "metadata": {},
   "outputs": [],
   "source": [
    "# Anonimizar el campo edad por redondeo o truncado\n",
    "# adaptando las edades a sus respectivas décadas\n",
    "df['edad'] = (df['edad'] // 10) * 10"
   ]
  },
  {
   "cell_type": "code",
   "execution_count": 8,
   "id": "ac349857",
   "metadata": {},
   "outputs": [],
   "source": [
    "# Anonimizar el campo salario con ruido aleatorio\n",
    "noise: np.ndarray = np.random.normal(0, 10000, size=df['salario'].shape)\n",
    "df['salario'] += noise"
   ]
  },
  {
   "cell_type": "markdown",
   "id": "6edbb926",
   "metadata": {},
   "source": [
    "### 3. Aplicar técnicas de pseudonimización al campo `nombre`."
   ]
  },
  {
   "cell_type": "code",
   "execution_count": 10,
   "id": "adf43c91",
   "metadata": {},
   "outputs": [],
   "source": [
    "# Pseudonomización de los valores del campo nombre\n",
    "# usando un identificador único universal (UUID) para cada valor\n",
    "uuid_container: list[str] = []\n",
    "\n",
    "for _ in range(len(df)):\n",
    "    uuid_container.append(str(uuid.uuid4()))\n",
    "\n",
    "df['uuid'] = uuid_container\n",
    "df.drop(['nombre'], axis=1, inplace=True)"
   ]
  },
  {
   "cell_type": "markdown",
   "id": "8722aadc",
   "metadata": {},
   "source": [
    "A partir de aquí, ya parece seguro mostrar algo de `df` para los siguientes pasos. 😁"
   ]
  },
  {
   "cell_type": "code",
   "execution_count": 11,
   "id": "547a814c",
   "metadata": {},
   "outputs": [
    {
     "data": {
      "text/html": [
       "<div>\n",
       "<style scoped>\n",
       "    .dataframe tbody tr th:only-of-type {\n",
       "        vertical-align: middle;\n",
       "    }\n",
       "\n",
       "    .dataframe tbody tr th {\n",
       "        vertical-align: top;\n",
       "    }\n",
       "\n",
       "    .dataframe thead th {\n",
       "        text-align: right;\n",
       "    }\n",
       "</style>\n",
       "<table border=\"1\" class=\"dataframe\">\n",
       "  <thead>\n",
       "    <tr style=\"text-align: right;\">\n",
       "      <th></th>\n",
       "      <th>edad</th>\n",
       "      <th>categoria</th>\n",
       "      <th>salario</th>\n",
       "      <th>uuid</th>\n",
       "    </tr>\n",
       "  </thead>\n",
       "  <tbody>\n",
       "    <tr>\n",
       "      <th>0</th>\n",
       "      <td>60</td>\n",
       "      <td>0</td>\n",
       "      <td>74189.466539</td>\n",
       "      <td>1908635c-7c0a-4db0-82cc-bcd0971c4449</td>\n",
       "    </tr>\n",
       "    <tr>\n",
       "      <th>1</th>\n",
       "      <td>60</td>\n",
       "      <td>1</td>\n",
       "      <td>50776.658566</td>\n",
       "      <td>9d3178c7-c3e3-4def-9803-b8c799f0aa7b</td>\n",
       "    </tr>\n",
       "    <tr>\n",
       "      <th>2</th>\n",
       "      <td>10</td>\n",
       "      <td>0</td>\n",
       "      <td>66739.991400</td>\n",
       "      <td>14b51fca-4094-4dd8-a9f4-4e74b9d00184</td>\n",
       "    </tr>\n",
       "    <tr>\n",
       "      <th>3</th>\n",
       "      <td>20</td>\n",
       "      <td>1</td>\n",
       "      <td>23795.264394</td>\n",
       "      <td>e43c1f82-f14b-45ab-861e-705b0e8a2f0c</td>\n",
       "    </tr>\n",
       "    <tr>\n",
       "      <th>4</th>\n",
       "      <td>20</td>\n",
       "      <td>1</td>\n",
       "      <td>32557.826303</td>\n",
       "      <td>aaa3cb4c-f1d7-4593-831f-ad6c86982fb9</td>\n",
       "    </tr>\n",
       "  </tbody>\n",
       "</table>\n",
       "</div>"
      ],
      "text/plain": [
       "   edad  categoria       salario                                  uuid\n",
       "0    60          0  74189.466539  1908635c-7c0a-4db0-82cc-bcd0971c4449\n",
       "1    60          1  50776.658566  9d3178c7-c3e3-4def-9803-b8c799f0aa7b\n",
       "2    10          0  66739.991400  14b51fca-4094-4dd8-a9f4-4e74b9d00184\n",
       "3    20          1  23795.264394  e43c1f82-f14b-45ab-861e-705b0e8a2f0c\n",
       "4    20          1  32557.826303  aaa3cb4c-f1d7-4593-831f-ad6c86982fb9"
      ]
     },
     "execution_count": 11,
     "metadata": {},
     "output_type": "execute_result"
    }
   ],
   "source": [
    "df.head()"
   ]
  },
  {
   "cell_type": "code",
   "execution_count": 12,
   "id": "fca245fc",
   "metadata": {},
   "outputs": [
    {
     "name": "stdout",
     "output_type": "stream",
     "text": [
      "<class 'pandas.core.frame.DataFrame'>\n",
      "RangeIndex: 200 entries, 0 to 199\n",
      "Data columns (total 4 columns):\n",
      " #   Column     Non-Null Count  Dtype  \n",
      "---  ------     --------------  -----  \n",
      " 0   edad       200 non-null    int64  \n",
      " 1   categoria  200 non-null    int64  \n",
      " 2   salario    200 non-null    float64\n",
      " 3   uuid       200 non-null    object \n",
      "dtypes: float64(1), int64(2), object(1)\n",
      "memory usage: 6.4+ KB\n"
     ]
    }
   ],
   "source": [
    "df.info()"
   ]
  },
  {
   "cell_type": "code",
   "execution_count": 13,
   "id": "1d87beaa",
   "metadata": {},
   "outputs": [
    {
     "data": {
      "text/html": [
       "<div>\n",
       "<style scoped>\n",
       "    .dataframe tbody tr th:only-of-type {\n",
       "        vertical-align: middle;\n",
       "    }\n",
       "\n",
       "    .dataframe tbody tr th {\n",
       "        vertical-align: top;\n",
       "    }\n",
       "\n",
       "    .dataframe thead th {\n",
       "        text-align: right;\n",
       "    }\n",
       "</style>\n",
       "<table border=\"1\" class=\"dataframe\">\n",
       "  <thead>\n",
       "    <tr style=\"text-align: right;\">\n",
       "      <th></th>\n",
       "      <th>edad</th>\n",
       "      <th>categoria</th>\n",
       "      <th>salario</th>\n",
       "    </tr>\n",
       "  </thead>\n",
       "  <tbody>\n",
       "    <tr>\n",
       "      <th>count</th>\n",
       "      <td>200.00000</td>\n",
       "      <td>200.000000</td>\n",
       "      <td>200.000000</td>\n",
       "    </tr>\n",
       "    <tr>\n",
       "      <th>mean</th>\n",
       "      <td>37.70000</td>\n",
       "      <td>0.570000</td>\n",
       "      <td>48078.873231</td>\n",
       "    </tr>\n",
       "    <tr>\n",
       "      <th>std</th>\n",
       "      <td>15.74642</td>\n",
       "      <td>0.496318</td>\n",
       "      <td>15483.079063</td>\n",
       "    </tr>\n",
       "    <tr>\n",
       "      <th>min</th>\n",
       "      <td>10.00000</td>\n",
       "      <td>0.000000</td>\n",
       "      <td>6640.169101</td>\n",
       "    </tr>\n",
       "    <tr>\n",
       "      <th>25%</th>\n",
       "      <td>20.00000</td>\n",
       "      <td>0.000000</td>\n",
       "      <td>36517.018193</td>\n",
       "    </tr>\n",
       "    <tr>\n",
       "      <th>50%</th>\n",
       "      <td>40.00000</td>\n",
       "      <td>1.000000</td>\n",
       "      <td>48235.261437</td>\n",
       "    </tr>\n",
       "    <tr>\n",
       "      <th>75%</th>\n",
       "      <td>50.00000</td>\n",
       "      <td>1.000000</td>\n",
       "      <td>57318.668235</td>\n",
       "    </tr>\n",
       "    <tr>\n",
       "      <th>max</th>\n",
       "      <td>60.00000</td>\n",
       "      <td>1.000000</td>\n",
       "      <td>92882.610686</td>\n",
       "    </tr>\n",
       "  </tbody>\n",
       "</table>\n",
       "</div>"
      ],
      "text/plain": [
       "            edad   categoria       salario\n",
       "count  200.00000  200.000000    200.000000\n",
       "mean    37.70000    0.570000  48078.873231\n",
       "std     15.74642    0.496318  15483.079063\n",
       "min     10.00000    0.000000   6640.169101\n",
       "25%     20.00000    0.000000  36517.018193\n",
       "50%     40.00000    1.000000  48235.261437\n",
       "75%     50.00000    1.000000  57318.668235\n",
       "max     60.00000    1.000000  92882.610686"
      ]
     },
     "execution_count": 13,
     "metadata": {},
     "output_type": "execute_result"
    }
   ],
   "source": [
    "df.describe()"
   ]
  },
  {
   "cell_type": "markdown",
   "id": "dff0868d",
   "metadata": {},
   "source": [
    "### 4. Implementar una función de balanceo de datos para asegurar la representación equitativa de diversas categorías en el análisis posterior."
   ]
  },
  {
   "cell_type": "markdown",
   "id": "88e16bbb",
   "metadata": {},
   "source": [
    "Preliminarmente, los datos estadísticos de `df.describe()` parecen indicar que:\n",
    "\n",
    "- Existen sólo dos categorías: `0` y `1`\n",
    "\n",
    "- Hay más instancias para la segunda categoría que para la primera, tomando como referencia la media de `0.57`\n",
    "\n",
    "No obstante, en honor a la rigurosidad, conviene verificar estos puntos antes de proceder con el objetivo de este paso."
   ]
  },
  {
   "cell_type": "code",
   "execution_count": null,
   "id": "d9af3a04",
   "metadata": {},
   "outputs": [
    {
     "data": {
      "text/plain": [
       "array([0, 1], dtype=int64)"
      ]
     },
     "execution_count": 14,
     "metadata": {},
     "output_type": "execute_result"
    }
   ],
   "source": [
    "df['categoria'].unique()"
   ]
  },
  {
   "cell_type": "markdown",
   "id": "98531dad",
   "metadata": {},
   "source": [
    "Efectivamente, existen sólo dos categorías: `0` y `1`. Veamos la proporción exacta de ellas en el conjunto `df`:"
   ]
  },
  {
   "cell_type": "code",
   "execution_count": 26,
   "id": "cab583f2",
   "metadata": {},
   "outputs": [
    {
     "name": "stdout",
     "output_type": "stream",
     "text": [
      "Instancias de categoría 0: 86\n",
      "Instancias de categoría 1: 114\n"
     ]
    }
   ],
   "source": [
    "category_0: int = (df['categoria'] == 0).sum()\n",
    "category_1: int = (df['categoria'] == 1).sum()\n",
    "\n",
    "print(f'Instancias de categoría 0: {category_0}')\n",
    "print(f'Instancias de categoría 1: {category_1}')"
   ]
  },
  {
   "cell_type": "markdown",
   "id": "aeef1c93",
   "metadata": {},
   "source": [
    "Efectivamente, se verifica que hay un desbalance en la repartición de instancias entre categorías en el conjunto de datos, en una razón de 86:114 para las categorías `0` y `1`, respectivamente."
   ]
  },
  {
   "cell_type": "markdown",
   "id": "e9823c06",
   "metadata": {},
   "source": [
    "Por lo tanto, procederemos con las operaciones para asegurar la representación equitativa de ambas categorías."
   ]
  },
  {
   "cell_type": "code",
   "execution_count": 28,
   "id": "0ee5516b",
   "metadata": {},
   "outputs": [
    {
     "name": "stdout",
     "output_type": "stream",
     "text": [
      "Instancias de categoría 0: 114\n",
      "Instancias de categoría 1: 114\n"
     ]
    }
   ],
   "source": [
    "grouped_df = df.groupby('categoria')\n",
    "\n",
    "balanced_data: pd.DataFrame = pd.DataFrame()\n",
    "\n",
    "for name, group in grouped_df:\n",
    "    balanced_group = resample(\n",
    "        group,\n",
    "        replace=True,\n",
    "        n_samples=114,\n",
    "        random_state=123\n",
    "    )\n",
    "    balanced_data = pd.concat([balanced_data, balanced_group])\n",
    "\n",
    "category_0 = (balanced_data['categoria'] == 0).sum()\n",
    "category_1 = (balanced_data['categoria'] == 1).sum()\n",
    "\n",
    "print(f'Instancias de categoría 0: {category_0}')\n",
    "print(f'Instancias de categoría 1: {category_1}')"
   ]
  },
  {
   "cell_type": "markdown",
   "id": "def36aa3",
   "metadata": {},
   "source": [
    "Las instancias de ambas categorías se han igualado exitosamente. Veamos las características de `balanced_data`:"
   ]
  },
  {
   "cell_type": "code",
   "execution_count": 29,
   "id": "4d2f5694",
   "metadata": {},
   "outputs": [
    {
     "name": "stdout",
     "output_type": "stream",
     "text": [
      "<class 'pandas.core.frame.DataFrame'>\n",
      "Index: 228 entries, 158 to 11\n",
      "Data columns (total 4 columns):\n",
      " #   Column     Non-Null Count  Dtype  \n",
      "---  ------     --------------  -----  \n",
      " 0   edad       228 non-null    int64  \n",
      " 1   categoria  228 non-null    int64  \n",
      " 2   salario    228 non-null    float64\n",
      " 3   uuid       228 non-null    object \n",
      "dtypes: float64(1), int64(2), object(1)\n",
      "memory usage: 8.9+ KB\n"
     ]
    }
   ],
   "source": [
    "balanced_data.info()"
   ]
  }
 ],
 "metadata": {
  "kernelspec": {
   "display_name": "base",
   "language": "python",
   "name": "python3"
  },
  "language_info": {
   "codemirror_mode": {
    "name": "ipython",
    "version": 3
   },
   "file_extension": ".py",
   "mimetype": "text/x-python",
   "name": "python",
   "nbconvert_exporter": "python",
   "pygments_lexer": "ipython3",
   "version": "3.12.4"
  }
 },
 "nbformat": 4,
 "nbformat_minor": 5
}
