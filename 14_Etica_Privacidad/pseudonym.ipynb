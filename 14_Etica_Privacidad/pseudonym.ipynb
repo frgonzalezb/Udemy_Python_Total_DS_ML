{
 "cells": [
  {
   "cell_type": "markdown",
   "metadata": {},
   "source": [
    "# Pseudonimización de Datos en Data Science"
   ]
  },
  {
   "cell_type": "markdown",
   "metadata": {},
   "source": [
    "A veces, por diversos motivos, no es posible perder o distorsionar información relevante para los fines de la investigación, por más sensibles que sean esos datos. 😞\n",
    "\n",
    "Sin embargo, existen otro conjunto de técnicas que, en lugar de hacer los datos anónimos, hace que podamos referirnos a ellos a través de **pseudónimos** o motes, lo cual también es efectivo para cuidar la privacidad de los datos, pero sin perderlos.\n",
    "\n",
    "Es decir, las técnicas de pseudonimización reemplazan los datos reales por datos de fantasía que **enmascaran** a los datos que debemos proteger, permitiéndonos realizar todas las tareas de análisis de datos con esa información, pero sin revelar la verdadera identidad de dicha información.\n",
    "\n",
    "Estas técnicas de pseudonimización, bien implementadas, están permitidas por las regulaciones legales en materia de protección de datos como la [GDPR](https://gdpr-info.eu/) y la [CCPA](https://oag.ca.gov/privacy/ccpa)."
   ]
  },
  {
   "cell_type": "markdown",
   "metadata": {},
   "source": [
    "## Caso de ejemplo"
   ]
  },
  {
   "cell_type": "code",
   "execution_count": 7,
   "metadata": {},
   "outputs": [],
   "source": [
    "import uuid\n",
    "import hashlib\n",
    "from typing import Any\n",
    "\n",
    "import pandas as pd"
   ]
  },
  {
   "cell_type": "code",
   "execution_count": 2,
   "metadata": {},
   "outputs": [
    {
     "data": {
      "text/html": [
       "<div>\n",
       "<style scoped>\n",
       "    .dataframe tbody tr th:only-of-type {\n",
       "        vertical-align: middle;\n",
       "    }\n",
       "\n",
       "    .dataframe tbody tr th {\n",
       "        vertical-align: top;\n",
       "    }\n",
       "\n",
       "    .dataframe thead th {\n",
       "        text-align: right;\n",
       "    }\n",
       "</style>\n",
       "<table border=\"1\" class=\"dataframe\">\n",
       "  <thead>\n",
       "    <tr style=\"text-align: right;\">\n",
       "      <th></th>\n",
       "      <th>Nombre</th>\n",
       "      <th>Email</th>\n",
       "      <th>Ubicación</th>\n",
       "    </tr>\n",
       "  </thead>\n",
       "  <tbody>\n",
       "    <tr>\n",
       "      <th>0</th>\n",
       "      <td>Ana</td>\n",
       "      <td>ana@ejemplo.com</td>\n",
       "      <td>Ciudad A</td>\n",
       "    </tr>\n",
       "    <tr>\n",
       "      <th>1</th>\n",
       "      <td>Juan</td>\n",
       "      <td>juan@ejemplo.com</td>\n",
       "      <td>Ciudad B</td>\n",
       "    </tr>\n",
       "    <tr>\n",
       "      <th>2</th>\n",
       "      <td>Luis</td>\n",
       "      <td>luis@ejemplo.com</td>\n",
       "      <td>Ciudad C</td>\n",
       "    </tr>\n",
       "  </tbody>\n",
       "</table>\n",
       "</div>"
      ],
      "text/plain": [
       "  Nombre             Email Ubicación\n",
       "0    Ana   ana@ejemplo.com  Ciudad A\n",
       "1   Juan  juan@ejemplo.com  Ciudad B\n",
       "2   Luis  luis@ejemplo.com  Ciudad C"
      ]
     },
     "execution_count": 2,
     "metadata": {},
     "output_type": "execute_result"
    }
   ],
   "source": [
    "names: list[str] = ['Ana', 'Juan', 'Luis']\n",
    "emails: list[str] = ['ana@ejemplo.com', 'juan@ejemplo.com', 'luis@ejemplo.com']\n",
    "cities: list[str] = ['Ciudad A', 'Ciudad B', 'Ciudad C']\n",
    "\n",
    "data: dict[str, list[str]] = {\n",
    "    'Nombre': names,\n",
    "    'Email': emails,\n",
    "    'Ubicación': cities\n",
    "}\n",
    "\n",
    "df: pd.DataFrame = pd.DataFrame(data)\n",
    "df"
   ]
  },
  {
   "cell_type": "markdown",
   "metadata": {},
   "source": [
    "### 1. Reemplazar el nombre de la persona con un identificador único universal (UUID)"
   ]
  },
  {
   "cell_type": "code",
   "execution_count": null,
   "metadata": {},
   "outputs": [
    {
     "data": {
      "text/plain": [
       "['ffcc810c-bab8-46fc-a512-9a09ae234558',\n",
       " '1a31bc23-e80a-4085-84de-ffdc91e3bf8b',\n",
       " 'aed2ef66-22a4-4c36-9303-e5e93226a3a5']"
      ]
     },
     "execution_count": 4,
     "metadata": {},
     "output_type": "execute_result"
    }
   ],
   "source": [
    "# Generar los UUID para cada instancia\n",
    "uuid_container: list[str] = []\n",
    "\n",
    "for _ in range(len(df)):\n",
    "    uuid_container.append(str(uuid.uuid4()))\n",
    "\n",
    "uuid_container"
   ]
  },
  {
   "cell_type": "code",
   "execution_count": 5,
   "metadata": {},
   "outputs": [
    {
     "data": {
      "text/html": [
       "<div>\n",
       "<style scoped>\n",
       "    .dataframe tbody tr th:only-of-type {\n",
       "        vertical-align: middle;\n",
       "    }\n",
       "\n",
       "    .dataframe tbody tr th {\n",
       "        vertical-align: top;\n",
       "    }\n",
       "\n",
       "    .dataframe thead th {\n",
       "        text-align: right;\n",
       "    }\n",
       "</style>\n",
       "<table border=\"1\" class=\"dataframe\">\n",
       "  <thead>\n",
       "    <tr style=\"text-align: right;\">\n",
       "      <th></th>\n",
       "      <th>Email</th>\n",
       "      <th>Ubicación</th>\n",
       "      <th>UUID</th>\n",
       "    </tr>\n",
       "  </thead>\n",
       "  <tbody>\n",
       "    <tr>\n",
       "      <th>0</th>\n",
       "      <td>ana@ejemplo.com</td>\n",
       "      <td>Ciudad A</td>\n",
       "      <td>ffcc810c-bab8-46fc-a512-9a09ae234558</td>\n",
       "    </tr>\n",
       "    <tr>\n",
       "      <th>1</th>\n",
       "      <td>juan@ejemplo.com</td>\n",
       "      <td>Ciudad B</td>\n",
       "      <td>1a31bc23-e80a-4085-84de-ffdc91e3bf8b</td>\n",
       "    </tr>\n",
       "    <tr>\n",
       "      <th>2</th>\n",
       "      <td>luis@ejemplo.com</td>\n",
       "      <td>Ciudad C</td>\n",
       "      <td>aed2ef66-22a4-4c36-9303-e5e93226a3a5</td>\n",
       "    </tr>\n",
       "  </tbody>\n",
       "</table>\n",
       "</div>"
      ],
      "text/plain": [
       "              Email Ubicación                                  UUID\n",
       "0   ana@ejemplo.com  Ciudad A  ffcc810c-bab8-46fc-a512-9a09ae234558\n",
       "1  juan@ejemplo.com  Ciudad B  1a31bc23-e80a-4085-84de-ffdc91e3bf8b\n",
       "2  luis@ejemplo.com  Ciudad C  aed2ef66-22a4-4c36-9303-e5e93226a3a5"
      ]
     },
     "execution_count": 5,
     "metadata": {},
     "output_type": "execute_result"
    }
   ],
   "source": [
    "# Reemplazar la columna 'Nombre' con los UUID generados\n",
    "df['UUID'] = uuid_container\n",
    "df.drop(['Nombre'], axis=1, inplace=True)\n",
    "df"
   ]
  },
  {
   "cell_type": "markdown",
   "metadata": {},
   "source": [
    "### 2. Hashing\n",
    "\n",
    "Consiste en usar una función para convertir los valores de datos en una cadena de caracteres fija que reemplace a los valores originales. La diferencia con el UUID radica en que éste genera un valor completamente aleatorio sin depender del dato original, mientras que el hashing **genera un valor a partir del dato original** (es decir, que tiene una raíz en el valor original), pero distorsionándolo hasta que se hace irreconocible (al menos, a los humanos). De todos modos, ambas transformaciones son irreversibles."
   ]
  },
  {
   "cell_type": "code",
   "execution_count": null,
   "metadata": {},
   "outputs": [],
   "source": [
    "def hash_data(data: Any) -> str:\n",
    "    \"\"\"\n",
    "    Return the SHA256 hash of the input data.\n",
    "    \"\"\"\n",
    "    return hashlib.sha256(data.encode('utf-8')).hexdigest()"
   ]
  },
  {
   "cell_type": "code",
   "execution_count": 9,
   "metadata": {},
   "outputs": [
    {
     "data": {
      "text/plain": [
       "['52f5655387a4bdcb850a93ce7223979b4a360fa146c89c47d5d897d10a13f76e',\n",
       " '37d52dabac00945d10d0879cad2564b4985b1a3303e4b5d571fe1f0f733bb66f',\n",
       " '59f7ac6c8ec549f037cd7188ca36e499099f041159cfd990f55df64f3af9b03b']"
      ]
     },
     "execution_count": 9,
     "metadata": {},
     "output_type": "execute_result"
    }
   ],
   "source": [
    "hashed_emails: list[str] = [hash_data(email) for email in df['Email']]\n",
    "hashed_emails"
   ]
  },
  {
   "cell_type": "code",
   "execution_count": 10,
   "metadata": {},
   "outputs": [
    {
     "data": {
      "text/html": [
       "<div>\n",
       "<style scoped>\n",
       "    .dataframe tbody tr th:only-of-type {\n",
       "        vertical-align: middle;\n",
       "    }\n",
       "\n",
       "    .dataframe tbody tr th {\n",
       "        vertical-align: top;\n",
       "    }\n",
       "\n",
       "    .dataframe thead th {\n",
       "        text-align: right;\n",
       "    }\n",
       "</style>\n",
       "<table border=\"1\" class=\"dataframe\">\n",
       "  <thead>\n",
       "    <tr style=\"text-align: right;\">\n",
       "      <th></th>\n",
       "      <th>Email</th>\n",
       "      <th>Ubicación</th>\n",
       "      <th>UUID</th>\n",
       "    </tr>\n",
       "  </thead>\n",
       "  <tbody>\n",
       "    <tr>\n",
       "      <th>0</th>\n",
       "      <td>52f5655387a4bdcb850a93ce7223979b4a360fa146c89c...</td>\n",
       "      <td>Ciudad A</td>\n",
       "      <td>ffcc810c-bab8-46fc-a512-9a09ae234558</td>\n",
       "    </tr>\n",
       "    <tr>\n",
       "      <th>1</th>\n",
       "      <td>37d52dabac00945d10d0879cad2564b4985b1a3303e4b5...</td>\n",
       "      <td>Ciudad B</td>\n",
       "      <td>1a31bc23-e80a-4085-84de-ffdc91e3bf8b</td>\n",
       "    </tr>\n",
       "    <tr>\n",
       "      <th>2</th>\n",
       "      <td>59f7ac6c8ec549f037cd7188ca36e499099f041159cfd9...</td>\n",
       "      <td>Ciudad C</td>\n",
       "      <td>aed2ef66-22a4-4c36-9303-e5e93226a3a5</td>\n",
       "    </tr>\n",
       "  </tbody>\n",
       "</table>\n",
       "</div>"
      ],
      "text/plain": [
       "                                               Email Ubicación  \\\n",
       "0  52f5655387a4bdcb850a93ce7223979b4a360fa146c89c...  Ciudad A   \n",
       "1  37d52dabac00945d10d0879cad2564b4985b1a3303e4b5...  Ciudad B   \n",
       "2  59f7ac6c8ec549f037cd7188ca36e499099f041159cfd9...  Ciudad C   \n",
       "\n",
       "                                   UUID  \n",
       "0  ffcc810c-bab8-46fc-a512-9a09ae234558  \n",
       "1  1a31bc23-e80a-4085-84de-ffdc91e3bf8b  \n",
       "2  aed2ef66-22a4-4c36-9303-e5e93226a3a5  "
      ]
     },
     "execution_count": 10,
     "metadata": {},
     "output_type": "execute_result"
    }
   ],
   "source": [
    "df['Email'] = hashed_emails\n",
    "df"
   ]
  },
  {
   "cell_type": "markdown",
   "metadata": {},
   "source": [
    "### Tokenización\n",
    "\n",
    "Al igual que el hashing, transforma los valores sensibles en valores de fantasía irreconocibles, con la diferencia de que la tokenización **sí preserva los valores originales** y permite que el usuario investigador manipule los valores de fantasía, mientras que el programa internamente hace sus procesos con la información verdadera. Los valores de fantasía son llamados **tokens**.\n",
    "\n",
    "Es una técnica ampliamente utilizada en casos donde la **información privada** simplemente **no puede ser eliminada** (por ejemplo, en la base de datos de un centro médico)."
   ]
  },
  {
   "cell_type": "code",
   "execution_count": 12,
   "metadata": {},
   "outputs": [],
   "source": [
    "tokens: dict[str, str] = {}"
   ]
  },
  {
   "cell_type": "code",
   "execution_count": 13,
   "metadata": {},
   "outputs": [],
   "source": [
    "def generate_token(data: Any) -> str:\n",
    "    \"\"\"\n",
    "    Tokenize the input data.\n",
    "    \"\"\"\n",
    "    token: str = str(uuid.uuid4())\n",
    "    tokens[token] = data\n",
    "    return token"
   ]
  },
  {
   "cell_type": "code",
   "execution_count": 14,
   "metadata": {},
   "outputs": [],
   "source": [
    "def recover_data(token: str) -> Any:\n",
    "    \"\"\"\n",
    "    Recover the original data from the token.\n",
    "    \"\"\"\n",
    "    return tokens.get(token, 'Invalid token!')"
   ]
  },
  {
   "cell_type": "code",
   "execution_count": 15,
   "metadata": {},
   "outputs": [
    {
     "data": {
      "text/plain": [
       "'107d4f52-752a-4c68-9b88-a41f66b14dc4'"
      ]
     },
     "execution_count": 15,
     "metadata": {},
     "output_type": "execute_result"
    }
   ],
   "source": [
    "original_data_example: str = '123-456-789'\n",
    "token: str = generate_token(original_data_example)\n",
    "token"
   ]
  },
  {
   "cell_type": "code",
   "execution_count": 16,
   "metadata": {},
   "outputs": [
    {
     "data": {
      "text/plain": [
       "'123-456-789'"
      ]
     },
     "execution_count": 16,
     "metadata": {},
     "output_type": "execute_result"
    }
   ],
   "source": [
    "recovered_data_example: str = recover_data(token)\n",
    "recovered_data_example"
   ]
  }
 ],
 "metadata": {
  "kernelspec": {
   "display_name": "base",
   "language": "python",
   "name": "python3"
  },
  "language_info": {
   "codemirror_mode": {
    "name": "ipython",
    "version": 3
   },
   "file_extension": ".py",
   "mimetype": "text/x-python",
   "name": "python",
   "nbconvert_exporter": "python",
   "pygments_lexer": "ipython3",
   "version": "3.12.4"
  }
 },
 "nbformat": 4,
 "nbformat_minor": 2
}
