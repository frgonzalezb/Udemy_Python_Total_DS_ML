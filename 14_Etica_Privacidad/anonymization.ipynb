{
 "cells": [
  {
   "cell_type": "markdown",
   "metadata": {},
   "source": [
    "# Anonimización de Datos en Data Science"
   ]
  },
  {
   "cell_type": "markdown",
   "metadata": {},
   "source": [
    "Método que, a diferencia de la pseudonimización, **elimina permanentemente cualquier información que pudiera identificar a una persona**, preservando sólo aquellos datos que son necesarios para la investigación. Es la opción por defecto para estudios que buscan resultados generalizables. Datos como nombre, apellido, código de documento ID, o número de teléfono, etc. **no son relevantes** para asuntos estadísticos reales."
   ]
  },
  {
   "cell_type": "code",
   "execution_count": 1,
   "metadata": {},
   "outputs": [],
   "source": [
    "from typing import Any\n",
    "\n",
    "import numpy as np\n",
    "import pandas as pd"
   ]
  },
  {
   "cell_type": "markdown",
   "metadata": {},
   "source": [
    "## Caso de ejemplo"
   ]
  },
  {
   "cell_type": "markdown",
   "metadata": {},
   "source": [
    "**NOTA PERSONAL:** Los datos aquí trabajados (proporcionados por Federico) son obviamente de tipo _dummy_ (no reales). Sin embargo, para complementar la información dada en este curso, debe considerarse que, en el mundo real, los datos pueden ser proveídos directamente desde fuentes tales como archivos locales (CSV, XLSX, etc.) o una **base de datos** local; o bien, indirectamente desde servicios online a través de una **API**. Sobre esto último, es conveniente tomar algunas precauciones tales como asegurarse de usar siempre **conexiones seguras**, y de tener un manejo estrictamente cuidadoso de los datos sensibles como las credenciales de autenticación, las claves de las API, y otras **variables de entorno**, a fin de evitar cualquier fuga de datos. 🚨"
   ]
  },
  {
   "cell_type": "code",
   "execution_count": 2,
   "metadata": {},
   "outputs": [
    {
     "data": {
      "text/html": [
       "<div>\n",
       "<style scoped>\n",
       "    .dataframe tbody tr th:only-of-type {\n",
       "        vertical-align: middle;\n",
       "    }\n",
       "\n",
       "    .dataframe tbody tr th {\n",
       "        vertical-align: top;\n",
       "    }\n",
       "\n",
       "    .dataframe thead th {\n",
       "        text-align: right;\n",
       "    }\n",
       "</style>\n",
       "<table border=\"1\" class=\"dataframe\">\n",
       "  <thead>\n",
       "    <tr style=\"text-align: right;\">\n",
       "      <th></th>\n",
       "      <th>Nombre</th>\n",
       "      <th>Email</th>\n",
       "      <th>Edad</th>\n",
       "      <th>Ubicación</th>\n",
       "      <th>Salario</th>\n",
       "      <th>Banco</th>\n",
       "    </tr>\n",
       "  </thead>\n",
       "  <tbody>\n",
       "    <tr>\n",
       "      <th>0</th>\n",
       "      <td>Ana</td>\n",
       "      <td>ana@ejemplo.com</td>\n",
       "      <td>22</td>\n",
       "      <td>Ciudad A</td>\n",
       "      <td>55000</td>\n",
       "      <td>Banco 1</td>\n",
       "    </tr>\n",
       "    <tr>\n",
       "      <th>1</th>\n",
       "      <td>Juan</td>\n",
       "      <td>juan@ejemplo.com</td>\n",
       "      <td>37</td>\n",
       "      <td>Ciudad B</td>\n",
       "      <td>34000</td>\n",
       "      <td>Banco 3</td>\n",
       "    </tr>\n",
       "    <tr>\n",
       "      <th>2</th>\n",
       "      <td>Luis</td>\n",
       "      <td>luis@ejemplo.com</td>\n",
       "      <td>15</td>\n",
       "      <td>Ciudad C</td>\n",
       "      <td>76000</td>\n",
       "      <td>Banco 1</td>\n",
       "    </tr>\n",
       "    <tr>\n",
       "      <th>3</th>\n",
       "      <td>Pedro</td>\n",
       "      <td>pedro@ejemplo.com</td>\n",
       "      <td>49</td>\n",
       "      <td>Ciudad D</td>\n",
       "      <td>51000</td>\n",
       "      <td>Banco 2</td>\n",
       "    </tr>\n",
       "    <tr>\n",
       "      <th>4</th>\n",
       "      <td>Silvina</td>\n",
       "      <td>silvina@ejemplo.com</td>\n",
       "      <td>63</td>\n",
       "      <td>Ciudad E</td>\n",
       "      <td>62000</td>\n",
       "      <td>Banco 3</td>\n",
       "    </tr>\n",
       "  </tbody>\n",
       "</table>\n",
       "</div>"
      ],
      "text/plain": [
       "    Nombre                Email  Edad Ubicación  Salario    Banco\n",
       "0      Ana      ana@ejemplo.com    22  Ciudad A    55000  Banco 1\n",
       "1     Juan     juan@ejemplo.com    37  Ciudad B    34000  Banco 3\n",
       "2     Luis     luis@ejemplo.com    15  Ciudad C    76000  Banco 1\n",
       "3    Pedro    pedro@ejemplo.com    49  Ciudad D    51000  Banco 2\n",
       "4  Silvina  silvina@ejemplo.com    63  Ciudad E    62000  Banco 3"
      ]
     },
     "execution_count": 2,
     "metadata": {},
     "output_type": "execute_result"
    }
   ],
   "source": [
    "names: list[str] = ['Ana', 'Juan', 'Luis', 'Pedro', 'Silvina']\n",
    "emails: list[str] = [\n",
    "    'ana@ejemplo.com',\n",
    "    'juan@ejemplo.com',\n",
    "    'luis@ejemplo.com',\n",
    "    'pedro@ejemplo.com',\n",
    "    'silvina@ejemplo.com'\n",
    "]\n",
    "ages: list[int] = [22, 37, 15, 49, 63]\n",
    "cities: list[str] = [\n",
    "    'Ciudad A',\n",
    "    'Ciudad B',\n",
    "    'Ciudad C',\n",
    "    'Ciudad D',\n",
    "    'Ciudad E'\n",
    "]\n",
    "salaries: list[int] = [55000, 34000, 76000, 51000, 62000]\n",
    "banks: list[str] = ['Banco 1', 'Banco 3', 'Banco 1', 'Banco 2', 'Banco 3']\n",
    "\n",
    "data: dict[str, Any] = {\n",
    "    'Nombre': names,\n",
    "    'Email': emails,\n",
    "    'Edad': ages,\n",
    "    'Ubicación': cities,\n",
    "    'Salario': salaries,\n",
    "    'Banco': banks\n",
    "}\n",
    "\n",
    "df: pd.DataFrame = pd.DataFrame(data)\n",
    "df"
   ]
  },
  {
   "cell_type": "markdown",
   "metadata": {},
   "source": [
    "Primero, eliminemos nombres y correos electrónicos:"
   ]
  },
  {
   "cell_type": "code",
   "execution_count": 3,
   "metadata": {},
   "outputs": [
    {
     "data": {
      "text/html": [
       "<div>\n",
       "<style scoped>\n",
       "    .dataframe tbody tr th:only-of-type {\n",
       "        vertical-align: middle;\n",
       "    }\n",
       "\n",
       "    .dataframe tbody tr th {\n",
       "        vertical-align: top;\n",
       "    }\n",
       "\n",
       "    .dataframe thead th {\n",
       "        text-align: right;\n",
       "    }\n",
       "</style>\n",
       "<table border=\"1\" class=\"dataframe\">\n",
       "  <thead>\n",
       "    <tr style=\"text-align: right;\">\n",
       "      <th></th>\n",
       "      <th>Edad</th>\n",
       "      <th>Ubicación</th>\n",
       "      <th>Salario</th>\n",
       "      <th>Banco</th>\n",
       "    </tr>\n",
       "  </thead>\n",
       "  <tbody>\n",
       "    <tr>\n",
       "      <th>0</th>\n",
       "      <td>22</td>\n",
       "      <td>Ciudad A</td>\n",
       "      <td>55000</td>\n",
       "      <td>Banco 1</td>\n",
       "    </tr>\n",
       "    <tr>\n",
       "      <th>1</th>\n",
       "      <td>37</td>\n",
       "      <td>Ciudad B</td>\n",
       "      <td>34000</td>\n",
       "      <td>Banco 3</td>\n",
       "    </tr>\n",
       "    <tr>\n",
       "      <th>2</th>\n",
       "      <td>15</td>\n",
       "      <td>Ciudad C</td>\n",
       "      <td>76000</td>\n",
       "      <td>Banco 1</td>\n",
       "    </tr>\n",
       "    <tr>\n",
       "      <th>3</th>\n",
       "      <td>49</td>\n",
       "      <td>Ciudad D</td>\n",
       "      <td>51000</td>\n",
       "      <td>Banco 2</td>\n",
       "    </tr>\n",
       "    <tr>\n",
       "      <th>4</th>\n",
       "      <td>63</td>\n",
       "      <td>Ciudad E</td>\n",
       "      <td>62000</td>\n",
       "      <td>Banco 3</td>\n",
       "    </tr>\n",
       "  </tbody>\n",
       "</table>\n",
       "</div>"
      ],
      "text/plain": [
       "   Edad Ubicación  Salario    Banco\n",
       "0    22  Ciudad A    55000  Banco 1\n",
       "1    37  Ciudad B    34000  Banco 3\n",
       "2    15  Ciudad C    76000  Banco 1\n",
       "3    49  Ciudad D    51000  Banco 2\n",
       "4    63  Ciudad E    62000  Banco 3"
      ]
     },
     "execution_count": 3,
     "metadata": {},
     "output_type": "execute_result"
    }
   ],
   "source": [
    "df.drop(['Nombre', 'Email'], axis=1, inplace=True)\n",
    "df"
   ]
  },
  {
   "cell_type": "markdown",
   "metadata": {},
   "source": [
    "Con esto, ya se ha logrado anonimizar las instancias en gran medida, pero no es la única medida y se puede proceder aún más para garantizar la anonimización al máximo."
   ]
  },
  {
   "cell_type": "markdown",
   "metadata": {},
   "source": [
    "**NOTA DE FEDERICO:** Una estrategia de anonimización es el **redondeo** o **truncado** de datos numéricos tales como edades, fechas, números de documentos, etc., ya que podemos seguir investigando aspectos generales de la información, pero sin tener la información demasiado específica."
   ]
  },
  {
   "cell_type": "code",
   "execution_count": 4,
   "metadata": {},
   "outputs": [
    {
     "data": {
      "text/html": [
       "<div>\n",
       "<style scoped>\n",
       "    .dataframe tbody tr th:only-of-type {\n",
       "        vertical-align: middle;\n",
       "    }\n",
       "\n",
       "    .dataframe tbody tr th {\n",
       "        vertical-align: top;\n",
       "    }\n",
       "\n",
       "    .dataframe thead th {\n",
       "        text-align: right;\n",
       "    }\n",
       "</style>\n",
       "<table border=\"1\" class=\"dataframe\">\n",
       "  <thead>\n",
       "    <tr style=\"text-align: right;\">\n",
       "      <th></th>\n",
       "      <th>Edad</th>\n",
       "      <th>Ubicación</th>\n",
       "      <th>Salario</th>\n",
       "      <th>Banco</th>\n",
       "    </tr>\n",
       "  </thead>\n",
       "  <tbody>\n",
       "    <tr>\n",
       "      <th>0</th>\n",
       "      <td>20</td>\n",
       "      <td>Ciudad A</td>\n",
       "      <td>55000</td>\n",
       "      <td>Banco 1</td>\n",
       "    </tr>\n",
       "    <tr>\n",
       "      <th>1</th>\n",
       "      <td>30</td>\n",
       "      <td>Ciudad B</td>\n",
       "      <td>34000</td>\n",
       "      <td>Banco 3</td>\n",
       "    </tr>\n",
       "    <tr>\n",
       "      <th>2</th>\n",
       "      <td>10</td>\n",
       "      <td>Ciudad C</td>\n",
       "      <td>76000</td>\n",
       "      <td>Banco 1</td>\n",
       "    </tr>\n",
       "    <tr>\n",
       "      <th>3</th>\n",
       "      <td>40</td>\n",
       "      <td>Ciudad D</td>\n",
       "      <td>51000</td>\n",
       "      <td>Banco 2</td>\n",
       "    </tr>\n",
       "    <tr>\n",
       "      <th>4</th>\n",
       "      <td>60</td>\n",
       "      <td>Ciudad E</td>\n",
       "      <td>62000</td>\n",
       "      <td>Banco 3</td>\n",
       "    </tr>\n",
       "  </tbody>\n",
       "</table>\n",
       "</div>"
      ],
      "text/plain": [
       "   Edad Ubicación  Salario    Banco\n",
       "0    20  Ciudad A    55000  Banco 1\n",
       "1    30  Ciudad B    34000  Banco 3\n",
       "2    10  Ciudad C    76000  Banco 1\n",
       "3    40  Ciudad D    51000  Banco 2\n",
       "4    60  Ciudad E    62000  Banco 3"
      ]
     },
     "execution_count": 4,
     "metadata": {},
     "output_type": "execute_result"
    }
   ],
   "source": [
    "# Transformar edades a sus respectivas décadas\n",
    "df['Edad'] = (df['Edad'] // 10) * 10\n",
    "df"
   ]
  },
  {
   "cell_type": "markdown",
   "metadata": {},
   "source": [
    "En el ejemplo, ya no es que la persona en el índice `0` tenga `22` años (dato específico), sino que \"está en sus veintes\" (dato inespecífico, pero útil para efectos de investigación y que, dicho sea de paso, facilita enormemente el análisis por rangos etáreos)."
   ]
  },
  {
   "cell_type": "markdown",
   "metadata": {},
   "source": [
    "**NOTA DE FEDERICO:** Otra estrategia de anonimización de datos numéricos es añadir **ruido aleatorio** para desvincularlos de su valor real, útil para ofuscar valores exactos o patrones específicos en el conjunto de datos, aunque preservando la utilidad estadística. Es decir, **modifica los datos individuales, pero mantiene las propiedades generales** del conjunto (tales como la media, la desviación estándar, la varianza, etc.).\n"
   ]
  },
  {
   "cell_type": "markdown",
   "metadata": {},
   "source": [
    "**NOTA PERSONAL:** En el habla cotidiana, \"ruido\" es prácticamente sinónimo de cualquier cosa \"aleatoria\" (como en el caso del [ruido blanco](https://es.wikipedia.org/wiki/Ruido_blanco)), pero debemos recordar que, en la jerga técnica, sí hay una distinción muy importante entre lo \"aleatorio\" y lo \"pseudoaleatorio\", en donde el último implica cierto determinismo (y, por ende, probabilidades de trazabilidad)."
   ]
  },
  {
   "cell_type": "code",
   "execution_count": 5,
   "metadata": {},
   "outputs": [
    {
     "data": {
      "text/plain": [
       "array([ -1398.150668  , -18640.42613047,  10925.14896557,  12413.93708749,\n",
       "       -15703.3832971 ])"
      ]
     },
     "execution_count": 5,
     "metadata": {},
     "output_type": "execute_result"
    }
   ],
   "source": [
    "# Generar ruido, manteniendo distribución normal\n",
    "noise: np.ndarray = np.random.normal(0, 10000, size=df['Salario'].shape)\n",
    "noise"
   ]
  },
  {
   "cell_type": "code",
   "execution_count": 6,
   "metadata": {},
   "outputs": [
    {
     "data": {
      "text/html": [
       "<div>\n",
       "<style scoped>\n",
       "    .dataframe tbody tr th:only-of-type {\n",
       "        vertical-align: middle;\n",
       "    }\n",
       "\n",
       "    .dataframe tbody tr th {\n",
       "        vertical-align: top;\n",
       "    }\n",
       "\n",
       "    .dataframe thead th {\n",
       "        text-align: right;\n",
       "    }\n",
       "</style>\n",
       "<table border=\"1\" class=\"dataframe\">\n",
       "  <thead>\n",
       "    <tr style=\"text-align: right;\">\n",
       "      <th></th>\n",
       "      <th>Edad</th>\n",
       "      <th>Ubicación</th>\n",
       "      <th>Salario</th>\n",
       "      <th>Banco</th>\n",
       "    </tr>\n",
       "  </thead>\n",
       "  <tbody>\n",
       "    <tr>\n",
       "      <th>0</th>\n",
       "      <td>20</td>\n",
       "      <td>Ciudad A</td>\n",
       "      <td>53601.849332</td>\n",
       "      <td>Banco 1</td>\n",
       "    </tr>\n",
       "    <tr>\n",
       "      <th>1</th>\n",
       "      <td>30</td>\n",
       "      <td>Ciudad B</td>\n",
       "      <td>15359.573870</td>\n",
       "      <td>Banco 3</td>\n",
       "    </tr>\n",
       "    <tr>\n",
       "      <th>2</th>\n",
       "      <td>10</td>\n",
       "      <td>Ciudad C</td>\n",
       "      <td>86925.148966</td>\n",
       "      <td>Banco 1</td>\n",
       "    </tr>\n",
       "    <tr>\n",
       "      <th>3</th>\n",
       "      <td>40</td>\n",
       "      <td>Ciudad D</td>\n",
       "      <td>63413.937087</td>\n",
       "      <td>Banco 2</td>\n",
       "    </tr>\n",
       "    <tr>\n",
       "      <th>4</th>\n",
       "      <td>60</td>\n",
       "      <td>Ciudad E</td>\n",
       "      <td>46296.616703</td>\n",
       "      <td>Banco 3</td>\n",
       "    </tr>\n",
       "  </tbody>\n",
       "</table>\n",
       "</div>"
      ],
      "text/plain": [
       "   Edad Ubicación       Salario    Banco\n",
       "0    20  Ciudad A  53601.849332  Banco 1\n",
       "1    30  Ciudad B  15359.573870  Banco 3\n",
       "2    10  Ciudad C  86925.148966  Banco 1\n",
       "3    40  Ciudad D  63413.937087  Banco 2\n",
       "4    60  Ciudad E  46296.616703  Banco 3"
      ]
     },
     "execution_count": 6,
     "metadata": {},
     "output_type": "execute_result"
    }
   ],
   "source": [
    "# Ofuscar con ruido\n",
    "df['Salario'] += noise\n",
    "df"
   ]
  },
  {
   "cell_type": "markdown",
   "metadata": {},
   "source": [
    "**NOTA DE FEDERICO:** Otra estrategia de anonimización para datos de tipo cadena es la de **permutación** o **shuffling** y consiste en cambiar de orden ciertos datos, de modo que se pierda la relación que hay entre esos valores con otros campos del dataset."
   ]
  },
  {
   "cell_type": "markdown",
   "metadata": {},
   "source": [
    "Supongamos que no queremos que se sepa en qué banco cada uno de sus usuarios cobra su sueldo:"
   ]
  },
  {
   "cell_type": "code",
   "execution_count": 7,
   "metadata": {},
   "outputs": [
    {
     "data": {
      "text/html": [
       "<div>\n",
       "<style scoped>\n",
       "    .dataframe tbody tr th:only-of-type {\n",
       "        vertical-align: middle;\n",
       "    }\n",
       "\n",
       "    .dataframe tbody tr th {\n",
       "        vertical-align: top;\n",
       "    }\n",
       "\n",
       "    .dataframe thead th {\n",
       "        text-align: right;\n",
       "    }\n",
       "</style>\n",
       "<table border=\"1\" class=\"dataframe\">\n",
       "  <thead>\n",
       "    <tr style=\"text-align: right;\">\n",
       "      <th></th>\n",
       "      <th>Edad</th>\n",
       "      <th>Ubicación</th>\n",
       "      <th>Salario</th>\n",
       "      <th>Banco</th>\n",
       "    </tr>\n",
       "  </thead>\n",
       "  <tbody>\n",
       "    <tr>\n",
       "      <th>0</th>\n",
       "      <td>20</td>\n",
       "      <td>Ciudad A</td>\n",
       "      <td>53601.849332</td>\n",
       "      <td>Banco 1</td>\n",
       "    </tr>\n",
       "    <tr>\n",
       "      <th>1</th>\n",
       "      <td>30</td>\n",
       "      <td>Ciudad B</td>\n",
       "      <td>15359.573870</td>\n",
       "      <td>Banco 3</td>\n",
       "    </tr>\n",
       "    <tr>\n",
       "      <th>2</th>\n",
       "      <td>10</td>\n",
       "      <td>Ciudad C</td>\n",
       "      <td>86925.148966</td>\n",
       "      <td>Banco 3</td>\n",
       "    </tr>\n",
       "    <tr>\n",
       "      <th>3</th>\n",
       "      <td>40</td>\n",
       "      <td>Ciudad D</td>\n",
       "      <td>63413.937087</td>\n",
       "      <td>Banco 1</td>\n",
       "    </tr>\n",
       "    <tr>\n",
       "      <th>4</th>\n",
       "      <td>60</td>\n",
       "      <td>Ciudad E</td>\n",
       "      <td>46296.616703</td>\n",
       "      <td>Banco 2</td>\n",
       "    </tr>\n",
       "  </tbody>\n",
       "</table>\n",
       "</div>"
      ],
      "text/plain": [
       "   Edad Ubicación       Salario    Banco\n",
       "0    20  Ciudad A  53601.849332  Banco 1\n",
       "1    30  Ciudad B  15359.573870  Banco 3\n",
       "2    10  Ciudad C  86925.148966  Banco 3\n",
       "3    40  Ciudad D  63413.937087  Banco 1\n",
       "4    60  Ciudad E  46296.616703  Banco 2"
      ]
     },
     "execution_count": 7,
     "metadata": {},
     "output_type": "execute_result"
    }
   ],
   "source": [
    "df['Banco'] = np.random.permutation(df['Banco'])\n",
    "df"
   ]
  },
  {
   "cell_type": "markdown",
   "metadata": {},
   "source": [
    "**NOTA DE FEDERICO:** ¡La permutación sólo puede implementarse cuando la relación entre la columna objetivo y otras NO sea relevante para los objetivos del estudio! ☝"
   ]
  }
 ],
 "metadata": {
  "kernelspec": {
   "display_name": "base",
   "language": "python",
   "name": "python3"
  },
  "language_info": {
   "codemirror_mode": {
    "name": "ipython",
    "version": 3
   },
   "file_extension": ".py",
   "mimetype": "text/x-python",
   "name": "python",
   "nbconvert_exporter": "python",
   "pygments_lexer": "ipython3",
   "version": "3.12.4"
  }
 },
 "nbformat": 4,
 "nbformat_minor": 2
}
