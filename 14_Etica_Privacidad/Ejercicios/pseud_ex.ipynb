{
 "cells": [
  {
   "cell_type": "markdown",
   "metadata": {},
   "source": [
    "# Pseudonimización de Datos en Data Science 1\n",
    "Dado el DataFrame `df`:\n",
    "```\n",
    "df = pd.DataFrame({\n",
    "    'nombre': ['Ana', 'Juan', 'Luis'],\n",
    "    'email': ['ana@example.com', 'juan@example.com', 'luis@example.com'],\n",
    "    'ubicacion': ['Ciudad A', 'Ciudad B', 'Ciudad C']\n",
    "})\n",
    "```\n",
    "Utiliza la biblioteca `uuid` para generar identificadores únicos para cada persona y añádelos al DataFrame.\n",
    "\n",
    "**Instrucciones:**\n",
    "\n",
    "1. Genera una lista de identificadores únicos utilizando la biblioteca `uuid`.\n",
    "\n",
    "2. Añade esta lista al DataFrame como una nueva columna llamada `'id_pseudo'`.\n",
    "\n",
    "3. Elimina la columna `'nombre'` del DataFrame."
   ]
  },
  {
   "cell_type": "code",
   "execution_count": 1,
   "metadata": {},
   "outputs": [
    {
     "data": {
      "text/html": [
       "<div>\n",
       "<style scoped>\n",
       "    .dataframe tbody tr th:only-of-type {\n",
       "        vertical-align: middle;\n",
       "    }\n",
       "\n",
       "    .dataframe tbody tr th {\n",
       "        vertical-align: top;\n",
       "    }\n",
       "\n",
       "    .dataframe thead th {\n",
       "        text-align: right;\n",
       "    }\n",
       "</style>\n",
       "<table border=\"1\" class=\"dataframe\">\n",
       "  <thead>\n",
       "    <tr style=\"text-align: right;\">\n",
       "      <th></th>\n",
       "      <th>email</th>\n",
       "      <th>ubicacion</th>\n",
       "      <th>id_pseudo</th>\n",
       "    </tr>\n",
       "  </thead>\n",
       "  <tbody>\n",
       "    <tr>\n",
       "      <th>0</th>\n",
       "      <td>ana@example.com</td>\n",
       "      <td>Ciudad A</td>\n",
       "      <td>3c7bfbe0-e3b3-4dea-9843-0bd03e014778</td>\n",
       "    </tr>\n",
       "    <tr>\n",
       "      <th>1</th>\n",
       "      <td>juan@example.com</td>\n",
       "      <td>Ciudad B</td>\n",
       "      <td>b1638c29-85f7-450d-b587-a45bf28bbcdc</td>\n",
       "    </tr>\n",
       "    <tr>\n",
       "      <th>2</th>\n",
       "      <td>luis@example.com</td>\n",
       "      <td>Ciudad C</td>\n",
       "      <td>4a887469-1e66-428e-88e5-1e4c0deb346a</td>\n",
       "    </tr>\n",
       "  </tbody>\n",
       "</table>\n",
       "</div>"
      ],
      "text/plain": [
       "              email ubicacion                             id_pseudo\n",
       "0   ana@example.com  Ciudad A  3c7bfbe0-e3b3-4dea-9843-0bd03e014778\n",
       "1  juan@example.com  Ciudad B  b1638c29-85f7-450d-b587-a45bf28bbcdc\n",
       "2  luis@example.com  Ciudad C  4a887469-1e66-428e-88e5-1e4c0deb346a"
      ]
     },
     "execution_count": 1,
     "metadata": {},
     "output_type": "execute_result"
    }
   ],
   "source": [
    "import uuid\n",
    "import pandas as pd\n",
    "\n",
    "\n",
    "df = pd.DataFrame({\n",
    "    'nombre': ['Ana', 'Juan', 'Luis'],\n",
    "    'email': ['ana@example.com', 'juan@example.com', 'luis@example.com'],\n",
    "    'ubicacion': ['Ciudad A', 'Ciudad B', 'Ciudad C']\n",
    "})\n",
    "\n",
    "uuid_container: list[str] = []\n",
    "\n",
    "for _ in range(len(df)):\n",
    "    uuid_container.append(str(uuid.uuid4()))\n",
    "\n",
    "df['id_pseudo'] = uuid_container\n",
    "df.drop(['nombre'], axis=1, inplace=True)\n",
    "df"
   ]
  },
  {
   "cell_type": "markdown",
   "metadata": {},
   "source": [
    "# Pseudonimización de Datos en Data Science 2\n",
    "Dado el DataFrame `df`:\n",
    "```\n",
    "import pandas as pd\n",
    " \n",
    "df = pd.DataFrame({\n",
    "    'nombre': ['Ana', 'Juan', 'Luis'],\n",
    "    'email': ['ana@example.com', 'juan@example.com', 'luis@example.com'],\n",
    "    'ubicacion': ['Ciudad A', 'Ciudad B', 'Ciudad C']\n",
    "})\n",
    "```\n",
    "Utiliza la biblioteca `hashlib` para pseudonimizar la columna de correos electrónicos en el DataFrame. La pseudonimización debe realizarse generando un hash SHA-256 para cada correo electrónico.\n",
    "\n",
    "**Instrucciones:**\n",
    "\n",
    "1. Utiliza la biblioteca `hashlib` para generar un hash SHA-256 para cada valor en la columna `'email'`.\n",
    "\n",
    "2. Añade esta información pseudonimizada al DataFrame como una nueva columna llamada `'email_pseudo'`.\n",
    "\n",
    "3. Elimina la columna `'email'` del DataFrame."
   ]
  },
  {
   "cell_type": "code",
   "execution_count": 3,
   "metadata": {},
   "outputs": [
    {
     "data": {
      "text/html": [
       "<div>\n",
       "<style scoped>\n",
       "    .dataframe tbody tr th:only-of-type {\n",
       "        vertical-align: middle;\n",
       "    }\n",
       "\n",
       "    .dataframe tbody tr th {\n",
       "        vertical-align: top;\n",
       "    }\n",
       "\n",
       "    .dataframe thead th {\n",
       "        text-align: right;\n",
       "    }\n",
       "</style>\n",
       "<table border=\"1\" class=\"dataframe\">\n",
       "  <thead>\n",
       "    <tr style=\"text-align: right;\">\n",
       "      <th></th>\n",
       "      <th>nombre</th>\n",
       "      <th>ubicacion</th>\n",
       "      <th>email_pseudo</th>\n",
       "    </tr>\n",
       "  </thead>\n",
       "  <tbody>\n",
       "    <tr>\n",
       "      <th>0</th>\n",
       "      <td>Ana</td>\n",
       "      <td>Ciudad A</td>\n",
       "      <td>8e43ca37701228e74983efdbd0cff5c16b3b1e5d4e29a7...</td>\n",
       "    </tr>\n",
       "    <tr>\n",
       "      <th>1</th>\n",
       "      <td>Juan</td>\n",
       "      <td>Ciudad B</td>\n",
       "      <td>81b562a0fe2aecc8831e2d7c9942f319736afc2a99415e...</td>\n",
       "    </tr>\n",
       "    <tr>\n",
       "      <th>2</th>\n",
       "      <td>Luis</td>\n",
       "      <td>Ciudad C</td>\n",
       "      <td>861d62c5b964e71b42e61aeb4e876f86908a86300b15b2...</td>\n",
       "    </tr>\n",
       "  </tbody>\n",
       "</table>\n",
       "</div>"
      ],
      "text/plain": [
       "  nombre ubicacion                                       email_pseudo\n",
       "0    Ana  Ciudad A  8e43ca37701228e74983efdbd0cff5c16b3b1e5d4e29a7...\n",
       "1   Juan  Ciudad B  81b562a0fe2aecc8831e2d7c9942f319736afc2a99415e...\n",
       "2   Luis  Ciudad C  861d62c5b964e71b42e61aeb4e876f86908a86300b15b2..."
      ]
     },
     "execution_count": 3,
     "metadata": {},
     "output_type": "execute_result"
    }
   ],
   "source": [
    "import hashlib\n",
    "from typing import Any\n",
    "\n",
    "import pandas as pd\n",
    "\n",
    "\n",
    "def hash_data(data: Any) -> str:\n",
    "    \"\"\"\n",
    "    Return the SHA256 hash of the input data.\n",
    "    \"\"\"\n",
    "    return hashlib.sha256(data.encode('utf-8')).hexdigest()\n",
    "\n",
    "\n",
    "df = pd.DataFrame({\n",
    "    'nombre': ['Ana', 'Juan', 'Luis'],\n",
    "    'email': ['ana@example.com', 'juan@example.com', 'luis@example.com'],\n",
    "    'ubicacion': ['Ciudad A', 'Ciudad B', 'Ciudad C']\n",
    "})\n",
    "\n",
    "hashed_emails: list[str] = [hash_data(email) for email in df['email']]\n",
    "df['email_pseudo'] = hashed_emails\n",
    "df.drop(['email'], axis=1, inplace=True)\n",
    "df"
   ]
  },
  {
   "cell_type": "markdown",
   "metadata": {},
   "source": [
    "# Pseudonimización de Datos en Data Science 3\n",
    "\n",
    "**Tokenización de Nombres**\n",
    "\n",
    "1. Crea un diccionario vacio llamado `mis_tokens`\n",
    "\n",
    "2. Crea una función llamada `tokenizar` para generar un token y guardar el nombre original. Esta función debe recibir un `nombre` como parámetro.\n",
    "\n",
    "3. Crea una función llamada `recuperar_dato` a la cual le pases como parámetro un `token`.  Esta función debe ser capaz de nombre a partir de un token.\n",
    "\n",
    "4. Crea la variable `dato_original` y almacena el nombre: `\"Ana\"` No debes almacenar un nombre distinto de \"Ana\"."
   ]
  },
  {
   "cell_type": "code",
   "execution_count": 5,
   "metadata": {},
   "outputs": [
    {
     "name": "stdout",
     "output_type": "stream",
     "text": [
      "token='4766f073-6de8-4450-9acb-61d1c3de06e1'\n",
      "recuperado='Ana'\n"
     ]
    }
   ],
   "source": [
    "import uuid\n",
    "\n",
    "\n",
    "mis_tokens = {}\n",
    "\n",
    "\n",
    "# Función para generar token y guardar el nombre original\n",
    "def tokenizar(nombre):\n",
    "    token: str = str(uuid.uuid4())\n",
    "    mis_tokens[token] = nombre\n",
    "    return token\n",
    "\n",
    "\n",
    "# Función para recuperar el nombre a partir de un token\n",
    "def recuperar_dato(token):\n",
    "    return mis_tokens.get(token, 'Invalid token!')\n",
    "\n",
    "\n",
    "dato_original = \"Ana\"\n",
    "\n",
    "token: str = tokenizar(dato_original)\n",
    "recuperado: str = recuperar_dato(token)\n",
    "\n",
    "print(f'{token=}')\n",
    "print(f'{recuperado=}')"
   ]
  }
 ],
 "metadata": {
  "kernelspec": {
   "display_name": "base",
   "language": "python",
   "name": "python3"
  },
  "language_info": {
   "codemirror_mode": {
    "name": "ipython",
    "version": 3
   },
   "file_extension": ".py",
   "mimetype": "text/x-python",
   "name": "python",
   "nbconvert_exporter": "python",
   "pygments_lexer": "ipython3",
   "version": "3.12.4"
  }
 },
 "nbformat": 4,
 "nbformat_minor": 2
}
