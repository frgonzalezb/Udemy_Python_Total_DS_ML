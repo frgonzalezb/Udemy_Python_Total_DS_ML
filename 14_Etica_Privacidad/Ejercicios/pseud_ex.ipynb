{
 "cells": [
  {
   "cell_type": "markdown",
   "metadata": {},
   "source": [
    "# Pseudonimización de Datos en Data Science 1\n",
    "Dado el DataFrame `df`:\n",
    "```\n",
    "df = pd.DataFrame({\n",
    "    'nombre': ['Ana', 'Juan', 'Luis'],\n",
    "    'email': ['ana@example.com', 'juan@example.com', 'luis@example.com'],\n",
    "    'ubicacion': ['Ciudad A', 'Ciudad B', 'Ciudad C']\n",
    "})\n",
    "```\n",
    "Utiliza la biblioteca `uuid` para generar identificadores únicos para cada persona y añádelos al DataFrame.\n",
    "\n",
    "**Instrucciones:**\n",
    "\n",
    "1. Genera una lista de identificadores únicos utilizando la biblioteca `uuid`.\n",
    "\n",
    "2. Añade esta lista al DataFrame como una nueva columna llamada `'id_pseudo'`.\n",
    "\n",
    "3. Elimina la columna `'nombre'` del DataFrame."
   ]
  },
  {
   "cell_type": "code",
   "execution_count": 1,
   "metadata": {},
   "outputs": [
    {
     "data": {
      "text/html": [
       "<div>\n",
       "<style scoped>\n",
       "    .dataframe tbody tr th:only-of-type {\n",
       "        vertical-align: middle;\n",
       "    }\n",
       "\n",
       "    .dataframe tbody tr th {\n",
       "        vertical-align: top;\n",
       "    }\n",
       "\n",
       "    .dataframe thead th {\n",
       "        text-align: right;\n",
       "    }\n",
       "</style>\n",
       "<table border=\"1\" class=\"dataframe\">\n",
       "  <thead>\n",
       "    <tr style=\"text-align: right;\">\n",
       "      <th></th>\n",
       "      <th>email</th>\n",
       "      <th>ubicacion</th>\n",
       "      <th>id_pseudo</th>\n",
       "    </tr>\n",
       "  </thead>\n",
       "  <tbody>\n",
       "    <tr>\n",
       "      <th>0</th>\n",
       "      <td>ana@example.com</td>\n",
       "      <td>Ciudad A</td>\n",
       "      <td>3c7bfbe0-e3b3-4dea-9843-0bd03e014778</td>\n",
       "    </tr>\n",
       "    <tr>\n",
       "      <th>1</th>\n",
       "      <td>juan@example.com</td>\n",
       "      <td>Ciudad B</td>\n",
       "      <td>b1638c29-85f7-450d-b587-a45bf28bbcdc</td>\n",
       "    </tr>\n",
       "    <tr>\n",
       "      <th>2</th>\n",
       "      <td>luis@example.com</td>\n",
       "      <td>Ciudad C</td>\n",
       "      <td>4a887469-1e66-428e-88e5-1e4c0deb346a</td>\n",
       "    </tr>\n",
       "  </tbody>\n",
       "</table>\n",
       "</div>"
      ],
      "text/plain": [
       "              email ubicacion                             id_pseudo\n",
       "0   ana@example.com  Ciudad A  3c7bfbe0-e3b3-4dea-9843-0bd03e014778\n",
       "1  juan@example.com  Ciudad B  b1638c29-85f7-450d-b587-a45bf28bbcdc\n",
       "2  luis@example.com  Ciudad C  4a887469-1e66-428e-88e5-1e4c0deb346a"
      ]
     },
     "execution_count": 1,
     "metadata": {},
     "output_type": "execute_result"
    }
   ],
   "source": [
    "import uuid\n",
    "import pandas as pd\n",
    "\n",
    "\n",
    "df = pd.DataFrame({\n",
    "    'nombre': ['Ana', 'Juan', 'Luis'],\n",
    "    'email': ['ana@example.com', 'juan@example.com', 'luis@example.com'],\n",
    "    'ubicacion': ['Ciudad A', 'Ciudad B', 'Ciudad C']\n",
    "})\n",
    "\n",
    "uuid_container: list[str] = []\n",
    "\n",
    "for _ in range(len(df)):\n",
    "    uuid_container.append(str(uuid.uuid4()))\n",
    "\n",
    "df['id_pseudo'] = uuid_container\n",
    "df.drop(['nombre'], axis=1, inplace=True)\n",
    "df"
   ]
  }
 ],
 "metadata": {
  "kernelspec": {
   "display_name": "base",
   "language": "python",
   "name": "python3"
  },
  "language_info": {
   "codemirror_mode": {
    "name": "ipython",
    "version": 3
   },
   "file_extension": ".py",
   "mimetype": "text/x-python",
   "name": "python",
   "nbconvert_exporter": "python",
   "pygments_lexer": "ipython3",
   "version": "3.12.4"
  }
 },
 "nbformat": 4,
 "nbformat_minor": 2
}
