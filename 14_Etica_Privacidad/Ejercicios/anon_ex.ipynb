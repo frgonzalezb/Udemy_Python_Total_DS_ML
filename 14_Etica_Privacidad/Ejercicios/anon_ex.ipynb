{
 "cells": [
  {
   "cell_type": "markdown",
   "metadata": {},
   "source": [
    "# Anonimización de Datos en Data Science 1\n",
    "Dado un dataframe llamado `df` que contiene la siguiente información de clientes:\n",
    "```\n",
    "data = {\n",
    "    'nombre': ['Juan Pérez', 'Ana López', 'María García', 'Luis Martínez', 'Carmen Rodríguez'],\n",
    "    'correo': ['juan@example.com', 'ana@example.com', 'maria@example.com', 'luis@example.com', 'carmen@example.com'],\n",
    "    'ubicacion': ['Ciudad A', 'Ciudad B', 'Ciudad C', 'Ciudad D', 'Ciudad E']\n",
    "}\n",
    "```\n",
    "Escribe un código que elimine permanentemente las columnas `nombre` y `correo` del dataframe para anonimizar los datos."
   ]
  },
  {
   "cell_type": "code",
   "execution_count": 2,
   "metadata": {},
   "outputs": [
    {
     "data": {
      "text/html": [
       "<div>\n",
       "<style scoped>\n",
       "    .dataframe tbody tr th:only-of-type {\n",
       "        vertical-align: middle;\n",
       "    }\n",
       "\n",
       "    .dataframe tbody tr th {\n",
       "        vertical-align: top;\n",
       "    }\n",
       "\n",
       "    .dataframe thead th {\n",
       "        text-align: right;\n",
       "    }\n",
       "</style>\n",
       "<table border=\"1\" class=\"dataframe\">\n",
       "  <thead>\n",
       "    <tr style=\"text-align: right;\">\n",
       "      <th></th>\n",
       "      <th>ubicacion</th>\n",
       "    </tr>\n",
       "  </thead>\n",
       "  <tbody>\n",
       "    <tr>\n",
       "      <th>0</th>\n",
       "      <td>Ciudad A</td>\n",
       "    </tr>\n",
       "    <tr>\n",
       "      <th>1</th>\n",
       "      <td>Ciudad B</td>\n",
       "    </tr>\n",
       "    <tr>\n",
       "      <th>2</th>\n",
       "      <td>Ciudad C</td>\n",
       "    </tr>\n",
       "    <tr>\n",
       "      <th>3</th>\n",
       "      <td>Ciudad D</td>\n",
       "    </tr>\n",
       "    <tr>\n",
       "      <th>4</th>\n",
       "      <td>Ciudad E</td>\n",
       "    </tr>\n",
       "  </tbody>\n",
       "</table>\n",
       "</div>"
      ],
      "text/plain": [
       "  ubicacion\n",
       "0  Ciudad A\n",
       "1  Ciudad B\n",
       "2  Ciudad C\n",
       "3  Ciudad D\n",
       "4  Ciudad E"
      ]
     },
     "execution_count": 2,
     "metadata": {},
     "output_type": "execute_result"
    }
   ],
   "source": [
    "import numpy as np\n",
    "import pandas as pd\n",
    "\n",
    "\n",
    "data = {\n",
    "    'nombre': ['Juan Pérez', 'Ana López', 'María García', 'Luis Martínez', 'Carmen Rodríguez'],\n",
    "    'correo': ['juan@example.com', 'ana@example.com', 'maria@example.com', 'luis@example.com', 'carmen@example.com'],\n",
    "    'ubicacion': ['Ciudad A', 'Ciudad B', 'Ciudad C', 'Ciudad D', 'Ciudad E']\n",
    "}\n",
    "\n",
    "df = pd.DataFrame(data)\n",
    "df.drop(['nombre', 'correo'], axis=1, inplace=True)\n",
    "df"
   ]
  },
  {
   "cell_type": "markdown",
   "metadata": {},
   "source": [
    "# Anonimización de Datos en Data Science 2\n",
    "Dado el mismo dataframe `df` del ejercicio anterior:\n",
    "```\n",
    "# Datos iniciales\n",
    "data = {\n",
    "    'nombre': ['Juan Pérez', 'Ana López', 'María García', 'Luis Martínez', 'Carmen Rodríguez'],\n",
    "    'correo': ['juan@example.com', 'ana@example.com', 'maria@example.com', 'luis@example.com', 'carmen@example.com'],\n",
    "    'ubicacion': ['Ciudad A', 'Ciudad B', 'Ciudad C', 'Ciudad D', 'Ciudad E']\n",
    "}\n",
    "\n",
    "# Creación del DataFrame\n",
    "df = pd.DataFrame(data)\n",
    "```\n",
    "Escribe un código que sustituya las direcciones de correo electrónico por el valor `'anon@example.com'`."
   ]
  },
  {
   "cell_type": "code",
   "execution_count": 3,
   "metadata": {},
   "outputs": [
    {
     "data": {
      "text/html": [
       "<div>\n",
       "<style scoped>\n",
       "    .dataframe tbody tr th:only-of-type {\n",
       "        vertical-align: middle;\n",
       "    }\n",
       "\n",
       "    .dataframe tbody tr th {\n",
       "        vertical-align: top;\n",
       "    }\n",
       "\n",
       "    .dataframe thead th {\n",
       "        text-align: right;\n",
       "    }\n",
       "</style>\n",
       "<table border=\"1\" class=\"dataframe\">\n",
       "  <thead>\n",
       "    <tr style=\"text-align: right;\">\n",
       "      <th></th>\n",
       "      <th>nombre</th>\n",
       "      <th>correo</th>\n",
       "      <th>ubicacion</th>\n",
       "    </tr>\n",
       "  </thead>\n",
       "  <tbody>\n",
       "    <tr>\n",
       "      <th>0</th>\n",
       "      <td>Juan Pérez</td>\n",
       "      <td>anon@example.com</td>\n",
       "      <td>Ciudad A</td>\n",
       "    </tr>\n",
       "    <tr>\n",
       "      <th>1</th>\n",
       "      <td>Ana López</td>\n",
       "      <td>anon@example.com</td>\n",
       "      <td>Ciudad B</td>\n",
       "    </tr>\n",
       "    <tr>\n",
       "      <th>2</th>\n",
       "      <td>María García</td>\n",
       "      <td>anon@example.com</td>\n",
       "      <td>Ciudad C</td>\n",
       "    </tr>\n",
       "    <tr>\n",
       "      <th>3</th>\n",
       "      <td>Luis Martínez</td>\n",
       "      <td>anon@example.com</td>\n",
       "      <td>Ciudad D</td>\n",
       "    </tr>\n",
       "    <tr>\n",
       "      <th>4</th>\n",
       "      <td>Carmen Rodríguez</td>\n",
       "      <td>anon@example.com</td>\n",
       "      <td>Ciudad E</td>\n",
       "    </tr>\n",
       "  </tbody>\n",
       "</table>\n",
       "</div>"
      ],
      "text/plain": [
       "             nombre            correo ubicacion\n",
       "0        Juan Pérez  anon@example.com  Ciudad A\n",
       "1         Ana López  anon@example.com  Ciudad B\n",
       "2      María García  anon@example.com  Ciudad C\n",
       "3     Luis Martínez  anon@example.com  Ciudad D\n",
       "4  Carmen Rodríguez  anon@example.com  Ciudad E"
      ]
     },
     "execution_count": 3,
     "metadata": {},
     "output_type": "execute_result"
    }
   ],
   "source": [
    "import numpy as np\n",
    "import pandas as pd\n",
    "\n",
    "\n",
    "data = {\n",
    "    'nombre': ['Juan Pérez', 'Ana López', 'María García', 'Luis Martínez', 'Carmen Rodríguez'],\n",
    "    'correo': ['juan@example.com', 'ana@example.com', 'maria@example.com', 'luis@example.com', 'carmen@example.com'],\n",
    "    'ubicacion': ['Ciudad A', 'Ciudad B', 'Ciudad C', 'Ciudad D', 'Ciudad E']\n",
    "}\n",
    "\n",
    "df = pd.DataFrame(data)\n",
    "email_sustitute = 'anon@example.com'\n",
    "df['correo'] = email_sustitute\n",
    "df"
   ]
  }
 ],
 "metadata": {
  "kernelspec": {
   "display_name": "base",
   "language": "python",
   "name": "python3"
  },
  "language_info": {
   "codemirror_mode": {
    "name": "ipython",
    "version": 3
   },
   "file_extension": ".py",
   "mimetype": "text/x-python",
   "name": "python",
   "nbconvert_exporter": "python",
   "pygments_lexer": "ipython3",
   "version": "3.12.4"
  }
 },
 "nbformat": 4,
 "nbformat_minor": 2
}
