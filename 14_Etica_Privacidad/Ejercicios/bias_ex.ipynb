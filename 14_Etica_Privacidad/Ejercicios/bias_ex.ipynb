{
 "cells": [
  {
   "cell_type": "markdown",
   "metadata": {},
   "source": [
    "# Sesgos en Data Science. Balanceo de Datos 1\n",
    "Crea un DataFrame de pandas con la siguiente estructura y datos:\n",
    "\n",
    "![image](./assets/2024-06-09_04-13-54-ce6fb3a91d89a4273a21ba74f761f94a.png)\n",
    "\n",
    "Guarda este DataFrame en una variable llamada `datos_desbalanceados`.\n",
    "\n",
    "Utiliza por nombre de variables internas del dataframe las siguientes:\n",
    "\n",
    "`edad`\n",
    "\n",
    "`genero`\n",
    "\n",
    "`contratado`"
   ]
  },
  {
   "cell_type": "code",
   "execution_count": 2,
   "metadata": {},
   "outputs": [
    {
     "data": {
      "text/html": [
       "<div>\n",
       "<style scoped>\n",
       "    .dataframe tbody tr th:only-of-type {\n",
       "        vertical-align: middle;\n",
       "    }\n",
       "\n",
       "    .dataframe tbody tr th {\n",
       "        vertical-align: top;\n",
       "    }\n",
       "\n",
       "    .dataframe thead th {\n",
       "        text-align: right;\n",
       "    }\n",
       "</style>\n",
       "<table border=\"1\" class=\"dataframe\">\n",
       "  <thead>\n",
       "    <tr style=\"text-align: right;\">\n",
       "      <th></th>\n",
       "      <th>edad</th>\n",
       "      <th>genero</th>\n",
       "      <th>contratado</th>\n",
       "    </tr>\n",
       "  </thead>\n",
       "  <tbody>\n",
       "    <tr>\n",
       "      <th>0</th>\n",
       "      <td>25</td>\n",
       "      <td>F</td>\n",
       "      <td>1</td>\n",
       "    </tr>\n",
       "    <tr>\n",
       "      <th>1</th>\n",
       "      <td>34</td>\n",
       "      <td>M</td>\n",
       "      <td>0</td>\n",
       "    </tr>\n",
       "    <tr>\n",
       "      <th>2</th>\n",
       "      <td>45</td>\n",
       "      <td>M</td>\n",
       "      <td>1</td>\n",
       "    </tr>\n",
       "    <tr>\n",
       "      <th>3</th>\n",
       "      <td>23</td>\n",
       "      <td>F</td>\n",
       "      <td>0</td>\n",
       "    </tr>\n",
       "    <tr>\n",
       "      <th>4</th>\n",
       "      <td>35</td>\n",
       "      <td>M</td>\n",
       "      <td>1</td>\n",
       "    </tr>\n",
       "  </tbody>\n",
       "</table>\n",
       "</div>"
      ],
      "text/plain": [
       "   edad genero  contratado\n",
       "0    25      F           1\n",
       "1    34      M           0\n",
       "2    45      M           1\n",
       "3    23      F           0\n",
       "4    35      M           1"
      ]
     },
     "execution_count": 2,
     "metadata": {},
     "output_type": "execute_result"
    }
   ],
   "source": [
    "import pandas as pd\n",
    "\n",
    "\n",
    "edad = [25, 34, 45, 23, 35]\n",
    "genero = ['F', 'M', 'M', 'F', 'M']\n",
    "contratado = [1, 0, 1, 0, 1]\n",
    "\n",
    "datos_desbalanceados: pd.DataFrame = pd.DataFrame({\n",
    "    'edad': edad,\n",
    "    'genero': genero,\n",
    "    'contratado': contratado\n",
    "})\n",
    "datos_desbalanceados.head()"
   ]
  }
 ],
 "metadata": {
  "kernelspec": {
   "display_name": "base",
   "language": "python",
   "name": "python3"
  },
  "language_info": {
   "codemirror_mode": {
    "name": "ipython",
    "version": 3
   },
   "file_extension": ".py",
   "mimetype": "text/x-python",
   "name": "python",
   "nbconvert_exporter": "python",
   "pygments_lexer": "ipython3",
   "version": "3.12.4"
  }
 },
 "nbformat": 4,
 "nbformat_minor": 2
}
