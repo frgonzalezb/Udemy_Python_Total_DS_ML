{
 "cells": [
  {
   "cell_type": "markdown",
   "metadata": {},
   "source": [
    "# Evaluación de Modelos con Scikit-Learn"
   ]
  },
  {
   "cell_type": "code",
   "execution_count": 1,
   "metadata": {},
   "outputs": [],
   "source": [
    "from sklearn.datasets import load_iris\n",
    "from sklearn.ensemble import RandomForestClassifier"
   ]
  },
  {
   "cell_type": "code",
   "execution_count": 2,
   "metadata": {},
   "outputs": [],
   "source": [
    "X, y = load_iris(return_X_y=True)"
   ]
  },
  {
   "cell_type": "code",
   "execution_count": 3,
   "metadata": {},
   "outputs": [],
   "source": [
    "model: RandomForestClassifier = RandomForestClassifier(\n",
    "    n_estimators=100,\n",
    "    random_state=42\n",
    ")"
   ]
  },
  {
   "cell_type": "markdown",
   "metadata": {},
   "source": [
    "Realizar **validación cruzada**:"
   ]
  },
  {
   "cell_type": "code",
   "execution_count": 4,
   "metadata": {},
   "outputs": [],
   "source": [
    "from sklearn.model_selection import cross_val_score"
   ]
  },
  {
   "cell_type": "code",
   "execution_count": 5,
   "metadata": {},
   "outputs": [],
   "source": [
    "score = cross_val_score(\n",
    "    model,\n",
    "    X,\n",
    "    y,\n",
    "    cv=5\n",
    ")"
   ]
  },
  {
   "cell_type": "markdown",
   "metadata": {},
   "source": [
    "El parámetro `cv` determina cuántas particiones va a utilizar en la validación cruzada. En otras palabras. En este caso, los datos proporcionados para evaluar a `model` se van a dividir en `5` conjuntos diferentes, donde la función `cross_val_score()` va a realizar el mismo número de iteraciones, y en una de esas iteraciones, uno de esos conjuntos, uno se va a utilizar como conjunto de prueba y los otros cuatro como el conjunto de entrenamiento."
   ]
  },
  {
   "cell_type": "code",
   "execution_count": 6,
   "metadata": {},
   "outputs": [
    {
     "name": "stdout",
     "output_type": "stream",
     "text": [
      "Exactitud de cada partición: [0.96666667 0.96666667 0.93333333 0.96666667 1.        ]\n",
      "Media de cada partición: 0.9666666666666668\n"
     ]
    }
   ],
   "source": [
    "print(f'Exactitud de cada partición: {score}')\n",
    "print(f'Media de cada partición: {score.mean()}')"
   ]
  },
  {
   "cell_type": "markdown",
   "metadata": {},
   "source": [
    "La función `cross_val_score` ejecuta automáticamente el proceso de entrenamiento y de evaluación al mismo tiempo de este modelo que le hemos especificado, que en este caso es `RandomForestClassifier`.\n",
    "\n",
    "Utilizando técnicas de validación cruzada, a cada una de estas cinco particiones de los datos que hemos realizado (a las que también le podemos llamar `folds`), el modelo primero se entrena con los datos de entrenamiento de los otros cuatro folds, no del primero, que tienen cada una de las iteraciones y luego el modelo se evalúa usando el fold restante que sería el **fold de prueba** y se calcula una **métrica de rendimiento** que por defecto es la **precisión** para los problemas de clasificación.\n",
    "\n",
    "Una vez que ha hecho esto, `cross_val_score` devuelve un **array** que contiene la **métrica de rendimiento para cada uno de los cinco folds**.\n",
    "\n",
    "Es decir, nos está proporcionando una estimación muy robusta del rendimiento del modelo, ya que **se evalúa en diferentes conjuntos de datos**, reduciendo el riesgo de que el rendimiento estimado del modelo dependa de la particularidad de un único conjunto de prueba.\n",
    "\n",
    "En definitiva, nos permite conocer de antemano **qué tan asertivo** va a ser un modelo de machine learning antes de aplicarlo en nuestros datos."
   ]
  }
 ],
 "metadata": {
  "kernelspec": {
   "display_name": "base",
   "language": "python",
   "name": "python3"
  },
  "language_info": {
   "codemirror_mode": {
    "name": "ipython",
    "version": 3
   },
   "file_extension": ".py",
   "mimetype": "text/x-python",
   "name": "python",
   "nbconvert_exporter": "python",
   "pygments_lexer": "ipython3",
   "version": "3.12.4"
  }
 },
 "nbformat": 4,
 "nbformat_minor": 2
}
