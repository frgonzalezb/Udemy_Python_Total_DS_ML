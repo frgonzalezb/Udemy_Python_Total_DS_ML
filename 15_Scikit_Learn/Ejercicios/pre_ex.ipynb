{
 "cells": [
  {
   "cell_type": "markdown",
   "metadata": {},
   "source": [
    "# Preprocesamiento de Datos en Scikit-Learn 1\n",
    "Dado el siguiente conjunto de datos, utiliza `MinMaxScaler` de Scikit-Learn para normalizar los datos en un rango de 0 a 1.\n",
    "```\n",
    "# Datos originales\n",
    "datos = np.array([[5, 15, 25],\n",
    "                 [10, 20, 30],\n",
    "                 [15, 25, 35]])\n",
    "```\n",
    "Convierte los datos originales para que estén en el rango de 0 a 1 utilizando `MinMaxScaler` y guarda el resultado en una variable llamada `datos_normalizados`."
   ]
  },
  {
   "cell_type": "code",
   "execution_count": 1,
   "metadata": {},
   "outputs": [
    {
     "data": {
      "text/plain": [
       "array([[0. , 0. , 0. ],\n",
       "       [0.5, 0.5, 0.5],\n",
       "       [1. , 1. , 1. ]])"
      ]
     },
     "execution_count": 1,
     "metadata": {},
     "output_type": "execute_result"
    }
   ],
   "source": [
    "import numpy as np\n",
    "from sklearn.preprocessing import MinMaxScaler\n",
    "\n",
    "\n",
    "# Datos originales\n",
    "datos = np.array([[5, 15, 25],\n",
    "                 [10, 20, 30],\n",
    "                 [15, 25, 35]])\n",
    "\n",
    "# Normalización\n",
    "scaler = MinMaxScaler(feature_range=(0, 1))\n",
    "datos_normalizados = scaler.fit_transform(datos)\n",
    "datos_normalizados"
   ]
  }
 ],
 "metadata": {
  "kernelspec": {
   "display_name": "base",
   "language": "python",
   "name": "python3"
  },
  "language_info": {
   "codemirror_mode": {
    "name": "ipython",
    "version": 3
   },
   "file_extension": ".py",
   "mimetype": "text/x-python",
   "name": "python",
   "nbconvert_exporter": "python",
   "pygments_lexer": "ipython3",
   "version": "3.12.4"
  }
 },
 "nbformat": 4,
 "nbformat_minor": 2
}
