{
 "cells": [
  {
   "cell_type": "markdown",
   "metadata": {},
   "source": [
    "# Preprocesamiento de Datos en Scikit-Learn 1\n",
    "Dado el siguiente conjunto de datos, utiliza `MinMaxScaler` de Scikit-Learn para normalizar los datos en un rango de 0 a 1.\n",
    "```\n",
    "# Datos originales\n",
    "datos = np.array([[5, 15, 25],\n",
    "                 [10, 20, 30],\n",
    "                 [15, 25, 35]])\n",
    "```\n",
    "Convierte los datos originales para que estén en el rango de 0 a 1 utilizando `MinMaxScaler` y guarda el resultado en una variable llamada `datos_normalizados`."
   ]
  },
  {
   "cell_type": "code",
   "execution_count": 1,
   "metadata": {},
   "outputs": [
    {
     "data": {
      "text/plain": [
       "array([[0. , 0. , 0. ],\n",
       "       [0.5, 0.5, 0.5],\n",
       "       [1. , 1. , 1. ]])"
      ]
     },
     "execution_count": 1,
     "metadata": {},
     "output_type": "execute_result"
    }
   ],
   "source": [
    "import numpy as np\n",
    "from sklearn.preprocessing import MinMaxScaler\n",
    "\n",
    "\n",
    "# Datos originales\n",
    "datos = np.array([[5, 15, 25],\n",
    "                 [10, 20, 30],\n",
    "                 [15, 25, 35]])\n",
    "\n",
    "# Normalización\n",
    "scaler = MinMaxScaler(feature_range=(0, 1))\n",
    "datos_normalizados = scaler.fit_transform(datos)\n",
    "datos_normalizados"
   ]
  },
  {
   "cell_type": "markdown",
   "metadata": {},
   "source": [
    "# Preprocesamiento de Datos en Scikit-Learn 2\n",
    "Usa `StandardScaler` de Scikit-Learn para estandarizar el siguiente conjunto de datos, de manera que cada característica tenga una media de 0 y una desviación estándar de 1.\n",
    "```\n",
    "# Datos originales\n",
    "datos = np.array([[10, 2000, 30000],\n",
    "                 [15, 3000, 50000],\n",
    "                 [20, 4000, 70000]])\n",
    "```\n",
    "Convierte los datos originales para que cada característica tenga una media de 0 y una desviación estándar de 1 utilizando `StandardScaler` y guarda el resultado en una variable llamada `datos_estandardizados`."
   ]
  },
  {
   "cell_type": "code",
   "execution_count": 2,
   "metadata": {},
   "outputs": [
    {
     "data": {
      "text/plain": [
       "array([[-1.22474487, -1.22474487, -1.22474487],\n",
       "       [ 0.        ,  0.        ,  0.        ],\n",
       "       [ 1.22474487,  1.22474487,  1.22474487]])"
      ]
     },
     "execution_count": 2,
     "metadata": {},
     "output_type": "execute_result"
    }
   ],
   "source": [
    "import numpy as np\n",
    "from sklearn.preprocessing import StandardScaler\n",
    "\n",
    "\n",
    "# Datos originales\n",
    "datos = np.array([[10, 2000, 30000],\n",
    "                 [15, 3000, 50000],\n",
    "                 [20, 4000, 70000]])\n",
    "\n",
    "# Normalización\n",
    "scaler = StandardScaler()\n",
    "datos_estandardizados = scaler.fit_transform(datos)\n",
    "datos_estandardizados"
   ]
  },
  {
   "cell_type": "markdown",
   "metadata": {},
   "source": [
    "# Preprocesamiento de Datos en Scikit-Learn 3\n",
    "Usa `OneHotEncoder` de Scikit-Learn para transformar las características categóricas del siguiente conjunto de datos.\n",
    "```\n",
    "# Datos originales\n",
    "datos = np.array([['Rojo', 'Pequeño', 'Cítrico'],\n",
    "                 ['Verde', 'Mediano', 'Dulce'],\n",
    "                 ['Amarillo', 'Grande', 'Cítrico']])\n",
    "```\n",
    "Convierte los datos originales utilizando `OneHotEncoder` y guarda el resultado en una variable llamada `datos_codificados`."
   ]
  },
  {
   "cell_type": "code",
   "execution_count": null,
   "metadata": {},
   "outputs": [
    {
     "data": {
      "text/plain": [
       "array([[0., 1., 0., 0., 0., 1., 1., 0.],\n",
       "       [0., 0., 1., 0., 1., 0., 0., 1.],\n",
       "       [1., 0., 0., 1., 0., 0., 1., 0.]])"
      ]
     },
     "execution_count": 3,
     "metadata": {},
     "output_type": "execute_result"
    }
   ],
   "source": [
    "import numpy as np\n",
    "from sklearn.preprocessing import OneHotEncoder\n",
    "\n",
    "\n",
    "# Datos originales\n",
    "datos = np.array([['Rojo', 'Pequeño', 'Cítrico'],\n",
    "                 ['Verde', 'Mediano', 'Dulce'],\n",
    "                 ['Amarillo', 'Grande', 'Cítrico']])\n",
    "\n",
    "# Normalización\n",
    "encoder = OneHotEncoder(sparse_output=False)  # en Udemy, es solo sparse\n",
    "datos_codificados = encoder.fit_transform(datos)\n",
    "datos_codificados"
   ]
  }
 ],
 "metadata": {
  "kernelspec": {
   "display_name": "base",
   "language": "python",
   "name": "python3"
  },
  "language_info": {
   "codemirror_mode": {
    "name": "ipython",
    "version": 3
   },
   "file_extension": ".py",
   "mimetype": "text/x-python",
   "name": "python",
   "nbconvert_exporter": "python",
   "pygments_lexer": "ipython3",
   "version": "3.12.4"
  }
 },
 "nbformat": 4,
 "nbformat_minor": 2
}
