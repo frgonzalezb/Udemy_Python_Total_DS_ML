{
 "cells": [
  {
   "cell_type": "markdown",
   "metadata": {},
   "source": [
    "# Evaluación de Modelos con Scikit-Learn 1\n",
    "\n",
    "**Importación y preparación de datos.**\n",
    "\n",
    "Escribe un código para importar el dataset `load_wine` de Scikit-Learn, almacénalo en una variable llamada `data` y preparar los datos `X` y `y` de manera similar a como se hizo con el dataset `iris` en la lección.\n",
    "\n",
    "```\n",
    "data = load_wine() # Cargar el dataset load_wine\n",
    "X = # Características del dataset\n",
    "y = # Etiquetas del dataset\n",
    "```"
   ]
  },
  {
   "cell_type": "code",
   "execution_count": 1,
   "metadata": {},
   "outputs": [],
   "source": [
    "from sklearn.datasets import load_wine\n",
    "from sklearn.ensemble import RandomForestClassifier\n",
    "\n",
    "\n",
    "data = load_wine() # Cargar el dataset load_wine\n",
    "X = data['data'] # Características del dataset\n",
    "y = data['target']# Etiquetas del dataset"
   ]
  }
 ],
 "metadata": {
  "kernelspec": {
   "display_name": "base",
   "language": "python",
   "name": "python3"
  },
  "language_info": {
   "codemirror_mode": {
    "name": "ipython",
    "version": 3
   },
   "file_extension": ".py",
   "mimetype": "text/x-python",
   "name": "python",
   "nbconvert_exporter": "python",
   "pygments_lexer": "ipython3",
   "version": "3.12.4"
  }
 },
 "nbformat": 4,
 "nbformat_minor": 2
}
