{
 "cells": [
  {
   "cell_type": "markdown",
   "metadata": {},
   "source": [
    "# Evaluación de Modelos con Scikit-Learn 1\n",
    "\n",
    "**Importación y preparación de datos.**\n",
    "\n",
    "Escribe un código para importar el dataset `load_wine` de Scikit-Learn, almacénalo en una variable llamada `data` y preparar los datos `X` y `y` de manera similar a como se hizo con el dataset `iris` en la lección.\n",
    "\n",
    "```\n",
    "data = load_wine() # Cargar el dataset load_wine\n",
    "X = # Características del dataset\n",
    "y = # Etiquetas del dataset\n",
    "```"
   ]
  },
  {
   "cell_type": "code",
   "execution_count": null,
   "metadata": {},
   "outputs": [],
   "source": [
    "from sklearn.datasets import load_wine\n",
    "\n",
    "\n",
    "data = load_wine() # Cargar el dataset load_wine\n",
    "X = data['data'] # Características del dataset\n",
    "y = data['target']# Etiquetas del dataset"
   ]
  },
  {
   "cell_type": "markdown",
   "metadata": {},
   "source": [
    "# Evaluación de Modelos con Scikit-Learn 2\n",
    "\n",
    "**Validación cruzada.**\n",
    "\n",
    "Utiliza el dataset `load_wine` y aplica el modelo `KNeighborsClassifier` con la validación cruzada. Instancia el modelo en una variable llamada `knn_modelo`.\n",
    "\n",
    "Declara e inicializa las siguientes variables:\n",
    "\n",
    "```\n",
    "data = load_wine() # Cargar el dataset load_wine\n",
    "X = # Características del dataset\n",
    "y = # Etiquetas del dataset\n",
    "knn_modelo = Instanciar el modelo KNeighborsClassifier\n",
    "```"
   ]
  },
  {
   "cell_type": "code",
   "execution_count": 2,
   "metadata": {},
   "outputs": [
    {
     "name": "stdout",
     "output_type": "stream",
     "text": [
      "Exactitud de cada partición: [0.72222222 0.66666667 0.63888889 0.65714286 0.77142857]\n",
      "Media de cada partición: 0.6912698412698413\n"
     ]
    }
   ],
   "source": [
    "from sklearn.datasets import load_wine\n",
    "from sklearn.neighbors import KNeighborsClassifier\n",
    "from sklearn.model_selection import cross_val_score\n",
    "\n",
    "\n",
    "data = load_wine() # Cargar el dataset load_wine\n",
    "X = data['data'] # Características del dataset\n",
    "y = data['target']# Etiquetas del dataset\n",
    "\n",
    "knn_modelo = KNeighborsClassifier()\n",
    "\n",
    "score = cross_val_score(\n",
    "    knn_modelo,\n",
    "    X,\n",
    "    y,\n",
    "    cv=5\n",
    ")\n",
    "\n",
    "print(f'Exactitud de cada partición: {score}')\n",
    "print(f'Media de cada partición: {score.mean()}')"
   ]
  },
  {
   "cell_type": "markdown",
   "metadata": {},
   "source": [
    "# Evaluación de Modelos con Scikit-Learn 3\n",
    "\n",
    "Utiliza el dataset `load_wine` y aplica el modelo `KNeighborsClassifier` con la validación cruzada. Instancia el modelo en una variable llamada `knn_modelo`. Realiza la validación cruzada con 10 folds. Guarda los resultados en una variable llamada `knn_puntaje`.\n",
    "\n",
    "Declara e inicializa las siguientes variables:\n",
    "```\n",
    "data = load_wine() # Cargar el dataset load_wine\n",
    "X = # Características del dataset\n",
    "y = # Etiquetas del dataset\n",
    "knn_modelo = Instanciar el modelo KNeighborsClassifier\n",
    "knn_puntaje = Realizar la validación cruzada con 10 folds\n",
    "```"
   ]
  },
  {
   "cell_type": "code",
   "execution_count": 1,
   "metadata": {},
   "outputs": [
    {
     "name": "stdout",
     "output_type": "stream",
     "text": [
      "Exactitud de cada partición: [0.66666667 0.66666667 0.61111111 0.61111111 0.61111111 0.61111111\n",
      " 0.72222222 0.66666667 0.82352941 0.76470588]\n",
      "Media de cada partición: 0.6754901960784313\n"
     ]
    }
   ],
   "source": [
    "from sklearn.datasets import load_wine\n",
    "from sklearn.neighbors import KNeighborsClassifier\n",
    "from sklearn.model_selection import cross_val_score\n",
    "\n",
    "\n",
    "data = load_wine() # Cargar el dataset load_wine\n",
    "X = data['data'] # Características del dataset\n",
    "y = data['target']# Etiquetas del dataset\n",
    "\n",
    "knn_modelo = KNeighborsClassifier()\n",
    "\n",
    "knn_puntaje = cross_val_score(\n",
    "    knn_modelo,\n",
    "    X,\n",
    "    y,\n",
    "    cv=10\n",
    ")\n",
    "\n",
    "print(f'Exactitud de cada partición: {knn_puntaje}')\n",
    "print(f'Media de cada partición: {knn_puntaje.mean()}')"
   ]
  }
 ],
 "metadata": {
  "kernelspec": {
   "display_name": "base",
   "language": "python",
   "name": "python3"
  },
  "language_info": {
   "codemirror_mode": {
    "name": "ipython",
    "version": 3
   },
   "file_extension": ".py",
   "mimetype": "text/x-python",
   "name": "python",
   "nbconvert_exporter": "python",
   "pygments_lexer": "ipython3",
   "version": "3.12.4"
  }
 },
 "nbformat": 4,
 "nbformat_minor": 2
}
