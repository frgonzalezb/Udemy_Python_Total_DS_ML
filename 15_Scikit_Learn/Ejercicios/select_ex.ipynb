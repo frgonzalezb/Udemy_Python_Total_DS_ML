{
 "cells": [
  {
   "cell_type": "markdown",
   "metadata": {},
   "source": [
    "# Selección y División de Datos con Scikit-Learn 1\n",
    "\n",
    "**División de datos**\n",
    "\n",
    "Escribe un programa que:\n",
    "\n",
    "1. Cargue el conjunto de datos `iris`.\n",
    "\n",
    "2. Almacena los parámetros requeridos en las variables: `X`, `y`\n",
    "\n",
    "3. Divida los datos en conjuntos de entrenamiento y prueba, utilizando `train_test_split` con un 30% de los datos para prueba y una semilla aleatoria de 42.\n",
    "\n",
    "4. Asegurate de declarar las variables: `X_train`, `X_test`, `y_train`, `y_test`"
   ]
  },
  {
   "cell_type": "code",
   "execution_count": 3,
   "metadata": {},
   "outputs": [],
   "source": [
    "from sklearn.datasets import load_iris\n",
    "from sklearn.model_selection import train_test_split\n",
    "\n",
    "\n",
    "X, y = load_iris(return_X_y=True)\n",
    "\n",
    "X_train, X_test, y_train, y_test = train_test_split(\n",
    "    X,\n",
    "    y,\n",
    "    test_size=0.3,\n",
    "    random_state=42\n",
    ")"
   ]
  },
  {
   "cell_type": "markdown",
   "metadata": {},
   "source": [
    "# Selección y División de Datos con Scikit-Learn 2\n",
    "\n",
    "**Selección de características con SelectKBest**\n",
    "\n",
    "Escribe un programa que:\n",
    "\n",
    "1. Cargue el conjunto de datos `iris`.\n",
    "\n",
    "2. Almacena los parámetros requeridos en las variables: `X`, `y`\n",
    "\n",
    "3. Divide los datos en conjuntos de entrenamiento y prueba, utilizando `train_test_split` con un 30% de los datos para prueba y una semilla aleatoria de 42.\n",
    "\n",
    "4. Seleccione las 2 características más importantes utilizando `SelectKBest` con la función de puntaje `chi2`.\n",
    "\n",
    "5. Asegurate de declarar las variables: `X_train`, `X_test`, `y_train`, `y_test`, `selector`, `X_train_kbest`"
   ]
  },
  {
   "cell_type": "code",
   "execution_count": 5,
   "metadata": {},
   "outputs": [],
   "source": [
    "import numpy as np\n",
    "\n",
    "from sklearn.datasets import load_iris\n",
    "from sklearn.feature_selection import SelectKBest, chi2\n",
    "from sklearn.model_selection import train_test_split\n",
    "\n",
    "\n",
    "X, y = load_iris(return_X_y=True)\n",
    "\n",
    "X_train, X_test, y_train, y_test = train_test_split(\n",
    "    X,\n",
    "    y,\n",
    "    test_size=0.3,\n",
    "    random_state=42\n",
    ")\n",
    "\n",
    "selector: SelectKBest = SelectKBest(chi2, k=2)\n",
    "X_train_kbest: np.ndarray = selector.fit_transform(X_train, y_train)"
   ]
  },
  {
   "cell_type": "markdown",
   "metadata": {},
   "source": [
    "# Selección y División de Datos con Scikit-Learn 3\n",
    "\n",
    "**Selección de características con SelectFromModel**\n",
    "\n",
    "Escribe un programa que:\n",
    "\n",
    "1. Cargue el conjunto de datos `iris`.\n",
    "\n",
    "2. Almacena los parámetros requeridos en las variables: `X`, `y`\n",
    "\n",
    "3. Divida los datos en conjuntos de entrenamiento y prueba, utilizando `train_test_split` con un 30% de los datos para prueba y una semilla aleatoria de 42.\n",
    "\n",
    "4. Entrene un `RandomForestClassifier` con el conjunto de entrenamiento.\n",
    "\n",
    "5. Utilice `SelectFromModel` para seleccionar las características más importantes basadas en el modelo entrenado.\n",
    "\n",
    "6. Asegurate de declarar las variables: `X_train`, `X_test`, `y_train`, `y_test`, `rf` (para entrenar un modelo `RandomForestClassifier`), `selector`, `X_train_selected`"
   ]
  },
  {
   "cell_type": "code",
   "execution_count": 8,
   "metadata": {},
   "outputs": [],
   "source": [
    "import numpy as np\n",
    "\n",
    "from sklearn.datasets import load_iris\n",
    "from sklearn.ensemble import RandomForestClassifier\n",
    "from sklearn.feature_selection import SelectFromModel\n",
    "from sklearn.model_selection import train_test_split\n",
    "\n",
    "\n",
    "X, y = load_iris(return_X_y=True)\n",
    "\n",
    "X_train, X_test, y_train, y_test = train_test_split(\n",
    "    X,\n",
    "    y,\n",
    "    test_size=0.3,\n",
    "    random_state=42\n",
    ")\n",
    "\n",
    "rf: RandomForestClassifier = RandomForestClassifier(\n",
    "    n_estimators=100,\n",
    "    random_state=42\n",
    ")\n",
    "\n",
    "rf.fit(X_train, y_train)  # esta parte es importante en Udemy\n",
    "\n",
    "selector: SelectFromModel = SelectFromModel(rf)\n",
    "\n",
    "X_train_selected: np.ndarray = selector.fit_transform(X_train, y_train)"
   ]
  }
 ],
 "metadata": {
  "kernelspec": {
   "display_name": "base",
   "language": "python",
   "name": "python3"
  },
  "language_info": {
   "codemirror_mode": {
    "name": "ipython",
    "version": 3
   },
   "file_extension": ".py",
   "mimetype": "text/x-python",
   "name": "python",
   "nbconvert_exporter": "python",
   "pygments_lexer": "ipython3",
   "version": "3.12.4"
  }
 },
 "nbformat": 4,
 "nbformat_minor": 2
}
