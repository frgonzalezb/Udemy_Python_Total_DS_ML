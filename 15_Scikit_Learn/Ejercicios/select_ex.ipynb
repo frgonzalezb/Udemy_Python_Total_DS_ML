{
 "cells": [
  {
   "cell_type": "markdown",
   "metadata": {},
   "source": [
    "# Selección y División de Datos con Scikit-Learn 1\n",
    "\n",
    "**División de datos**\n",
    "\n",
    "Escribe un programa que:\n",
    "\n",
    "1. Cargue el conjunto de datos `iris`.\n",
    "\n",
    "2. Almacena los parámetros requeridos en las variables: `X`, `y`\n",
    "\n",
    "3. Divida los datos en conjuntos de entrenamiento y prueba, utilizando `train_test_split` con un 30% de los datos para prueba y una semilla aleatoria de 42.\n",
    "\n",
    "4. Asegurate de declarar las variables: `X_train`, `X_test`, `y_train`, `y_test`"
   ]
  },
  {
   "cell_type": "code",
   "execution_count": 3,
   "metadata": {},
   "outputs": [],
   "source": [
    "from sklearn.datasets import load_iris\n",
    "from sklearn.model_selection import train_test_split\n",
    "\n",
    "\n",
    "X, y = load_iris(return_X_y=True)\n",
    "\n",
    "X_train, X_test, y_train, y_test = train_test_split(\n",
    "    X,\n",
    "    y,\n",
    "    test_size=0.3,\n",
    "    random_state=42\n",
    ")"
   ]
  }
 ],
 "metadata": {
  "kernelspec": {
   "display_name": "base",
   "language": "python",
   "name": "python3"
  },
  "language_info": {
   "codemirror_mode": {
    "name": "ipython",
    "version": 3
   },
   "file_extension": ".py",
   "mimetype": "text/x-python",
   "name": "python",
   "nbconvert_exporter": "python",
   "pygments_lexer": "ipython3",
   "version": "3.12.4"
  }
 },
 "nbformat": 4,
 "nbformat_minor": 2
}
