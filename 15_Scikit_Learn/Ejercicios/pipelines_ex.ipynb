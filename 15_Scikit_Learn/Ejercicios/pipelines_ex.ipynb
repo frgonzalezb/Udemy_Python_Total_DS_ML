{
 "cells": [
  {
   "cell_type": "markdown",
   "metadata": {},
   "source": [
    "# Pipelines y Automatización de Flujo de Trabajo en Scikit-Learn 1\n",
    "\n",
    "**Crea un Pipeline Básico**\n",
    "\n",
    "Escribe un programa que cree un pipeline utilizando `make_pipeline` de Scikit-Learn. El pipeline debe realizar dos tareas:\n",
    "\n",
    "1. Escalar los datos usando `StandardScaler`.\n",
    "\n",
    "2. Entrenar un modelo de regresión logística con `LogisticRegression`.\n",
    "\n",
    "Utiliza el dataset `load_iris` para entrenar y evaluar el pipeline, dividiendo los datos en conjuntos de entrenamiento y prueba.\n",
    "\n",
    "**Para ello debes seguir los pasos que se detallan a continuación:**\n",
    "\n",
    "1. Cargar el dataset `iris`\n",
    "\n",
    "Crea las variables `X`, `y` para almacenar los parámetros correspondientes\n",
    "\n",
    "2. Dividir los datos en conjuntos de entrenamiento y prueba con utilizando `train_test_split` con un 30% de los datos para prueba y una semilla aleatoria de 42.\n",
    "\n",
    "Crea las variables:\n",
    "\n",
    "`X_train`, \n",
    "`X_test`, \n",
    "`y_train`, \n",
    "`y_test` \n",
    "\n",
    "3. Crear el pipeline, almacenalo en una variable llamada: `pipeline`\n",
    "\n",
    "4. Entrena al modelo\n",
    "\n",
    "5. Realiza las predicciones. Crea la variable `y_pred`\n",
    "\n",
    "6. Calcula la precisión. Crea la variable `puntaje`"
   ]
  },
  {
   "cell_type": "code",
   "execution_count": 1,
   "metadata": {},
   "outputs": [
    {
     "name": "stdout",
     "output_type": "stream",
     "text": [
      "Las predicciones son: [1 0 2 1 1 0 1 2 1 1 2 0 0 0 0 1 2 1 1 2 0 2 0 2 2 2 2 2 0 0 0 0 1 0 0 2 1\n",
      " 0 0 0 2 1 1 0 0]\n",
      "El puntaje para la precisión del modelo es: 1.00\n"
     ]
    }
   ],
   "source": [
    "import numpy as np\n",
    "\n",
    "from sklearn.datasets import load_iris\n",
    "from sklearn.model_selection import train_test_split\n",
    "from sklearn.preprocessing import StandardScaler\n",
    "from sklearn.linear_model import LogisticRegression\n",
    "from sklearn.pipeline import Pipeline, make_pipeline\n",
    "\n",
    "\n",
    "X, y = load_iris(return_X_y=True)\n",
    "\n",
    "X_train, X_test, y_train, y_test = train_test_split(\n",
    "    X,\n",
    "    y,\n",
    "    test_size=0.3,\n",
    "    random_state=42\n",
    ")\n",
    "\n",
    "# por aquí va el pipeline!\n",
    "pipeline: Pipeline = make_pipeline(\n",
    "    StandardScaler(),\n",
    "    LogisticRegression(random_state=42, max_iter=1000)\n",
    ")\n",
    "\n",
    "# entrenar al pipeline!\n",
    "pipeline.fit(X_train, y_train)\n",
    "\n",
    "# predicciones con el pipeline\n",
    "y_pred: np.ndarray | tuple = pipeline.predict(X_test)\n",
    "puntaje: float = float(pipeline.score(X_test, y_test))\n",
    "\n",
    "print(f'Las predicciones son: {y_pred}')\n",
    "print(f'El puntaje para la precisión del modelo es: {puntaje:.2f}')"
   ]
  }
 ],
 "metadata": {
  "kernelspec": {
   "display_name": "base",
   "language": "python",
   "name": "python3"
  },
  "language_info": {
   "codemirror_mode": {
    "name": "ipython",
    "version": 3
   },
   "file_extension": ".py",
   "mimetype": "text/x-python",
   "name": "python",
   "nbconvert_exporter": "python",
   "pygments_lexer": "ipython3",
   "version": "3.12.4"
  }
 },
 "nbformat": 4,
 "nbformat_minor": 2
}
