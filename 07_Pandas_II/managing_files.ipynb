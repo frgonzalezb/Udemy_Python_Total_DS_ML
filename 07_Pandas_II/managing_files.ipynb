{
 "cells": [
  {
   "cell_type": "markdown",
   "metadata": {},
   "source": [
    "# Abrir y Escribir Archivos desde Pandas"
   ]
  },
  {
   "cell_type": "code",
   "execution_count": 10,
   "metadata": {},
   "outputs": [
    {
     "name": "stdout",
     "output_type": "stream",
     "text": [
      "     Id_usuario     Genero  Edad  Salario_estimado  Comprado\n",
      "0      15624510  Masculino    19             19000         0\n",
      "1      15810944  Masculino    35             20000         0\n",
      "2      15668575   Femenino    26             43000         0\n",
      "3      15603246   Femenino    27             57000         0\n",
      "4      15804002  Masculino    19             76000         0\n",
      "..          ...        ...   ...               ...       ...\n",
      "395    15691863   Femenino    46             41000         1\n",
      "396    15706071  Masculino    51             23000         1\n",
      "397    15654296   Femenino    50             20000         1\n",
      "398    15755018  Masculino    36             33000         0\n",
      "399    15594041   Femenino    49             36000         1\n",
      "\n",
      "[400 rows x 5 columns]\n"
     ]
    }
   ],
   "source": [
    "import os\n",
    "from typing import Any\n",
    "\n",
    "import pandas as pd\n",
    "\n",
    "\n",
    "xlsx_file: str = './data/Compras_desde_ads.xlsx'\n",
    "df1: pd.DataFrame = pd.read_excel(xlsx_file)\n",
    "print(df1)"
   ]
  },
  {
   "cell_type": "code",
   "execution_count": 2,
   "metadata": {},
   "outputs": [
    {
     "name": "stdout",
     "output_type": "stream",
     "text": [
      "          date closingValue\n",
      "0   01-05-2023        25,05\n",
      "1   02-05-2023        24,45\n",
      "2   03-05-2023        24,45\n",
      "3   04-05-2023        23,98\n",
      "4   05-05-2023        24,56\n",
      "5   06-05-2023        23,66\n",
      "6   07-05-2023        24,38\n",
      "7   08-05-2023        24,67\n",
      "8   09-05-2023        25,15\n",
      "9   10-05-2023        25,43\n",
      "10  11-05-2023        25,43\n",
      "11  12-05-2023        25,27\n",
      "12  13-05-2023        25,27\n",
      "13  14-05-2023        25,71\n",
      "14  15-05-2023        25,71\n",
      "15  16-05-2023        26,27\n",
      "16  17-05-2023        26,27\n",
      "17  18-05-2023        26,27\n",
      "18  19-05-2023        27,13\n",
      "19  20-05-2023         27,8\n",
      "20  21-05-2023         27,5\n",
      "21  22-05-2023        26,52\n",
      "22  23-05-2023        26,52\n",
      "23  24-05-2023        26,52\n",
      "24  25-05-2023        27,16\n",
      "25  26-05-2023        27,16\n",
      "26  27-05-2023         27,8\n",
      "27  28-05-2023        27,36\n",
      "28  29-05-2023        27,59\n",
      "29  30-05-2023        27,59\n",
      "30  31-05-2023        28,14\n"
     ]
    }
   ],
   "source": [
    "xml_file: str = './data/Valores+de+acciones.xml'\n",
    "df2: pd.DataFrame = pd.read_xml(xml_file)\n",
    "print(df2)"
   ]
  },
  {
   "cell_type": "code",
   "execution_count": 3,
   "metadata": {},
   "outputs": [
    {
     "name": "stdout",
     "output_type": "stream",
     "text": [
      "   arabic roman   text\n",
      "0       1     I    one\n",
      "1       2    II    two\n",
      "2       3   III  three\n",
      "3       4    IV   four\n",
      "4       5     V   five\n"
     ]
    }
   ],
   "source": [
    "numerals: dict[str, Any] = {\n",
    "    'arabic': [1, 2, 3, 4, 5],\n",
    "    'roman': ['I', 'II', 'III', 'IV', 'V'],\n",
    "    'text': ['one', 'two', 'three', 'four', 'five']\n",
    "}\n",
    "numerals_df: pd.DataFrame = pd.DataFrame(data=numerals)\n",
    "print(numerals_df)"
   ]
  },
  {
   "cell_type": "code",
   "execution_count": 8,
   "metadata": {},
   "outputs": [
    {
     "name": "stdout",
     "output_type": "stream",
     "text": [
      "   arabic roman   text      dates\n",
      "0       1     I    one 2022-01-01\n",
      "1       2    II    two 2022-01-02\n",
      "2       3   III  three 2022-01-03\n",
      "3       4    IV   four 2022-01-04\n",
      "4       5     V   five 2022-01-05\n"
     ]
    }
   ],
   "source": [
    "numerals_df['dates'] = pd.Series(pd.date_range('2022-01-01', periods=5))\n",
    "print(numerals_df)"
   ]
  },
  {
   "cell_type": "code",
   "execution_count": 11,
   "metadata": {},
   "outputs": [
    {
     "name": "stdout",
     "output_type": "stream",
     "text": [
      "Success!\n"
     ]
    }
   ],
   "source": [
    "# Generar archivo excel para el DataFrame `numerals_df`\n",
    "numerals_file: str = './data/numerals.xlsx'\n",
    "numerals_df.to_excel(numerals_file)\n",
    "\n",
    "# NOTE: Esto es mío, para comprobación 😛\n",
    "print('Success!') if os.path.exists(numerals_file) else print('Error!')"
   ]
  },
  {
   "cell_type": "code",
   "execution_count": 12,
   "metadata": {},
   "outputs": [
    {
     "name": "stdout",
     "output_type": "stream",
     "text": [
      "Success!\n"
     ]
    }
   ],
   "source": [
    "# Generar archivo excel para el DataFrame `numerals_df2` (sin índices)\n",
    "numerals_file2: str = './data/numerals2.xlsx'\n",
    "numerals_df.to_excel(numerals_file2, index=False)\n",
    "\n",
    "# NOTE: Esto es mío, para comprobación 😛\n",
    "print('Success!') if os.path.exists(numerals_file2) else print('Error!')"
   ]
  },
  {
   "cell_type": "code",
   "execution_count": 13,
   "metadata": {},
   "outputs": [
    {
     "name": "stdout",
     "output_type": "stream",
     "text": [
      "Success!\n"
     ]
    }
   ],
   "source": [
    "# Generar archivo CSV para el DataFrame `numerals_df` (sin índices)\n",
    "numerals_file_csv: str = './data/numerals.csv'\n",
    "numerals_df.to_csv(numerals_file_csv, index=False)\n",
    "\n",
    "# NOTE: Esto es mío, para comprobación 😛\n",
    "print('Success!') if os.path.exists(numerals_file_csv) else print('Error!')"
   ]
  }
 ],
 "metadata": {
  "kernelspec": {
   "display_name": "base",
   "language": "python",
   "name": "python3"
  },
  "language_info": {
   "codemirror_mode": {
    "name": "ipython",
    "version": 3
   },
   "file_extension": ".py",
   "mimetype": "text/x-python",
   "name": "python",
   "nbconvert_exporter": "python",
   "pygments_lexer": "ipython3",
   "version": "3.12.4"
  }
 },
 "nbformat": 4,
 "nbformat_minor": 2
}
