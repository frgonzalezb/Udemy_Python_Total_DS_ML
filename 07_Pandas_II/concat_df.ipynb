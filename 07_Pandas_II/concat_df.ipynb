{
 "cells": [
  {
   "cell_type": "markdown",
   "metadata": {},
   "source": [
    "# Concatenar DataFrames en Pandas con concat"
   ]
  },
  {
   "cell_type": "code",
   "execution_count": 1,
   "metadata": {},
   "outputs": [
    {
     "name": "stdout",
     "output_type": "stream",
     "text": [
      "   Name  Age\n",
      "0  John   25\n",
      "1  Mary   30\n",
      "2   Bob   22\n"
     ]
    }
   ],
   "source": [
    "import pandas as pd\n",
    "\n",
    "\n",
    "df1: pd.DataFrame = pd.DataFrame({\n",
    "    'Name': ['John', 'Mary', 'Bob'],\n",
    "    'Age': [25, 30, 22]\n",
    "})\n",
    "print(df1)"
   ]
  },
  {
   "cell_type": "code",
   "execution_count": 2,
   "metadata": {},
   "outputs": [
    {
     "name": "stdout",
     "output_type": "stream",
     "text": [
      "      Name  Age\n",
      "0     Sara   31\n",
      "1  Patrick   23\n",
      "2     Kate   37\n"
     ]
    }
   ],
   "source": [
    "df2: pd.DataFrame = pd.DataFrame({\n",
    "    'Name': ['Sara', 'Patrick', 'Kate'],\n",
    "    'Age': [31, 23, 37]\n",
    "})\n",
    "print(df2)"
   ]
  },
  {
   "cell_type": "code",
   "execution_count": 3,
   "metadata": {},
   "outputs": [
    {
     "name": "stdout",
     "output_type": "stream",
     "text": [
      "      Name  Age\n",
      "0     John   25\n",
      "1     Mary   30\n",
      "2      Bob   22\n",
      "0     Sara   31\n",
      "1  Patrick   23\n",
      "2     Kate   37\n"
     ]
    }
   ],
   "source": [
    "# Uso de concat()\n",
    "concat_df: pd.DataFrame = pd.concat([df1, df2])\n",
    "print(concat_df)"
   ]
  },
  {
   "cell_type": "markdown",
   "metadata": {},
   "source": [
    "**NOTA:** Este método combina dos DF en el eje vertical (por defecto), debido al parámetro `axis=0`.\n",
    "\n",
    "Valores posibles:  \n",
    "- 0 = columnas  \n",
    "- 1 = filas"
   ]
  },
  {
   "cell_type": "code",
   "execution_count": 4,
   "metadata": {},
   "outputs": [
    {
     "name": "stdout",
     "output_type": "stream",
     "text": [
      "   Name  Age     Name  Age\n",
      "0  John   25     Sara   31\n",
      "1  Mary   30  Patrick   23\n",
      "2   Bob   22     Kate   37\n"
     ]
    }
   ],
   "source": [
    "# Lo mismo, pero en horizontal\n",
    "concat_df_horizontally: pd.DataFrame = pd.concat([df1, df2], axis=1)\n",
    "print(concat_df_horizontally)"
   ]
  },
  {
   "cell_type": "code",
   "execution_count": 5,
   "metadata": {},
   "outputs": [
    {
     "name": "stdout",
     "output_type": "stream",
     "text": [
      "      Name  Age\n",
      "0     John   25\n",
      "1     Mary   30\n",
      "2      Bob   22\n",
      "3     Sara   31\n",
      "4  Patrick   23\n",
      "5     Kate   37\n"
     ]
    }
   ],
   "source": [
    "# Ignorar los índices (se regeneran como 0, 1, 2, 3, 4,...)\n",
    "concat_df: pd.DataFrame = pd.concat([df1, df2], ignore_index=True)\n",
    "print(concat_df)"
   ]
  },
  {
   "cell_type": "code",
   "execution_count": 6,
   "metadata": {},
   "outputs": [
    {
     "name": "stdout",
     "output_type": "stream",
     "text": [
      "           Name  Age\n",
      "df_1 0     John   25\n",
      "     1     Mary   30\n",
      "     2      Bob   22\n",
      "df_2 0     Sara   31\n",
      "     1  Patrick   23\n",
      "     2     Kate   37\n"
     ]
    }
   ],
   "source": [
    "# Agregar marcas para indicar a qué grupo pertenece cada uno de los DF\n",
    "concat_df: pd.DataFrame = pd.concat([df1, df2], keys=['df_1', 'df_2'])\n",
    "print(concat_df)"
   ]
  }
 ],
 "metadata": {
  "kernelspec": {
   "display_name": "base",
   "language": "python",
   "name": "python3"
  },
  "language_info": {
   "codemirror_mode": {
    "name": "ipython",
    "version": 3
   },
   "file_extension": ".py",
   "mimetype": "text/x-python",
   "name": "python",
   "nbconvert_exporter": "python",
   "pygments_lexer": "ipython3",
   "version": "3.12.4"
  }
 },
 "nbformat": 4,
 "nbformat_minor": 2
}
