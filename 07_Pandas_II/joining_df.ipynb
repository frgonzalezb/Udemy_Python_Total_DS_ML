{
 "cells": [
  {
   "cell_type": "markdown",
   "metadata": {},
   "source": [
    "# Combinar DataFrames en Pandas con join()\n",
    "\n",
    "**NOTA:** `join()`, a diferencia de `merge()`, combina dos DF en el sentido de unir ambos por un índice o una columna clave, y no por columnas compartidas."
   ]
  },
  {
   "cell_type": "code",
   "execution_count": 1,
   "metadata": {},
   "outputs": [
    {
     "name": "stdout",
     "output_type": "stream",
     "text": [
      "   Salary  Seniority\n",
      "1   30000          9\n",
      "2   45000         13\n",
      "3   38000         12\n"
     ]
    }
   ],
   "source": [
    "import pandas as pd\n",
    "\n",
    "\n",
    "df_1: pd.DataFrame = pd.DataFrame({\n",
    "    'Salary': [30000, 45000, 38000],\n",
    "    'Seniority': [9, 13, 12]\n",
    "}, index=[1, 2, 3])\n",
    "\n",
    "print(df_1)"
   ]
  },
  {
   "cell_type": "code",
   "execution_count": 2,
   "metadata": {},
   "outputs": [
    {
     "name": "stdout",
     "output_type": "stream",
     "text": [
      "        City Hierarchy\n",
      "1     Madrid       Low\n",
      "2  Barcelona      High\n",
      "4   Valencia    Medium\n"
     ]
    }
   ],
   "source": [
    "df_2: pd.DataFrame = pd.DataFrame({\n",
    "    'City': ['Madrid', 'Barcelona', 'Valencia'],\n",
    "    'Hierarchy': ['Low', 'High', 'Medium']\n",
    "}, index=[1, 2, 4])\n",
    "\n",
    "print(df_2)"
   ]
  },
  {
   "cell_type": "code",
   "execution_count": 3,
   "metadata": {},
   "outputs": [
    {
     "name": "stdout",
     "output_type": "stream",
     "text": [
      "   Salary  Seniority       City Hierarchy\n",
      "1   30000          9     Madrid       Low\n",
      "2   45000         13  Barcelona      High\n",
      "3   38000         12        NaN       NaN\n"
     ]
    }
   ],
   "source": [
    "# Juntar dos dataframes\n",
    "united_df: pd.DataFrame = df_1.join(df_2)\n",
    "print(united_df)"
   ]
  },
  {
   "cell_type": "markdown",
   "metadata": {},
   "source": [
    "**NOTA:** `join()` incluye el parámetro `how` y funciona como un `merge()` con el parámetro `how='left'`, por defecto. "
   ]
  },
  {
   "cell_type": "code",
   "execution_count": 4,
   "metadata": {},
   "outputs": [
    {
     "name": "stdout",
     "output_type": "stream",
     "text": [
      "   Salary  Seniority       City Hierarchy\n",
      "1   30000          9     Madrid       Low\n",
      "2   45000         13  Barcelona      High\n"
     ]
    }
   ],
   "source": [
    "# Aún así, es posible cambiar el parámetro how\n",
    "united_df: pd.DataFrame = df_1.join(df_2, how='inner')\n",
    "print(united_df)"
   ]
  }
 ],
 "metadata": {
  "kernelspec": {
   "display_name": "base",
   "language": "python",
   "name": "python3"
  },
  "language_info": {
   "codemirror_mode": {
    "name": "ipython",
    "version": 3
   },
   "file_extension": ".py",
   "mimetype": "text/x-python",
   "name": "python",
   "nbconvert_exporter": "python",
   "pygments_lexer": "ipython3",
   "version": "3.12.4"
  }
 },
 "nbformat": 4,
 "nbformat_minor": 2
}
