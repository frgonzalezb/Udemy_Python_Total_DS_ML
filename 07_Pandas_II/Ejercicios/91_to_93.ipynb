{
 "cells": [
  {
   "cell_type": "markdown",
   "metadata": {},
   "source": [
    "# Fusionar DataFrames con merge 1\n",
    "\n",
    "Tienes dos DataFrames, `libros` y `autores`, que necesitas fusionar.\n",
    "\n",
    "El objetivo es fusionar `libros` con `autores` para obtener un DataFrame que contenga toda la información disponible, asociando cada libro con su autor correspondiente. Debes nombrar el **DataFrame fusionado** como: `libros_autores`\n",
    "\n",
    "Utiliza el método de fusión **adecuado** para asegurar que no se pierda ningún libro o autor, incluso si no hay una correspondencia directa entre ellos. El resultado debe tener **NaN** donde no haya información disponible."
   ]
  },
  {
   "cell_type": "code",
   "execution_count": 1,
   "metadata": {},
   "outputs": [
    {
     "name": "stdout",
     "output_type": "stream",
     "text": [
      "   ID                titulo                  nombre\n",
      "0   1            El Quijote     Miguel de Cervantes\n",
      "1   2             La Odisea                  Homero\n",
      "2   3  Cien Años de Soledad  Gabriel García Márquez\n",
      "3   4         El Principito                     NaN\n",
      "4   5                   NaN            J.K. Rowling\n"
     ]
    }
   ],
   "source": [
    "import pandas as pd\n",
    "\n",
    "\n",
    "libros: pd.DataFrame = pd.DataFrame({\n",
    "    'ID': [1, 2, 3, 4],\n",
    "    'titulo': ['El Quijote', 'La Odisea', 'Cien Años de Soledad', 'El Principito']\n",
    "})\n",
    "\n",
    "autores: pd.DataFrame = pd.DataFrame({\n",
    "    'ID': [1, 2, 3, 5],\n",
    "    'nombre': ['Miguel de Cervantes', 'Homero', 'Gabriel García Márquez', 'J.K. Rowling']\n",
    "})\n",
    "\n",
    "libros_autores: pd.DataFrame = pd.merge(libros, autores, on='ID', how='outer')\n",
    "print(libros_autores)"
   ]
  },
  {
   "cell_type": "markdown",
   "metadata": {},
   "source": [
    "# Fusionar DataFrames con merge 2\n",
    "\n",
    "Imagina que estás trabajando con dos conjuntos de datos: uno que contiene información sobre cursos en línea ofrecidos (`cursos`) y otro que contiene información sobre las inscripciones a estos cursos (`inscripciones`).\n",
    "\n",
    "Tu tarea es fusionar `cursos` con `inscripciones` (en un DataFrame llamado: `cursos_inscripciones`) de tal manera que el resultado final incluya todos los registros de `inscripciones`, completándolos con la información disponible en `cursos`.\n",
    "\n",
    "Utiliza el método de fusión adecuado para garantizar que no se pierda ninguna inscripción, incluso si el curso correspondiente no está listado en el DataFrame `cursos`. Es importante que el DataFrame resultante `cursos_inscripciones` muestre claramente qué inscripciones no tienen un curso correspondiente, rellenando esos espacios con NaN."
   ]
  },
  {
   "cell_type": "code",
   "execution_count": 8,
   "metadata": {},
   "outputs": [
    {
     "name": "stdout",
     "output_type": "stream",
     "text": [
      "   curso_id fecha_inscripcion             nombre_curso\n",
      "0       102        2023-01-15  Data Science con Python\n",
      "1       102        2023-02-01  Data Science con Python\n",
      "2       101        2023-01-20    Introducción a Python\n",
      "3       104        2023-03-05                      NaN\n"
     ]
    }
   ],
   "source": [
    "import pandas as pd\n",
    "\n",
    "\n",
    "cursos: pd.DataFrame = pd.DataFrame({\n",
    "    'curso_id': [101, 102, 103],\n",
    "    'nombre_curso': ['Introducción a Python', 'Data Science con Python', 'Machine Learning Avanzado']\n",
    "})\n",
    "\n",
    "inscripciones: pd.DataFrame = pd.DataFrame({\n",
    "    'curso_id': [102, 102, 101, 104],\n",
    "    'fecha_inscripcion': ['2023-01-15', '2023-02-01', '2023-01-20', '2023-03-05']\n",
    "})\n",
    "\n",
    "\"\"\"\n",
    "NOTE: Por alguna extraña razón, esto no funciona:\n",
    "\n",
    "cursos_inscripciones: pd.DataFrame = pd.merge(\n",
    "    cursos,\n",
    "    inscripciones,\n",
    "    on='curso_id',\n",
    "    how='right'\n",
    ")\n",
    "\n",
    "...pero lo siguiente, sí.\n",
    "\"\"\"\n",
    "cursos_inscripciones: pd.DataFrame = pd.merge(\n",
    "    inscripciones,\n",
    "    cursos,\n",
    "    on='curso_id',\n",
    "    how='left'\n",
    ")\n",
    "\n",
    "print(cursos_inscripciones)"
   ]
  },
  {
   "cell_type": "markdown",
   "metadata": {},
   "source": [
    "# Fusionar DataFrames con merge 3\n",
    "\n",
    "Dispones de dos DataFrames, `productos` y `reviews`, que contienen información sobre productos y las reseñas asociadas a estos productos, respectivamente.\n",
    "\n",
    "Tu tarea consiste en fusionar `productos` con `reviews` para obtener un DataFrame que combine la información de ambos (al cual debes nombrar: `productos_reviews`), **manteniendo los índices originales de cada uno.**\n",
    "\n",
    "Utiliza los parámetros adecuados de la función `merge()` para realizar esta combinación. El DataFrame resultante `productos_reviews` debe contener las columnas de ambos DataFrames originales, permitiendo así un análisis detallado de cada producto junto con sus reseñas."
   ]
  },
  {
   "cell_type": "code",
   "execution_count": 9,
   "metadata": {},
   "outputs": [
    {
     "name": "stdout",
     "output_type": "stream",
     "text": [
      "   ID_x   Nombre     Marca  ID_y  Calificación          Comentario\n",
      "0    10  Teclado  Logitech    10             5  Excelente producto\n",
      "1    11    Mouse     Razer    11             4       Buen producto\n",
      "2    12  Monitor      Dell    12             4          Satisfecho\n"
     ]
    }
   ],
   "source": [
    "import pandas as pd\n",
    "\n",
    "\n",
    "productos: pd.DataFrame = pd.DataFrame({\n",
    "    'ID': [10, 11, 12],\n",
    "    'Nombre': ['Teclado', 'Mouse', 'Monitor'],\n",
    "    'Marca': ['Logitech', 'Razer', 'Dell']\n",
    "})\n",
    "\n",
    "reviews: pd.DataFrame = pd.DataFrame({\n",
    "    'ID': [10, 11, 12],\n",
    "    'Calificación': [5, 4, 4],\n",
    "    'Comentario': ['Excelente producto', 'Buen producto', 'Satisfecho']\n",
    "})\n",
    "\n",
    "productos_reviews: pd.DataFrame = pd.merge(\n",
    "    productos,\n",
    "    reviews,\n",
    "    left_index=True,\n",
    "    right_index=True\n",
    ")\n",
    "print(productos_reviews)"
   ]
  }
 ],
 "metadata": {
  "kernelspec": {
   "display_name": "base",
   "language": "python",
   "name": "python3"
  },
  "language_info": {
   "codemirror_mode": {
    "name": "ipython",
    "version": 3
   },
   "file_extension": ".py",
   "mimetype": "text/x-python",
   "name": "python",
   "nbconvert_exporter": "python",
   "pygments_lexer": "ipython3",
   "version": "3.12.4"
  }
 },
 "nbformat": 4,
 "nbformat_minor": 2
}
