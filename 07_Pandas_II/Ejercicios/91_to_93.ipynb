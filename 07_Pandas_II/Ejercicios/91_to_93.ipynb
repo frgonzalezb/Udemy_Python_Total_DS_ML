{
 "cells": [
  {
   "cell_type": "markdown",
   "metadata": {},
   "source": [
    "# Fusionar DataFrames con merge 1\n",
    "\n",
    "Tienes dos DataFrames, `libros` y `autores`, que necesitas fusionar.\n",
    "\n",
    "El objetivo es fusionar `libros` con `autores` para obtener un DataFrame que contenga toda la información disponible, asociando cada libro con su autor correspondiente. Debes nombrar el **DataFrame fusionado** como: `libros_autores`\n",
    "\n",
    "Utiliza el método de fusión **adecuado** para asegurar que no se pierda ningún libro o autor, incluso si no hay una correspondencia directa entre ellos. El resultado debe tener **NaN** donde no haya información disponible."
   ]
  },
  {
   "cell_type": "code",
   "execution_count": 1,
   "metadata": {},
   "outputs": [
    {
     "name": "stdout",
     "output_type": "stream",
     "text": [
      "   ID                titulo                  nombre\n",
      "0   1            El Quijote     Miguel de Cervantes\n",
      "1   2             La Odisea                  Homero\n",
      "2   3  Cien Años de Soledad  Gabriel García Márquez\n",
      "3   4         El Principito                     NaN\n",
      "4   5                   NaN            J.K. Rowling\n"
     ]
    }
   ],
   "source": [
    "import pandas as pd\n",
    "\n",
    "\n",
    "libros: pd.DataFrame = pd.DataFrame({\n",
    "    'ID': [1, 2, 3, 4],\n",
    "    'titulo': ['El Quijote', 'La Odisea', 'Cien Años de Soledad', 'El Principito']\n",
    "})\n",
    "\n",
    "autores: pd.DataFrame = pd.DataFrame({\n",
    "    'ID': [1, 2, 3, 5],\n",
    "    'nombre': ['Miguel de Cervantes', 'Homero', 'Gabriel García Márquez', 'J.K. Rowling']\n",
    "})\n",
    "\n",
    "libros_autores: pd.DataFrame = pd.merge(libros, autores, on='ID', how='outer')\n",
    "print(libros_autores)"
   ]
  }
 ],
 "metadata": {
  "kernelspec": {
   "display_name": "base",
   "language": "python",
   "name": "python3"
  },
  "language_info": {
   "codemirror_mode": {
    "name": "ipython",
    "version": 3
   },
   "file_extension": ".py",
   "mimetype": "text/x-python",
   "name": "python",
   "nbconvert_exporter": "python",
   "pygments_lexer": "ipython3",
   "version": "3.12.4"
  }
 },
 "nbformat": 4,
 "nbformat_minor": 2
}
