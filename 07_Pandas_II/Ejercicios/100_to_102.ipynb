{
 "cells": [
  {
   "cell_type": "markdown",
   "metadata": {},
   "source": [
    "# Datos Relacionados con el Tiempo en Pandas 1\n",
    "\n",
    "Crea una serie temporal que represente todos los días desde el inicio del año 2024 hasta el septimo dia del mismo mes y año. Usa el método adecuado para generar esta serie y asígnala a una variable llamada `primera_semana_2024`"
   ]
  },
  {
   "cell_type": "code",
   "execution_count": 1,
   "metadata": {},
   "outputs": [
    {
     "name": "stdout",
     "output_type": "stream",
     "text": [
      "0   2024-01-01\n",
      "1   2024-01-02\n",
      "2   2024-01-03\n",
      "3   2024-01-04\n",
      "4   2024-01-05\n",
      "5   2024-01-06\n",
      "6   2024-01-07\n",
      "dtype: datetime64[ns]\n"
     ]
    }
   ],
   "source": [
    "import pandas as pd\n",
    "\n",
    "\n",
    "primera_semana_2024: pd.Series = pd.Series(\n",
    "    pd.date_range('2024-01-01', periods=7, freq='D')\n",
    ")\n",
    "print(primera_semana_2024)"
   ]
  }
 ],
 "metadata": {
  "kernelspec": {
   "display_name": "base",
   "language": "python",
   "name": "python3"
  },
  "language_info": {
   "codemirror_mode": {
    "name": "ipython",
    "version": 3
   },
   "file_extension": ".py",
   "mimetype": "text/x-python",
   "name": "python",
   "nbconvert_exporter": "python",
   "pygments_lexer": "ipython3",
   "version": "3.12.4"
  }
 },
 "nbformat": 4,
 "nbformat_minor": 2
}
