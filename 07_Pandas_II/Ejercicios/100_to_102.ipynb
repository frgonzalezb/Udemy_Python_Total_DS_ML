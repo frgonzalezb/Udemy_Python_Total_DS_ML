{
 "cells": [
  {
   "cell_type": "markdown",
   "metadata": {},
   "source": [
    "# Datos Relacionados con el Tiempo en Pandas 1\n",
    "\n",
    "Crea una serie temporal que represente todos los días desde el inicio del año 2024 hasta el septimo dia del mismo mes y año. Usa el método adecuado para generar esta serie y asígnala a una variable llamada `primera_semana_2024`"
   ]
  },
  {
   "cell_type": "code",
   "execution_count": 1,
   "metadata": {},
   "outputs": [
    {
     "name": "stdout",
     "output_type": "stream",
     "text": [
      "0   2024-01-01\n",
      "1   2024-01-02\n",
      "2   2024-01-03\n",
      "3   2024-01-04\n",
      "4   2024-01-05\n",
      "5   2024-01-06\n",
      "6   2024-01-07\n",
      "dtype: datetime64[ns]\n"
     ]
    }
   ],
   "source": [
    "import pandas as pd\n",
    "\n",
    "\n",
    "primera_semana_2024: pd.Series = pd.Series(\n",
    "    pd.date_range('2024-01-01', periods=7, freq='D')\n",
    ")\n",
    "print(primera_semana_2024)"
   ]
  },
  {
   "cell_type": "markdown",
   "metadata": {},
   "source": [
    "# Datos Relacionados con el Tiempo en Pandas 2\n",
    "\n",
    "Dada una lista de fechas en formato string ['2024-01-01', '2024-02-14', '2024-03-01'] en una columna **fecha** de una tabla llamada **fechas.csv**\n",
    "\n",
    "Debes leer el archivo CSV 'fechas.csv' desde tu código para ello emplea el método adecuado.\n",
    "\n",
    "Convierte estas fechas al formato datetime de Pandas con el siguiente formato **dia/mes/año. Almacena este DataFrame en una variable nombrada** `df`"
   ]
  },
  {
   "cell_type": "code",
   "execution_count": 8,
   "metadata": {},
   "outputs": [
    {
     "name": "stdout",
     "output_type": "stream",
     "text": [
      "        fecha\n",
      "0  01/01/2024\n",
      "1  14/02/2024\n",
      "2  01/03/2024\n"
     ]
    }
   ],
   "source": [
    "import pandas as pd\n",
    "\n",
    "\n",
    "path: str = './data/fechas.csv'\n",
    "df: pd.DataFrame = pd.read_csv(path)\n",
    "df['fecha'] = pd.to_datetime(df['fecha'], format='%Y-%m-%d')\n",
    "df['fecha'] = df['fecha'].dt.strftime('%d/%m/%Y')\n",
    "print(df)"
   ]
  },
  {
   "cell_type": "markdown",
   "metadata": {},
   "source": [
    "# Datos Relacionados con el Tiempo en Pandas 3\n",
    "\n",
    "Dada una lista de fechas en formato string ['01-01-2024', '14-02-2024', '01-03-2024'] en una columna fecha de una tabla llamada **fechas.csv**\n",
    "\n",
    "Debes leer el archivo CSV 'fechas.csv' desde tu código para ello emplea el método adecuado.\n",
    "\n",
    "Convierte estas fechas al formato datetime de Pandas. Con el siguiente formato **dia/mes/año.** Almacena este DataFrame en una variable nombrada `df`\n",
    "\n",
    "**Agrega cinco días a cada fecha.**\n",
    "\n"
   ]
  },
  {
   "cell_type": "code",
   "execution_count": 13,
   "metadata": {},
   "outputs": [
    {
     "name": "stdout",
     "output_type": "stream",
     "text": [
      "       fecha\n",
      "0 2024-01-06\n",
      "1 2024-02-19\n",
      "2 2024-03-06\n"
     ]
    }
   ],
   "source": [
    "import pandas as pd\n",
    "\n",
    "\n",
    "# NOTE: El nuevo archivo 'fechas' tiene otros registros\n",
    "# El archivo actual se ha renombrado a 'fechas2' por esto\n",
    "path: str = './data/fechas2.csv'\n",
    "df: pd.DataFrame = pd.read_csv(path)\n",
    "df['fecha'] = pd.to_datetime(df['fecha'], format='%d-%m-%Y')\n",
    "df['fecha'] = df['fecha'] + pd.Timedelta(days=5)\n",
    "print(df)"
   ]
  },
  {
   "cell_type": "markdown",
   "metadata": {},
   "source": [
    "**NOTA:** Por alguna razón, Udemy toma como bueno el resultado de arriba, pese a que **no es exactamente lo que detalla el ejercicio**, por lo que ofrezco lo que realmente debería ser:"
   ]
  },
  {
   "cell_type": "code",
   "execution_count": 14,
   "metadata": {},
   "outputs": [
    {
     "name": "stdout",
     "output_type": "stream",
     "text": [
      "        fecha\n",
      "0  06/01/2024\n",
      "1  19/02/2024\n",
      "2  06/03/2024\n"
     ]
    }
   ],
   "source": [
    "import pandas as pd\n",
    "\n",
    "\n",
    "# NOTE: El nuevo archivo 'fechas' tiene otros registros\n",
    "# El archivo actual se ha renombrado a 'fechas2' por esto\n",
    "path: str = './data/fechas2.csv'\n",
    "df: pd.DataFrame = pd.read_csv(path)\n",
    "df['fecha'] = pd.to_datetime(df['fecha'], format='%d-%m-%Y')\n",
    "df['fecha'] = df['fecha'] + pd.Timedelta(days=5)\n",
    "df['fecha'] = df['fecha'].dt.strftime('%d/%m/%Y')\n",
    "print(df)"
   ]
  }
 ],
 "metadata": {
  "kernelspec": {
   "display_name": "base",
   "language": "python",
   "name": "python3"
  },
  "language_info": {
   "codemirror_mode": {
    "name": "ipython",
    "version": 3
   },
   "file_extension": ".py",
   "mimetype": "text/x-python",
   "name": "python",
   "nbconvert_exporter": "python",
   "pygments_lexer": "ipython3",
   "version": "3.12.4"
  }
 },
 "nbformat": 4,
 "nbformat_minor": 2
}
