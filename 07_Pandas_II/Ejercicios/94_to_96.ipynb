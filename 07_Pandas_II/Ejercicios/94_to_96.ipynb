{
 "cells": [
  {
   "cell_type": "markdown",
   "metadata": {},
   "source": [
    "# Combinar DataFrames en Pandas con join() 1\n",
    "\n",
    "Utiliza el método `join()` para combinar `df_a` y `df_b` en un nuevo DataFrame llamado `df_combinado`, usando el argumento por defecto de `how`."
   ]
  },
  {
   "cell_type": "code",
   "execution_count": 1,
   "metadata": {},
   "outputs": [
    {
     "name": "stdout",
     "output_type": "stream",
     "text": [
      "   Nombre  Edad\n",
      "id             \n",
      "1     Ana    25\n",
      "2    Beto    30\n",
      "3   Carla    35\n"
     ]
    }
   ],
   "source": [
    "import pandas as pd\n",
    "\n",
    "\n",
    "# Creación del DataFrame df_a\n",
    "df_a: pd.DataFrame = pd.DataFrame({\n",
    "    'id': [1, 2, 3],\n",
    "    'Nombre': ['Ana', 'Beto', 'Carla']\n",
    "})\n",
    "df_a.set_index('id', inplace=True)\n",
    "\n",
    "# Creación del DataFrame df_b\n",
    "df_b: pd.DataFrame = pd.DataFrame({\n",
    "    'id': [1, 2, 3],\n",
    "    'Edad': [25, 30, 35]\n",
    "})\n",
    "df_b.set_index('id', inplace=True)\n",
    "\n",
    "df_combinado: pd.DataFrame = df_a.join(df_b)\n",
    "print(df_combinado)"
   ]
  },
  {
   "cell_type": "markdown",
   "metadata": {},
   "source": [
    "# Combinar DataFrames en Pandas con join() 2\n",
    "Dado el DataFrame `productos_df` con columnas `ProductoID`, `Nombre` y `Precio`, y el DataFrame `categorias_df` con columnas `CategoriaID` y `NombreCategoria`\n",
    "\n",
    "Donde ambos DataFrames están indexados por `ProductoID` y `CategoriaID` respectivamente, realiza una unión usando el método `join()` para combinar estos DataFrames en un nuevo DataFrames  nombrado: `df_combinado` basándote en sus índices, asegurándote de que todos los productos se muestren, independientemente de si tienen una categoría asignada o no.\n",
    "\n",
    "Utiliza el método adecuado para asegurar que todos los registros del DataFrame de la izquierda (`productos_df` en este caso) se incluyan en el DataFrame resultante `df_combinado`, independientemente de si tienen una correspondencia en el DataFrame de la derecha (`categorias_df`)."
   ]
  },
  {
   "cell_type": "code",
   "execution_count": 2,
   "metadata": {},
   "outputs": [
    {
     "name": "stdout",
     "output_type": "stream",
     "text": [
      "                Nombre  Precio NombreCategoria\n",
      "ProductoID                                    \n",
      "1           Producto 1     100     Categoría 1\n",
      "2           Producto 2     150     Categoría 2\n",
      "3           Producto 3     200             NaN\n",
      "4           Producto 4     250             NaN\n"
     ]
    }
   ],
   "source": [
    "import pandas as pd\n",
    "\n",
    "\n",
    "productos_df: pd.DataFrame = pd.DataFrame({\n",
    "    'ProductoID': [1, 2, 3, 4],\n",
    "    'Nombre': ['Producto 1', 'Producto 2', 'Producto 3', 'Producto 4'],\n",
    "    'Precio': [100, 150, 200, 250]\n",
    "}).set_index('ProductoID')\n",
    "\n",
    "categorias_df: pd.DataFrame = pd.DataFrame({\n",
    "    'CategoriaID': [1, 2],\n",
    "    'NombreCategoria': ['Categoría 1', 'Categoría 2']\n",
    "}).set_index('CategoriaID')\n",
    "\n",
    "df_combinado: pd.DataFrame = productos_df.join(\n",
    "    categorias_df,\n",
    "    on='ProductoID'\n",
    ")\n",
    "print(df_combinado)\n"
   ]
  }
 ],
 "metadata": {
  "kernelspec": {
   "display_name": "base",
   "language": "python",
   "name": "python3"
  },
  "language_info": {
   "codemirror_mode": {
    "name": "ipython",
    "version": 3
   },
   "file_extension": ".py",
   "mimetype": "text/x-python",
   "name": "python",
   "nbconvert_exporter": "python",
   "pygments_lexer": "ipython3",
   "version": "3.12.4"
  }
 },
 "nbformat": 4,
 "nbformat_minor": 2
}
