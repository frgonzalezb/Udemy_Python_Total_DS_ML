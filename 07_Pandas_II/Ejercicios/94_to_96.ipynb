{
 "cells": [
  {
   "cell_type": "markdown",
   "metadata": {},
   "source": [
    "# Combinar DataFrames en Pandas con join() 1\n",
    "\n",
    "Utiliza el método `join()` para combinar `df_a` y `df_b` en un nuevo DataFrame llamado `df_combinado`, usando el argumento por defecto de `how`."
   ]
  },
  {
   "cell_type": "code",
   "execution_count": 1,
   "metadata": {},
   "outputs": [
    {
     "name": "stdout",
     "output_type": "stream",
     "text": [
      "   Nombre  Edad\n",
      "id             \n",
      "1     Ana    25\n",
      "2    Beto    30\n",
      "3   Carla    35\n"
     ]
    }
   ],
   "source": [
    "import pandas as pd\n",
    "\n",
    "\n",
    "# Creación del DataFrame df_a\n",
    "df_a: pd.DataFrame = pd.DataFrame({\n",
    "    'id': [1, 2, 3],\n",
    "    'Nombre': ['Ana', 'Beto', 'Carla']\n",
    "})\n",
    "df_a.set_index('id', inplace=True)\n",
    "\n",
    "# Creación del DataFrame df_b\n",
    "df_b: pd.DataFrame = pd.DataFrame({\n",
    "    'id': [1, 2, 3],\n",
    "    'Edad': [25, 30, 35]\n",
    "})\n",
    "df_b.set_index('id', inplace=True)\n",
    "\n",
    "df_combinado: pd.DataFrame = df_a.join(df_b)\n",
    "print(df_combinado)"
   ]
  }
 ],
 "metadata": {
  "kernelspec": {
   "display_name": "base",
   "language": "python",
   "name": "python3"
  },
  "language_info": {
   "codemirror_mode": {
    "name": "ipython",
    "version": 3
   },
   "file_extension": ".py",
   "mimetype": "text/x-python",
   "name": "python",
   "nbconvert_exporter": "python",
   "pygments_lexer": "ipython3",
   "version": "3.12.4"
  }
 },
 "nbformat": 4,
 "nbformat_minor": 2
}
