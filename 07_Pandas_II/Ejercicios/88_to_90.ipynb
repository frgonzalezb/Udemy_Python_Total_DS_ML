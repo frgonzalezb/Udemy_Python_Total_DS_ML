{
 "cells": [
  {
   "cell_type": "markdown",
   "metadata": {},
   "source": [
    "# Ordenar y Agrupar DataFrames en Pandas 1\n",
    "\n",
    "Crea un DataFrame a partir del siguiente diccionario de datos de películas.\n",
    "\n",
    "```\n",
    "datos = {\n",
    "    'titulo': ['Pelicula A', 'Pelicula B', 'Pelicula C', 'Pelicula D'],\n",
    "    'año': [2001, 2000, 2005, 2010],\n",
    "    'rating': [7.2, 6.5, 8.1, 7.5]\n",
    "}\n",
    "```\n",
    "\n",
    "Luego, ordena este DataFrame por la columna 'año' en orden ascendente. Asegurate de almacenar el diccionario ordenado en una variable llamada: `df_ordenado`"
   ]
  },
  {
   "cell_type": "code",
   "execution_count": 1,
   "metadata": {},
   "outputs": [
    {
     "name": "stdout",
     "output_type": "stream",
     "text": [
      "       titulo   año  rating\n",
      "1  Pelicula B  2000     6.5\n",
      "0  Pelicula A  2001     7.2\n",
      "2  Pelicula C  2005     8.1\n",
      "3  Pelicula D  2010     7.5\n"
     ]
    }
   ],
   "source": [
    "from typing import Any\n",
    "import pandas as pd\n",
    "\n",
    "\n",
    "datos: dict[str, list[Any]] = {\n",
    "    'titulo': ['Pelicula A', 'Pelicula B', 'Pelicula C', 'Pelicula D'],\n",
    "    'año': [2001, 2000, 2005, 2010],\n",
    "    'rating': [7.2, 6.5, 8.1, 7.5]\n",
    "}\n",
    "\n",
    "df: pd.DataFrame = pd.DataFrame(data=datos)\n",
    "df_ordenado: pd.DataFrame = df.sort_values(by='año')\n",
    "print(df_ordenado)"
   ]
  },
  {
   "cell_type": "markdown",
   "metadata": {},
   "source": [
    "# Ordenar y Agrupar DataFrames en Pandas 2\n",
    "\n",
    "Usando el mismo DataFrame del Ejercicio anterior.\n",
    "\n",
    "Ordena las películas primero por `'rating'` en orden descendente y luego por `'año'` en orden ascendente. Asegurate de almacenar el dataframe ordenado en una variable llamada: `df_ordenado`"
   ]
  },
  {
   "cell_type": "code",
   "execution_count": 5,
   "metadata": {},
   "outputs": [
    {
     "name": "stdout",
     "output_type": "stream",
     "text": [
      "       titulo   año  rating\n",
      "2  Pelicula C  2005     8.1\n",
      "3  Pelicula D  2010     7.5\n",
      "0  Pelicula A  2001     7.2\n",
      "1  Pelicula B  2000     6.5\n"
     ]
    }
   ],
   "source": [
    "from typing import Any\n",
    "import pandas as pd\n",
    "\n",
    "\n",
    "datos: dict[str, list[Any]] = {\n",
    "    'titulo': ['Pelicula A', 'Pelicula B', 'Pelicula C', 'Pelicula D'],\n",
    "    'año': [2001, 2000, 2005, 2010],\n",
    "    'rating': [7.2, 6.5, 8.1, 7.5]\n",
    "}\n",
    "\n",
    "df: pd.DataFrame = pd.DataFrame(data=datos)\n",
    "df_ordenado: pd.DataFrame = df.sort_values(by=['rating', 'año'], ascending=[False, True])\n",
    "print(df_ordenado)"
   ]
  },
  {
   "cell_type": "markdown",
   "metadata": {},
   "source": [
    "# Ordenar y Agrupar DataFrames en Pandas 3\n",
    "\n",
    "Crea un nuevo DataFrame a partir del siguiente diccionario\n",
    "\n",
    "```\n",
    "datos = {\n",
    "    'titulo': ['Pelicula A', 'Pelicula B', 'Pelicula C', 'Pelicula D', 'Pelicula E'],\n",
    "    'género': ['Acción', 'Drama', 'Acción', 'Comedia', 'Drama'],\n",
    "    'rating': [7.2, 8.5, 9.1, 6.5, 7.8]\n",
    "}\n",
    "```\n",
    "\n",
    "Que contiene datos de películas incluyendo su género.\n",
    "\n",
    "Luego, **agrupa las películas por 'género' y calcula el promedio de 'rating' para cada género.  Asegurate de almacenar el grupo y promedio en una variable llamada:** `promedio_rating_por_genero`"
   ]
  },
  {
   "cell_type": "code",
   "execution_count": 6,
   "metadata": {},
   "outputs": [
    {
     "name": "stdout",
     "output_type": "stream",
     "text": [
      "género\n",
      "Acción     8.15\n",
      "Comedia    6.50\n",
      "Drama      8.15\n",
      "Name: rating, dtype: float64\n"
     ]
    }
   ],
   "source": [
    "from typing import Any\n",
    "import pandas as pd\n",
    "\n",
    "\n",
    "datos: dict[str, list[Any]] = {\n",
    "    'titulo': ['Pelicula A', 'Pelicula B', 'Pelicula C', 'Pelicula D', 'Pelicula E'],\n",
    "    'género': ['Acción', 'Drama', 'Acción', 'Comedia', 'Drama'],\n",
    "    'rating': [7.2, 8.5, 9.1, 6.5, 7.8]\n",
    "}\n",
    "df: pd.DataFrame = pd.DataFrame(data=datos)\n",
    "promedio_rating_por_genero: pd.Series = df.groupby('género')['rating'].mean()\n",
    "print(promedio_rating_por_genero)"
   ]
  }
 ],
 "metadata": {
  "kernelspec": {
   "display_name": "base",
   "language": "python",
   "name": "python3"
  },
  "language_info": {
   "codemirror_mode": {
    "name": "ipython",
    "version": 3
   },
   "file_extension": ".py",
   "mimetype": "text/x-python",
   "name": "python",
   "nbconvert_exporter": "python",
   "pygments_lexer": "ipython3",
   "version": "3.12.4"
  }
 },
 "nbformat": 4,
 "nbformat_minor": 2
}
