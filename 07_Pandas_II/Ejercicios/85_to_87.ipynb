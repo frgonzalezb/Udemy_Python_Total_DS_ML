{
 "cells": [
  {
   "cell_type": "markdown",
   "metadata": {},
   "source": [
    "# Trabajar con DataFrames de Pandas 1\n",
    "\n",
    "Crea un DataFrame llamado `libros_df` con la siguiente información sobre libros:\n",
    "\n",
    "Los **títulos** son: \"El Quijote\", \"Cien años de soledad\", \"La odisea\"\n",
    "\n",
    "Los **autores** son \"Miguel de Cervantes\", \"Gabriel García Márquez\", \"Homero\"\n",
    "\n",
    "Los años de publicación son 1605, 1967, y -800, respectivamente.\n",
    "\n",
    "\n",
    "\n",
    "Asegúrate de utilizar las columnas `Titulo`, `Autor` y `Año`."
   ]
  },
  {
   "cell_type": "code",
   "execution_count": 1,
   "metadata": {},
   "outputs": [
    {
     "name": "stdout",
     "output_type": "stream",
     "text": [
      "                 Titulo                   Autor   Año\n",
      "0            El Quijote     Miguel de Cervantes  1605\n",
      "1  Cien años de soledad  Gabriel García Márquez  1967\n",
      "2             La odisea                  Homero  -800\n"
     ]
    }
   ],
   "source": [
    "import pandas as pd\n",
    "\n",
    "\n",
    "libros_df: pd.DataFrame = pd.DataFrame(\n",
    "    {\n",
    "        'Titulo': ['El Quijote', 'Cien años de soledad', 'La odisea'],\n",
    "        'Autor': ['Miguel de Cervantes', 'Gabriel García Márquez', 'Homero'],\n",
    "        'Año': [1605, 1967, -800]\n",
    "    }\n",
    ")\n",
    "print(libros_df)"
   ]
  },
  {
   "cell_type": "markdown",
   "metadata": {},
   "source": [
    "# Trabajar con DataFrames de Pandas 2\n",
    "\n",
    "Dado el DataFrame `df` con columnas `Nombre`, `Edad` y `Ciudad`, como se mostró en la lección, escribe un código para **filtrar las filas que contienen personas de 25 años o más.** Asegurate de guardar en el dataframe filtrado en una variable llamada: `df_filtrado`"
   ]
  },
  {
   "cell_type": "code",
   "execution_count": 2,
   "metadata": {},
   "outputs": [
    {
     "name": "stdout",
     "output_type": "stream",
     "text": [
      "  Nombre  Edad     Ciudad\n",
      "0    Ana    25     Madrid\n",
      "1   Luis    30  Barcelona\n",
      "3   Sara    27     Bilbao\n"
     ]
    }
   ],
   "source": [
    "import pandas as pd\n",
    "\n",
    "\n",
    "# Datos proporcionados\n",
    "data: dict = {\n",
    "    'Nombre': ['Ana', 'Luis', 'Carlos', 'Sara'],\n",
    "    'Edad': [25, 30, 22, 27],\n",
    "    'Ciudad': ['Madrid', 'Barcelona', 'Valencia', 'Bilbao']\n",
    "}\n",
    "\n",
    "df: pd.DataFrame = pd.DataFrame(data)\n",
    "df_filtrado: pd.DataFrame = df[df['Edad'] >= 25]\n",
    "print(df_filtrado)"
   ]
  }
 ],
 "metadata": {
  "kernelspec": {
   "display_name": "base",
   "language": "python",
   "name": "python3"
  },
  "language_info": {
   "codemirror_mode": {
    "name": "ipython",
    "version": 3
   },
   "file_extension": ".py",
   "mimetype": "text/x-python",
   "name": "python",
   "nbconvert_exporter": "python",
   "pygments_lexer": "ipython3",
   "version": "3.12.4"
  }
 },
 "nbformat": 4,
 "nbformat_minor": 2
}
