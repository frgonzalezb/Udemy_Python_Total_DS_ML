{
 "cells": [
  {
   "cell_type": "markdown",
   "metadata": {},
   "source": [
    "# Concatenar DataFrames en Pandas con concat 1\n",
    "\n",
    "Tienes dos conjuntos de datos representados por los siguientes DataFrames `ventas_enero` y `ventas_febrero`, que contienen las ventas de diferentes productos en los meses de enero y febrero, respectivamente.\n",
    "\n",
    "Tu tarea es utilizar el método `concat()` para concatenar estos dos DataFrames verticalmente en un nuevo DataFrame llamado `ventas_total`. Asegúrate de ignorar los índices originales para que el índice del DataFrame resultante sea continuo."
   ]
  },
  {
   "cell_type": "code",
   "execution_count": 1,
   "metadata": {},
   "outputs": [
    {
     "name": "stdout",
     "output_type": "stream",
     "text": [
      "   Producto  Cantidad\n",
      "0  Manzanas       300\n",
      "1   Bananas       200\n",
      "2  Naranjas       150\n",
      "3  Manzanas       350\n",
      "4   Bananas       210\n",
      "5  Naranjas       170\n"
     ]
    }
   ],
   "source": [
    "import pandas as pd\n",
    "\n",
    "\n",
    "ventas_enero: pd.DataFrame = pd.DataFrame({\n",
    "    'Producto': [\"Manzanas\", \"Bananas\", \"Naranjas\"],\n",
    "    'Cantidad': [300, 200, 150]\n",
    "})\n",
    "\n",
    "ventas_febrero: pd.DataFrame = pd.DataFrame({\n",
    "    'Producto': [\"Manzanas\", \"Bananas\", \"Naranjas\"],\n",
    "    'Cantidad': [350, 210, 170]\n",
    "})\n",
    "\n",
    "ventas_total: pd.DataFrame = pd.concat([\n",
    "    ventas_enero, ventas_febrero\n",
    "], ignore_index=True)\n",
    "print(ventas_total)"
   ]
  },
  {
   "cell_type": "markdown",
   "metadata": {},
   "source": [
    "# Concatenar DataFrames en Pandas con concat 2\n",
    "\n",
    "Considera los siguientes DataFrames `datos_cliente` y `compras_cliente`, que contienen información sobre los clientes y sus compras, respectivamente.\n",
    "\n",
    "Utiliza el método `concat()` para unir estos dos DataFrames horizontalmente, formando un nuevo DataFrame llamado `info_cliente`. **Asegúrate de que los índices se mantengan para que cada fila corresponda correctamente entre los dos DataFrames.**"
   ]
  },
  {
   "cell_type": "code",
   "execution_count": 3,
   "metadata": {},
   "outputs": [
    {
     "name": "stdout",
     "output_type": "stream",
     "text": [
      "  Nombre  Edad  Producto  Precio\n",
      "0    Ana    34     Libro    15.5\n",
      "1   Luis    45     Lápiz     0.5\n",
      "2  Marta    28  Cuaderno     2.0\n"
     ]
    }
   ],
   "source": [
    "import pandas as pd\n",
    "\n",
    "\n",
    "datos_cliente = pd.DataFrame({\n",
    "    'Nombre': [\"Ana\", \"Luis\", \"Marta\"],\n",
    "    'Edad': [34, 45, 28]\n",
    "})\n",
    "\n",
    "compras_cliente = pd.DataFrame({\n",
    "    'Producto': [\"Libro\", \"Lápiz\", \"Cuaderno\"],\n",
    "    'Precio': [15.50, 0.50, 2.00]\n",
    "})\n",
    "\n",
    "info_cliente: pd.DataFrame = pd.concat([\n",
    "    datos_cliente, compras_cliente\n",
    "], axis=1)\n",
    "print(info_cliente)"
   ]
  }
 ],
 "metadata": {
  "kernelspec": {
   "display_name": "base",
   "language": "python",
   "name": "python3"
  },
  "language_info": {
   "codemirror_mode": {
    "name": "ipython",
    "version": 3
   },
   "file_extension": ".py",
   "mimetype": "text/x-python",
   "name": "python",
   "nbconvert_exporter": "python",
   "pygments_lexer": "ipython3",
   "version": "3.12.4"
  }
 },
 "nbformat": 4,
 "nbformat_minor": 2
}
