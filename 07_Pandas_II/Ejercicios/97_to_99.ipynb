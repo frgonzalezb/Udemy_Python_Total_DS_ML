{
 "cells": [
  {
   "cell_type": "markdown",
   "metadata": {},
   "source": [
    "# Concatenar DataFrames en Pandas con concat 1\n",
    "\n",
    "Tienes dos conjuntos de datos representados por los siguientes DataFrames `ventas_enero` y `ventas_febrero`, que contienen las ventas de diferentes productos en los meses de enero y febrero, respectivamente.\n",
    "\n",
    "Tu tarea es utilizar el método `concat()` para concatenar estos dos DataFrames verticalmente en un nuevo DataFrame llamado `ventas_total`. Asegúrate de ignorar los índices originales para que el índice del DataFrame resultante sea continuo."
   ]
  },
  {
   "cell_type": "code",
   "execution_count": 1,
   "metadata": {},
   "outputs": [
    {
     "name": "stdout",
     "output_type": "stream",
     "text": [
      "   Producto  Cantidad\n",
      "0  Manzanas       300\n",
      "1   Bananas       200\n",
      "2  Naranjas       150\n",
      "3  Manzanas       350\n",
      "4   Bananas       210\n",
      "5  Naranjas       170\n"
     ]
    }
   ],
   "source": [
    "import pandas as pd\n",
    "\n",
    "\n",
    "ventas_enero: pd.DataFrame = pd.DataFrame({\n",
    "    'Producto': [\"Manzanas\", \"Bananas\", \"Naranjas\"],\n",
    "    'Cantidad': [300, 200, 150]\n",
    "})\n",
    "\n",
    "ventas_febrero: pd.DataFrame = pd.DataFrame({\n",
    "    'Producto': [\"Manzanas\", \"Bananas\", \"Naranjas\"],\n",
    "    'Cantidad': [350, 210, 170]\n",
    "})\n",
    "\n",
    "ventas_total: pd.DataFrame = pd.concat([\n",
    "    ventas_enero, ventas_febrero\n",
    "], ignore_index=True)\n",
    "print(ventas_total)"
   ]
  }
 ],
 "metadata": {
  "kernelspec": {
   "display_name": "base",
   "language": "python",
   "name": "python3"
  },
  "language_info": {
   "codemirror_mode": {
    "name": "ipython",
    "version": 3
   },
   "file_extension": ".py",
   "mimetype": "text/x-python",
   "name": "python",
   "nbconvert_exporter": "python",
   "pygments_lexer": "ipython3",
   "version": "3.12.4"
  }
 },
 "nbformat": 4,
 "nbformat_minor": 2
}
