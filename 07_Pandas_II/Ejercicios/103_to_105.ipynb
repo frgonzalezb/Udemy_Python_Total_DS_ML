{
 "cells": [
  {
   "cell_type": "markdown",
   "metadata": {},
   "source": [
    "# Abrir y Escribir Archivos desde Pandas 1\n",
    "\n",
    "Dado el siguiente diccionario que contiene datos de ventas diarias de una tienda:\n",
    "\n",
    "```\n",
    "data = {\n",
    "    'Fecha': ['2024-03-19', '2024-03-20', '2024-03-21', '2024-03-22', '2024-03-23', '2024-03-24'],\n",
    "    'Producto': ['Manzanas', 'Peras', 'Naranjas', 'Plátanos', 'Uvas', 'Melocotones'],\n",
    "    'Cantidad': [23, 15, 18, 30, 8, 20],\n",
    "    'Precio': [1.2, 1.5, 1.0, 0.8, 2.0, 1.7]\n",
    "}\n",
    "```\n",
    "\n",
    "Realiza los siguientes pasos:\n",
    "\n",
    "1. Crea un DataFrame nombrado `df_ventas` donde almacenes la información antes proporcionada.\n",
    "\n",
    "2. Crea una función llamada `guardar_en_excel()` que guarde este DataFrame en un archivo llamado `ventas1.xlsx` en la ruta siguiente: `'/mnt/data/'`\n",
    "\n",
    "3. Asegúrate de no incluir el índice del DataFrame en el archivo Excel."
   ]
  },
  {
   "cell_type": "code",
   "execution_count": 2,
   "metadata": {},
   "outputs": [
    {
     "name": "stdout",
     "output_type": "stream",
     "text": [
      "Success!\n"
     ]
    }
   ],
   "source": [
    "import os\n",
    "import platform\n",
    "import pandas as pd\n",
    "\n",
    "\n",
    "def guardar_en_excel(df: pd.DataFrame) -> None:\n",
    "    os_name = platform.system()\n",
    "    org_path: str = '/mnt/data/ventas1.xlsx'\n",
    "    alt_path: str = './data/ventas1.xlsx'\n",
    "\n",
    "    if os_name != 'Windows':\n",
    "        df.to_excel(org_path, index=False)  # Udemy\n",
    "    else:\n",
    "        df.to_excel(alt_path, index=False)  # Windows\n",
    "\n",
    "\n",
    "data = {\n",
    "    'Fecha': ['2024-03-19', '2024-03-20', '2024-03-21', '2024-03-22', '2024-03-23', '2024-03-24'],\n",
    "    'Producto': ['Manzanas', 'Peras', 'Naranjas', 'Plátanos', 'Uvas', 'Melocotones'],\n",
    "    'Cantidad': [23, 15, 18, 30, 8, 20],\n",
    "    'Precio': [1.2, 1.5, 1.0, 0.8, 2.0, 1.7]\n",
    "}\n",
    "\n",
    "df_ventas: pd.DataFrame = pd.DataFrame(data)\n",
    "guardar_en_excel(df_ventas)\n",
    "\n",
    "# Esto es mío, para comprobación 😛\n",
    "if os.path.exists('./data/ventas1.xlsx'):\n",
    "    print('Success!')"
   ]
  }
 ],
 "metadata": {
  "kernelspec": {
   "display_name": "base",
   "language": "python",
   "name": "python3"
  },
  "language_info": {
   "codemirror_mode": {
    "name": "ipython",
    "version": 3
   },
   "file_extension": ".py",
   "mimetype": "text/x-python",
   "name": "python",
   "nbconvert_exporter": "python",
   "pygments_lexer": "ipython3",
   "version": "3.12.4"
  }
 },
 "nbformat": 4,
 "nbformat_minor": 2
}
