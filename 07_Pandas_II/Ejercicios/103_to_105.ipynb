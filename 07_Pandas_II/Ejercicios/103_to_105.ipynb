{
 "cells": [
  {
   "cell_type": "markdown",
   "metadata": {},
   "source": [
    "# Abrir y Escribir Archivos desde Pandas 1\n",
    "\n",
    "Dado el siguiente diccionario que contiene datos de ventas diarias de una tienda:\n",
    "\n",
    "```\n",
    "data = {\n",
    "    'Fecha': ['2024-03-19', '2024-03-20', '2024-03-21', '2024-03-22', '2024-03-23', '2024-03-24'],\n",
    "    'Producto': ['Manzanas', 'Peras', 'Naranjas', 'Plátanos', 'Uvas', 'Melocotones'],\n",
    "    'Cantidad': [23, 15, 18, 30, 8, 20],\n",
    "    'Precio': [1.2, 1.5, 1.0, 0.8, 2.0, 1.7]\n",
    "}\n",
    "```\n",
    "\n",
    "Realiza los siguientes pasos:\n",
    "\n",
    "1. Crea un DataFrame nombrado `df_ventas` donde almacenes la información antes proporcionada.\n",
    "\n",
    "2. Crea una función llamada `guardar_en_excel()` que guarde este DataFrame en un archivo llamado `ventas1.xlsx` en la ruta siguiente: `'/mnt/data/'`\n",
    "\n",
    "3. Asegúrate de no incluir el índice del DataFrame en el archivo Excel."
   ]
  },
  {
   "cell_type": "code",
   "execution_count": 2,
   "metadata": {},
   "outputs": [
    {
     "name": "stdout",
     "output_type": "stream",
     "text": [
      "Success!\n"
     ]
    }
   ],
   "source": [
    "import os\n",
    "import platform\n",
    "import pandas as pd\n",
    "\n",
    "\n",
    "def guardar_en_excel(df: pd.DataFrame) -> None:\n",
    "    os_name = platform.system()\n",
    "    org_path: str = '/mnt/data/ventas1.xlsx'\n",
    "    alt_path: str = './data/ventas1.xlsx'\n",
    "\n",
    "    if os_name != 'Windows':\n",
    "        df.to_excel(org_path, index=False)  # Udemy\n",
    "    else:\n",
    "        df.to_excel(alt_path, index=False)  # Windows\n",
    "\n",
    "\n",
    "data = {\n",
    "    'Fecha': ['2024-03-19', '2024-03-20', '2024-03-21', '2024-03-22', '2024-03-23', '2024-03-24'],\n",
    "    'Producto': ['Manzanas', 'Peras', 'Naranjas', 'Plátanos', 'Uvas', 'Melocotones'],\n",
    "    'Cantidad': [23, 15, 18, 30, 8, 20],\n",
    "    'Precio': [1.2, 1.5, 1.0, 0.8, 2.0, 1.7]\n",
    "}\n",
    "\n",
    "df_ventas: pd.DataFrame = pd.DataFrame(data)\n",
    "guardar_en_excel(df_ventas)\n",
    "\n",
    "# Esto es mío, para comprobación 😛\n",
    "if os.path.exists('./data/ventas1.xlsx'):\n",
    "    print('Success!')"
   ]
  },
  {
   "cell_type": "markdown",
   "metadata": {},
   "source": [
    "# Abrir y Escribir Archivos desde Pandas 2\n",
    "\n",
    "Dado el siguiente diccionario que contiene datos de ventas diarias de una tienda:\n",
    "\n",
    "```\n",
    "data = {\n",
    "    'Fecha': ['2024-03-19', '2024-03-20', '2024-03-21', '2024-03-22', '2024-03-23', '2024-03-24'],\n",
    "    'Producto': ['Manzanas', 'Peras', 'Naranjas', 'Plátanos', 'Uvas', 'Melocotones'],\n",
    "    'Cantidad': [23, 15, 18, 30, 8, 20],\n",
    "    'Precio': [1.2, 1.5, 1.0, 0.8, 2.0, 1.7]\n",
    "}\n",
    "```\n",
    "\n",
    "Realiza los siguientes pasos:\n",
    "\n",
    "Crea un DataFrame nombrado `df_ventas` donde almacenes la información antes proporcionada.\n",
    "\n",
    "Convierte la columna `Fecha` al formato datetime de Pandas con el siguiente formato dia/mes/año.\n",
    "\n",
    "Crea una funcion llamada `guardar_en_excel()` que guarde este DataFrame en un archivo llamado `'ventas2.xlsx'` en la ruta siguiente: `'/mnt/data/'`\n",
    "\n",
    "Asegúrate de no incluir el índice del DataFrame en el archivo Excel."
   ]
  },
  {
   "cell_type": "code",
   "execution_count": 6,
   "metadata": {},
   "outputs": [
    {
     "name": "stdout",
     "output_type": "stream",
     "text": [
      "Success!\n"
     ]
    }
   ],
   "source": [
    "import pandas as pd\n",
    "\n",
    "\n",
    "def guardar_en_excel(df: pd.DataFrame) -> None:\n",
    "    os_name = platform.system()\n",
    "    org_path: str = '/mnt/data/ventas2.xlsx'\n",
    "    alt_path: str = './data/ventas2.xlsx'\n",
    "\n",
    "    if os_name != 'Windows':\n",
    "        df.to_excel(org_path, index=False)  # Udemy\n",
    "    else:\n",
    "        df.to_excel(alt_path, index=False)  # Windows\n",
    "\n",
    "\n",
    "data = {\n",
    "    'Fecha': ['2024-03-19', '2024-03-20', '2024-03-21', '2024-03-22', '2024-03-23', '2024-03-24'],\n",
    "    'Producto': ['Manzanas', 'Peras', 'Naranjas', 'Plátanos', 'Uvas', 'Melocotones'],\n",
    "    'Cantidad': [23, 15, 18, 30, 8, 20],\n",
    "    'Precio': [1.2, 1.5, 1.0, 0.8, 2.0, 1.7]\n",
    "}\n",
    "\n",
    "df_ventas: pd.DataFrame = pd.DataFrame(data)\n",
    "df_ventas['Fecha'] = pd.to_datetime(df_ventas['Fecha'], format='%Y-%m-%d').dt.strftime('%d/%m/%Y')\n",
    "guardar_en_excel(df_ventas)\n",
    "\n",
    "# Esto es mío, para comprobación 😛\n",
    "if os.path.exists('./data/ventas2.xlsx'):\n",
    "    print('Success!')"
   ]
  },
  {
   "cell_type": "markdown",
   "metadata": {},
   "source": [
    "# Abrir y Escribir Archivos desde Pandas 3\n",
    "\n",
    "Dado un diccionario con datos de ventas diarias de una tienda como sigue:\n",
    "\n",
    "```\n",
    "data = {\n",
    "    'Fecha': ['2024-03-19', '2024-03-20', '2024-03-21', '2024-03-22', '2024-03-23', '2024-03-24'],\n",
    "    'Producto': ['Manzanas', 'Peras', 'Naranjas', 'Plátanos', 'Uvas', 'Melocotones'],\n",
    "    'Cantidad': [23, 15, 18, 30, 8, 20],\n",
    "    'Precio': [1.2, 1.5, 1.0, 0.8, 2.0, 1.7]\n",
    "}\n",
    "```\n",
    "\n",
    "Tu tarea consiste en realizar las siguientes acciones:\n",
    "\n",
    "Creación de DataFrame: Genera un DataFrame denominado `df_ventas` utilizando la información provista en el diccionario `data`.\n",
    "\n",
    "Cálculo de Precio Total: Añade al DataFrame `df_ventas` una nueva columna llamada `Precio Total`. Esta columna debe contener el precio total de cada venta, calculado como el producto de la cantidad vendida por el precio unitario de cada producto.\n",
    "\n",
    "Guardado de Datos en CSV: Desarrolla una función titulada `guardar_en_csv()` que exporte el DataFrame `df_ventas` a un archivo CSV. Nombra el archivo como ventas3.csv y guárdalo en la ruta `/mnt/data/`. Asegúrate de que el archivo CSV generado no incluya el índice del DataFrame.\n",
    "\n",
    "Por favor, sigue las instrucciones detalladamente para completar cada paso correctamente."
   ]
  },
  {
   "cell_type": "code",
   "execution_count": 7,
   "metadata": {},
   "outputs": [
    {
     "name": "stdout",
     "output_type": "stream",
     "text": [
      "Success!\n"
     ]
    }
   ],
   "source": [
    "import pandas as pd\n",
    "\n",
    "\n",
    "def guardar_en_csv(df: pd.DataFrame) -> None:\n",
    "    os_name = platform.system()\n",
    "    org_path: str = '/mnt/data/ventas3.csv'\n",
    "    alt_path: str = './data/ventas3.csv'\n",
    "\n",
    "    if os_name != 'Windows':\n",
    "        df.to_csv(org_path, index=False)  # Udemy\n",
    "    else:\n",
    "        df.to_csv(alt_path, index=False)  # Windows\n",
    "\n",
    "\n",
    "data = {\n",
    "    'Fecha': ['2024-03-19', '2024-03-20', '2024-03-21', '2024-03-22', '2024-03-23', '2024-03-24'],\n",
    "    'Producto': ['Manzanas', 'Peras', 'Naranjas', 'Plátanos', 'Uvas', 'Melocotones'],\n",
    "    'Cantidad': [23, 15, 18, 30, 8, 20],\n",
    "    'Precio': [1.2, 1.5, 1.0, 0.8, 2.0, 1.7]\n",
    "}\n",
    "\n",
    "df_ventas: pd.DataFrame = pd.DataFrame(data)\n",
    "df_ventas['Precio Total'] = df_ventas['Cantidad'] * df_ventas['Precio']\n",
    "guardar_en_csv(df_ventas)\n",
    "\n",
    "# Esto es mío, para comprobación 😛\n",
    "if os.path.exists('./data/ventas3.csv'):\n",
    "    print('Success!')"
   ]
  }
 ],
 "metadata": {
  "kernelspec": {
   "display_name": "base",
   "language": "python",
   "name": "python3"
  },
  "language_info": {
   "codemirror_mode": {
    "name": "ipython",
    "version": 3
   },
   "file_extension": ".py",
   "mimetype": "text/x-python",
   "name": "python",
   "nbconvert_exporter": "python",
   "pygments_lexer": "ipython3",
   "version": "3.12.4"
  }
 },
 "nbformat": 4,
 "nbformat_minor": 2
}
