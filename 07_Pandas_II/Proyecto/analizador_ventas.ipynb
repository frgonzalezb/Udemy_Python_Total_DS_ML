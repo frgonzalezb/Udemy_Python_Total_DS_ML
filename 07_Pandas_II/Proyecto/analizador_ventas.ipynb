{
 "cells": [
  {
   "cell_type": "markdown",
   "metadata": {},
   "source": [
    "# Proyecto del Día - Analizador de Ventas\n",
    "\n",
    "## Objetivo\n",
    "\n",
    "Crear un programa en Python que analice un conjunto de datos de ventas de una tienda. El programa debe realizar varias operaciones de Data Science para proporcionar información valiosa sobre las ventas de la tienda.\n",
    "\n",
    "# Consigna\n",
    "\n",
    "1. **Lectura de datos:** Crea un DataFrame que contenga los datos provistos en el archivo `Datos_Ventas_Tienda.csv` provisto en esta lección. El archivo incluye información como fecha de venta, categoría de producto, cantidad vendida y precio.\n",
    "\n",
    "2. **Fusión de datos:** Crea un segundo DataFrame que contenga los datos del archivo `Datos_Ventas_Tienda2.csv` (también provisto) y concaténalos para tener un solo DataFrame con toda la información.\n",
    "\n",
    "3. **Tratamiento de datos:** Utiliza Pandas para manipular estos datos. Deberás realizar tareas como limpieza de datos, filtrado y transformaciones básicas.\n",
    "\n",
    "4. **Análisis de ventas:** Realiza análisis para responder preguntas como:\n",
    "\n",
    "    - ¿Cuál es el producto más vendido?\n",
    "    - ¿Cuál es el mes con más ventas?\n",
    "\n",
    "5. **Datos agrupados:** Agrupa los datos por categoría de producto y analiza las ventas por categoría.\n",
    "\n",
    "6. **Guardar resultados:** Al final, guarda el DataFrame completo (incluyendo la columna de meses) en un archivo CSV en tu ordenador."
   ]
  },
  {
   "cell_type": "code",
   "execution_count": 1,
   "metadata": {},
   "outputs": [],
   "source": [
    "import pandas as pd"
   ]
  },
  {
   "cell_type": "markdown",
   "metadata": {},
   "source": [
    "### Lectura de datos"
   ]
  },
  {
   "cell_type": "code",
   "execution_count": 2,
   "metadata": {},
   "outputs": [
    {
     "name": "stdout",
     "output_type": "stream",
     "text": [
      "         Fecha    Producto  Cantidad  Precio Unitario  Total Venta\n",
      "0    1/17/2023  Electrónic         7              200         1400\n",
      "1     9/1/2023  Electrónic         8              200         1600\n",
      "2    7/29/2023    Juguetes         3               30           90\n",
      "3    10/4/2023   Alimentos         4               10           40\n",
      "4    2/28/2023  Electrónic         6              200         1200\n",
      "..         ...         ...       ...              ...          ...\n",
      "995  4/27/2023   Alimentos         2               10           20\n",
      "996   6/9/2023        Ropa        10               50          500\n",
      "997  8/21/2023   Alimentos         8               10           80\n",
      "998  3/28/2023  Electrónic         6              200         1200\n",
      "999   3/7/2023  Electrónic         4              200          800\n",
      "\n",
      "[1000 rows x 5 columns]\n"
     ]
    }
   ],
   "source": [
    "# Cargar los datos de Datos_Ventas_Tienda.csv\n",
    "datos_ventas_tienda_1_path: str = './data/Datos_Ventas_Tienda.csv'\n",
    "datos_ventas_tienda_1: pd.DataFrame = pd.read_csv(datos_ventas_tienda_1_path)\n",
    "print(datos_ventas_tienda_1)"
   ]
  },
  {
   "cell_type": "code",
   "execution_count": 4,
   "metadata": {},
   "outputs": [
    {
     "name": "stdout",
     "output_type": "stream",
     "text": [
      "<class 'pandas.core.frame.DataFrame'>\n",
      "RangeIndex: 1000 entries, 0 to 999\n",
      "Data columns (total 5 columns):\n",
      " #   Column           Non-Null Count  Dtype \n",
      "---  ------           --------------  ----- \n",
      " 0   Fecha            1000 non-null   object\n",
      " 1   Producto         1000 non-null   object\n",
      " 2   Cantidad         1000 non-null   int64 \n",
      " 3   Precio Unitario  1000 non-null   int64 \n",
      " 4   Total Venta      1000 non-null   int64 \n",
      "dtypes: int64(3), object(2)\n",
      "memory usage: 39.2+ KB\n",
      "None\n"
     ]
    }
   ],
   "source": [
    "# Obtener información preliminar del DataFrame\n",
    "print(datos_ventas_tienda_1.info())"
   ]
  },
  {
   "cell_type": "code",
   "execution_count": 3,
   "metadata": {},
   "outputs": [
    {
     "name": "stdout",
     "output_type": "stream",
     "text": [
      "         Fecha    Producto  Cantidad  Precio Unitario  Total Venta\n",
      "0    8/25/2023  Electrónic         5              200         1000\n",
      "1    8/14/2023   Alimentos         9               10           90\n",
      "2    8/30/2023        Ropa         6               50          300\n",
      "3    11/9/2023   Alimentos         2               10           20\n",
      "4   10/26/2023        Ropa         8               50          400\n",
      "5    12/1/2023    Juguetes         2               30           60\n",
      "6    5/16/2023  Electrónic         4              200          800\n",
      "7     2/9/2023      Libros         1               20           20\n",
      "8     1/9/2023  Electrónic         2              200          400\n",
      "9     5/3/2023  Electrónic         6              200         1200\n",
      "10  11/30/2023  Electrónic         5              200         1000\n",
      "11  10/26/2023  Electrónic         1              200          200\n",
      "12   8/22/2023    Juguetes         3               30           90\n",
      "13    6/5/2023  Electrónic         1              200          200\n",
      "14   10/2/2023    Juguetes         6               30          180\n",
      "15   1/25/2023  Electrónic         3              200          600\n",
      "16   5/20/2023        Ropa         4               50          200\n",
      "17   4/29/2023   Alimentos         8               10           80\n",
      "18  12/20/2023        Ropa         2               50          100\n",
      "19   4/10/2023        Ropa         8               50          400\n",
      "20   5/19/2023    Juguetes         5               30          150\n",
      "21    2/3/2023  Electrónic         4              200          800\n",
      "22    3/4/2023        Ropa         5               50          250\n",
      "23  11/12/2023    Juguetes         7               30          210\n",
      "24   5/22/2023      Libros         7               20          140\n",
      "25  11/19/2023        Ropa         4               50          200\n",
      "26   7/31/2023   Alimentos         6               10           60\n",
      "27  10/11/2023        Ropa         6               50          300\n",
      "28   12/9/2023    Juguetes         4               30          120\n",
      "29    3/6/2023      Libros         9               20          180\n",
      "30   3/27/2023   Alimentos         1               10           10\n",
      "31   4/23/2023        Ropa         9               50          450\n",
      "32   5/26/2023  Electrónic         6              200         1200\n",
      "33   1/20/2023    Juguetes         5               30          150\n",
      "34   3/22/2023   Alimentos         9               10           90\n",
      "35   2/26/2023      Libros         9               20          180\n",
      "36   7/30/2023    Juguetes         1               30           30\n",
      "37  11/18/2023        Ropa         3               50          150\n",
      "38   6/20/2023      Libros         8               20          160\n",
      "39    6/6/2023      Libros         3               20           60\n",
      "40    5/2/2023   Alimentos         5               10           50\n",
      "41    8/7/2023  Electrónic         9              200         1800\n",
      "42  11/18/2023    Juguetes         8               30          240\n",
      "43   1/17/2023    Juguetes         8               30          240\n",
      "44  10/10/2023      Libros         6               20          120\n",
      "45   9/11/2023    Juguetes        10               30          300\n",
      "46    1/3/2023    Juguetes        10               30          300\n",
      "47   11/7/2023   Alimentos         3               10           30\n",
      "48   8/20/2023  Electrónic         6              200         1200\n",
      "49   7/21/2023    Juguetes         3               30           90\n"
     ]
    }
   ],
   "source": [
    "# Cargar los datos de Datos_Ventas_Tienda2.csv\n",
    "datos_ventas_tienda_2_path: str = './data/Datos_Ventas_Tienda2.csv'\n",
    "datos_ventas_tienda_2: pd.DataFrame = pd.read_csv(datos_ventas_tienda_2_path)\n",
    "print(datos_ventas_tienda_2)"
   ]
  },
  {
   "cell_type": "code",
   "execution_count": 5,
   "metadata": {},
   "outputs": [
    {
     "name": "stdout",
     "output_type": "stream",
     "text": [
      "<class 'pandas.core.frame.DataFrame'>\n",
      "RangeIndex: 50 entries, 0 to 49\n",
      "Data columns (total 5 columns):\n",
      " #   Column           Non-Null Count  Dtype \n",
      "---  ------           --------------  ----- \n",
      " 0   Fecha            50 non-null     object\n",
      " 1   Producto         50 non-null     object\n",
      " 2   Cantidad         50 non-null     int64 \n",
      " 3   Precio Unitario  50 non-null     int64 \n",
      " 4   Total Venta      50 non-null     int64 \n",
      "dtypes: int64(3), object(2)\n",
      "memory usage: 2.1+ KB\n",
      "None\n"
     ]
    }
   ],
   "source": [
    "# Obtener información preliminar del DataFrame\n",
    "print(datos_ventas_tienda_2.info())"
   ]
  },
  {
   "cell_type": "markdown",
   "metadata": {},
   "source": [
    "### Fusión de datos"
   ]
  },
  {
   "cell_type": "code",
   "execution_count": 7,
   "metadata": {},
   "outputs": [
    {
     "name": "stdout",
     "output_type": "stream",
     "text": [
      "         Fecha    Producto  Cantidad  Precio Unitario  Total Venta  \\\n",
      "0    1/17/2023  Electrónic         7              200         1400   \n",
      "1     9/1/2023  Electrónic         8              200         1600   \n",
      "2    7/29/2023    Juguetes         3               30           90   \n",
      "3    10/4/2023   Alimentos         4               10           40   \n",
      "4    2/28/2023  Electrónic         6              200         1200   \n",
      "..         ...         ...       ...              ...          ...   \n",
      "995  4/27/2023   Alimentos         2               10           20   \n",
      "996   6/9/2023        Ropa        10               50          500   \n",
      "997  8/21/2023   Alimentos         8               10           80   \n",
      "998  3/28/2023  Electrónic         6              200         1200   \n",
      "999   3/7/2023  Electrónic         4              200          800   \n",
      "\n",
      "          Fecha    Producto  Cantidad  Precio Unitario  Total Venta  \n",
      "0     8/25/2023  Electrónic       5.0            200.0       1000.0  \n",
      "1     8/14/2023   Alimentos       9.0             10.0         90.0  \n",
      "2     8/30/2023        Ropa       6.0             50.0        300.0  \n",
      "3     11/9/2023   Alimentos       2.0             10.0         20.0  \n",
      "4    10/26/2023        Ropa       8.0             50.0        400.0  \n",
      "..          ...         ...       ...              ...          ...  \n",
      "995         NaN         NaN       NaN              NaN          NaN  \n",
      "996         NaN         NaN       NaN              NaN          NaN  \n",
      "997         NaN         NaN       NaN              NaN          NaN  \n",
      "998         NaN         NaN       NaN              NaN          NaN  \n",
      "999         NaN         NaN       NaN              NaN          NaN  \n",
      "\n",
      "[1000 rows x 10 columns]\n"
     ]
    }
   ],
   "source": [
    "# Concatenar los dos DataFrames\n",
    "concat_df: pd.DataFrame = pd.concat(\n",
    "    [datos_ventas_tienda_1, datos_ventas_tienda_2],\n",
    "    axis=1\n",
    ")\n",
    "print(concat_df)"
   ]
  }
 ],
 "metadata": {
  "kernelspec": {
   "display_name": "base",
   "language": "python",
   "name": "python3"
  },
  "language_info": {
   "codemirror_mode": {
    "name": "ipython",
    "version": 3
   },
   "file_extension": ".py",
   "mimetype": "text/x-python",
   "name": "python",
   "nbconvert_exporter": "python",
   "pygments_lexer": "ipython3",
   "version": "3.12.4"
  }
 },
 "nbformat": 4,
 "nbformat_minor": 2
}
