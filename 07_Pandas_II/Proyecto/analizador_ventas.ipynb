{
 "cells": [
  {
   "cell_type": "markdown",
   "metadata": {},
   "source": [
    "# Proyecto del Día - Analizador de Ventas\n",
    "\n",
    "## Objetivo\n",
    "\n",
    "Crear un programa en Python que analice un conjunto de datos de ventas de una tienda. El programa debe realizar varias operaciones de Data Science para proporcionar información valiosa sobre las ventas de la tienda.\n",
    "\n",
    "# Consigna\n",
    "\n",
    "1. **Lectura de datos:** Crea un DataFrame que contenga los datos provistos en el archivo `Datos_Ventas_Tienda.csv` provisto en esta lección. El archivo incluye información como fecha de venta, categoría de producto, cantidad vendida y precio.\n",
    "\n",
    "2. **Fusión de datos:** Crea un segundo DataFrame que contenga los datos del archivo `Datos_Ventas_Tienda2.csv` (también provisto) y concaténalos para tener un solo DataFrame con toda la información.\n",
    "\n",
    "3. **Tratamiento de datos:** Utiliza Pandas para manipular estos datos. Deberás realizar tareas como limpieza de datos, filtrado y transformaciones básicas.\n",
    "\n",
    "4. **Análisis de ventas:** Realiza análisis para responder preguntas como:\n",
    "\n",
    "    - ¿Cuál es el producto más vendido?\n",
    "    - ¿Cuál es el mes con más ventas?\n",
    "\n",
    "5. **Datos agrupados:** Agrupa los datos por categoría de producto y analiza las ventas por categoría.\n",
    "\n",
    "6. **Guardar resultados:** Al final, guarda el DataFrame completo (incluyendo la columna de meses) en un archivo CSV en tu ordenador."
   ]
  },
  {
   "cell_type": "code",
   "execution_count": 2,
   "metadata": {},
   "outputs": [],
   "source": [
    "import pandas as pd"
   ]
  },
  {
   "cell_type": "markdown",
   "metadata": {},
   "source": [
    "### Lectura de datos"
   ]
  },
  {
   "cell_type": "code",
   "execution_count": 3,
   "metadata": {},
   "outputs": [
    {
     "name": "stdout",
     "output_type": "stream",
     "text": [
      "         Fecha    Producto  Cantidad  Precio Unitario  Total Venta\n",
      "0    1/17/2023  Electrónic         7              200         1400\n",
      "1     9/1/2023  Electrónic         8              200         1600\n",
      "2    7/29/2023    Juguetes         3               30           90\n",
      "3    10/4/2023   Alimentos         4               10           40\n",
      "4    2/28/2023  Electrónic         6              200         1200\n",
      "..         ...         ...       ...              ...          ...\n",
      "995  4/27/2023   Alimentos         2               10           20\n",
      "996   6/9/2023        Ropa        10               50          500\n",
      "997  8/21/2023   Alimentos         8               10           80\n",
      "998  3/28/2023  Electrónic         6              200         1200\n",
      "999   3/7/2023  Electrónic         4              200          800\n",
      "\n",
      "[1000 rows x 5 columns]\n"
     ]
    }
   ],
   "source": [
    "# Cargar los datos de Datos_Ventas_Tienda.csv\n",
    "datos_ventas_tienda_1_path: str = './data/Datos_Ventas_Tienda.csv'\n",
    "datos_ventas_tienda_1: pd.DataFrame = pd.read_csv(datos_ventas_tienda_1_path)\n",
    "print(datos_ventas_tienda_1)"
   ]
  },
  {
   "cell_type": "code",
   "execution_count": 4,
   "metadata": {},
   "outputs": [
    {
     "name": "stdout",
     "output_type": "stream",
     "text": [
      "<class 'pandas.core.frame.DataFrame'>\n",
      "RangeIndex: 1000 entries, 0 to 999\n",
      "Data columns (total 5 columns):\n",
      " #   Column           Non-Null Count  Dtype \n",
      "---  ------           --------------  ----- \n",
      " 0   Fecha            1000 non-null   object\n",
      " 1   Producto         1000 non-null   object\n",
      " 2   Cantidad         1000 non-null   int64 \n",
      " 3   Precio Unitario  1000 non-null   int64 \n",
      " 4   Total Venta      1000 non-null   int64 \n",
      "dtypes: int64(3), object(2)\n",
      "memory usage: 39.2+ KB\n",
      "None\n"
     ]
    }
   ],
   "source": [
    "# Obtener información preliminar del DataFrame\n",
    "print(datos_ventas_tienda_1.info())"
   ]
  },
  {
   "cell_type": "code",
   "execution_count": 5,
   "metadata": {},
   "outputs": [
    {
     "name": "stdout",
     "output_type": "stream",
     "text": [
      "         Fecha    Producto  Cantidad  Precio Unitario  Total Venta\n",
      "0    8/25/2023  Electrónic         5              200         1000\n",
      "1    8/14/2023   Alimentos         9               10           90\n",
      "2    8/30/2023        Ropa         6               50          300\n",
      "3    11/9/2023   Alimentos         2               10           20\n",
      "4   10/26/2023        Ropa         8               50          400\n",
      "5    12/1/2023    Juguetes         2               30           60\n",
      "6    5/16/2023  Electrónic         4              200          800\n",
      "7     2/9/2023      Libros         1               20           20\n",
      "8     1/9/2023  Electrónic         2              200          400\n",
      "9     5/3/2023  Electrónic         6              200         1200\n",
      "10  11/30/2023  Electrónic         5              200         1000\n",
      "11  10/26/2023  Electrónic         1              200          200\n",
      "12   8/22/2023    Juguetes         3               30           90\n",
      "13    6/5/2023  Electrónic         1              200          200\n",
      "14   10/2/2023    Juguetes         6               30          180\n",
      "15   1/25/2023  Electrónic         3              200          600\n",
      "16   5/20/2023        Ropa         4               50          200\n",
      "17   4/29/2023   Alimentos         8               10           80\n",
      "18  12/20/2023        Ropa         2               50          100\n",
      "19   4/10/2023        Ropa         8               50          400\n",
      "20   5/19/2023    Juguetes         5               30          150\n",
      "21    2/3/2023  Electrónic         4              200          800\n",
      "22    3/4/2023        Ropa         5               50          250\n",
      "23  11/12/2023    Juguetes         7               30          210\n",
      "24   5/22/2023      Libros         7               20          140\n",
      "25  11/19/2023        Ropa         4               50          200\n",
      "26   7/31/2023   Alimentos         6               10           60\n",
      "27  10/11/2023        Ropa         6               50          300\n",
      "28   12/9/2023    Juguetes         4               30          120\n",
      "29    3/6/2023      Libros         9               20          180\n",
      "30   3/27/2023   Alimentos         1               10           10\n",
      "31   4/23/2023        Ropa         9               50          450\n",
      "32   5/26/2023  Electrónic         6              200         1200\n",
      "33   1/20/2023    Juguetes         5               30          150\n",
      "34   3/22/2023   Alimentos         9               10           90\n",
      "35   2/26/2023      Libros         9               20          180\n",
      "36   7/30/2023    Juguetes         1               30           30\n",
      "37  11/18/2023        Ropa         3               50          150\n",
      "38   6/20/2023      Libros         8               20          160\n",
      "39    6/6/2023      Libros         3               20           60\n",
      "40    5/2/2023   Alimentos         5               10           50\n",
      "41    8/7/2023  Electrónic         9              200         1800\n",
      "42  11/18/2023    Juguetes         8               30          240\n",
      "43   1/17/2023    Juguetes         8               30          240\n",
      "44  10/10/2023      Libros         6               20          120\n",
      "45   9/11/2023    Juguetes        10               30          300\n",
      "46    1/3/2023    Juguetes        10               30          300\n",
      "47   11/7/2023   Alimentos         3               10           30\n",
      "48   8/20/2023  Electrónic         6              200         1200\n",
      "49   7/21/2023    Juguetes         3               30           90\n"
     ]
    }
   ],
   "source": [
    "# Cargar los datos de Datos_Ventas_Tienda2.csv\n",
    "datos_ventas_tienda_2_path: str = './data/Datos_Ventas_Tienda2.csv'\n",
    "datos_ventas_tienda_2: pd.DataFrame = pd.read_csv(datos_ventas_tienda_2_path)\n",
    "print(datos_ventas_tienda_2)"
   ]
  },
  {
   "cell_type": "code",
   "execution_count": 6,
   "metadata": {},
   "outputs": [
    {
     "name": "stdout",
     "output_type": "stream",
     "text": [
      "<class 'pandas.core.frame.DataFrame'>\n",
      "RangeIndex: 50 entries, 0 to 49\n",
      "Data columns (total 5 columns):\n",
      " #   Column           Non-Null Count  Dtype \n",
      "---  ------           --------------  ----- \n",
      " 0   Fecha            50 non-null     object\n",
      " 1   Producto         50 non-null     object\n",
      " 2   Cantidad         50 non-null     int64 \n",
      " 3   Precio Unitario  50 non-null     int64 \n",
      " 4   Total Venta      50 non-null     int64 \n",
      "dtypes: int64(3), object(2)\n",
      "memory usage: 2.1+ KB\n",
      "None\n"
     ]
    }
   ],
   "source": [
    "# Obtener información preliminar del DataFrame\n",
    "print(datos_ventas_tienda_2.info())"
   ]
  },
  {
   "cell_type": "markdown",
   "metadata": {},
   "source": [
    "### Fusión de datos"
   ]
  },
  {
   "cell_type": "code",
   "execution_count": 7,
   "metadata": {},
   "outputs": [
    {
     "name": "stdout",
     "output_type": "stream",
     "text": [
      "        Fecha    Producto  Cantidad  Precio Unitario  Total Venta\n",
      "0   1/17/2023  Electrónic         7              200         1400\n",
      "1    9/1/2023  Electrónic         8              200         1600\n",
      "2   7/29/2023    Juguetes         3               30           90\n",
      "3   10/4/2023   Alimentos         4               10           40\n",
      "4   2/28/2023  Electrónic         6              200         1200\n",
      "..        ...         ...       ...              ...          ...\n",
      "45  9/11/2023    Juguetes        10               30          300\n",
      "46   1/3/2023    Juguetes        10               30          300\n",
      "47  11/7/2023   Alimentos         3               10           30\n",
      "48  8/20/2023  Electrónic         6              200         1200\n",
      "49  7/21/2023    Juguetes         3               30           90\n",
      "\n",
      "[1050 rows x 5 columns]\n"
     ]
    }
   ],
   "source": [
    "# Concatenar los dos DataFrames\n",
    "concat_df: pd.DataFrame = pd.concat(\n",
    "    [datos_ventas_tienda_1, datos_ventas_tienda_2],\n",
    "    axis=0\n",
    ")\n",
    "print(concat_df)"
   ]
  },
  {
   "cell_type": "markdown",
   "metadata": {},
   "source": [
    "### Tratamiento de datos"
   ]
  },
  {
   "cell_type": "code",
   "execution_count": 8,
   "metadata": {},
   "outputs": [
    {
     "name": "stdout",
     "output_type": "stream",
     "text": [
      "Fecha              0\n",
      "Producto           0\n",
      "Cantidad           0\n",
      "Precio Unitario    0\n",
      "Total Venta        0\n",
      "dtype: int64\n"
     ]
    }
   ],
   "source": [
    "# Calcular los registros nulos\n",
    "print(concat_df.isnull().sum())"
   ]
  },
  {
   "cell_type": "code",
   "execution_count": 9,
   "metadata": {},
   "outputs": [
    {
     "name": "stdout",
     "output_type": "stream",
     "text": [
      "29\n"
     ]
    }
   ],
   "source": [
    "# Chequear si hay duplicados\n",
    "print(concat_df.duplicated().sum())"
   ]
  },
  {
   "cell_type": "code",
   "execution_count": 10,
   "metadata": {},
   "outputs": [
    {
     "name": "stdout",
     "output_type": "stream",
     "text": [
      "          Fecha    Producto  Cantidad  Precio Unitario  Total Venta\n",
      "4     2/28/2023  Electrónic         6              200         1200\n",
      "15    12/5/2023      Libros         4               20           80\n",
      "43    4/11/2023   Alimentos         6               10           60\n",
      "56   11/11/2023   Alimentos         1               10           10\n",
      "57    9/28/2023      Libros         8               20          160\n",
      "106   7/30/2023    Juguetes         1               30           30\n",
      "124  10/26/2023        Ropa         3               50          150\n",
      "129  10/12/2023    Juguetes         1               30           30\n",
      "173    1/7/2023      Libros         2               20           40\n",
      "188   6/29/2023   Alimentos        10               10          100\n",
      "209    4/3/2023   Alimentos         1               10           10\n",
      "214    1/6/2023      Libros         1               20           20\n",
      "261  10/26/2023        Ropa         3               50          150\n",
      "268    1/9/2023        Ropa         9               50          450\n",
      "269   9/18/2023        Ropa        10               50          500\n",
      "291   5/17/2023   Alimentos         1               10           10\n",
      "301  12/14/2023    Juguetes         6               30          180\n",
      "319   4/11/2023   Alimentos         6               10           60\n",
      "326    1/6/2023      Libros         1               20           20\n",
      "361   6/29/2023   Alimentos        10               10          100\n",
      "362   4/29/2023   Alimentos         8               10           80\n",
      "363  11/11/2023   Alimentos         1               10           10\n",
      "383  10/12/2023    Juguetes         1               30           30\n",
      "386   9/11/2023  Electrónic         7              200         1400\n",
      "408    1/9/2023        Ropa         9               50          450\n",
      "454   9/18/2023        Ropa        10               50          500\n",
      "461   6/30/2023    Juguetes         3               30           90\n",
      "492  12/14/2023    Juguetes         6               30          180\n",
      "552   2/28/2023  Electrónic         6              200         1200\n",
      "565   10/8/2023        Ropa         3               50          150\n",
      "588    1/7/2023      Libros         2               20           40\n",
      "596   2/19/2023      Libros         3               20           60\n",
      "611   1/27/2023  Electrónic         4              200          800\n",
      "638   12/5/2023      Libros         4               20           80\n",
      "639   4/20/2023    Juguetes         3               30           90\n",
      "643   10/8/2023        Ropa         3               50          150\n",
      "656   7/19/2023        Ropa         1               50           50\n",
      "673   2/28/2023      Libros         1               20           20\n",
      "693    5/8/2023   Alimentos         4               10           40\n",
      "699   4/11/2023    Juguetes         4               30          120\n",
      "701    5/8/2023   Alimentos         4               10           40\n",
      "716   8/21/2023   Alimentos         8               10           80\n",
      "797   4/11/2023    Juguetes         4               30          120\n",
      "801   9/11/2023  Electrónic         7              200         1400\n",
      "826    4/3/2023   Alimentos         1               10           10\n",
      "831   2/19/2023      Libros         3               20           60\n",
      "839   5/17/2023   Alimentos         1               10           10\n",
      "855   6/30/2023    Juguetes         3               30           90\n",
      "865   8/14/2023        Ropa         4               50          200\n",
      "909   2/28/2023      Libros         1               20           20\n",
      "934   7/19/2023        Ropa         1               50           50\n",
      "936   9/28/2023      Libros         8               20          160\n",
      "944   4/20/2023    Juguetes         3               30           90\n",
      "946   8/14/2023        Ropa         4               50          200\n",
      "966   1/27/2023  Electrónic         4              200          800\n",
      "997   8/21/2023   Alimentos         8               10           80\n",
      "17    4/29/2023   Alimentos         8               10           80\n",
      "36    7/30/2023    Juguetes         1               30           30\n"
     ]
    }
   ],
   "source": [
    "# Ver cuáles son los registros duplicados\n",
    "duplicated: pd.DataFrame = concat_df[concat_df.duplicated(keep=False)]\n",
    "print(duplicated)"
   ]
  },
  {
   "cell_type": "code",
   "execution_count": 11,
   "metadata": {},
   "outputs": [
    {
     "name": "stdout",
     "output_type": "stream",
     "text": [
      "        Fecha    Producto  Cantidad  Precio Unitario  Total Venta\n",
      "0   1/17/2023  Electrónic         7              200         1400\n",
      "1    9/1/2023  Electrónic         8              200         1600\n",
      "2   7/29/2023    Juguetes         3               30           90\n",
      "3   10/4/2023   Alimentos         4               10           40\n",
      "4   2/28/2023  Electrónic         6              200         1200\n",
      "..        ...         ...       ...              ...          ...\n",
      "45  9/11/2023    Juguetes        10               30          300\n",
      "46   1/3/2023    Juguetes        10               30          300\n",
      "47  11/7/2023   Alimentos         3               10           30\n",
      "48  8/20/2023  Electrónic         6              200         1200\n",
      "49  7/21/2023    Juguetes         3               30           90\n",
      "\n",
      "[1021 rows x 5 columns]\n"
     ]
    }
   ],
   "source": [
    "# Eliminar los registros duplicados\n",
    "drop_duplicates: pd.DataFrame = concat_df.drop_duplicates()\n",
    "print(drop_duplicates)"
   ]
  },
  {
   "cell_type": "code",
   "execution_count": 12,
   "metadata": {},
   "outputs": [
    {
     "name": "stdout",
     "output_type": "stream",
     "text": [
      "<class 'pandas.core.frame.DataFrame'>\n",
      "Index: 1021 entries, 0 to 49\n",
      "Data columns (total 5 columns):\n",
      " #   Column           Non-Null Count  Dtype \n",
      "---  ------           --------------  ----- \n",
      " 0   Fecha            1021 non-null   object\n",
      " 1   Producto         1021 non-null   object\n",
      " 2   Cantidad         1021 non-null   int64 \n",
      " 3   Precio Unitario  1021 non-null   int64 \n",
      " 4   Total Venta      1021 non-null   int64 \n",
      "dtypes: int64(3), object(2)\n",
      "memory usage: 47.9+ KB\n",
      "None\n"
     ]
    }
   ],
   "source": [
    "# Ver info del dataframe drop_duplicates\n",
    "print(drop_duplicates.info())"
   ]
  },
  {
   "cell_type": "code",
   "execution_count": 13,
   "metadata": {},
   "outputs": [
    {
     "name": "stdout",
     "output_type": "stream",
     "text": [
      "          Fecha    Producto  Cantidad  Precio Unitario  Total Venta\n",
      "0     1/17/2023  Electrónic         7              200         1400\n",
      "1      9/1/2023  Electrónic         8              200         1600\n",
      "2     7/29/2023    Juguetes         3               30           90\n",
      "3     10/4/2023   Alimentos         4               10           40\n",
      "4     2/28/2023  Electrónic         6              200         1200\n",
      "...         ...         ...       ...              ...          ...\n",
      "1016  9/11/2023    Juguetes        10               30          300\n",
      "1017   1/3/2023    Juguetes        10               30          300\n",
      "1018  11/7/2023   Alimentos         3               10           30\n",
      "1019  8/20/2023  Electrónic         6              200         1200\n",
      "1020  7/21/2023    Juguetes         3               30           90\n",
      "\n",
      "[1021 rows x 5 columns]\n"
     ]
    }
   ],
   "source": [
    "# Resetear los índices\n",
    "df_concat_reset: pd.DataFrame = drop_duplicates.reset_index(drop=True)\n",
    "print(df_concat_reset)"
   ]
  },
  {
   "cell_type": "code",
   "execution_count": 14,
   "metadata": {},
   "outputs": [
    {
     "name": "stdout",
     "output_type": "stream",
     "text": [
      "<class 'str'>\n"
     ]
    }
   ],
   "source": [
    "# Verificar el tipo de dato de un elemento de la columna 'Fecha'\n",
    "print(type(df_concat_reset['Fecha'][0]))"
   ]
  },
  {
   "cell_type": "code",
   "execution_count": 15,
   "metadata": {},
   "outputs": [
    {
     "name": "stdout",
     "output_type": "stream",
     "text": [
      "2023-01-17 00:00:00\n",
      "<class 'pandas._libs.tslibs.timestamps.Timestamp'>\n"
     ]
    }
   ],
   "source": [
    "# Cambiar el tipo de dato de la columna 'Fecha' al tipo correcto\n",
    "df_concat_reset['Fecha'] = pd.to_datetime(\n",
    "    df_concat_reset['Fecha'],\n",
    "    format='%m/%d/%Y'\n",
    ")\n",
    "print(df_concat_reset['Fecha'][0])\n",
    "print(type(df_concat_reset['Fecha'][0]))"
   ]
  },
  {
   "cell_type": "code",
   "execution_count": 16,
   "metadata": {},
   "outputs": [
    {
     "name": "stdout",
     "output_type": "stream",
     "text": [
      "          Fecha    Producto  Cantidad  Precio Unitario  Total Venta\n",
      "0    2023-01-17  Electrónic         7              200         1400\n",
      "1    2023-09-01  Electrónic         8              200         1600\n",
      "2    2023-07-29    Juguetes         3               30           90\n",
      "3    2023-10-04   Alimentos         4               10           40\n",
      "4    2023-02-28  Electrónic         6              200         1200\n",
      "...         ...         ...       ...              ...          ...\n",
      "1016 2023-09-11    Juguetes        10               30          300\n",
      "1017 2023-01-03    Juguetes        10               30          300\n",
      "1018 2023-11-07   Alimentos         3               10           30\n",
      "1019 2023-08-20  Electrónic         6              200         1200\n",
      "1020 2023-07-21    Juguetes         3               30           90\n",
      "\n",
      "[1021 rows x 5 columns]\n"
     ]
    }
   ],
   "source": [
    "# Ver el DataFrame\n",
    "print(df_concat_reset)"
   ]
  },
  {
   "cell_type": "code",
   "execution_count": 17,
   "metadata": {},
   "outputs": [
    {
     "name": "stdout",
     "output_type": "stream",
     "text": [
      "         Fecha    Producto  Cantidad  Precio Unitario  Total Venta\n",
      "369 2023-01-01   Alimentos         3               10           30\n",
      "911 2023-01-01   Alimentos         2               10           20\n",
      "703 2023-01-01      Libros         8               20          160\n",
      "222 2023-01-02      Libros         6               20          120\n",
      "97  2023-01-02  Electrónic         5              200         1000\n",
      "..         ...         ...       ...              ...          ...\n",
      "683 2023-12-30        Ropa         7               50          350\n",
      "801 2023-12-30  Electrónic         4              200          800\n",
      "419 2023-12-30  Electrónic         3              200          600\n",
      "539 2023-12-31  Electrónic         8              200         1600\n",
      "876 2023-12-31      Libros         8               20          160\n",
      "\n",
      "[1021 rows x 5 columns]\n"
     ]
    }
   ],
   "source": [
    "# Reordenar las filas por la columna 'Fecha'\n",
    "df_concat_reset.sort_values(by='Fecha', inplace=True)\n",
    "print(df_concat_reset)"
   ]
  },
  {
   "cell_type": "code",
   "execution_count": 18,
   "metadata": {},
   "outputs": [
    {
     "name": "stdout",
     "output_type": "stream",
     "text": [
      "          Fecha    Producto  Cantidad  Precio Unitario  Total Venta\n",
      "0    2023-01-01   Alimentos         3               10           30\n",
      "1    2023-01-01   Alimentos         2               10           20\n",
      "2    2023-01-01      Libros         8               20          160\n",
      "3    2023-01-02      Libros         6               20          120\n",
      "4    2023-01-02  Electrónic         5              200         1000\n",
      "...         ...         ...       ...              ...          ...\n",
      "1016 2023-12-30        Ropa         7               50          350\n",
      "1017 2023-12-30  Electrónic         4              200          800\n",
      "1018 2023-12-30  Electrónic         3              200          600\n",
      "1019 2023-12-31  Electrónic         8              200         1600\n",
      "1020 2023-12-31      Libros         8               20          160\n",
      "\n",
      "[1021 rows x 5 columns]\n"
     ]
    }
   ],
   "source": [
    "# Volver a resetear los índices, según el nuevo orden\n",
    "df_concat_reset = df_concat_reset.reset_index(drop=True)\n",
    "print(df_concat_reset)"
   ]
  },
  {
   "cell_type": "markdown",
   "metadata": {},
   "source": [
    "### Análisis de ventas"
   ]
  },
  {
   "cell_type": "code",
   "execution_count": 22,
   "metadata": {},
   "outputs": [
    {
     "name": "stdout",
     "output_type": "stream",
     "text": [
      "Producto\n",
      "Alimentos     1223\n",
      "Electrónic    1203\n",
      "Ropa          1098\n",
      "Juguetes      1095\n",
      "Libros        1023\n",
      "Name: Cantidad, dtype: int64\n"
     ]
    }
   ],
   "source": [
    "\"\"\"\n",
    "1. Obtener el producto más vendido (en general), contando la cantidad de\n",
    "productos vendidos por tipo.\n",
    "\"\"\"\n",
    "grouped_by_product: pd.Series = df_concat_reset.groupby('Producto')['Cantidad'].sum()\n",
    "print(grouped_by_product.sort_values(ascending=False))"
   ]
  },
  {
   "cell_type": "markdown",
   "metadata": {},
   "source": [
    "**Respuesta:** Los productos de tipo \"Alimentos\" han sido los más vendidos según los registros, con un total de 1223 unidades vendidas. Adicionalmente, respondiendo a la pregunta contraria, la menor cantidad de ventas se registra en la categoría \"Libros\", con 1023."
   ]
  },
  {
   "cell_type": "code",
   "execution_count": 28,
   "metadata": {},
   "outputs": [
    {
     "name": "stdout",
     "output_type": "stream",
     "text": [
      "Fecha\n",
      "2023-08    657\n",
      "2023-01    548\n",
      "2023-05    528\n",
      "2023-03    483\n",
      "2023-12    480\n",
      "2023-10    479\n",
      "2023-04    454\n",
      "2023-06    447\n",
      "2023-07    432\n",
      "2023-09    416\n",
      "2023-11    377\n",
      "2023-02    341\n",
      "Freq: M, Name: Cantidad, dtype: int64\n"
     ]
    }
   ],
   "source": [
    "\"\"\"\n",
    "2. Obtener el mes con más ventas en general, sin importar el tipo de\n",
    "producto que se haya vendido.\n",
    "\"\"\"\n",
    "grouped_by_month: pd.Series = df_concat_reset.groupby(\n",
    "    df_concat_reset['Fecha'].dt.to_period('M')\n",
    "    )['Cantidad'].sum()\n",
    "print(grouped_by_month.sort_values(ascending=False))"
   ]
  },
  {
   "cell_type": "markdown",
   "metadata": {},
   "source": [
    "**Respuesta:** El mes que registró más ventas en general fue Agosto, con 657. Por contraprte, el peor mes fue Febrero, con 341."
   ]
  }
 ],
 "metadata": {
  "kernelspec": {
   "display_name": "base",
   "language": "python",
   "name": "python3"
  },
  "language_info": {
   "codemirror_mode": {
    "name": "ipython",
    "version": 3
   },
   "file_extension": ".py",
   "mimetype": "text/x-python",
   "name": "python",
   "nbconvert_exporter": "python",
   "pygments_lexer": "ipython3",
   "version": "3.12.4"
  }
 },
 "nbformat": 4,
 "nbformat_minor": 2
}
