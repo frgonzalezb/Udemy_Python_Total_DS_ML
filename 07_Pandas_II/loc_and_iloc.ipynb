{
 "cells": [
  {
   "cell_type": "markdown",
   "metadata": {},
   "source": [
    "# Acceder a Elementos del DataFrame con 'loc' e 'iloc'"
   ]
  },
  {
   "cell_type": "code",
   "execution_count": 2,
   "metadata": {},
   "outputs": [
    {
     "name": "stdout",
     "output_type": "stream",
     "text": [
      "      Col1  Col2  Col3\n",
      "Row1   100   400   700\n",
      "Row2   200   500   800\n",
      "Row3   300   600   900\n"
     ]
    }
   ],
   "source": [
    "import pandas as pd\n",
    "\n",
    "\n",
    "df: pd.DataFrame = pd.DataFrame({\n",
    "    'Col1': [100, 200, 300],\n",
    "    'Col2': [400, 500, 600],\n",
    "    'Col3': [700, 800, 900]\n",
    "}, index=['Row1', 'Row2', 'Row3'])\n",
    "\n",
    "print(df)"
   ]
  },
  {
   "cell_type": "code",
   "execution_count": 3,
   "metadata": {},
   "outputs": [
    {
     "name": "stdout",
     "output_type": "stream",
     "text": [
      "Col1    100\n",
      "Col2    400\n",
      "Col3    700\n",
      "Name: Row1, dtype: int64\n"
     ]
    }
   ],
   "source": [
    "# Uso de loc para seleccionar filas y columnas que tengan etiquetas específicas\n",
    "print(df.loc['Row1'])"
   ]
  },
  {
   "cell_type": "code",
   "execution_count": 4,
   "metadata": {},
   "outputs": [
    {
     "name": "stdout",
     "output_type": "stream",
     "text": [
      "<class 'pandas.core.series.Series'>\n"
     ]
    }
   ],
   "source": [
    "# Verificar el tipo de dato\n",
    "print(type(df.loc['Row1']))"
   ]
  },
  {
   "cell_type": "code",
   "execution_count": 5,
   "metadata": {},
   "outputs": [
    {
     "name": "stdout",
     "output_type": "stream",
     "text": [
      "      Col1  Col2  Col3\n",
      "Row1   100   400   700\n",
      "Row3   300   600   900\n"
     ]
    }
   ],
   "source": [
    "# Seleccionar múltiples filas (pueden estar separadas por otras filas)\n",
    "print(df.loc[['Row1', 'Row3']])"
   ]
  },
  {
   "cell_type": "code",
   "execution_count": 6,
   "metadata": {},
   "outputs": [
    {
     "name": "stdout",
     "output_type": "stream",
     "text": [
      "<class 'pandas.core.frame.DataFrame'>\n"
     ]
    }
   ],
   "source": [
    "# Verificar el tipo de dato\n",
    "print(type(df.loc[['Row1', 'Row3']]))"
   ]
  },
  {
   "cell_type": "code",
   "execution_count": 7,
   "metadata": {},
   "outputs": [
    {
     "name": "stdout",
     "output_type": "stream",
     "text": [
      "      Col1  Col2  Col3\n",
      "Row2   200   500   800\n",
      "Row3   300   600   900\n"
     ]
    }
   ],
   "source": [
    "# Ejemplo de segmentación (es como un range, pero inclusivo)\n",
    "print(df.loc['Row2':'Row3'])"
   ]
  },
  {
   "cell_type": "code",
   "execution_count": 8,
   "metadata": {},
   "outputs": [
    {
     "name": "stdout",
     "output_type": "stream",
     "text": [
      "      Col1  Col2  Col3\n",
      "Row1   100   400   700\n",
      "Row3   300   600   900\n"
     ]
    }
   ],
   "source": [
    "# Uso de lista de booleanos del mismo largo del eje que deseamos usar\n",
    "print(df.loc[[True, False, True]])"
   ]
  },
  {
   "cell_type": "code",
   "execution_count": 9,
   "metadata": {},
   "outputs": [
    {
     "name": "stdout",
     "output_type": "stream",
     "text": [
      "      Col1  Col2  Col3\n",
      "Row2   200   500   800\n",
      "Row3   300   600   900\n"
     ]
    }
   ],
   "source": [
    "# Devolver las filas que cumplan con la condición\n",
    "print(df.loc[df['Col1'] > 150])"
   ]
  },
  {
   "cell_type": "code",
   "execution_count": 11,
   "metadata": {},
   "outputs": [
    {
     "name": "stdout",
     "output_type": "stream",
     "text": [
      "      Col1  Col3\n",
      "Row1   100   700\n",
      "Row2   200   800\n",
      "Row3   300   900\n"
     ]
    }
   ],
   "source": [
    "# Devolver ciertas columnas\n",
    "print(df.loc[:, ['Col1', 'Col3']])"
   ]
  },
  {
   "cell_type": "code",
   "execution_count": 15,
   "metadata": {},
   "outputs": [
    {
     "name": "stdout",
     "output_type": "stream",
     "text": [
      "      Col1  Col3\n",
      "Row2   200   800\n",
      "Row3   300   900\n"
     ]
    }
   ],
   "source": [
    "# Devolver filas por segmentación, y ciertas columnas\n",
    "print(df.loc['Row2':'Row3', ['Col1', 'Col3']])"
   ]
  },
  {
   "cell_type": "code",
   "execution_count": 16,
   "metadata": {},
   "outputs": [
    {
     "name": "stdout",
     "output_type": "stream",
     "text": [
      "Col1    100\n",
      "Col2    400\n",
      "Col3    700\n",
      "Name: Row1, dtype: int64\n"
     ]
    }
   ],
   "source": [
    "# Uso de iloc para seleccionar filas y columnas que tengan indices numéricos\n",
    "print(df.iloc[0])"
   ]
  },
  {
   "cell_type": "code",
   "execution_count": 19,
   "metadata": {},
   "outputs": [
    {
     "name": "stdout",
     "output_type": "stream",
     "text": [
      "      Col1  Col3\n",
      "Row2   200   800\n",
      "Row3   300   900\n"
     ]
    }
   ],
   "source": [
    "# Devolver filas por segmentación, y ciertas columnas con iloc\n",
    "print(df.iloc[1:3, [0, 2]])"
   ]
  },
  {
   "cell_type": "code",
   "execution_count": 20,
   "metadata": {},
   "outputs": [
    {
     "name": "stdout",
     "output_type": "stream",
     "text": [
      "      Col1  Col2  Col3\n",
      "Row2   200   500   800\n",
      "Row3   300   600   900\n"
     ]
    }
   ],
   "source": [
    "# NOTE: El número final no es inclusivo, sino excluyente\n",
    "print(df.iloc[1:3])"
   ]
  }
 ],
 "metadata": {
  "kernelspec": {
   "display_name": "base",
   "language": "python",
   "name": "python3"
  },
  "language_info": {
   "codemirror_mode": {
    "name": "ipython",
    "version": 3
   },
   "file_extension": ".py",
   "mimetype": "text/x-python",
   "name": "python",
   "nbconvert_exporter": "python",
   "pygments_lexer": "ipython3",
   "version": "3.12.4"
  }
 },
 "nbformat": 4,
 "nbformat_minor": 2
}
