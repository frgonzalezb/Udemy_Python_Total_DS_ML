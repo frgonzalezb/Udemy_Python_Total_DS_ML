{
 "cells": [
  {
   "cell_type": "markdown",
   "metadata": {},
   "source": [
    "# Datos Relacionados con el Tiempo en Pandas"
   ]
  },
  {
   "cell_type": "code",
   "execution_count": 1,
   "metadata": {},
   "outputs": [
    {
     "name": "stdout",
     "output_type": "stream",
     "text": [
      "0   2024-01-01\n",
      "1   2024-01-02\n",
      "2   2024-01-03\n",
      "3   2024-01-04\n",
      "4   2024-01-05\n",
      "dtype: datetime64[ns]\n"
     ]
    }
   ],
   "source": [
    "import pandas as pd\n",
    "\n",
    "\n",
    "dates: pd.Series = pd.Series(pd.date_range('2024-01-01', periods=5, freq='D'))\n",
    "print(dates)"
   ]
  },
  {
   "cell_type": "code",
   "execution_count": 2,
   "metadata": {},
   "outputs": [
    {
     "name": "stdout",
     "output_type": "stream",
     "text": [
      "<class 'pandas._libs.tslibs.timestamps.Timestamp'>\n"
     ]
    }
   ],
   "source": [
    "# Tipo de dato de un elemento de la serie\n",
    "print(type(dates[0]))"
   ]
  },
  {
   "cell_type": "markdown",
   "metadata": {},
   "source": [
    "**NOTA** El parámetro `freq` tiene el valor `'D'` (días) por defecto, así que no es necesario especificarlo (pero siguiendo el Zen of Python, también es cueca dejarlo como está)."
   ]
  },
  {
   "cell_type": "code",
   "execution_count": 4,
   "metadata": {},
   "outputs": [
    {
     "name": "stdout",
     "output_type": "stream",
     "text": [
      "0   2024-01-31\n",
      "1   2024-02-29\n",
      "2   2024-03-31\n",
      "3   2024-04-30\n",
      "4   2024-05-31\n",
      "dtype: datetime64[ns]\n"
     ]
    }
   ],
   "source": [
    "# Saltar por meses (NOTA: 'M' está deprecado, usar 'ME' en su lugar)\n",
    "dates: pd.Series = pd.Series(pd.date_range('2024-01-01', periods=5, freq='ME'))\n",
    "print(dates)"
   ]
  },
  {
   "cell_type": "code",
   "execution_count": 6,
   "metadata": {},
   "outputs": [
    {
     "name": "stdout",
     "output_type": "stream",
     "text": [
      "0   2024-12-31\n",
      "1   2025-12-31\n",
      "2   2026-12-31\n",
      "3   2027-12-31\n",
      "4   2028-12-31\n",
      "dtype: datetime64[ns]\n"
     ]
    }
   ],
   "source": [
    "# Saltar por años (NOTA: 'Y' está deprecado, usar 'YE' en su lugar)\n",
    "dates: pd.Series = pd.Series(pd.date_range('2024-01-01', periods=5, freq='YE'))\n",
    "print(dates)"
   ]
  },
  {
   "cell_type": "code",
   "execution_count": 8,
   "metadata": {},
   "outputs": [
    {
     "name": "stdout",
     "output_type": "stream",
     "text": [
      "0   2024-01-01 00:00:00\n",
      "1   2024-01-01 01:00:00\n",
      "2   2024-01-01 02:00:00\n",
      "3   2024-01-01 03:00:00\n",
      "4   2024-01-01 04:00:00\n",
      "dtype: datetime64[ns]\n"
     ]
    }
   ],
   "source": [
    "# Saltar por horas (NOTA: 'H' está deprecado, usar 'h' en su lugar)\n",
    "dates: pd.Series = pd.Series(pd.date_range('2024-01-01', periods=5, freq='h'))\n",
    "print(dates)"
   ]
  },
  {
   "cell_type": "code",
   "execution_count": 10,
   "metadata": {},
   "outputs": [
    {
     "name": "stdout",
     "output_type": "stream",
     "text": [
      "0   2024-01-01 00:00:00\n",
      "1   2024-01-01 00:01:00\n",
      "2   2024-01-01 00:02:00\n",
      "3   2024-01-01 00:03:00\n",
      "4   2024-01-01 00:04:00\n",
      "dtype: datetime64[ns]\n"
     ]
    }
   ],
   "source": [
    "# Saltar por minutos (NOTA: 'MIN' está deprecado, usar 'min' en su lugar)\n",
    "dates: pd.Series = pd.Series(pd.date_range('2024-01-01', periods=5, freq='min'))\n",
    "print(dates)"
   ]
  },
  {
   "cell_type": "code",
   "execution_count": 11,
   "metadata": {},
   "outputs": [
    {
     "name": "stdout",
     "output_type": "stream",
     "text": [
      "0   2024-01-01\n",
      "1   2024-01-06\n",
      "2   2024-01-11\n",
      "3   2024-01-16\n",
      "4   2024-01-21\n",
      "dtype: datetime64[ns]\n"
     ]
    }
   ],
   "source": [
    "# Saltar días de 5 en 5\n",
    "dates: pd.Series = pd.Series(pd.date_range('2024-01-01', periods=5, freq='5D'))\n",
    "print(dates)"
   ]
  },
  {
   "cell_type": "markdown",
   "metadata": {},
   "source": [
    "**NOTA:** Por lo general, las fechas no provienen desde la fuente con el tipo de dato correcto. A continuación, se verá como trabajar ello mediante un archivo CSV externo."
   ]
  },
  {
   "cell_type": "code",
   "execution_count": 13,
   "metadata": {},
   "outputs": [
    {
     "name": "stdout",
     "output_type": "stream",
     "text": [
      "     Ticker       Fecha  Cierre  Referencia  Volumen     Rotacion  Ultimo  \\\n",
      "0       ANA  02/01/2019   74.80       73.90   156300  11621188.98   74.80   \n",
      "1       ANA  03/01/2019   76.34       74.80   140331  10632703.64   76.34   \n",
      "2       ANA  04/01/2019   76.62       76.34   130309  10010838.76   76.62   \n",
      "3       ANA  07/01/2019   77.14       76.62    63349   4855724.92   77.14   \n",
      "4       ANA  08/01/2019   78.24       77.14    99300   7749464.70   78.24   \n",
      "...     ...         ...     ...         ...      ...          ...     ...   \n",
      "8570    VIS  09/12/2019   48.70       48.76    40236   1958325.66   48.70   \n",
      "8571    VIS  10/12/2019   48.16       48.70    60198   2895965.78   48.16   \n",
      "8572    VIS  11/12/2019   47.96       48.16    63000   3012462.12   47.96   \n",
      "8573    VIS  12/12/2019   48.42       47.96    50218   2429199.80   48.42   \n",
      "8574    VIS  13/12/2019   48.64       48.42    62427   3038685.10   48.64   \n",
      "\n",
      "       Alto   Bajo  Promedio  \n",
      "0     75.16  72.38   74.3518  \n",
      "1     76.60  74.54   75.7687  \n",
      "2     77.40  76.40   76.8162  \n",
      "3     77.30  75.62   76.6504  \n",
      "4     78.46  77.00   78.0409  \n",
      "...     ...    ...       ...  \n",
      "8570  48.96  48.44   48.6710  \n",
      "8571  48.74  47.70   48.1201  \n",
      "8572  48.42  47.52   47.8169  \n",
      "8573  48.66  47.76   48.3731  \n",
      "8574  49.18  48.12   48.6758  \n",
      "\n",
      "[8575 rows x 10 columns]\n"
     ]
    }
   ],
   "source": [
    "path: str = './data/Mercado+de+Valores+España.csv'\n",
    "df: pd.DataFrame = pd.read_csv(path)\n",
    "print(df)"
   ]
  },
  {
   "cell_type": "code",
   "execution_count": 15,
   "metadata": {},
   "outputs": [
    {
     "name": "stdout",
     "output_type": "stream",
     "text": [
      "02/01/2019\n",
      "<class 'str'>\n"
     ]
    }
   ],
   "source": [
    "# Ver un elemento de la columna 'Fecha' y su tipo de dato\n",
    "print(df['Fecha'][0])\n",
    "print(type(df['Fecha'][0]))"
   ]
  },
  {
   "cell_type": "code",
   "execution_count": 17,
   "metadata": {},
   "outputs": [
    {
     "name": "stdout",
     "output_type": "stream",
     "text": [
      "2019-01-02 00:00:00\n",
      "<class 'pandas._libs.tslibs.timestamps.Timestamp'>\n"
     ]
    }
   ],
   "source": [
    "# Cambiar el tipo de dato de la columna 'Fecha' al tipo correcto\n",
    "df['Fecha'] = pd.to_datetime(df['Fecha'], format='%d/%m/%Y')\n",
    "print(df['Fecha'][0])\n",
    "print(type(df['Fecha'][0]))"
   ]
  },
  {
   "cell_type": "code",
   "execution_count": 18,
   "metadata": {},
   "outputs": [
    {
     "name": "stdout",
     "output_type": "stream",
     "text": [
      "2019\n"
     ]
    }
   ],
   "source": [
    "# Obtener el año de un registro\n",
    "print(df['Fecha'][0].year)"
   ]
  },
  {
   "cell_type": "code",
   "execution_count": 19,
   "metadata": {},
   "outputs": [
    {
     "name": "stdout",
     "output_type": "stream",
     "text": [
      "1\n"
     ]
    }
   ],
   "source": [
    "# Obtener el (número de) mes de un registro\n",
    "print(df['Fecha'][0].month)"
   ]
  },
  {
   "cell_type": "code",
   "execution_count": 20,
   "metadata": {},
   "outputs": [
    {
     "name": "stdout",
     "output_type": "stream",
     "text": [
      "0      2019-01-07\n",
      "1      2019-01-08\n",
      "2      2019-01-09\n",
      "3      2019-01-12\n",
      "4      2019-01-13\n",
      "          ...    \n",
      "8570   2019-12-14\n",
      "8571   2019-12-15\n",
      "8572   2019-12-16\n",
      "8573   2019-12-17\n",
      "8574   2019-12-18\n",
      "Name: Fecha, Length: 8575, dtype: datetime64[ns]\n"
     ]
    }
   ],
   "source": [
    "# Hacer cálculos con fechas: sumar 5 días\n",
    "df_plus_5_days: pd.Series = df['Fecha'] + pd.Timedelta(days=5)\n",
    "print(df_plus_5_days)"
   ]
  }
 ],
 "metadata": {
  "kernelspec": {
   "display_name": "base",
   "language": "python",
   "name": "python3"
  },
  "language_info": {
   "codemirror_mode": {
    "name": "ipython",
    "version": 3
   },
   "file_extension": ".py",
   "mimetype": "text/x-python",
   "name": "python",
   "nbconvert_exporter": "python",
   "pygments_lexer": "ipython3",
   "version": "3.12.4"
  }
 },
 "nbformat": 4,
 "nbformat_minor": 2
}
