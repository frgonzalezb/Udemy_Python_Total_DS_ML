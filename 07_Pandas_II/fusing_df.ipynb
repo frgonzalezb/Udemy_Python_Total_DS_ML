{
 "cells": [
  {
   "cell_type": "markdown",
   "metadata": {},
   "source": [
    "# Fusionar DataFrames en Pandas con merge()"
   ]
  },
  {
   "cell_type": "code",
   "execution_count": 1,
   "metadata": {},
   "outputs": [
    {
     "name": "stdout",
     "output_type": "stream",
     "text": [
      "   ID  Name\n",
      "0   1  John\n",
      "1   2  Mary\n",
      "2   3   Bob\n"
     ]
    }
   ],
   "source": [
    "import pandas as pd\n",
    "\n",
    "\n",
    "df1: pd.DataFrame = pd.DataFrame({\n",
    "    'ID': [1, 2, 3],\n",
    "    'Name': ['John', 'Mary', 'Bob']\n",
    "})\n",
    "print(df1)"
   ]
  },
  {
   "cell_type": "code",
   "execution_count": 3,
   "metadata": {},
   "outputs": [
    {
     "name": "stdout",
     "output_type": "stream",
     "text": [
      "   ID  Edad\n",
      "0   1    25\n",
      "1   2    30\n",
      "2   4    22\n"
     ]
    }
   ],
   "source": [
    "df2: pd.DataFrame = pd.DataFrame({\n",
    "    'ID': [1, 2, 4],\n",
    "    'Edad': [25, 30, 22]\n",
    "})\n",
    "print(df2)"
   ]
  },
  {
   "cell_type": "code",
   "execution_count": 4,
   "metadata": {},
   "outputs": [
    {
     "name": "stdout",
     "output_type": "stream",
     "text": [
      "   ID  Name  Edad\n",
      "0   1  John    25\n",
      "1   2  Mary    30\n"
     ]
    }
   ],
   "source": [
    "# Combinar dos DataFrames\n",
    "combined_df: pd.DataFrame = pd.merge(df1, df2, on='ID')\n",
    "print(combined_df)"
   ]
  },
  {
   "cell_type": "markdown",
   "metadata": {},
   "source": [
    "**NOTA**: Un parámetro por defecto en `merge()` es `how='inner'`, el cual sólo une los registros que coincidan con el parámetro designado en `on`. En el ejemplo, los casos con `ID=3` y `ID=4` son descartados, por no existir un registro con `ID=4` en el primer dataframe ni un otro registro con `ID=3` en el segundo."
   ]
  },
  {
   "cell_type": "code",
   "execution_count": 5,
   "metadata": {},
   "outputs": [
    {
     "name": "stdout",
     "output_type": "stream",
     "text": [
      "   ID  Name  Edad\n",
      "0   1  John  25.0\n",
      "1   2  Mary  30.0\n",
      "2   3   Bob   NaN\n",
      "3   4   NaN  22.0\n"
     ]
    }
   ],
   "source": [
    "# Combinar dos DataFrames, incluyendo los registros faltantes\n",
    "combined_df: pd.DataFrame = pd.merge(df1, df2, on='ID', how='outer')\n",
    "print(combined_df)"
   ]
  },
  {
   "cell_type": "code",
   "execution_count": 6,
   "metadata": {},
   "outputs": [
    {
     "name": "stdout",
     "output_type": "stream",
     "text": [
      "   ID  Name  Edad\n",
      "0   1  John  25.0\n",
      "1   2  Mary  30.0\n",
      "2   3   Bob   NaN\n"
     ]
    }
   ],
   "source": [
    "# Combinar dos DataFrames, incluyendo todos los registros de la izquierda (el primero)\n",
    "# Similar al LEFT OUTER JOIN de SQL\n",
    "combined_df: pd.DataFrame = pd.merge(df1, df2, on='ID', how='left')\n",
    "print(combined_df)"
   ]
  },
  {
   "cell_type": "code",
   "execution_count": 7,
   "metadata": {},
   "outputs": [
    {
     "name": "stdout",
     "output_type": "stream",
     "text": [
      "   ID  Name  Edad\n",
      "0   1  John    25\n",
      "1   2  Mary    30\n",
      "2   4   NaN    22\n"
     ]
    }
   ],
   "source": [
    "# Combinar dos DataFrames, incluyendo todos los registros de la derecha (el segundo)\n",
    "# Similar al RIGHT OUTER JOIN de SQL\n",
    "combined_df: pd.DataFrame = pd.merge(df1, df2, on='ID', how='right')\n",
    "print(combined_df)"
   ]
  },
  {
   "cell_type": "code",
   "execution_count": 8,
   "metadata": {},
   "outputs": [
    {
     "name": "stdout",
     "output_type": "stream",
     "text": [
      "   ID_x  Name  ID_y  Edad\n",
      "0     1  John     1    25\n",
      "1     2  Mary     2    30\n",
      "2     3   Bob     4    22\n"
     ]
    }
   ],
   "source": [
    "# Combinar todos los datos, manteniendo los índices originales\n",
    "indexed_df: pd.DataFrame = pd.merge(\n",
    "    df1,\n",
    "    df2,\n",
    "    left_index=True,\n",
    "    right_index=True\n",
    ")\n",
    "print(indexed_df)"
   ]
  }
 ],
 "metadata": {
  "kernelspec": {
   "display_name": "base",
   "language": "python",
   "name": "python3"
  },
  "language_info": {
   "codemirror_mode": {
    "name": "ipython",
    "version": 3
   },
   "file_extension": ".py",
   "mimetype": "text/x-python",
   "name": "python",
   "nbconvert_exporter": "python",
   "pygments_lexer": "ipython3",
   "version": "3.12.4"
  }
 },
 "nbformat": 4,
 "nbformat_minor": 2
}
