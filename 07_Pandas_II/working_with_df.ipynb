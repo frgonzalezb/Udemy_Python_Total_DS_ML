{
 "cells": [
  {
   "cell_type": "markdown",
   "metadata": {},
   "source": [
    "# Trabajar con DataFrames de Pandas"
   ]
  },
  {
   "cell_type": "code",
   "execution_count": 1,
   "metadata": {},
   "outputs": [
    {
     "name": "stdout",
     "output_type": "stream",
     "text": [
      "   name  age      city\n",
      "0  John   33  New York\n",
      "1  Mary   28    London\n",
      "2   Bob   25     Paris\n"
     ]
    }
   ],
   "source": [
    "import pandas as pd\n",
    "\n",
    "\n",
    "data: dict = {\n",
    "    'name': ['John', 'Mary', 'Bob'],\n",
    "    'age': [33, 28, 25],\n",
    "    'city': ['New York', 'London', 'Paris']\n",
    "}\n",
    "df: pd.DataFrame = pd.DataFrame(data)\n",
    "print(df)"
   ]
  },
  {
   "cell_type": "code",
   "execution_count": 2,
   "metadata": {},
   "outputs": [
    {
     "name": "stdout",
     "output_type": "stream",
     "text": [
      "   name  age      city  salary\n",
      "0  John   33  New York    1000\n",
      "1  Mary   28    London    2000\n",
      "2   Bob   25     Paris    3000\n"
     ]
    }
   ],
   "source": [
    "# Agregar una nueva columna a un df\n",
    "df['salary'] = [1000, 2000, 3000]\n",
    "print(df)"
   ]
  },
  {
   "cell_type": "code",
   "execution_count": 3,
   "metadata": {},
   "outputs": [
    {
     "name": "stdout",
     "output_type": "stream",
     "text": [
      "   name  age      city  salary\n",
      "0  John   33  New York    1500\n",
      "1  Mary   28    London    2500\n",
      "2   Bob   25     Paris    3500\n"
     ]
    }
   ],
   "source": [
    "# Modificre una columna existente\n",
    "df['salary'] = df['salary'] + 500\n",
    "print(df)"
   ]
  },
  {
   "cell_type": "code",
   "execution_count": 4,
   "metadata": {},
   "outputs": [
    {
     "name": "stdout",
     "output_type": "stream",
     "text": [
      "0    John\n",
      "1    Mary\n",
      "2     Bob\n",
      "Name: name, dtype: object\n"
     ]
    }
   ],
   "source": [
    "# Seleccionar una columna y guardarla en una variable\n",
    "names: pd.Series = df['name']\n",
    "print(names)"
   ]
  },
  {
   "cell_type": "code",
   "execution_count": 5,
   "metadata": {},
   "outputs": [
    {
     "name": "stdout",
     "output_type": "stream",
     "text": [
      "   name  age      city  salary\n",
      "0  John   33  New York    1500\n",
      "1  Mary   28    London    2500\n"
     ]
    }
   ],
   "source": [
    "# Filtrar lo registros que cumplan una condición\n",
    "greater_than_27: pd.DataFrame = df[df['age'] > 27]\n",
    "print(greater_than_27)"
   ]
  },
  {
   "cell_type": "code",
   "execution_count": 6,
   "metadata": {},
   "outputs": [
    {
     "name": "stdout",
     "output_type": "stream",
     "text": [
      "   name  age      city  salary\n",
      "0  John   33  New York    1500\n",
      "1  Mary   28    London    2500\n"
     ]
    }
   ],
   "source": [
    "# Ídem, pero desglosado en variables para mejor entendimiento\n",
    "ages: pd.Series = df['age']\n",
    "greater_than_27: pd.DataFrame = df[ages > 27]\n",
    "print(greater_than_27)"
   ]
  }
 ],
 "metadata": {
  "kernelspec": {
   "display_name": "base",
   "language": "python",
   "name": "python3"
  },
  "language_info": {
   "codemirror_mode": {
    "name": "ipython",
    "version": 3
   },
   "file_extension": ".py",
   "mimetype": "text/x-python",
   "name": "python",
   "nbconvert_exporter": "python",
   "pygments_lexer": "ipython3",
   "version": "3.12.4"
  }
 },
 "nbformat": 4,
 "nbformat_minor": 2
}
