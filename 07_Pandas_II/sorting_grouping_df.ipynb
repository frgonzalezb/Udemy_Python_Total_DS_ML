{
 "cells": [
  {
   "cell_type": "markdown",
   "metadata": {},
   "source": [
    "# Ordenar y Agrupar DataFrames en Pandas"
   ]
  },
  {
   "cell_type": "code",
   "execution_count": 1,
   "metadata": {},
   "outputs": [
    {
     "name": "stdout",
     "output_type": "stream",
     "text": [
      "     indice_global  indice_estricto                    título  \\\n",
      "0                0              0.0  The Shawshank Redemption   \n",
      "1                1              1.0             The Godfather   \n",
      "2                2              1.0             The Godfather   \n",
      "3                3              2.0           The Dark Knight   \n",
      "4                4              2.0           The Dark Knight   \n",
      "...            ...              ...                       ...   \n",
      "2527          2527            998.0         The Invisible Man   \n",
      "2528          2528            998.0         The Invisible Man   \n",
      "2529          2529            999.0                  Cell 211   \n",
      "2530          2530            999.0                  Cell 211   \n",
      "2531          2531            999.0                  Cell 211   \n",
      "\n",
      "                  director     año  duración           género  rating  \\\n",
      "0           Frank Darabont  1994.0     142.0            Drama     9.3   \n",
      "1     Francis Ford Coppola  1972.0     175.0           Crimen     9.2   \n",
      "2     Francis Ford Coppola  1972.0     175.0            Drama     9.2   \n",
      "3        Christopher Nolan  2008.0     152.0           Acción     9.0   \n",
      "4        Christopher Nolan  2008.0     152.0           Crimen     9.0   \n",
      "...                    ...     ...       ...              ...     ...   \n",
      "2527           James Whale  1933.0      71.0           Terror     7.6   \n",
      "2528           James Whale  1933.0      71.0  Ciencia Ficción     7.6   \n",
      "2529        Daniel MonzÃ³n  2009.0     113.0           Acción     7.6   \n",
      "2530        Daniel MonzÃ³n  2009.0     113.0           Crimen     7.6   \n",
      "2531        Daniel MonzÃ³n  2009.0     113.0            Drama     7.6   \n",
      "\n",
      "      metascore  recaudación(M)  \n",
      "0          82.0           28.34  \n",
      "1         100.0          134.97  \n",
      "2         100.0          134.97  \n",
      "3          84.0          534.86  \n",
      "4          84.0          534.86  \n",
      "...         ...             ...  \n",
      "2527       87.0            0.00  \n",
      "2528       87.0            0.00  \n",
      "2529        0.0            0.00  \n",
      "2530        0.0            0.00  \n",
      "2531        0.0            0.00  \n",
      "\n",
      "[2532 rows x 10 columns]\n"
     ]
    }
   ],
   "source": [
    "import pandas as pd\n",
    "\n",
    "\n",
    "df: pd.DataFrame = pd.read_csv('./data/Top-Películas.csv')\n",
    "print(df)"
   ]
  },
  {
   "cell_type": "code",
   "execution_count": 3,
   "metadata": {},
   "outputs": [
    {
     "name": "stdout",
     "output_type": "stream",
     "text": [
      "     indice_global  indice_estricto           título          director  \\\n",
      "2531          2531            999.0         Cell 211    Daniel MonzÃ³n   \n",
      "2400          2400            953.0  Minority Report  Steven Spielberg   \n",
      "2399          2399            952.0    Kung Fu Panda      Mark Osborne   \n",
      "2398          2398            952.0    Kung Fu Panda      Mark Osborne   \n",
      "2397          2397            952.0    Kung Fu Panda      Mark Osborne   \n",
      "2396          2396            951.0        True Grit        Ethan Coen   \n",
      "2395          2395            951.0        True Grit        Ethan Coen   \n",
      "2394          2394            950.0         Stardust    Matthew Vaughn   \n",
      "2393          2393            950.0         Stardust    Matthew Vaughn   \n",
      "2392          2392            950.0         Stardust    Matthew Vaughn   \n",
      "\n",
      "         año  duración     género  rating  metascore  recaudación(M)  \n",
      "2531  2009.0     113.0      Drama     7.6        0.0            0.00  \n",
      "2400  2002.0     145.0     Acción     7.6       80.0          132.07  \n",
      "2399  2008.0      92.0   Aventura     7.6       74.0          215.43  \n",
      "2398  2008.0      92.0     Acción     7.6       74.0          215.43  \n",
      "2397  2008.0      92.0  Animación     7.6       74.0          215.43  \n",
      "2396  2010.0     110.0    Western     7.6       80.0          171.24  \n",
      "2395  2010.0     110.0      Drama     7.6       80.0          171.24  \n",
      "2394  2007.0     127.0   Fantasía     7.6       66.0           38.63  \n",
      "2393  2007.0     127.0   Familiar     7.6       66.0           38.63  \n",
      "2392  2007.0     127.0   Aventura     7.6       66.0           38.63  \n"
     ]
    }
   ],
   "source": [
    "# Reordenar el dataframe\n",
    "sorted_df: pd.DataFrame = df.sort_values(by='rating')\n",
    "print(sorted_df.head(10))"
   ]
  },
  {
   "cell_type": "code",
   "execution_count": 4,
   "metadata": {},
   "outputs": [
    {
     "name": "stdout",
     "output_type": "stream",
     "text": [
      "   indice_global  indice_estricto  \\\n",
      "0              0              0.0   \n",
      "2              2              1.0   \n",
      "1              1              1.0   \n",
      "9              9              4.0   \n",
      "15            15              6.0   \n",
      "13            13              5.0   \n",
      "12            12              5.0   \n",
      "11            11              5.0   \n",
      "10            10              4.0   \n",
      "14            14              6.0   \n",
      "\n",
      "                                           título              director  \\\n",
      "0                        The Shawshank Redemption        Frank Darabont   \n",
      "2                                   The Godfather  Francis Ford Coppola   \n",
      "1                                   The Godfather  Francis Ford Coppola   \n",
      "9                                    12 Angry Men          Sidney Lumet   \n",
      "15                          The Godfather Part II  Francis Ford Coppola   \n",
      "13  The Lord of the Rings: The Return of the King         Peter Jackson   \n",
      "12  The Lord of the Rings: The Return of the King         Peter Jackson   \n",
      "11  The Lord of the Rings: The Return of the King         Peter Jackson   \n",
      "10                                   12 Angry Men          Sidney Lumet   \n",
      "14                          The Godfather Part II  Francis Ford Coppola   \n",
      "\n",
      "       año  duración    género  rating  metascore  recaudación(M)  \n",
      "0   1994.0     142.0     Drama     9.3       82.0           28.34  \n",
      "2   1972.0     175.0     Drama     9.2      100.0          134.97  \n",
      "1   1972.0     175.0    Crimen     9.2      100.0          134.97  \n",
      "9   1957.0      96.0    Crimen     9.0       97.0            4.36  \n",
      "15  1974.0     202.0     Drama     9.0       90.0           57.30  \n",
      "13  2003.0     201.0     Drama     9.0       94.0          377.85  \n",
      "12  2003.0     201.0  Aventura     9.0       94.0          377.85  \n",
      "11  2003.0     201.0    Acción     9.0       94.0          377.85  \n",
      "10  1957.0      96.0     Drama     9.0       97.0            4.36  \n",
      "14  1974.0     202.0    Crimen     9.0       90.0           57.30  \n"
     ]
    }
   ],
   "source": [
    "# Reordenar el dataframe, pero con ascending=False\n",
    "sorted_df: pd.DataFrame = df.sort_values(by='rating', ascending=False)\n",
    "print(sorted_df.head(10))"
   ]
  },
  {
   "cell_type": "code",
   "execution_count": 5,
   "metadata": {},
   "outputs": [
    {
     "name": "stdout",
     "output_type": "stream",
     "text": [
      "   indice_global  indice_estricto  \\\n",
      "0              0              0.0   \n",
      "1              1              1.0   \n",
      "2              2              1.0   \n",
      "3              3              2.0   \n",
      "4              4              2.0   \n",
      "5              5              2.0   \n",
      "11            11              5.0   \n",
      "12            12              5.0   \n",
      "13            13              5.0   \n",
      "6              6              3.0   \n",
      "\n",
      "                                           título              director  \\\n",
      "0                        The Shawshank Redemption        Frank Darabont   \n",
      "1                                   The Godfather  Francis Ford Coppola   \n",
      "2                                   The Godfather  Francis Ford Coppola   \n",
      "3                                 The Dark Knight     Christopher Nolan   \n",
      "4                                 The Dark Knight     Christopher Nolan   \n",
      "5                                 The Dark Knight     Christopher Nolan   \n",
      "11  The Lord of the Rings: The Return of the King         Peter Jackson   \n",
      "12  The Lord of the Rings: The Return of the King         Peter Jackson   \n",
      "13  The Lord of the Rings: The Return of the King         Peter Jackson   \n",
      "6                                Schindler's List      Steven Spielberg   \n",
      "\n",
      "       año  duración     género  rating  metascore  recaudación(M)  \n",
      "0   1994.0     142.0      Drama     9.3       82.0           28.34  \n",
      "1   1972.0     175.0     Crimen     9.2      100.0          134.97  \n",
      "2   1972.0     175.0      Drama     9.2      100.0          134.97  \n",
      "3   2008.0     152.0     Acción     9.0       84.0          534.86  \n",
      "4   2008.0     152.0     Crimen     9.0       84.0          534.86  \n",
      "5   2008.0     152.0      Drama     9.0       84.0          534.86  \n",
      "11  2003.0     201.0     Acción     9.0       94.0          377.85  \n",
      "12  2003.0     201.0   Aventura     9.0       94.0          377.85  \n",
      "13  2003.0     201.0      Drama     9.0       94.0          377.85  \n",
      "6   1993.0     195.0  Biografía     9.0       95.0           96.90  \n"
     ]
    }
   ],
   "source": [
    "# Reordenar el dataframe por dos o más columnas\n",
    "sorted_df: pd.DataFrame = df.sort_values(\n",
    "    by=['rating', 'recaudación(M)'],\n",
    "    ascending=False\n",
    ")\n",
    "print(sorted_df.head(10))"
   ]
  },
  {
   "cell_type": "code",
   "execution_count": 6,
   "metadata": {},
   "outputs": [
    {
     "name": "stdout",
     "output_type": "stream",
     "text": [
      "género\n",
      "Acción             7.987255\n",
      "Animación          7.943902\n",
      "Aventura           7.980435\n",
      "Biografía          7.971698\n",
      "Ciencia Ficción    7.986567\n",
      "Comedia            7.909910\n",
      "Crimen             7.993500\n",
      "Deportes           7.980000\n",
      "Drama              7.980444\n",
      "Familiar           7.932692\n",
      "Fantasía           7.929508\n",
      "Film-Noir          7.977273\n",
      "Guerra             8.053191\n",
      "Historia           7.931818\n",
      "Misterio           7.991262\n",
      "Musica             7.909677\n",
      "Musical            7.943750\n",
      "Romance            7.937398\n",
      "Terror             7.875758\n",
      "Thriller           7.929286\n",
      "Western            8.006250\n",
      "Name: rating, dtype: float64\n"
     ]
    }
   ],
   "source": [
    "# Aplicar agrupación (equivalente a GROUP BY the SQL) en categorías\n",
    "# Ejemplo: obtener el promedio de ratings por género\n",
    "grouped_df: pd.Series = df.groupby('género')['rating'].mean()\n",
    "print(grouped_df)"
   ]
  },
  {
   "cell_type": "code",
   "execution_count": 7,
   "metadata": {},
   "outputs": [
    {
     "name": "stdout",
     "output_type": "stream",
     "text": [
      "año\n",
      "2014.0    8015.90\n",
      "2019.0    7092.95\n",
      "2010.0    6899.96\n",
      "2016.0    6860.23\n",
      "2015.0    6817.12\n",
      "2012.0    6487.22\n",
      "2009.0    6486.34\n",
      "2018.0    5992.02\n",
      "2008.0    5603.30\n",
      "2017.0    5381.90\n",
      "Name: recaudación(M), dtype: float64\n"
     ]
    }
   ],
   "source": [
    "# Obtener la suma de lo recaudado por año, los 10 mejores años\n",
    "grouped_df: pd.Series = df.groupby('año')['recaudación(M)'].sum()\n",
    "print(grouped_df.sort_values(ascending=False).head(10))"
   ]
  }
 ],
 "metadata": {
  "kernelspec": {
   "display_name": "base",
   "language": "python",
   "name": "python3"
  },
  "language_info": {
   "codemirror_mode": {
    "name": "ipython",
    "version": 3
   },
   "file_extension": ".py",
   "mimetype": "text/x-python",
   "name": "python",
   "nbconvert_exporter": "python",
   "pygments_lexer": "ipython3",
   "version": "3.12.4"
  }
 },
 "nbformat": 4,
 "nbformat_minor": 2
}
